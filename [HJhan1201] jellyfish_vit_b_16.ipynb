{
 "cells": [
  {
   "cell_type": "code",
   "execution_count": 1,
   "id": "08fd8439",
   "metadata": {},
   "outputs": [],
   "source": [
    "\n",
    "import seaborn as sns\n",
    "from tensorflow.keras.callbacks import EarlyStopping\n",
    "from tensorflow.keras.preprocessing.image import ImageDataGenerator\n",
    "from tensorflow.keras.layers import Layer\n",
    "from tensorflow.keras.models import Model\n",
    "from tensorflow.keras.layers import Dense, Dropout, Input, Conv2D, GlobalAveragePooling2D, BatchNormalization, DepthwiseConv2D, Activation, Add\n",
    "import tensorflow as tf\n",
    "from sklearn.metrics import confusion_matrix, ConfusionMatrixDisplay, classification_report\n",
    "from sklearn.model_selection import train_test_split, KFold\n",
    "from sklearn.utils import shuffle\n",
    "import cv2\n",
    "import matplotlib.pyplot as plt\n",
    "import numpy as np\n",
    "import pandas as pd\n",
    "import os\n",
    "import warnings\n",
    "warnings.filterwarnings('ignore')\n",
    "\n",
    "from torchvision.datasets import ImageFolder\n",
    "from torchvision.transforms import ToTensor, Compose, Resize"
   ]
  },
  {
   "cell_type": "code",
   "execution_count": 2,
   "id": "3cd9de7c",
   "metadata": {},
   "outputs": [],
   "source": [
    "train_path=os.getenv('HOME') + '/aiffel/jellyfish/new/Train'\n",
    "test_path=os.getenv('HOME') + '/aiffel/jellyfish/new/test'\n",
    "valid_path=os.getenv('HOME') + '/aiffel/jellyfish/new/valid'\n",
    "\n",
    "trainset=ImageFolder(train_path,transform=Compose([Resize((224,224)),ToTensor()]))\n",
    "testset=ImageFolder(test_path,transform=Compose([Resize((224,224)),ToTensor()]))\n",
    "validset=ImageFolder(valid_path,transform=Compose([Resize((224,224)),ToTensor()]))"
   ]
  },
  {
   "cell_type": "code",
   "execution_count": 3,
   "id": "63569f13",
   "metadata": {},
   "outputs": [
    {
     "data": {
      "text/plain": [
       "Dataset ImageFolder\n",
       "    Number of datapoints: 1813\n",
       "    Root location: /aiffel/aiffel/jellyfish/new/Train\n",
       "    StandardTransform\n",
       "Transform: Compose(\n",
       "               Resize(size=(224, 224), interpolation=bilinear, max_size=None, antialias=None)\n",
       "               ToTensor()\n",
       "           )"
      ]
     },
     "execution_count": 3,
     "metadata": {},
     "output_type": "execute_result"
    }
   ],
   "source": [
    "trainset\n",
    "# testset\n",
    "# validset"
   ]
  },
  {
   "cell_type": "code",
   "execution_count": 4,
   "id": "0b735815",
   "metadata": {},
   "outputs": [],
   "source": [
    "from torch.utils.data import DataLoader\n",
    "train_loader=DataLoader(trainset,batch_size=4,shuffle=True)\n",
    "test_loader=DataLoader(testset,batch_size=4)\n",
    "valid_loader=DataLoader(validset,batch_size=4)"
   ]
  },
  {
   "cell_type": "code",
   "execution_count": 5,
   "id": "432516da",
   "metadata": {},
   "outputs": [
    {
     "name": "stdout",
     "output_type": "stream",
     "text": [
      "Requirement already satisfied: torchvision==0.12.0 in /opt/conda/lib/python3.9/site-packages (0.12.0)\n",
      "Requirement already satisfied: typing-extensions in /opt/conda/lib/python3.9/site-packages (from torchvision==0.12.0) (4.9.0)\n",
      "Requirement already satisfied: pillow!=8.3.*,>=5.3.0 in /opt/conda/lib/python3.9/site-packages (from torchvision==0.12.0) (10.2.0)\n",
      "Requirement already satisfied: numpy in /opt/conda/lib/python3.9/site-packages (from torchvision==0.12.0) (1.21.4)\n",
      "Requirement already satisfied: torch==1.11.0 in /opt/conda/lib/python3.9/site-packages (from torchvision==0.12.0) (1.11.0)\n",
      "Requirement already satisfied: requests in /opt/conda/lib/python3.9/site-packages (from torchvision==0.12.0) (2.26.0)\n",
      "Requirement already satisfied: charset-normalizer~=2.0.0 in /opt/conda/lib/python3.9/site-packages (from requests->torchvision==0.12.0) (2.0.8)\n",
      "Requirement already satisfied: certifi>=2017.4.17 in /opt/conda/lib/python3.9/site-packages (from requests->torchvision==0.12.0) (2021.10.8)\n",
      "Requirement already satisfied: urllib3<1.27,>=1.21.1 in /opt/conda/lib/python3.9/site-packages (from requests->torchvision==0.12.0) (1.26.7)\n",
      "Requirement already satisfied: idna<4,>=2.5 in /opt/conda/lib/python3.9/site-packages (from requests->torchvision==0.12.0) (2.10)\n",
      "\u001b[33mWARNING: Running pip as the 'root' user can result in broken permissions and conflicting behaviour with the system package manager. It is recommended to use a virtual environment instead: https://pip.pypa.io/warnings/venv\u001b[0m\n",
      "Note: you may need to restart the kernel to use updated packages.\n"
     ]
    }
   ],
   "source": [
    "pip install torchvision==0.12.0"
   ]
  },
  {
   "cell_type": "code",
   "execution_count": 6,
   "id": "ac8dfa69",
   "metadata": {},
   "outputs": [
    {
     "name": "stderr",
     "output_type": "stream",
     "text": [
      "Downloading: \"https://download.pytorch.org/models/vit_b_16-c867db91.pth\" to /aiffel/.cache/torch/hub/checkpoints/vit_b_16-c867db91.pth\n"
     ]
    },
    {
     "data": {
      "application/vnd.jupyter.widget-view+json": {
       "model_id": "8cd8262187344b4ead2ac34e630fae0e",
       "version_major": 2,
       "version_minor": 0
      },
      "text/plain": [
       "  0%|          | 0.00/330M [00:00<?, ?B/s]"
      ]
     },
     "metadata": {},
     "output_type": "display_data"
    }
   ],
   "source": [
    "from torchvision.models import vit_b_16\n",
    "from torch import nn\n",
    "model=vit_b_16(pretrained=True)\n",
    "model.heads.head=nn.Linear(768,6)"
   ]
  },
  {
   "cell_type": "code",
   "execution_count": 7,
   "id": "0c4e233d",
   "metadata": {},
   "outputs": [],
   "source": [
    "from torch.optim import Adam\n",
    "from torch import nn\n",
    "import torch\n",
    "clf=model.to('cuda')\n",
    "opt=Adam(clf.parameters(), lr=1e-6)\n",
    "lossfn=nn.CrossEntropyLoss()"
   ]
  },
  {
   "cell_type": "code",
   "execution_count": 8,
   "id": "eeb6baf4",
   "metadata": {},
   "outputs": [
    {
     "name": "stdout",
     "output_type": "stream",
     "text": [
      "Epoch 0 Train accuracy 44.07059860229492\n",
      "Valid accuracy 70.4917984008789\n",
      "Epoch 1 Train accuracy 81.13623809814453\n",
      "Valid accuracy 87.43169403076172\n",
      "Epoch 2 Train accuracy 92.55377197265625\n",
      "Valid accuracy 89.61748504638672\n",
      "Epoch 3 Train accuracy 95.80805206298828\n",
      "Valid accuracy 89.07103729248047\n",
      "Epoch 4 Train accuracy 97.84886169433594\n",
      "Valid accuracy 89.07103729248047\n"
     ]
    }
   ],
   "source": [
    "for e in range(5):\n",
    "    clf.train()\n",
    "    correct=0\n",
    "    items=0\n",
    "    for X,y in train_loader:\n",
    "        X=X.to('cuda')\n",
    "        y=y.to('cuda')\n",
    "        yhat=clf(X)\n",
    "        pred=torch.argmax(yhat,1)\n",
    "        loss=lossfn(yhat,y)\n",
    "\n",
    "        opt.zero_grad()\n",
    "        loss.backward()\n",
    "        opt.step()\n",
    "        correct+=(pred==y).sum()\n",
    "        items+=y.size(0)\n",
    "    print(f\"Epoch {e} Train accuracy {correct*100/items}\")\n",
    "    clf.eval()\n",
    "    with torch.no_grad():\n",
    "        correct=0\n",
    "        items=0\n",
    "        for X,y in valid_loader:\n",
    "            X=X.to('cuda')\n",
    "            y=y.to('cuda')\n",
    "            yhat=clf(X)\n",
    "            pred=torch.argmax(yhat,1)\n",
    "            loss=lossfn(yhat,y)\n",
    "\n",
    "            correct+=(pred==y).sum()\n",
    "            items+=y.size(0)\n",
    "        print(f\"Valid accuracy {correct*100/items}\")"
   ]
  },
  {
   "cell_type": "code",
   "execution_count": 9,
   "id": "03a0b1b2",
   "metadata": {},
   "outputs": [
    {
     "name": "stdout",
     "output_type": "stream",
     "text": [
      "Test accuracy 92.6229476928711\n"
     ]
    }
   ],
   "source": [
    "clf.eval()\n",
    "y_label=[]\n",
    "y_pred=[]\n",
    "with torch.no_grad():\n",
    "    correct=0\n",
    "    items=0\n",
    "    for X,y in test_loader:\n",
    "        X=X.to('cuda')\n",
    "        y=y.to('cuda')\n",
    "        yhat=clf(X)\n",
    "        pred=torch.argmax(yhat,1)\n",
    "        loss=lossfn(yhat,y)\n",
    "\n",
    "        correct+=(pred==y).sum()\n",
    "        items+=y.size(0)\n",
    "        y_label.extend(y.to('cpu'))\n",
    "        y_pred.extend(pred.to('cpu'))\n",
    "    print(f\"Test accuracy {correct*100/items}\")"
   ]
  },
  {
   "cell_type": "code",
   "execution_count": 10,
   "id": "414c252b",
   "metadata": {},
   "outputs": [
    {
     "data": {
      "image/png": "[encoded data removed]",
      "text/plain": [
       "<Figure size 432x288 with 2 Axes>"
      ]
     },
     "metadata": {
      "needs_background": "light"
     },
     "output_type": "display_data"
    }
   ],
   "source": [
    "from sklearn.metrics import ConfusionMatrixDisplay as cmd\n",
    "from sklearn.metrics import confusion_matrix\n",
    "import matplotlib.pyplot as plt\n",
    "\n",
    "cm=confusion_matrix(y_label,y_pred)\n",
    "disp=cmd(cm,display_labels=trainset.classes)\n",
    "disp.plot()\n",
    "plt.xticks(rotation=90)\n",
    "plt.show()"
   ]
  },
  {
   "cell_type": "code",
   "execution_count": 11,
   "id": "f904fe4b",
   "metadata": {},
   "outputs": [
    {
     "name": "stdout",
     "output_type": "stream",
     "text": [
      "              precision    recall  f1-score   support\n",
      "\n",
      "           0       0.90      1.00      0.95        56\n",
      "           1       0.92      1.00      0.96        49\n",
      "           2       0.96      0.81      0.88        53\n",
      "           3       0.96      0.96      0.96        50\n",
      "           4       0.80      0.86      0.83        14\n",
      "           5       0.95      0.82      0.88        22\n",
      "\n",
      "    accuracy                           0.93       244\n",
      "   macro avg       0.92      0.91      0.91       244\n",
      "weighted avg       0.93      0.93      0.92       244\n",
      "\n"
     ]
    }
   ],
   "source": [
    "from sklearn.metrics import classification_report as cfr\n",
    "print(cfr(y_label,y_pred))"
   ]
  },
  {
   "cell_type": "code",
   "execution_count": 12,
   "id": "53f0522e",
   "metadata": {},
   "outputs": [
    {
     "name": "stdout",
     "output_type": "stream",
     "text": [
      "0.9262295081967213\n"
     ]
    }
   ],
   "source": [
    "from sklearn.metrics import f1_score\n",
    "print(f1_score(y_label,y_pred,average='micro'))"
   ]
  },
  {
   "cell_type": "code",
   "execution_count": null,
   "id": "2316b54a",
   "metadata": {},
   "outputs": [],
   "source": []
  }
 ],
 "metadata": {
  "kernelspec": {
   "display_name": "Python 3 (ipykernel)",
   "language": "python",
   "name": "python3"
  },
  "language_info": {
   "codemirror_mode": {
    "name": "ipython",
    "version": 3
   },
   "file_extension": ".py",
   "mimetype": "text/x-python",
   "name": "python",
   "nbconvert_exporter": "python",
   "pygments_lexer": "ipython3",
   "version": "3.9.7"
  }
 },
 "nbformat": 4,
 "nbformat_minor": 5
}
