{
 "cells": [
  {
   "cell_type": "markdown",
   "id": "b26ec8b0",
   "metadata": {},
   "source": [
    "### 기본 세팅"
   ]
  },
  {
   "cell_type": "code",
   "execution_count": 1,
   "id": "4ddd534c",
   "metadata": {
    "ExecuteTime": {
     "end_time": "2024-01-11T07:04:50.240847Z",
     "start_time": "2024-01-11T07:04:49.362282Z"
    }
   },
   "outputs": [],
   "source": [
    "import os\n",
    "import shutil\n",
    "import pandas as pd\n",
    "from sklearn.utils import shuffle\n",
    "import numpy as np\n",
    "\n",
    "# 상수 정의\n",
    "SEED = 42  # 무작위 셔플링을 위한 시드 값\n",
    "DATA_ROOT = './dataset'  # 데이터셋의 루트 경로\n",
    "DATASET_FOLDERS = [\n",
    "    'Moon_jellyfish',\n",
    "    'barrel_jellyfish',\n",
    "    'blue_jellyfish',\n",
    "    'compass_jellyfish',\n",
    "    'lions_mane_jellyfish',\n",
    "    'mauve_stinger_jellyfish',\n",
    "]\n",
    "\n",
    "# 이미지 경로를 포함하는 리스트를 생성하는 함수 정의\n",
    "def create_images_list(path):\n",
    "    full_path = []\n",
    "    images = os.listdir(path)\n",
    "    for i in images:\n",
    "        full_path.append(os.path.join(path, i))\n",
    "    return full_path\n",
    "\n",
    "# 이미지 파일을 이동시키는 함수 정의\n",
    "def move_images(src_dir, dest_dir, sub_folders):\n",
    "    for folder in sub_folders:\n",
    "        src_folder_path = os.path.join(src_dir, folder)\n",
    "        dest_folder_path = os.path.join(dest_dir, folder)\n",
    "        if not os.path.exists(dest_folder_path):\n",
    "            os.makedirs(dest_folder_path)\n",
    "        for file in os.listdir(src_folder_path):\n",
    "            shutil.move(os.path.join(src_folder_path, file), dest_folder_path)\n",
    "\n",
    "# 이미지 경로 리스트를 생성하는 함수 정의\n",
    "def create_images_list_for_all_folders(root_path, sub_folders):\n",
    "    images_list = []\n",
    "    for folder in sub_folders:\n",
    "        folder_path = os.path.join(root_path, folder)\n",
    "        images = create_images_list(folder_path)\n",
    "        images_list.extend([(img_path, folder) for img_path in images])\n",
    "    return images_list"
   ]
  },
  {
   "cell_type": "markdown",
   "id": "73770823",
   "metadata": {
    "ExecuteTime": {
     "end_time": "2024-01-11T06:31:16.165775Z",
     "start_time": "2024-01-11T06:31:16.108672Z"
    }
   },
   "source": [
    "### 1단계: add_dataset_1 폴더의 이미지들을 원본 데이터셋의 적절한 폴더로 이동"
   ]
  },
  {
   "cell_type": "code",
   "execution_count": 2,
   "id": "52cbc74c",
   "metadata": {
    "ExecuteTime": {
     "end_time": "2024-01-11T07:04:50.621564Z",
     "start_time": "2024-01-11T07:04:50.242845Z"
    }
   },
   "outputs": [],
   "source": [
    "for folder in ['train', 'test', 'valid']:\n",
    "    move_images(os.path.join(DATA_ROOT, 'add_dataset_1', folder),\n",
    "                os.path.join(DATA_ROOT, 'Train_Test_Valid', folder.capitalize()),\n",
    "                DATASET_FOLDERS)"
   ]
  },
  {
   "cell_type": "markdown",
   "id": "701be198",
   "metadata": {
    "ExecuteTime": {
     "end_time": "2024-01-11T06:31:28.766966Z",
     "start_time": "2024-01-11T06:31:28.370577Z"
    }
   },
   "source": [
    "### 2단계: add_dataset_2 폴더의 데이터를 add_dataset_3 폴더로 이동하여 병합"
   ]
  },
  {
   "cell_type": "code",
   "execution_count": 3,
   "id": "d2ac1b0b",
   "metadata": {
    "ExecuteTime": {
     "end_time": "2024-01-11T07:04:50.817985Z",
     "start_time": "2024-01-11T07:04:50.623565Z"
    }
   },
   "outputs": [],
   "source": [
    "move_images(os.path.join(DATA_ROOT, 'add_dataset_2'),\n",
    "            os.path.join(DATA_ROOT, 'add_dataset_3'),\n",
    "            ['barrel_jellyfish', 'mauve_stinger_jellyfish'])"
   ]
  },
  {
   "cell_type": "markdown",
   "id": "3be55576",
   "metadata": {
    "ExecuteTime": {
     "end_time": "2024-01-11T06:31:36.452246Z",
     "start_time": "2024-01-11T06:31:36.379494Z"
    }
   },
   "source": [
    "### 3단계: 병합된 데이터로 데이터셋 만들기"
   ]
  },
  {
   "cell_type": "code",
   "execution_count": 4,
   "id": "c7f197f6",
   "metadata": {
    "ExecuteTime": {
     "end_time": "2024-01-11T07:04:50.832775Z",
     "start_time": "2024-01-11T07:04:50.821028Z"
    }
   },
   "outputs": [],
   "source": [
    "merged_data_path = os.path.join(DATA_ROOT, 'add_dataset_3')\n",
    "\n",
    "# 각 클래스에 대한 이미지 경로 리스트를 생성\n",
    "all_images_list = create_images_list_for_all_folders(merged_data_path, DATASET_FOLDERS)\n",
    "\n",
    "# 이미지 경로와 라벨을 포함하는 데이터프레임 생성\n",
    "data_df = pd.DataFrame(all_images_list, columns=['img', 'label'])\n",
    "\n",
    "# 데이터프레임을 무작위로 섞고 인덱스를 재설정\n",
    "data_df = shuffle(data_df, random_state=SEED).reset_index(drop=True)\n",
    "\n",
    "# 데이터를 학습(train), 검증(valid), 테스트(test) 세트로 분할\n",
    "total_size = len(data_df)\n",
    "train_size = int(total_size * 0.75)\n",
    "valid_size = int(total_size * 0.15)\n",
    "\n",
    "train_df = data_df[:train_size].reset_index(drop=True)\n",
    "valid_df = data_df[train_size:train_size + valid_size].reset_index(drop=True)\n",
    "test_df = data_df[train_size + valid_size:].reset_index(drop=True)"
   ]
  },
  {
   "cell_type": "markdown",
   "id": "1db05f42",
   "metadata": {},
   "source": [
    "### 4단계 : 병합된 데이터를 저장하고 원본 데이터 폴더로 이동해 최종 병합"
   ]
  },
  {
   "cell_type": "code",
   "execution_count": 5,
   "id": "e7ae4f60",
   "metadata": {
    "ExecuteTime": {
     "end_time": "2024-01-11T07:04:55.011220Z",
     "start_time": "2024-01-11T07:04:50.834776Z"
    }
   },
   "outputs": [],
   "source": [
    "MERGED_ROOT = './dataset/merged_df'  # Merged 데이터셋의 루트 경로\n",
    "\n",
    "# 데이터프레임에 있는 모든 이미지를 merged_df 폴더에 복사\n",
    "def copy_images_to_merged(df, src_root, dest_root):\n",
    "    for _, row in df.iterrows():\n",
    "        src_path = row['img']\n",
    "        dest_path = os.path.join(dest_root, row['label'], os.path.basename(row['img']))\n",
    "        dest_folder_path = os.path.dirname(dest_path)\n",
    "        if not os.path.exists(dest_folder_path):\n",
    "            os.makedirs(dest_folder_path)\n",
    "        shutil.copy(src_path, dest_path)\n",
    "\n",
    "# 이미지를 복사하는 함수를 호출하여 이미지를 복사\n",
    "copy_images_to_merged(data_df, DATA_ROOT, MERGED_ROOT)\n",
    "\n",
    "\n",
    "# 이미지를 이동하는 함수 정의\n",
    "def move_images_to_ttv(df, src_root, dest_root):\n",
    "    for _, row in df.iterrows():\n",
    "        src_path = os.path.join(src_root, row['label'], os.path.basename(row['img']))\n",
    "        dest_path = os.path.join(dest_root, row['label'], os.path.basename(row['img']))\n",
    "        dest_folder_path = os.path.dirname(dest_path)\n",
    "        if not os.path.exists(dest_folder_path):\n",
    "            os.makedirs(dest_folder_path)\n",
    "        shutil.move(src_path, dest_path)\n",
    "\n",
    "# 이미지를 이동하는 함수를 호출하여 이미지를 이동\n",
    "for df, folder in zip([train_df, valid_df, test_df], ['Train', 'valid', 'test']):\n",
    "    move_images_to_ttv(df, MERGED_ROOT, os.path.join(DATA_ROOT, 'Train_Test_Valid', folder))"
   ]
  },
  {
   "cell_type": "markdown",
   "id": "f921f759",
   "metadata": {},
   "source": [
    "## 최종 데이터셋 확인"
   ]
  },
  {
   "cell_type": "code",
   "execution_count": 7,
   "id": "187199f7",
   "metadata": {
    "ExecuteTime": {
     "end_time": "2024-01-11T07:07:02.196371Z",
     "start_time": "2024-01-11T07:06:44.696484Z"
    }
   },
   "outputs": [],
   "source": [
    "# 필요한 라이브러리 임포트\n",
    "from sklearn.preprocessing import LabelEncoder  # LabelEncoder를 사용하기 위해 임포트\n",
    "from sklearn.model_selection import train_test_split  # train_test_split을 사용하기 위해 임포트\n",
    "import os  # 파일 및 디렉토리 관리를 위해 임포트\n",
    "import cv2  # OpenCV 라이브러리를 사용하기 위해 임포트\n",
    "import numpy as np  # 배열 및 행렬 작업을 위해 임포트\n",
    "import matplotlib.pyplot as plt  # 데이터 시각화를 위해 임포트\n",
    "import seaborn as sns  # 시각화를 위해 Seaborn 라이브러리 임포트\n",
    "\n",
    "# 데이터 로드 함수 정의\n",
    "def load_data(data_directory):\n",
    "    images = []  # 이미지 데이터를 저장할 리스트\n",
    "    labels = []  # 레이블 데이터를 저장할 리스트\n",
    "    classes = []  # 클래스 목록을 저장할 리스트\n",
    "    label_encoder = LabelEncoder()  # LabelEncoder 객체 생성\n",
    "\n",
    "    for class_name in os.listdir(data_directory):\n",
    "        class_path = os.path.join(data_directory, class_name)\n",
    "        if os.path.isdir(class_path):  # 디렉토리인 경우에만 처리\n",
    "            classes.append(class_name)\n",
    "\n",
    "            for filename in os.listdir(class_path):\n",
    "                filepath = os.path.join(class_path, filename)\n",
    "                img = cv2.imread(filepath)  # 이미지 파일 읽기\n",
    "                if img is not None:\n",
    "                    img = cv2.cvtColor(img, cv2.COLOR_BGR2RGB)  # RGB로 변환\n",
    "                    img = cv2.resize(img, (224, 224))  # 크기 조정\n",
    "                    img = img / 255.0  # 정규화\n",
    "                    images.append(img)  # 이미지 리스트에 추가\n",
    "                    labels.append(class_name)  # 레이블 리스트에 클래스 이름 추가\n",
    "\n",
    "    images = np.array(images)  # 이미지 데이터를 NumPy 배열로 변환\n",
    "    labels = label_encoder.fit_transform(labels)  # 레이블을 숫자로 변환\n",
    "    classes = label_encoder.classes_  # 클래스 목록을 저장\n",
    "\n",
    "    return images, labels, classes\n",
    "\n",
    "# 훈련 데이터셋 로드\n",
    "train_data_directory = './dataset/Train_Test_Valid/Train'\n",
    "train_images, train_labels, train_classes = load_data(train_data_directory)\n",
    "\n",
    "# 테스트 데이터셋 로드\n",
    "test_data_directory = './dataset/Train_Test_Valid/test'\n",
    "test_images, test_labels, test_classes = load_data(test_data_directory)\n",
    "\n",
    "# 검증 데이터셋 로드\n",
    "valid_data_directory = './dataset/Train_Test_Valid/valid'\n",
    "valid_images, valid_labels, valid_classes = load_data(valid_data_directory)"
   ]
  },
  {
   "cell_type": "code",
   "execution_count": 8,
   "id": "77fb837e",
   "metadata": {
    "ExecuteTime": {
     "end_time": "2024-01-11T07:07:04.687887Z",
     "start_time": "2024-01-11T07:07:04.671369Z"
    }
   },
   "outputs": [
    {
     "name": "stdout",
     "output_type": "stream",
     "text": [
      "훈련 데이터셋 크기: 1813\n",
      "테스트 데이터셋 크기: 244\n",
      "검증 데이터셋 크기: 183\n"
     ]
    }
   ],
   "source": [
    "# 데이터셋 확인\n",
    "print(\"훈련 데이터셋 크기:\", len(train_images))\n",
    "print(\"테스트 데이터셋 크기:\", len(test_images))\n",
    "print(\"검증 데이터셋 크기:\", len(valid_images))"
   ]
  },
  {
   "cell_type": "markdown",
   "id": "48882d34",
   "metadata": {},
   "source": [
    "### 데이터 시각화"
   ]
  },
  {
   "cell_type": "code",
   "execution_count": 9,
   "id": "34d0989d",
   "metadata": {
    "ExecuteTime": {
     "end_time": "2024-01-11T07:07:07.182052Z",
     "start_time": "2024-01-11T07:07:06.657795Z"
    }
   },
   "outputs": [
    {
     "data": {
      "image/png": "[encoded data removed]",
      "text/plain": [
       "<Figure size 1000x600 with 1 Axes>"
      ]
     },
     "metadata": {},
     "output_type": "display_data"
    }
   ],
   "source": [
    "import pandas as pd\n",
    "\n",
    "# 클래스별 이미지 개수 계산\n",
    "class_counts = pd.Series(train_labels).value_counts().sort_index()\n",
    "class_counts.index = train_classes  # 인덱스를 클래스 이름으로 변경\n",
    "\n",
    "# 막대 그래프 그리기\n",
    "plt.figure(figsize=(10, 6))\n",
    "barplot = sns.barplot(x=class_counts.index, y=class_counts.values)\n",
    "\n",
    "# 각 막대에 숫자 표시\n",
    "for p in barplot.patches:\n",
    "    barplot.annotate(f'{int(p.get_height())}', \n",
    "                     (p.get_x() + p.get_width() / 2., p.get_height()), \n",
    "                     ha='center', va='center', \n",
    "                     xytext=(0, 9), \n",
    "                     textcoords='offset points')\n",
    "\n",
    "# 그래프 제목 및 레이블 설정\n",
    "plt.title('Number of Images per Class')\n",
    "plt.xlabel('Class Name')\n",
    "plt.ylabel('Number of Images')\n",
    "plt.xticks(rotation=45)  # x축 레이블 회전\n",
    "plt.show()"
   ]
  }
 ],
 "metadata": {
  "kernelspec": {
   "display_name": "cv_env",
   "language": "python",
   "name": "cv_env"
  },
  "language_info": {
   "codemirror_mode": {
    "name": "ipython",
    "version": 3
   },
   "file_extension": ".py",
   "mimetype": "text/x-python",
   "name": "python",
   "nbconvert_exporter": "python",
   "pygments_lexer": "ipython3",
   "version": "3.7.1"
  },
  "toc": {
   "base_numbering": 1,
   "nav_menu": {},
   "number_sections": true,
   "sideBar": true,
   "skip_h1_title": false,
   "title_cell": "Table of Contents",
   "title_sidebar": "Contents",
   "toc_cell": false,
   "toc_position": {},
   "toc_section_display": true,
   "toc_window_display": true
  },
  "varInspector": {
   "cols": {
    "lenName": 16,
    "lenType": 16,
    "lenVar": 40
   },
   "kernels_config": {
    "python": {
     "delete_cmd_postfix": "",
     "delete_cmd_prefix": "del ",
     "library": "var_list.py",
     "varRefreshCmd": "print(var_dic_list())"
    },
    "r": {
     "delete_cmd_postfix": ") ",
     "delete_cmd_prefix": "rm(",
     "library": "var_list.r",
     "varRefreshCmd": "cat(var_dic_list()) "
    }
   },
   "types_to_exclude": [
    "module",
    "function",
    "builtin_function_or_method",
    "instance",
    "_Feature"
   ],
   "window_display": false
  }
 },
 "nbformat": 4,
 "nbformat_minor": 5
}
