{
 "cells": [
  {
   "cell_type": "code",
   "execution_count": 1,
   "id": "682083ed",
   "metadata": {},
   "outputs": [],
   "source": [
    "import numpy as np\n",
    "import pandas as pd\n",
    "import matplotlib.pyplot as plt\n",
    "import pickle\n",
    "from PIL import Image\n",
    "import torchvision.datasets as dsets\n",
    "import torchvision.transforms as transforms\n",
    "import torch\n",
    "import torch.nn as nn\n",
    "import pickle\n",
    "import os\n",
    "import torch.nn.functional as F\n",
    "import requests\n",
    "from sklearn.metrics import confusion_matrix, classification_report\n",
    "import seaborn as sn\n",
    "import pandas as pd\n",
    "torch.manual_seed(1) # Set manual seed\n",
    "from sklearn import preprocessing\n",
    "from torch.utils.data import DataLoader, Dataset, Subset"
   ]
  },
  {
   "cell_type": "code",
   "execution_count": 2,
   "id": "73480d4d",
   "metadata": {},
   "outputs": [
    {
     "name": "stdout",
     "output_type": "stream",
     "text": [
      "Num GPUs Available:  1\n"
     ]
    }
   ],
   "source": [
    "import tensorflow as tf\n",
    "\n",
    "print(\"Num GPUs Available: \", len(tf.config.experimental.list_physical_devices('GPU')))\n",
    "gpus = tf.config.experimental.list_physical_devices('GPU')\n",
    "if gpus:\n",
    "    try:\n",
    "    # 메모리 사용 제한을 위한 설정\n",
    "        for gpu in gpus:\n",
    "            tf.config.experimental.set_memory_growth(gpu, True)\n",
    "        # 특정 GPU만 사용하도록 설정\n",
    "        tf.config.experimental.set_visible_devices(gpus[0], 'GPU')\n",
    "    except RuntimeError as e:\n",
    "    # 프로그램 시작 후에는 GPU 설정을 변경할 수 없으므로\n",
    "    # 런타임 오류 발생 시 예외 처리가 필요함\n",
    "        print(e)"
   ]
  },
  {
   "cell_type": "markdown",
   "id": "4a47fa60",
   "metadata": {},
   "source": [
    "# 📌 Intro.\n",
    "- [Kaggle의 Jellyfish 데이터셋](https://www.kaggle.com/datasets/anshtanwar/jellyfish-types) 을 사용해 6종의 해파리를 분류하는 다중 분류기를 생성합니다."
   ]
  },
  {
   "cell_type": "markdown",
   "id": "7164c871",
   "metadata": {},
   "source": [
    "# 데이터 로드 및 살펴보기\n",
    "\n",
    "- 학습할 데이터셋을 불러와 데이터의 구성을 살펴봅니다.\n",
    "- 데이터셋 링크의 설명을 보면 총 900장의 이미지에 6종의 Jellyfish에 대한 이미지들로 구성된 데이터 셋입니다.\n",
    "- 다양한 해파리 종류로 구분되며, 종류에는 mauve stinger jellyfish, moon jellyfish, barrel jellyfish, blue jellyfish, compass jellyfish, lion’s mane jellyfish가 있습니다."
   ]
  },
  {
   "cell_type": "code",
   "execution_count": 3,
   "id": "316a6e45",
   "metadata": {},
   "outputs": [],
   "source": [
    "# 필요한 라이브러리 임포트\n",
    "from sklearn.preprocessing import LabelEncoder  # LabelEncoder를 사용하기 위해 임포트\n",
    "from sklearn.model_selection import train_test_split  # train_test_split을 사용하기 위해 임포트\n",
    "import os  # 파일 및 디렉토리 관리를 위해 임포트\n",
    "import cv2  # OpenCV 라이브러리를 사용하기 위해 임포트\n",
    "import numpy as np  # 배열 및 행렬 작업을 위해 임포트\n",
    "import matplotlib.pyplot as plt  # 데이터 시각화를 위해 임포트\n",
    "import seaborn as sns  # 시각화를 위해 Seaborn 라이브러리 임포트\n",
    "\n",
    "# 데이터 로드 함수 정의\n",
    "def load_data(data_directory):\n",
    "    images = []  # 이미지 데이터를 저장할 리스트\n",
    "    labels = []  # 레이블 데이터를 저장할 리스트\n",
    "    classes = []  # 클래스 목록을 저장할 리스트\n",
    "    label_encoder = LabelEncoder()  # LabelEncoder 객체 생성\n",
    "\n",
    "    for class_name in os.listdir(data_directory):\n",
    "        class_path = os.path.join(data_directory, class_name)\n",
    "        if os.path.isdir(class_path):  # 디렉토리인 경우에만 처리\n",
    "            classes.append(class_name)\n",
    "\n",
    "            for filename in os.listdir(class_path):\n",
    "                filepath = os.path.join(class_path, filename)\n",
    "                img = cv2.imread(filepath)  # 이미지 파일 읽기\n",
    "                if img is not None:\n",
    "                    img = cv2.cvtColor(img, cv2.COLOR_BGR2RGB)  # RGB로 변환\n",
    "                    img = cv2.resize(img, (224, 224))  # 크기 조정\n",
    "                    img = img / 255.0  # 정규화\n",
    "                    images.append(img)  # 이미지 리스트에 추가\n",
    "                    labels.append(class_name)  # 레이블 리스트에 클래스 이름 추가\n",
    "\n",
    "    images = np.array(images)  # 이미지 데이터를 NumPy 배열로 변환\n",
    "    labels = label_encoder.fit_transform(labels)  # 레이블을 숫자로 변환\n",
    "    classes = label_encoder.classes_  # 클래스 목록을 저장\n",
    "\n",
    "    return images, labels, classes\n",
    "\n",
    "# 훈련 데이터셋 로드\n",
    "train_data_directory = '/aiffel/aiffel/jellyfish/Train_Test_Valid/Train'\n",
    "train_images, train_labels, train_classes = load_data(train_data_directory)\n",
    "\n",
    "# 테스트 데이터셋 로드\n",
    "test_data_directory = '/aiffel/aiffel/jellyfish/Train_Test_Valid/test'\n",
    "test_images, test_labels, test_classes = load_data(test_data_directory)\n",
    "\n",
    "# 검증 데이터셋 로드\n",
    "valid_data_directory = '/aiffel/aiffel/jellyfish/Train_Test_Valid/valid'\n",
    "valid_images, valid_labels, valid_classes = load_data(valid_data_directory)"
   ]
  },
  {
   "cell_type": "code",
   "execution_count": 4,
   "id": "13037fbb",
   "metadata": {},
   "outputs": [
    {
     "data": {
      "image/png": "[encoded data removed]",
      "text/plain": [
       "<Figure size 720x432 with 1 Axes>"
      ]
     },
     "metadata": {
      "needs_background": "light"
     },
     "output_type": "display_data"
    }
   ],
   "source": [
    "import pandas as pd\n",
    "\n",
    "# 클래스별 이미지 개수 계산\n",
    "class_counts = pd.Series(train_labels).value_counts().sort_index()\n",
    "class_counts.index = train_classes  # 인덱스를 클래스 이름으로 변경\n",
    "\n",
    "# 막대 그래프 그리기\n",
    "plt.figure(figsize=(10, 6))\n",
    "barplot = sns.barplot(x=class_counts.index, y=class_counts.values)\n",
    "\n",
    "# 각 막대에 숫자 표시\n",
    "for p in barplot.patches:\n",
    "    barplot.annotate(f'{int(p.get_height())}', \n",
    "                     (p.get_x() + p.get_width() / 2., p.get_height()), \n",
    "                     ha='center', va='center', \n",
    "                     xytext=(0, 9), \n",
    "                     textcoords='offset points')\n",
    "\n",
    "# 그래프 제목 및 레이블 설정\n",
    "plt.title('Number of Images per Class')\n",
    "plt.xlabel('Class Name')\n",
    "plt.ylabel('Number of Images')\n",
    "plt.xticks(rotation=45)  # x축 레이블 회전\n",
    "plt.show()"
   ]
  },
  {
   "cell_type": "markdown",
   "id": "f856a52b",
   "metadata": {},
   "source": [
    "- 각 폴더 별로 모두 동일하게 150개씩 balanced한 데이터가 구성된 것을 알 수 있습니다."
   ]
  },
  {
   "cell_type": "code",
   "execution_count": 5,
   "id": "fb1afa1a",
   "metadata": {},
   "outputs": [
    {
     "name": "stdout",
     "output_type": "stream",
     "text": [
      "훈련 데이터셋(train_images) 이미지의 shape: (900, 224, 224, 3)\n",
      "테스트 데이터셋(test_images) 이미지의 shape: (40, 224, 224, 3)\n",
      "검증 데이터셋(valid_images) 이미지의 shape: (39, 224, 224, 3)\n"
     ]
    }
   ],
   "source": [
    "# 훈련 데이터셋 이미지 shape 확인\n",
    "print(\"훈련 데이터셋(train_images) 이미지의 shape:\", train_images.shape)\n",
    "\n",
    "# 테스트 데이터셋 이미지 shape 확인\n",
    "print(\"테스트 데이터셋(test_images) 이미지의 shape:\", test_images.shape)\n",
    "\n",
    "# 검증 데이터셋 이미지 shape 확인\n",
    "print(\"검증 데이터셋(valid_images) 이미지의 shape:\", valid_images.shape)"
   ]
  },
  {
   "cell_type": "markdown",
   "id": "92b254f2",
   "metadata": {},
   "source": [
    "- 전체 학습데이터는 900개, validation은 39개의 데이터로 구성된 것을 확인할 수 있습니다.\n",
    "- 또한, 각 이미지의 shape는 모두 224 x 224 사이즈의 데이터 임을 확인할 수 있습니다.\n",
    "- 각 클래스별 이미지를 출력해 보겠습니다."
   ]
  },
  {
   "cell_type": "code",
   "execution_count": 6,
   "id": "1c613726",
   "metadata": {},
   "outputs": [
    {
     "data": {
      "image/png": "[encoded data removed]",
      "text/plain": [
       "<Figure size 864x432 with 6 Axes>"
      ]
     },
     "metadata": {
      "needs_background": "light"
     },
     "output_type": "display_data"
    }
   ],
   "source": [
    "import random\n",
    "\n",
    "# 클래스의 이름과 수를 파악합니다.\n",
    "class_names = train_classes  # train_images에서 train_classes로 변경\n",
    "num_classes = len(class_names)\n",
    "\n",
    "# 1행: 클래스 별로 랜덤한 이미지 선택하여 출력\n",
    "plt.figure(figsize=(12, 6))\n",
    "for i in range(6):\n",
    "    class_idx = i // 2  # 2개의 이미지를 1행에 출력하기 위해 클래스 인덱스 계산\n",
    "    class_images = train_images[train_labels == class_idx]  # 해당 클래스의 이미지 가져오기\n",
    "    random_index = random.randint(0, len(class_images) - 1)  # 랜덤한 이미지 인덱스 선택\n",
    "    selected_image = class_images[random_index]\n",
    "\n",
    "    # 이미지를 정규화 해제하여 BGR 색상으로 변환\n",
    "    restored_image = selected_image * 255.0  # 정규화를 해제하기 위해 255를 곱합니다.\n",
    "    restored_image = restored_image.astype(\"uint8\")  # 정수형 데이터로 변환합니다.\n",
    "    restored_image = cv2.cvtColor(restored_image, cv2.COLOR_RGB2BGR)  # RGB에서 BGR로 변환합니다.\n",
    "\n",
    "    plt.subplot(2, 3, i + 1)\n",
    "    plt.imshow(restored_image)\n",
    "    plt.title(class_names[class_idx])  # 클래스 이름을 제목으로 표시\n",
    "    plt.axis(\"off\")\n",
    "\n",
    "plt.show()"
   ]
  },
  {
   "cell_type": "markdown",
   "id": "59bd7145",
   "metadata": {},
   "source": [
    "### 모델 학습(w. W&B 로깅)"
   ]
  },
  {
   "cell_type": "code",
   "execution_count": 7,
   "id": "2884e2bb",
   "metadata": {},
   "outputs": [
    {
     "name": "stderr",
     "output_type": "stream",
     "text": [
      "\u001b[34m\u001b[1mwandb\u001b[0m: Currently logged in as: \u001b[33mkimgabe\u001b[0m (\u001b[33maiffel_dlthone_servings_3_like_4\u001b[0m). Use \u001b[1m`wandb login --relogin`\u001b[0m to force relogin\n",
      "\u001b[34m\u001b[1mwandb\u001b[0m: \u001b[33mWARNING\u001b[0m If you're specifying your api key in code, ensure this code is not shared publicly.\n",
      "\u001b[34m\u001b[1mwandb\u001b[0m: \u001b[33mWARNING\u001b[0m Consider setting the WANDB_API_KEY environment variable, or running `wandb login` from the command line.\n",
      "\u001b[34m\u001b[1mwandb\u001b[0m: Appending key for api.wandb.ai to your netrc file: /aiffel/.netrc\n"
     ]
    },
    {
     "data": {
      "text/plain": [
       "True"
      ]
     },
     "execution_count": 7,
     "metadata": {},
     "output_type": "execute_result"
    }
   ],
   "source": [
    "import wandb\n",
    "# wandb 로그인\n",
    "wandb.login(key = \"2d29f865a599e345b19afb8c9580dde83e64526d\")"
   ]
  },
  {
   "cell_type": "markdown",
   "id": "a7303849",
   "metadata": {},
   "source": [
    "## 모델링\n",
    "\n",
    "\n",
    "- 가장 기본적인 CNN모델 구조부터 점진적으로 모델의 구조를 확장해 깊이를 깊게 만들면서 성능을 체크합니다.\n",
    "- 이미 원본 데이터셋이 증강된 데이터이므로 첫 시도는 별도의 전처리 없이 \n",
    "- 세부 하이퍼 파라미터의 튜닝은 W&B의 sweep기능을 통해 수행할 예정입니다.\n",
    "- 각 모델의 성능 개선 과정을 W&B에 기록합니다."
   ]
  },
  {
   "cell_type": "code",
   "execution_count": 8,
   "id": "0c7d3742",
   "metadata": {},
   "outputs": [
    {
     "name": "stderr",
     "output_type": "stream",
     "text": [
      "\u001b[34m\u001b[1mwandb\u001b[0m: Currently logged in as: \u001b[33mkimgabe\u001b[0m (\u001b[33m3like4\u001b[0m). Use \u001b[1m`wandb login --relogin`\u001b[0m to force relogin\n"
     ]
    },
    {
     "data": {
      "text/html": [
       "wandb version 0.16.2 is available!  To upgrade, please run:\n",
       " $ pip install wandb --upgrade"
      ],
      "text/plain": [
       "<IPython.core.display.HTML object>"
      ]
     },
     "metadata": {},
     "output_type": "display_data"
    },
    {
     "data": {
      "text/html": [
       "Tracking run with wandb version 0.16.0"
      ],
      "text/plain": [
       "<IPython.core.display.HTML object>"
      ]
     },
     "metadata": {},
     "output_type": "display_data"
    },
    {
     "data": {
      "text/html": [
       "Run data is saved locally in <code>/aiffel/aiffel/jellyfish/wandb/run-20240110_152528-1f89w5p3</code>"
      ],
      "text/plain": [
       "<IPython.core.display.HTML object>"
      ]
     },
     "metadata": {},
     "output_type": "display_data"
    },
    {
     "data": {
      "text/html": [
       "Syncing run <strong><a href='https://wandb.ai/3like4/Jellyfish_project/runs/1f89w5p3' target=\"_blank\">CNN_V1-adam-20-0.001-gabe</a></strong> to <a href='https://wandb.ai/3like4/Jellyfish_project' target=\"_blank\">Weights & Biases</a> (<a href='https://wandb.me/run' target=\"_blank\">docs</a>)<br/>"
      ],
      "text/plain": [
       "<IPython.core.display.HTML object>"
      ]
     },
     "metadata": {},
     "output_type": "display_data"
    },
    {
     "data": {
      "text/html": [
       " View project at <a href='https://wandb.ai/3like4/Jellyfish_project' target=\"_blank\">https://wandb.ai/3like4/Jellyfish_project</a>"
      ],
      "text/plain": [
       "<IPython.core.display.HTML object>"
      ]
     },
     "metadata": {},
     "output_type": "display_data"
    },
    {
     "data": {
      "text/html": [
       " View run at <a href='https://wandb.ai/3like4/Jellyfish_project/runs/1f89w5p3' target=\"_blank\">https://wandb.ai/3like4/Jellyfish_project/runs/1f89w5p3</a>"
      ],
      "text/plain": [
       "<IPython.core.display.HTML object>"
      ]
     },
     "metadata": {},
     "output_type": "display_data"
    },
    {
     "name": "stdout",
     "output_type": "stream",
     "text": [
      "Model: \"sequential\"\n",
      "_________________________________________________________________\n",
      "Layer (type)                 Output Shape              Param #   \n",
      "=================================================================\n",
      "conv2d (Conv2D)              (None, 224, 224, 16)      448       \n",
      "_________________________________________________________________\n",
      "activation (Activation)      (None, 224, 224, 16)      0         \n",
      "_________________________________________________________________\n",
      "conv2d_1 (Conv2D)            (None, 224, 224, 32)      4640      \n",
      "_________________________________________________________________\n",
      "activation_1 (Activation)    (None, 224, 224, 32)      0         \n",
      "_________________________________________________________________\n",
      "max_pooling2d (MaxPooling2D) (None, 112, 112, 32)      0         \n",
      "_________________________________________________________________\n",
      "dropout (Dropout)            (None, 112, 112, 32)      0         \n",
      "_________________________________________________________________\n",
      "conv2d_2 (Conv2D)            (None, 112, 112, 64)      18496     \n",
      "_________________________________________________________________\n",
      "activation_2 (Activation)    (None, 112, 112, 64)      0         \n",
      "_________________________________________________________________\n",
      "max_pooling2d_1 (MaxPooling2 (None, 56, 56, 64)        0         \n",
      "_________________________________________________________________\n",
      "dropout_1 (Dropout)          (None, 56, 56, 64)        0         \n",
      "_________________________________________________________________\n",
      "flatten (Flatten)            (None, 200704)            0         \n",
      "_________________________________________________________________\n",
      "dense (Dense)                (None, 128)               25690240  \n",
      "_________________________________________________________________\n",
      "activation_3 (Activation)    (None, 128)               0         \n",
      "_________________________________________________________________\n",
      "dense_1 (Dense)              (None, 32)                4128      \n",
      "_________________________________________________________________\n",
      "activation_4 (Activation)    (None, 32)                0         \n",
      "_________________________________________________________________\n",
      "dense_2 (Dense)              (None, 6)                 198       \n",
      "=================================================================\n",
      "Total params: 25,718,150\n",
      "Trainable params: 25,718,150\n",
      "Non-trainable params: 0\n",
      "_________________________________________________________________\n"
     ]
    }
   ],
   "source": [
    "from keras.models import Sequential\n",
    "from keras.layers import Dense, Dropout, Activation, Flatten\n",
    "from keras.layers import Conv2D, MaxPooling2D\n",
    "from keras.preprocessing.image import ImageDataGenerator\n",
    "\n",
    "# WandB 실행을 초기화하고 실험 이름을 지정합니다.\n",
    "experiment_name = \"CNN_V1-adam-20-0.001-gabe\"\n",
    "team_name = \"3like4\"\n",
    "wandb.init(\n",
    "    project= \"Jellyfish_project\",\n",
    "    entity = team_name,\n",
    "    name=experiment_name,  # 실험 이름을 설정합니다.\n",
    ")\n",
    "\n",
    "def CNN_V1():\n",
    "    model = Sequential()\n",
    "\n",
    "    # 첫 번째 convolution 레이어와 활성화 함수 추가\n",
    "    model.add(Conv2D(16, (3, 3), padding='same', input_shape=(224, 224, 3)))\n",
    "    model.add(Activation('relu'))\n",
    "\n",
    "    # 두 번째 convolution 레이어와 활성화 함수 추가\n",
    "    model.add(Conv2D(32, (3, 3), padding='same'))\n",
    "    model.add(Activation('relu'))\n",
    "\n",
    "    # max pooling 레이어와 드롭아웃 레이어 추가\n",
    "    model.add(MaxPooling2D(pool_size=(2, 2)))\n",
    "    model.add(Dropout(0.25))\n",
    "\n",
    "    # 세 번째 합성곱 레이어와 활성화 함수 추가\n",
    "    model.add(Conv2D(64, (3, 3), padding='same'))\n",
    "    model.add(Activation('relu'))\n",
    "\n",
    "    # 두 번째 맥스 풀링 레이어와 드롭아웃 레이어 추가\n",
    "    model.add(MaxPooling2D(pool_size=(2, 2)))\n",
    "    model.add(Dropout(0.25))\n",
    "\n",
    "    # flatten 레이어 추가\n",
    "    model.add(Flatten())\n",
    "\n",
    "    # 첫 번째 밀집 레이어와 활성화 함수 추가\n",
    "    model.add(Dense(128))\n",
    "    model.add(Activation('relu'))\n",
    "\n",
    "    # 두 번째 dense 레이어와 활성화 함수 추가\n",
    "    model.add(Dense(32))\n",
    "    model.add(Activation('relu'))\n",
    "\n",
    "    # 출력 레이어 추가\n",
    "    model.add(Dense(6, activation='softmax'))\n",
    "\n",
    "    return model\n",
    "\n",
    "# 모델 선언\n",
    "model = CNN_V1()\n",
    "\n",
    "# 모델 요약\n",
    "model.summary()\n",
    "\n",
    "# 모델 컴파일\n",
    "model.compile(optimizer='adam', loss='sparse_categorical_crossentropy', metrics=['accuracy'])\n",
    "\n",
    "# 이미지 데이터 증강을 위한 데이터 제너레이터 생성\n",
    "datagen = ImageDataGenerator(\n",
    "    rotation_range=30,         # 이미지를 랜덤하게 30도 회전\n",
    "    width_shift_range=0.1,     # 가로로 10%까지 랜덤하게 이동\n",
    "    height_shift_range=0.1,    # 세로로 10%까지 랜덤하게 이동\n",
    "    shear_range=0.1,           # 레이어를 변형\n",
    "    zoom_range=0.3,            # 30% 범위로 확대 또는 축소\n",
    "    horizontal_flip=True,      # 가로로 뒤집기\n",
    "    vertical_flip=True,        # 세로로 뒤집기\n",
    ")\n",
    "\n",
    "datagen1 = ImageDataGenerator()\n",
    "\n",
    "# 데이터 증강을 위한 데이터 제너레이터 생성\n",
    "train_datagen = datagen.flow(train_images, train_labels, batch_size=20)\n",
    "val_datagen = datagen1.flow(valid_images, valid_labels, batch_size=20)"
   ]
  },
  {
   "cell_type": "code",
   "execution_count": 9,
   "id": "b7150a12",
   "metadata": {
    "scrolled": true
   },
   "outputs": [
    {
     "name": "stdout",
     "output_type": "stream",
     "text": [
      "Epoch 1/150\n",
      "45/45 [==============================] - 13s 204ms/step - loss: 2.1601 - accuracy: 0.1978 - val_loss: 1.6306 - val_accuracy: 0.3590\n",
      "Epoch 2/150\n",
      "45/45 [==============================] - 9s 194ms/step - loss: 1.5634 - accuracy: 0.3278 - val_loss: 1.5158 - val_accuracy: 0.3077\n",
      "Epoch 3/150\n",
      "45/45 [==============================] - 9s 193ms/step - loss: 1.3700 - accuracy: 0.4722 - val_loss: 1.3982 - val_accuracy: 0.4872\n",
      "Epoch 4/150\n",
      "45/45 [==============================] - 9s 193ms/step - loss: 1.2958 - accuracy: 0.5033 - val_loss: 1.2938 - val_accuracy: 0.4359\n",
      "Epoch 5/150\n",
      "45/45 [==============================] - 9s 195ms/step - loss: 1.2223 - accuracy: 0.5089 - val_loss: 1.3368 - val_accuracy: 0.4615\n",
      "Epoch 6/150\n",
      "45/45 [==============================] - 9s 194ms/step - loss: 1.2068 - accuracy: 0.5033 - val_loss: 1.2674 - val_accuracy: 0.4615\n",
      "Epoch 7/150\n",
      "45/45 [==============================] - 9s 194ms/step - loss: 1.1415 - accuracy: 0.5567 - val_loss: 1.3090 - val_accuracy: 0.5128\n",
      "Epoch 8/150\n",
      "45/45 [==============================] - 9s 197ms/step - loss: 1.1269 - accuracy: 0.5644 - val_loss: 1.2193 - val_accuracy: 0.4359\n",
      "Epoch 9/150\n",
      "45/45 [==============================] - 9s 193ms/step - loss: 1.0446 - accuracy: 0.5767 - val_loss: 1.3440 - val_accuracy: 0.5385\n",
      "Epoch 10/150\n",
      "45/45 [==============================] - 9s 196ms/step - loss: 1.0211 - accuracy: 0.5856 - val_loss: 1.1906 - val_accuracy: 0.4872\n",
      "Epoch 11/150\n",
      "45/45 [==============================] - 9s 192ms/step - loss: 1.0027 - accuracy: 0.6033 - val_loss: 1.2142 - val_accuracy: 0.4615\n",
      "Epoch 12/150\n",
      "45/45 [==============================] - 9s 195ms/step - loss: 0.9813 - accuracy: 0.6267 - val_loss: 1.2306 - val_accuracy: 0.4872\n",
      "Epoch 13/150\n",
      "45/45 [==============================] - 9s 195ms/step - loss: 0.9087 - accuracy: 0.6500 - val_loss: 1.1978 - val_accuracy: 0.4872\n",
      "Epoch 14/150\n",
      "45/45 [==============================] - 9s 195ms/step - loss: 0.8724 - accuracy: 0.6656 - val_loss: 1.3295 - val_accuracy: 0.4615\n",
      "Epoch 15/150\n",
      "45/45 [==============================] - 9s 196ms/step - loss: 0.8898 - accuracy: 0.6689 - val_loss: 1.3028 - val_accuracy: 0.5385\n",
      "Epoch 16/150\n",
      "45/45 [==============================] - 9s 195ms/step - loss: 0.8359 - accuracy: 0.6811 - val_loss: 1.3197 - val_accuracy: 0.5128\n",
      "Epoch 17/150\n",
      "45/45 [==============================] - 9s 195ms/step - loss: 0.8110 - accuracy: 0.7000 - val_loss: 1.2063 - val_accuracy: 0.5128\n",
      "Epoch 18/150\n",
      "45/45 [==============================] - 9s 196ms/step - loss: 0.7584 - accuracy: 0.7167 - val_loss: 1.2989 - val_accuracy: 0.4615\n",
      "Epoch 19/150\n",
      "45/45 [==============================] - 9s 193ms/step - loss: 0.8722 - accuracy: 0.6444 - val_loss: 1.2169 - val_accuracy: 0.5385\n",
      "Epoch 20/150\n",
      "45/45 [==============================] - 9s 193ms/step - loss: 0.7572 - accuracy: 0.7200 - val_loss: 1.2020 - val_accuracy: 0.4615\n"
     ]
    },
    {
     "data": {
      "application/vnd.jupyter.widget-view+json": {
       "model_id": "",
       "version_major": 2,
       "version_minor": 0
      },
      "text/plain": [
       "VBox(children=(Label(value='0.001 MB of 0.012 MB uploaded\\r'), FloatProgress(value=0.11495357028498239, max=1.…"
      ]
     },
     "metadata": {},
     "output_type": "display_data"
    },
    {
     "data": {
      "text/html": [
       " View run <strong style=\"color:#cdcd00\">CNN_V1-adam-20-0.001-gabe</strong> at: <a href='https://wandb.ai/3like4/Jellyfish_project/runs/1f89w5p3' target=\"_blank\">https://wandb.ai/3like4/Jellyfish_project/runs/1f89w5p3</a><br/>Synced 5 W&B file(s), 0 media file(s), 0 artifact file(s) and 0 other file(s)"
      ],
      "text/plain": [
       "<IPython.core.display.HTML object>"
      ]
     },
     "metadata": {},
     "output_type": "display_data"
    },
    {
     "data": {
      "text/html": [
       "Find logs at: <code>./wandb/run-20240110_152528-1f89w5p3/logs</code>"
      ],
      "text/plain": [
       "<IPython.core.display.HTML object>"
      ]
     },
     "metadata": {},
     "output_type": "display_data"
    }
   ],
   "source": [
    "from tensorflow.keras.callbacks import EarlyStopping, ModelCheckpoint\n",
    "\n",
    "# 조기 종료 콜백 정의\n",
    "early_stopping_callback = EarlyStopping(monitor='val_loss', patience=10, restore_best_weights=True)\n",
    "\n",
    "# 모델 저장 콜백 정의\n",
    "model_checkpoint_callback = ModelCheckpoint(filepath='CNN_V1.h5', save_best_only=True, monitor='val_loss')\n",
    "\n",
    "# 모델 학습\n",
    "history = model.fit(train_datagen, epochs=150, validation_data=val_datagen, callbacks=[early_stopping_callback, model_checkpoint_callback])\n",
    "\n",
    "# WandB에 로깅 정보 전송\n",
    "wandb.log({\"train_loss\": history.history['loss'], \"val_loss\": history.history['val_loss'],\n",
    "           \"train_accuracy\": history.history['accuracy'], \"val_accuracy\": history.history['val_accuracy']})\n",
    "\n",
    "# WandB 실행을 마무리합니다.\n",
    "wandb.finish()"
   ]
  },
  {
   "cell_type": "code",
   "execution_count": 14,
   "id": "fde0b28e",
   "metadata": {},
   "outputs": [],
   "source": [
    "import seaborn as sns\n",
    "\n",
    "def plot_accuracy_and_loss(history):\n",
    "    # seaborn 스타일 설정\n",
    "    sns.set(style=\"whitegrid\")\n",
    "\n",
    "    # Train 및 Val Accuracy\n",
    "    acc = history.history['accuracy']\n",
    "    val_acc = history.history['val_accuracy']\n",
    "\n",
    "    # Train 및 Val Loss\n",
    "    loss = history.history['loss']\n",
    "    val_loss = history.history['val_loss']\n",
    "\n",
    "    # 에포크 범위\n",
    "    epochs_range = range(len(acc))\n",
    "\n",
    "    # 그래프 크기 설정\n",
    "    plt.figure(figsize=(12, 6))\n",
    "\n",
    "    # Accuracy 그래프\n",
    "    plt.subplot(1, 2, 1)\n",
    "    sns.lineplot(x=epochs_range, y=acc, label='Train Accuracy', color='blue')\n",
    "    sns.lineplot(x=epochs_range, y=val_acc, label='Val Accuracy', color='red')\n",
    "    plt.title('Train & Val Accuracy')\n",
    "    plt.legend()\n",
    "\n",
    "    # Loss 그래프\n",
    "    plt.subplot(1, 2, 2)\n",
    "    sns.lineplot(x=epochs_range, y=loss, label='Train Loss', color='blue')\n",
    "    sns.lineplot(x=epochs_range, y=val_loss, label='Val Loss', color='red')\n",
    "    plt.title('Train & Validation Loss')\n",
    "    plt.legend()\n",
    "\n",
    "    plt.show()"
   ]
  },
  {
   "cell_type": "code",
   "execution_count": 15,
   "id": "387bfd45",
   "metadata": {},
   "outputs": [
    {
     "data": {
      "image/png": "[encoded data removed]",
      "text/plain": [
       "<Figure size 864x432 with 2 Axes>"
      ]
     },
     "metadata": {},
     "output_type": "display_data"
    }
   ],
   "source": [
    "# 학습 결과를 시각화\n",
    "plot_accuracy_and_loss(history)"
   ]
  },
  {
   "cell_type": "markdown",
   "id": "4b489018",
   "metadata": {},
   "source": [
    "### 모델 평가 및 개선 방안 수립"
   ]
  },
  {
   "cell_type": "markdown",
   "id": "c8c4784b",
   "metadata": {},
   "source": [
    "- 전반적으로 검증 데이터에 대한 정확도가 훈련 데이터에 비해 현저히 낮아 과적합이 된 것으로 보여집니다.\n",
    "- 모델 자체가 훈련데이터에는 적합한 것을 의미하므로, 과적합을 억제시킬 수 있다면 모델 성능을 일부 향상 시킬 수 있을 것으로 보여집니다.\n",
    "- 현재 학습 추세를 보면 데이터수는 매우 적음에도 불구하고, 모델의 구조는 깊고 복잡해서 일반화 능력이 떨어지는 것이 주된 원인으로 보입니다.\n",
    "- 훈련데이터를 더 늘려준다면 복잡한 모델에서도 성능향상을 기대할 수 있겠지만, 현재는 추가적인 데이터 확보가 쉽지 않은 상황입니다.\n",
    "- 따라서 지금보다 더 작은 구조의 네트워크를 통해 학습을 시도해보는게 좋겠습니다.\n",
    "- 다음과 같은 작업들을 적용해 모델을 개선해 보겠습니다.\n",
    "    - 층수 감소 : convolution layer의 수를 줄여 모델을 간소화 합니다.\n",
    "    - 필터 수 감소 : 각 convolution layer에서 필터의 수를 32개로 고정해 모델의 복잡도를 낮춥니다.\n",
    "    - Dense layer의 노드 수 감소 : 첫번째 dense layer의 노드수는 128로, 두번째는 6으로 설정해 노드 수를 감소 시킵니다.\n",
    "    - 각 합성곱 뒤에 레이어 정규화를 추가해 모델 안정화를 추구합니다."
   ]
  },
  {
   "cell_type": "code",
   "execution_count": 12,
   "id": "ccbae8b7",
   "metadata": {},
   "outputs": [
    {
     "name": "stdout",
     "output_type": "stream",
     "text": [
      "Best Accuracy: 0.5767 at Epoch 9\n",
      "Best Validation Accuracy: 0.5385 at Epoch 9\n"
     ]
    }
   ],
   "source": [
    "accuracy = history.history['accuracy']\n",
    "val_accuracy = history.history['val_accuracy']\n",
    "\n",
    "# Find the epoch with the highest validation accuracy\n",
    "best_epoch = val_accuracy.index(max(val_accuracy)) + 1  # Add 1 because epochs are 1-indexed\n",
    "\n",
    "print(f\"Best Accuracy: {accuracy[best_epoch-1]:.4f} at Epoch {best_epoch}\")\n",
    "print(f\"Best Validation Accuracy: {val_accuracy[best_epoch-1]:.4f} at Epoch {best_epoch}\")\n",
    "\n",
    "model.save(f\"best_model_epoch_{best_epoch}.h5\")"
   ]
  },
  {
   "cell_type": "markdown",
   "id": "67c1ab4f",
   "metadata": {},
   "source": [
    "### W&B Sweep(하이퍼 파라미터 튜닝)\n",
    "\n",
    "#### Sweep의 config를 설정"
   ]
  },
  {
   "cell_type": "code",
   "execution_count": 13,
   "id": "134c8038",
   "metadata": {},
   "outputs": [
    {
     "name": "stdout",
     "output_type": "stream",
     "text": [
      "Create sweep with ID: tx6sb7dx\n",
      "Sweep URL: https://wandb.ai/3like4/Jellyfish_project/sweeps/tx6sb7dx\n"
     ]
    },
    {
     "name": "stderr",
     "output_type": "stream",
     "text": [
      "\u001b[34m\u001b[1mwandb\u001b[0m: Agent Starting Run: 2tgupha3 with config:\n",
      "\u001b[34m\u001b[1mwandb\u001b[0m: \tepoch: 10\n",
      "\u001b[34m\u001b[1mwandb\u001b[0m: \tlearning_rate: 0.05272736747039185\n"
     ]
    },
    {
     "data": {
      "text/html": [
       "wandb version 0.16.2 is available!  To upgrade, please run:\n",
       " $ pip install wandb --upgrade"
      ],
      "text/plain": [
       "<IPython.core.display.HTML object>"
      ]
     },
     "metadata": {},
     "output_type": "display_data"
    },
    {
     "data": {
      "text/html": [
       "Tracking run with wandb version 0.16.0"
      ],
      "text/plain": [
       "<IPython.core.display.HTML object>"
      ]
     },
     "metadata": {},
     "output_type": "display_data"
    },
    {
     "data": {
      "text/html": [
       "Run data is saved locally in <code>/aiffel/aiffel/jellyfish/wandb/run-20240110_152910-2tgupha3</code>"
      ],
      "text/plain": [
       "<IPython.core.display.HTML object>"
      ]
     },
     "metadata": {},
     "output_type": "display_data"
    },
    {
     "data": {
      "text/html": [
       "Syncing run <strong><a href='https://wandb.ai/3like4/Jellyfish_project/runs/2tgupha3' target=\"_blank\">trim-sweep-1</a></strong> to <a href='https://wandb.ai/3like4/Jellyfish_project' target=\"_blank\">Weights & Biases</a> (<a href='https://wandb.me/run' target=\"_blank\">docs</a>)<br/>Sweep page: <a href='https://wandb.ai/3like4/Jellyfish_project/sweeps/tx6sb7dx' target=\"_blank\">https://wandb.ai/3like4/Jellyfish_project/sweeps/tx6sb7dx</a>"
      ],
      "text/plain": [
       "<IPython.core.display.HTML object>"
      ]
     },
     "metadata": {},
     "output_type": "display_data"
    },
    {
     "data": {
      "text/html": [
       " View project at <a href='https://wandb.ai/3like4/Jellyfish_project' target=\"_blank\">https://wandb.ai/3like4/Jellyfish_project</a>"
      ],
      "text/plain": [
       "<IPython.core.display.HTML object>"
      ]
     },
     "metadata": {},
     "output_type": "display_data"
    },
    {
     "data": {
      "text/html": [
       " View sweep at <a href='https://wandb.ai/3like4/Jellyfish_project/sweeps/tx6sb7dx' target=\"_blank\">https://wandb.ai/3like4/Jellyfish_project/sweeps/tx6sb7dx</a>"
      ],
      "text/plain": [
       "<IPython.core.display.HTML object>"
      ]
     },
     "metadata": {},
     "output_type": "display_data"
    },
    {
     "data": {
      "text/html": [
       " View run at <a href='https://wandb.ai/3like4/Jellyfish_project/runs/2tgupha3' target=\"_blank\">https://wandb.ai/3like4/Jellyfish_project/runs/2tgupha3</a>"
      ],
      "text/plain": [
       "<IPython.core.display.HTML object>"
      ]
     },
     "metadata": {},
     "output_type": "display_data"
    },
    {
     "name": "stderr",
     "output_type": "stream",
     "text": [
      "\u001b[34m\u001b[1mwandb\u001b[0m: \u001b[33mWARNING\u001b[0m The save_model argument by default saves the model in the HDF5 format that cannot save custom objects like subclassed models and custom layers. This behavior will be deprecated in a future release in favor of the SavedModel format. Meanwhile, the HDF5 model is saved as W&B files and the SavedModel as W&B Artifacts.\n"
     ]
    },
    {
     "name": "stdout",
     "output_type": "stream",
     "text": [
      "Epoch 1/10\n",
      "45/45 [==============================] - 9s 198ms/step - loss: 2.5456 - accuracy: 0.2556 - val_loss: 1.7569 - val_accuracy: 0.2308cy\n",
      "INFO:tensorflow:Assets written to: /aiffel/aiffel/jellyfish/wandb/run-20240110_152910-2tgupha3/files/model-best/assets\n"
     ]
    },
    {
     "name": "stderr",
     "output_type": "stream",
     "text": [
      "\u001b[34m\u001b[1mwandb\u001b[0m: Adding directory to artifact (/aiffel/aiffel/jellyfish/wandb/run-20240110_152910-2tgupha3/files/model-best)... Done. 5.1s\n"
     ]
    },
    {
     "name": "stdout",
     "output_type": "stream",
     "text": [
      "Epoch 2/10\n",
      "45/45 [==============================] - 10s 203ms/step - loss: 1.5866 - accuracy: 0.3278 - val_loss: 1.4668 - val_accuracy: 0.3333\n",
      "INFO:tensorflow:Assets written to: /aiffel/aiffel/jellyfish/wandb/run-20240110_152910-2tgupha3/files/model-best/assets\n"
     ]
    },
    {
     "name": "stderr",
     "output_type": "stream",
     "text": [
      "\u001b[34m\u001b[1mwandb\u001b[0m: Adding directory to artifact (/aiffel/aiffel/jellyfish/wandb/run-20240110_152910-2tgupha3/files/model-best)... Done. 8.0s\n"
     ]
    },
    {
     "name": "stdout",
     "output_type": "stream",
     "text": [
      "Epoch 3/10\n",
      "45/45 [==============================] - 9s 204ms/step - loss: 1.4285 - accuracy: 0.3989 - val_loss: 1.3824 - val_accuracy: 0.3846\n",
      "INFO:tensorflow:Assets written to: /aiffel/aiffel/jellyfish/wandb/run-20240110_152910-2tgupha3/files/model-best/assets\n"
     ]
    },
    {
     "name": "stderr",
     "output_type": "stream",
     "text": [
      "\u001b[34m\u001b[1mwandb\u001b[0m: Adding directory to artifact (/aiffel/aiffel/jellyfish/wandb/run-20240110_152910-2tgupha3/files/model-best)... Done. 8.3s\n"
     ]
    },
    {
     "name": "stdout",
     "output_type": "stream",
     "text": [
      "Epoch 4/10\n",
      "45/45 [==============================] - 9s 201ms/step - loss: 1.3934 - accuracy: 0.4311 - val_loss: 1.3834 - val_accuracy: 0.4103\n",
      "Epoch 5/10\n",
      "45/45 [==============================] - 9s 193ms/step - loss: 1.3113 - accuracy: 0.4700 - val_loss: 1.3324 - val_accuracy: 0.3333\n",
      "INFO:tensorflow:Assets written to: /aiffel/aiffel/jellyfish/wandb/run-20240110_152910-2tgupha3/files/model-best/assets\n"
     ]
    },
    {
     "name": "stderr",
     "output_type": "stream",
     "text": [
      "\u001b[34m\u001b[1mwandb\u001b[0m: Adding directory to artifact (/aiffel/aiffel/jellyfish/wandb/run-20240110_152910-2tgupha3/files/model-best)... Done. 3.7s\n"
     ]
    },
    {
     "name": "stdout",
     "output_type": "stream",
     "text": [
      "Epoch 6/10\n",
      "45/45 [==============================] - 9s 199ms/step - loss: 1.2865 - accuracy: 0.4622 - val_loss: 1.3468 - val_accuracy: 0.4615\n",
      "Epoch 7/10\n",
      "45/45 [==============================] - 9s 196ms/step - loss: 1.2140 - accuracy: 0.5100 - val_loss: 1.3038 - val_accuracy: 0.3846\n",
      "INFO:tensorflow:Assets written to: /aiffel/aiffel/jellyfish/wandb/run-20240110_152910-2tgupha3/files/model-best/assets\n"
     ]
    },
    {
     "name": "stderr",
     "output_type": "stream",
     "text": [
      "\u001b[34m\u001b[1mwandb\u001b[0m: Adding directory to artifact (/aiffel/aiffel/jellyfish/wandb/run-20240110_152910-2tgupha3/files/model-best)... Done. 3.6s\n"
     ]
    },
    {
     "name": "stdout",
     "output_type": "stream",
     "text": [
      "Epoch 8/10\n",
      "45/45 [==============================] - 9s 198ms/step - loss: 1.2088 - accuracy: 0.5122 - val_loss: 1.3451 - val_accuracy: 0.4615\n",
      "Epoch 9/10\n",
      "45/45 [==============================] - 9s 195ms/step - loss: 1.1447 - accuracy: 0.5411 - val_loss: 1.3626 - val_accuracy: 0.5128\n",
      "Epoch 10/10\n",
      "45/45 [==============================] - 9s 197ms/step - loss: 1.1789 - accuracy: 0.5222 - val_loss: 1.2431 - val_accuracy: 0.4103\n",
      "INFO:tensorflow:Assets written to: /aiffel/aiffel/jellyfish/wandb/run-20240110_152910-2tgupha3/files/model-best/assets\n"
     ]
    },
    {
     "name": "stderr",
     "output_type": "stream",
     "text": [
      "\u001b[34m\u001b[1mwandb\u001b[0m: Adding directory to artifact (/aiffel/aiffel/jellyfish/wandb/run-20240110_152910-2tgupha3/files/model-best)... Done. 3.7s\n"
     ]
    },
    {
     "name": "stdout",
     "output_type": "stream",
     "text": [
      "2/2 - 1s - loss: 1.1738 - accuracy: 0.5000\n"
     ]
    },
    {
     "data": {
      "application/vnd.jupyter.widget-view+json": {
       "model_id": "",
       "version_major": 2,
       "version_minor": 0
      },
      "text/plain": [
       "VBox(children=(Label(value='2061.800 MB of 2061.800 MB uploaded (0.116 MB deduped)\\r'), FloatProgress(value=1.…"
      ]
     },
     "metadata": {},
     "output_type": "display_data"
    },
    {
     "data": {
      "text/html": [
       "<style>\n",
       "    table.wandb td:nth-child(1) { padding: 0 10px; text-align: left ; width: auto;} td:nth-child(2) {text-align: left ; width: 100%}\n",
       "    .wandb-row { display: flex; flex-direction: row; flex-wrap: wrap; justify-content: flex-start; width: 100% }\n",
       "    .wandb-col { display: flex; flex-direction: column; flex-basis: 100%; flex: 1; padding: 10px; }\n",
       "    </style>\n",
       "<div class=\"wandb-row\"><div class=\"wandb-col\"><h3>Run history:</h3><br/><table class=\"wandb\"><tr><td>Test Accuracy</td><td>▁</td></tr><tr><td>Test Loss</td><td>▁</td></tr><tr><td>accuracy</td><td>▁▃▅▅▆▆▇▇██</td></tr><tr><td>epoch</td><td>▁▂▃▃▄▅▆▆▇█</td></tr><tr><td>loss</td><td>█▃▂▂▂▂▁▁▁▁</td></tr><tr><td>val_accuracy</td><td>▁▄▅▅▄▇▅▇█▅</td></tr><tr><td>val_loss</td><td>█▄▃▃▂▂▂▂▃▁</td></tr></table><br/></div><div class=\"wandb-col\"><h3>Run summary:</h3><br/><table class=\"wandb\"><tr><td>Test Accuracy</td><td>0.5</td></tr><tr><td>Test Loss</td><td>1.17382</td></tr><tr><td>accuracy</td><td>0.52222</td></tr><tr><td>best_epoch</td><td>9</td></tr><tr><td>best_val_loss</td><td>1.24312</td></tr><tr><td>epoch</td><td>9</td></tr><tr><td>loss</td><td>1.17888</td></tr><tr><td>val_accuracy</td><td>0.41026</td></tr><tr><td>val_loss</td><td>1.24312</td></tr></table><br/></div></div>"
      ],
      "text/plain": [
       "<IPython.core.display.HTML object>"
      ]
     },
     "metadata": {},
     "output_type": "display_data"
    },
    {
     "data": {
      "text/html": [
       " View run <strong style=\"color:#cdcd00\">trim-sweep-1</strong> at: <a href='https://wandb.ai/3like4/Jellyfish_project/runs/2tgupha3' target=\"_blank\">https://wandb.ai/3like4/Jellyfish_project/runs/2tgupha3</a><br/>Synced 5 W&B file(s), 1 media file(s), 24 artifact file(s) and 1 other file(s)"
      ],
      "text/plain": [
       "<IPython.core.display.HTML object>"
      ]
     },
     "metadata": {},
     "output_type": "display_data"
    },
    {
     "data": {
      "text/html": [
       "Find logs at: <code>./wandb/run-20240110_152910-2tgupha3/logs</code>"
      ],
      "text/plain": [
       "<IPython.core.display.HTML object>"
      ]
     },
     "metadata": {},
     "output_type": "display_data"
    },
    {
     "name": "stderr",
     "output_type": "stream",
     "text": [
      "\u001b[34m\u001b[1mwandb\u001b[0m: Agent Starting Run: 97i18izu with config:\n",
      "\u001b[34m\u001b[1mwandb\u001b[0m: \tepoch: 5\n",
      "\u001b[34m\u001b[1mwandb\u001b[0m: \tlearning_rate: 0.056790656143314446\n"
     ]
    },
    {
     "data": {
      "text/html": [
       "wandb version 0.16.2 is available!  To upgrade, please run:\n",
       " $ pip install wandb --upgrade"
      ],
      "text/plain": [
       "<IPython.core.display.HTML object>"
      ]
     },
     "metadata": {},
     "output_type": "display_data"
    },
    {
     "data": {
      "text/html": [
       "Tracking run with wandb version 0.16.0"
      ],
      "text/plain": [
       "<IPython.core.display.HTML object>"
      ]
     },
     "metadata": {},
     "output_type": "display_data"
    },
    {
     "data": {
      "text/html": [
       "Run data is saved locally in <code>/aiffel/aiffel/jellyfish/wandb/run-20240110_153224-97i18izu</code>"
      ],
      "text/plain": [
       "<IPython.core.display.HTML object>"
      ]
     },
     "metadata": {},
     "output_type": "display_data"
    },
    {
     "data": {
      "text/html": [
       "Syncing run <strong><a href='https://wandb.ai/3like4/Jellyfish_project/runs/97i18izu' target=\"_blank\">glowing-sweep-2</a></strong> to <a href='https://wandb.ai/3like4/Jellyfish_project' target=\"_blank\">Weights & Biases</a> (<a href='https://wandb.me/run' target=\"_blank\">docs</a>)<br/>Sweep page: <a href='https://wandb.ai/3like4/Jellyfish_project/sweeps/tx6sb7dx' target=\"_blank\">https://wandb.ai/3like4/Jellyfish_project/sweeps/tx6sb7dx</a>"
      ],
      "text/plain": [
       "<IPython.core.display.HTML object>"
      ]
     },
     "metadata": {},
     "output_type": "display_data"
    },
    {
     "data": {
      "text/html": [
       " View project at <a href='https://wandb.ai/3like4/Jellyfish_project' target=\"_blank\">https://wandb.ai/3like4/Jellyfish_project</a>"
      ],
      "text/plain": [
       "<IPython.core.display.HTML object>"
      ]
     },
     "metadata": {},
     "output_type": "display_data"
    },
    {
     "data": {
      "text/html": [
       " View sweep at <a href='https://wandb.ai/3like4/Jellyfish_project/sweeps/tx6sb7dx' target=\"_blank\">https://wandb.ai/3like4/Jellyfish_project/sweeps/tx6sb7dx</a>"
      ],
      "text/plain": [
       "<IPython.core.display.HTML object>"
      ]
     },
     "metadata": {},
     "output_type": "display_data"
    },
    {
     "data": {
      "text/html": [
       " View run at <a href='https://wandb.ai/3like4/Jellyfish_project/runs/97i18izu' target=\"_blank\">https://wandb.ai/3like4/Jellyfish_project/runs/97i18izu</a>"
      ],
      "text/plain": [
       "<IPython.core.display.HTML object>"
      ]
     },
     "metadata": {},
     "output_type": "display_data"
    },
    {
     "name": "stdout",
     "output_type": "stream",
     "text": [
      "Epoch 1/5\n",
      "45/45 [==============================] - 9s 197ms/step - loss: 2.7723 - accuracy: 0.2078 - val_loss: 1.6848 - val_accuracy: 0.3590\n",
      "INFO:tensorflow:Assets written to: /aiffel/aiffel/jellyfish/wandb/run-20240110_153224-97i18izu/files/model-best/assets\n"
     ]
    },
    {
     "name": "stderr",
     "output_type": "stream",
     "text": [
      "\u001b[34m\u001b[1mwandb\u001b[0m: Adding directory to artifact (/aiffel/aiffel/jellyfish/wandb/run-20240110_153224-97i18izu/files/model-best)... Done. 6.7s\n"
     ]
    },
    {
     "name": "stdout",
     "output_type": "stream",
     "text": [
      "Epoch 2/5\n",
      "45/45 [==============================] - 9s 199ms/step - loss: 1.6463 - accuracy: 0.2756 - val_loss: 1.5772 - val_accuracy: 0.3590\n",
      "INFO:tensorflow:Assets written to: /aiffel/aiffel/jellyfish/wandb/run-20240110_153224-97i18izu/files/model-best/assets\n"
     ]
    },
    {
     "name": "stderr",
     "output_type": "stream",
     "text": [
      "\u001b[34m\u001b[1mwandb\u001b[0m: Adding directory to artifact (/aiffel/aiffel/jellyfish/wandb/run-20240110_153224-97i18izu/files/model-best)... Done. 4.8s\n"
     ]
    },
    {
     "name": "stdout",
     "output_type": "stream",
     "text": [
      "Epoch 3/5\n",
      "45/45 [==============================] - 9s 204ms/step - loss: 1.5282 - accuracy: 0.3800 - val_loss: 1.4668 - val_accuracy: 0.4103\n",
      "INFO:tensorflow:Assets written to: /aiffel/aiffel/jellyfish/wandb/run-20240110_153224-97i18izu/files/model-best/assets\n"
     ]
    },
    {
     "name": "stderr",
     "output_type": "stream",
     "text": [
      "\u001b[34m\u001b[1mwandb\u001b[0m: Adding directory to artifact (/aiffel/aiffel/jellyfish/wandb/run-20240110_153224-97i18izu/files/model-best)... Done. 8.5s\n"
     ]
    },
    {
     "name": "stdout",
     "output_type": "stream",
     "text": [
      "Epoch 4/5\n",
      "45/45 [==============================] - 9s 202ms/step - loss: 1.4759 - accuracy: 0.3889 - val_loss: 1.4638 - val_accuracy: 0.3846\n",
      "INFO:tensorflow:Assets written to: /aiffel/aiffel/jellyfish/wandb/run-20240110_153224-97i18izu/files/model-best/assets\n"
     ]
    },
    {
     "name": "stderr",
     "output_type": "stream",
     "text": [
      "\u001b[34m\u001b[1mwandb\u001b[0m: Adding directory to artifact (/aiffel/aiffel/jellyfish/wandb/run-20240110_153224-97i18izu/files/model-best)... Done. 8.5s\n"
     ]
    },
    {
     "name": "stdout",
     "output_type": "stream",
     "text": [
      "Epoch 5/5\n",
      "45/45 [==============================] - 9s 203ms/step - loss: 1.3841 - accuracy: 0.4111 - val_loss: 1.3696 - val_accuracy: 0.4103\n",
      "INFO:tensorflow:Assets written to: /aiffel/aiffel/jellyfish/wandb/run-20240110_153224-97i18izu/files/model-best/assets\n"
     ]
    },
    {
     "name": "stderr",
     "output_type": "stream",
     "text": [
      "\u001b[34m\u001b[1mwandb\u001b[0m: Adding directory to artifact (/aiffel/aiffel/jellyfish/wandb/run-20240110_153224-97i18izu/files/model-best)... Done. 8.3s\n"
     ]
    },
    {
     "name": "stdout",
     "output_type": "stream",
     "text": [
      "2/2 - 1s - loss: 1.3425 - accuracy: 0.4750\n"
     ]
    },
    {
     "data": {
      "application/vnd.jupyter.widget-view+json": {
       "model_id": "",
       "version_major": 2,
       "version_minor": 0
      },
      "text/plain": [
       "VBox(children=(Label(value='1767.247 MB of 1767.247 MB uploaded (0.093 MB deduped)\\r'), FloatProgress(value=1.…"
      ]
     },
     "metadata": {},
     "output_type": "display_data"
    },
    {
     "data": {
      "text/html": [
       "<style>\n",
       "    table.wandb td:nth-child(1) { padding: 0 10px; text-align: left ; width: auto;} td:nth-child(2) {text-align: left ; width: 100%}\n",
       "    .wandb-row { display: flex; flex-direction: row; flex-wrap: wrap; justify-content: flex-start; width: 100% }\n",
       "    .wandb-col { display: flex; flex-direction: column; flex-basis: 100%; flex: 1; padding: 10px; }\n",
       "    </style>\n",
       "<div class=\"wandb-row\"><div class=\"wandb-col\"><h3>Run history:</h3><br/><table class=\"wandb\"><tr><td>Test Accuracy</td><td>▁</td></tr><tr><td>Test Loss</td><td>▁</td></tr><tr><td>accuracy</td><td>▁▃▇▇█</td></tr><tr><td>epoch</td><td>▁▃▅▆█</td></tr><tr><td>loss</td><td>█▂▂▁▁</td></tr><tr><td>val_accuracy</td><td>▁▁█▅█</td></tr><tr><td>val_loss</td><td>█▆▃▃▁</td></tr></table><br/></div><div class=\"wandb-col\"><h3>Run summary:</h3><br/><table class=\"wandb\"><tr><td>Test Accuracy</td><td>0.475</td></tr><tr><td>Test Loss</td><td>1.3425</td></tr><tr><td>accuracy</td><td>0.41111</td></tr><tr><td>best_epoch</td><td>4</td></tr><tr><td>best_val_loss</td><td>1.3696</td></tr><tr><td>epoch</td><td>4</td></tr><tr><td>loss</td><td>1.38408</td></tr><tr><td>val_accuracy</td><td>0.41026</td></tr><tr><td>val_loss</td><td>1.3696</td></tr></table><br/></div></div>"
      ],
      "text/plain": [
       "<IPython.core.display.HTML object>"
      ]
     },
     "metadata": {},
     "output_type": "display_data"
    },
    {
     "data": {
      "text/html": [
       " View run <strong style=\"color:#cdcd00\">glowing-sweep-2</strong> at: <a href='https://wandb.ai/3like4/Jellyfish_project/runs/97i18izu' target=\"_blank\">https://wandb.ai/3like4/Jellyfish_project/runs/97i18izu</a><br/>Synced 5 W&B file(s), 1 media file(s), 20 artifact file(s) and 1 other file(s)"
      ],
      "text/plain": [
       "<IPython.core.display.HTML object>"
      ]
     },
     "metadata": {},
     "output_type": "display_data"
    },
    {
     "data": {
      "text/html": [
       "Find logs at: <code>./wandb/run-20240110_153224-97i18izu/logs</code>"
      ],
      "text/plain": [
       "<IPython.core.display.HTML object>"
      ]
     },
     "metadata": {},
     "output_type": "display_data"
    },
    {
     "name": "stderr",
     "output_type": "stream",
     "text": [
      "\u001b[34m\u001b[1mwandb\u001b[0m: Agent Starting Run: xhml8gay with config:\n",
      "\u001b[34m\u001b[1mwandb\u001b[0m: \tepoch: 10\n",
      "\u001b[34m\u001b[1mwandb\u001b[0m: \tlearning_rate: 0.021080968238772493\n"
     ]
    },
    {
     "data": {
      "text/html": [
       "wandb version 0.16.2 is available!  To upgrade, please run:\n",
       " $ pip install wandb --upgrade"
      ],
      "text/plain": [
       "<IPython.core.display.HTML object>"
      ]
     },
     "metadata": {},
     "output_type": "display_data"
    },
    {
     "data": {
      "text/html": [
       "Tracking run with wandb version 0.16.0"
      ],
      "text/plain": [
       "<IPython.core.display.HTML object>"
      ]
     },
     "metadata": {},
     "output_type": "display_data"
    },
    {
     "data": {
      "text/html": [
       "Run data is saved locally in <code>/aiffel/aiffel/jellyfish/wandb/run-20240110_153445-xhml8gay</code>"
      ],
      "text/plain": [
       "<IPython.core.display.HTML object>"
      ]
     },
     "metadata": {},
     "output_type": "display_data"
    },
    {
     "data": {
      "text/html": [
       "Syncing run <strong><a href='https://wandb.ai/3like4/Jellyfish_project/runs/xhml8gay' target=\"_blank\">true-sweep-3</a></strong> to <a href='https://wandb.ai/3like4/Jellyfish_project' target=\"_blank\">Weights & Biases</a> (<a href='https://wandb.me/run' target=\"_blank\">docs</a>)<br/>Sweep page: <a href='https://wandb.ai/3like4/Jellyfish_project/sweeps/tx6sb7dx' target=\"_blank\">https://wandb.ai/3like4/Jellyfish_project/sweeps/tx6sb7dx</a>"
      ],
      "text/plain": [
       "<IPython.core.display.HTML object>"
      ]
     },
     "metadata": {},
     "output_type": "display_data"
    },
    {
     "data": {
      "text/html": [
       " View project at <a href='https://wandb.ai/3like4/Jellyfish_project' target=\"_blank\">https://wandb.ai/3like4/Jellyfish_project</a>"
      ],
      "text/plain": [
       "<IPython.core.display.HTML object>"
      ]
     },
     "metadata": {},
     "output_type": "display_data"
    },
    {
     "data": {
      "text/html": [
       " View sweep at <a href='https://wandb.ai/3like4/Jellyfish_project/sweeps/tx6sb7dx' target=\"_blank\">https://wandb.ai/3like4/Jellyfish_project/sweeps/tx6sb7dx</a>"
      ],
      "text/plain": [
       "<IPython.core.display.HTML object>"
      ]
     },
     "metadata": {},
     "output_type": "display_data"
    },
    {
     "data": {
      "text/html": [
       " View run at <a href='https://wandb.ai/3like4/Jellyfish_project/runs/xhml8gay' target=\"_blank\">https://wandb.ai/3like4/Jellyfish_project/runs/xhml8gay</a>"
      ],
      "text/plain": [
       "<IPython.core.display.HTML object>"
      ]
     },
     "metadata": {},
     "output_type": "display_data"
    },
    {
     "name": "stdout",
     "output_type": "stream",
     "text": [
      "Epoch 1/10\n",
      "45/45 [==============================] - 10s 201ms/step - loss: 2.1959 - accuracy: 0.2489 - val_loss: 1.5108 - val_accuracy: 0.3333\n",
      "INFO:tensorflow:Assets written to: /aiffel/aiffel/jellyfish/wandb/run-20240110_153445-xhml8gay/files/model-best/assets\n"
     ]
    },
    {
     "name": "stderr",
     "output_type": "stream",
     "text": [
      "\u001b[34m\u001b[1mwandb\u001b[0m: Adding directory to artifact (/aiffel/aiffel/jellyfish/wandb/run-20240110_153445-xhml8gay/files/model-best)... Done. 6.5s\n"
     ]
    },
    {
     "name": "stdout",
     "output_type": "stream",
     "text": [
      "Epoch 2/10\n",
      "45/45 [==============================] - 9s 202ms/step - loss: 1.5421 - accuracy: 0.3522 - val_loss: 1.3528 - val_accuracy: 0.4103\n",
      "INFO:tensorflow:Assets written to: /aiffel/aiffel/jellyfish/wandb/run-20240110_153445-xhml8gay/files/model-best/assets\n"
     ]
    },
    {
     "name": "stderr",
     "output_type": "stream",
     "text": [
      "\u001b[34m\u001b[1mwandb\u001b[0m: Adding directory to artifact (/aiffel/aiffel/jellyfish/wandb/run-20240110_153445-xhml8gay/files/model-best)... Done. 7.7s\n"
     ]
    },
    {
     "name": "stdout",
     "output_type": "stream",
     "text": [
      "Epoch 3/10\n",
      "45/45 [==============================] - 9s 205ms/step - loss: 1.4346 - accuracy: 0.4056 - val_loss: 1.3648 - val_accuracy: 0.3333\n",
      "Epoch 4/10\n",
      "45/45 [==============================] - 9s 196ms/step - loss: 1.3563 - accuracy: 0.4800 - val_loss: 1.3069 - val_accuracy: 0.5385\n",
      "INFO:tensorflow:Assets written to: /aiffel/aiffel/jellyfish/wandb/run-20240110_153445-xhml8gay/files/model-best/assets\n"
     ]
    },
    {
     "name": "stderr",
     "output_type": "stream",
     "text": [
      "\u001b[34m\u001b[1mwandb\u001b[0m: Adding directory to artifact (/aiffel/aiffel/jellyfish/wandb/run-20240110_153445-xhml8gay/files/model-best)... Done. 8.4s\n"
     ]
    },
    {
     "name": "stdout",
     "output_type": "stream",
     "text": [
      "Epoch 5/10\n",
      "45/45 [==============================] - 9s 206ms/step - loss: 1.2358 - accuracy: 0.4956 - val_loss: 1.1737 - val_accuracy: 0.5641\n",
      "INFO:tensorflow:Assets written to: /aiffel/aiffel/jellyfish/wandb/run-20240110_153445-xhml8gay/files/model-best/assets\n"
     ]
    },
    {
     "name": "stderr",
     "output_type": "stream",
     "text": [
      "\u001b[34m\u001b[1mwandb\u001b[0m: Adding directory to artifact (/aiffel/aiffel/jellyfish/wandb/run-20240110_153445-xhml8gay/files/model-best)... Done. 5.6s\n"
     ]
    },
    {
     "name": "stdout",
     "output_type": "stream",
     "text": [
      "Epoch 6/10\n",
      "45/45 [==============================] - 9s 205ms/step - loss: 1.1933 - accuracy: 0.5056 - val_loss: 1.2775 - val_accuracy: 0.4872\n",
      "Epoch 7/10\n",
      "45/45 [==============================] - 9s 196ms/step - loss: 1.1226 - accuracy: 0.5633 - val_loss: 1.3622 - val_accuracy: 0.5128\n",
      "Epoch 8/10\n",
      "45/45 [==============================] - 9s 197ms/step - loss: 1.0705 - accuracy: 0.5622 - val_loss: 1.3527 - val_accuracy: 0.5385\n",
      "Epoch 9/10\n",
      "45/45 [==============================] - 9s 197ms/step - loss: 1.0884 - accuracy: 0.5722 - val_loss: 1.2233 - val_accuracy: 0.5897\n",
      "Epoch 10/10\n",
      "45/45 [==============================] - 9s 196ms/step - loss: 1.0158 - accuracy: 0.5767 - val_loss: 1.4099 - val_accuracy: 0.5641\n",
      "2/2 - 0s - loss: 1.0860 - accuracy: 0.5500\n"
     ]
    },
    {
     "data": {
      "application/vnd.jupyter.widget-view+json": {
       "model_id": "",
       "version_major": 2,
       "version_minor": 0
      },
      "text/plain": [
       "VBox(children=(Label(value='1472.676 MB of 1472.676 MB uploaded (0.070 MB deduped)\\r'), FloatProgress(value=1.…"
      ]
     },
     "metadata": {},
     "output_type": "display_data"
    },
    {
     "data": {
      "text/html": [
       "<style>\n",
       "    table.wandb td:nth-child(1) { padding: 0 10px; text-align: left ; width: auto;} td:nth-child(2) {text-align: left ; width: 100%}\n",
       "    .wandb-row { display: flex; flex-direction: row; flex-wrap: wrap; justify-content: flex-start; width: 100% }\n",
       "    .wandb-col { display: flex; flex-direction: column; flex-basis: 100%; flex: 1; padding: 10px; }\n",
       "    </style>\n",
       "<div class=\"wandb-row\"><div class=\"wandb-col\"><h3>Run history:</h3><br/><table class=\"wandb\"><tr><td>Test Accuracy</td><td>▁</td></tr><tr><td>Test Loss</td><td>▁</td></tr><tr><td>accuracy</td><td>▁▃▄▆▆▆████</td></tr><tr><td>epoch</td><td>▁▂▃▃▄▅▆▆▇█</td></tr><tr><td>loss</td><td>█▄▃▃▂▂▂▁▁▁</td></tr><tr><td>val_accuracy</td><td>▁▃▁▇▇▅▆▇█▇</td></tr><tr><td>val_loss</td><td>█▅▅▄▁▃▅▅▂▆</td></tr></table><br/></div><div class=\"wandb-col\"><h3>Run summary:</h3><br/><table class=\"wandb\"><tr><td>Test Accuracy</td><td>0.55</td></tr><tr><td>Test Loss</td><td>1.086</td></tr><tr><td>accuracy</td><td>0.57667</td></tr><tr><td>best_epoch</td><td>4</td></tr><tr><td>best_val_loss</td><td>1.17371</td></tr><tr><td>epoch</td><td>9</td></tr><tr><td>loss</td><td>1.01577</td></tr><tr><td>val_accuracy</td><td>0.5641</td></tr><tr><td>val_loss</td><td>1.40986</td></tr></table><br/></div></div>"
      ],
      "text/plain": [
       "<IPython.core.display.HTML object>"
      ]
     },
     "metadata": {},
     "output_type": "display_data"
    },
    {
     "data": {
      "text/html": [
       " View run <strong style=\"color:#cdcd00\">true-sweep-3</strong> at: <a href='https://wandb.ai/3like4/Jellyfish_project/runs/xhml8gay' target=\"_blank\">https://wandb.ai/3like4/Jellyfish_project/runs/xhml8gay</a><br/>Synced 5 W&B file(s), 1 media file(s), 16 artifact file(s) and 1 other file(s)"
      ],
      "text/plain": [
       "<IPython.core.display.HTML object>"
      ]
     },
     "metadata": {},
     "output_type": "display_data"
    },
    {
     "data": {
      "text/html": [
       "Find logs at: <code>./wandb/run-20240110_153445-xhml8gay/logs</code>"
      ],
      "text/plain": [
       "<IPython.core.display.HTML object>"
      ]
     },
     "metadata": {},
     "output_type": "display_data"
    },
    {
     "name": "stderr",
     "output_type": "stream",
     "text": [
      "\u001b[34m\u001b[1mwandb\u001b[0m: Agent Starting Run: v5fm4uio with config:\n",
      "\u001b[34m\u001b[1mwandb\u001b[0m: \tepoch: 7\n",
      "\u001b[34m\u001b[1mwandb\u001b[0m: \tlearning_rate: 0.031501165238869186\n"
     ]
    },
    {
     "data": {
      "text/html": [
       "wandb version 0.16.2 is available!  To upgrade, please run:\n",
       " $ pip install wandb --upgrade"
      ],
      "text/plain": [
       "<IPython.core.display.HTML object>"
      ]
     },
     "metadata": {},
     "output_type": "display_data"
    },
    {
     "data": {
      "text/html": [
       "Tracking run with wandb version 0.16.0"
      ],
      "text/plain": [
       "<IPython.core.display.HTML object>"
      ]
     },
     "metadata": {},
     "output_type": "display_data"
    },
    {
     "data": {
      "text/html": [
       "Run data is saved locally in <code>/aiffel/aiffel/jellyfish/wandb/run-20240110_153732-v5fm4uio</code>"
      ],
      "text/plain": [
       "<IPython.core.display.HTML object>"
      ]
     },
     "metadata": {},
     "output_type": "display_data"
    },
    {
     "data": {
      "text/html": [
       "Syncing run <strong><a href='https://wandb.ai/3like4/Jellyfish_project/runs/v5fm4uio' target=\"_blank\">drawn-sweep-4</a></strong> to <a href='https://wandb.ai/3like4/Jellyfish_project' target=\"_blank\">Weights & Biases</a> (<a href='https://wandb.me/run' target=\"_blank\">docs</a>)<br/>Sweep page: <a href='https://wandb.ai/3like4/Jellyfish_project/sweeps/tx6sb7dx' target=\"_blank\">https://wandb.ai/3like4/Jellyfish_project/sweeps/tx6sb7dx</a>"
      ],
      "text/plain": [
       "<IPython.core.display.HTML object>"
      ]
     },
     "metadata": {},
     "output_type": "display_data"
    },
    {
     "data": {
      "text/html": [
       " View project at <a href='https://wandb.ai/3like4/Jellyfish_project' target=\"_blank\">https://wandb.ai/3like4/Jellyfish_project</a>"
      ],
      "text/plain": [
       "<IPython.core.display.HTML object>"
      ]
     },
     "metadata": {},
     "output_type": "display_data"
    },
    {
     "data": {
      "text/html": [
       " View sweep at <a href='https://wandb.ai/3like4/Jellyfish_project/sweeps/tx6sb7dx' target=\"_blank\">https://wandb.ai/3like4/Jellyfish_project/sweeps/tx6sb7dx</a>"
      ],
      "text/plain": [
       "<IPython.core.display.HTML object>"
      ]
     },
     "metadata": {},
     "output_type": "display_data"
    },
    {
     "data": {
      "text/html": [
       " View run at <a href='https://wandb.ai/3like4/Jellyfish_project/runs/v5fm4uio' target=\"_blank\">https://wandb.ai/3like4/Jellyfish_project/runs/v5fm4uio</a>"
      ],
      "text/plain": [
       "<IPython.core.display.HTML object>"
      ]
     },
     "metadata": {},
     "output_type": "display_data"
    },
    {
     "name": "stdout",
     "output_type": "stream",
     "text": [
      "Epoch 1/7\n",
      "45/45 [==============================] - 10s 203ms/step - loss: 2.2029 - accuracy: 0.2167 - val_loss: 1.5664 - val_accuracy: 0.4103\n",
      "INFO:tensorflow:Assets written to: /aiffel/aiffel/jellyfish/wandb/run-20240110_153732-v5fm4uio/files/model-best/assets\n"
     ]
    },
    {
     "name": "stderr",
     "output_type": "stream",
     "text": [
      "\u001b[34m\u001b[1mwandb\u001b[0m: Adding directory to artifact (/aiffel/aiffel/jellyfish/wandb/run-20240110_153732-v5fm4uio/files/model-best)... Done. 9.2s\n"
     ]
    },
    {
     "name": "stdout",
     "output_type": "stream",
     "text": [
      "Epoch 2/7\n",
      "45/45 [==============================] - 9s 203ms/step - loss: 1.4815 - accuracy: 0.3800 - val_loss: 1.3485 - val_accuracy: 0.4615\n",
      "INFO:tensorflow:Assets written to: /aiffel/aiffel/jellyfish/wandb/run-20240110_153732-v5fm4uio/files/model-best/assets\n"
     ]
    },
    {
     "name": "stderr",
     "output_type": "stream",
     "text": [
      "\u001b[34m\u001b[1mwandb\u001b[0m: Adding directory to artifact (/aiffel/aiffel/jellyfish/wandb/run-20240110_153732-v5fm4uio/files/model-best)... Done. 3.7s\n"
     ]
    },
    {
     "name": "stdout",
     "output_type": "stream",
     "text": [
      "Epoch 3/7\n",
      "45/45 [==============================] - 9s 203ms/step - loss: 1.3290 - accuracy: 0.4600 - val_loss: 1.3418 - val_accuracy: 0.4872\n",
      "INFO:tensorflow:Assets written to: /aiffel/aiffel/jellyfish/wandb/run-20240110_153732-v5fm4uio/files/model-best/assets\n"
     ]
    },
    {
     "name": "stderr",
     "output_type": "stream",
     "text": [
      "\u001b[34m\u001b[1mwandb\u001b[0m: Adding directory to artifact (/aiffel/aiffel/jellyfish/wandb/run-20240110_153732-v5fm4uio/files/model-best)... Done. 4.7s\n"
     ]
    },
    {
     "name": "stdout",
     "output_type": "stream",
     "text": [
      "Epoch 4/7\n",
      "45/45 [==============================] - 9s 203ms/step - loss: 1.3010 - accuracy: 0.4811 - val_loss: 1.2933 - val_accuracy: 0.4615\n",
      "INFO:tensorflow:Assets written to: /aiffel/aiffel/jellyfish/wandb/run-20240110_153732-v5fm4uio/files/model-best/assets\n"
     ]
    },
    {
     "name": "stderr",
     "output_type": "stream",
     "text": [
      "\u001b[34m\u001b[1mwandb\u001b[0m: Adding directory to artifact (/aiffel/aiffel/jellyfish/wandb/run-20240110_153732-v5fm4uio/files/model-best)... Done. 7.8s\n"
     ]
    },
    {
     "name": "stdout",
     "output_type": "stream",
     "text": [
      "Epoch 5/7\n",
      "45/45 [==============================] - 9s 207ms/step - loss: 1.2951 - accuracy: 0.4622 - val_loss: 1.4019 - val_accuracy: 0.4103\n",
      "Epoch 6/7\n",
      "45/45 [==============================] - 9s 198ms/step - loss: 1.1934 - accuracy: 0.5067 - val_loss: 1.3513 - val_accuracy: 0.3590\n",
      "Epoch 7/7\n",
      "45/45 [==============================] - 9s 196ms/step - loss: 1.2065 - accuracy: 0.5100 - val_loss: 1.4467 - val_accuracy: 0.3590\n",
      "2/2 - 1s - loss: 1.2062 - accuracy: 0.5250\n"
     ]
    },
    {
     "data": {
      "application/vnd.jupyter.widget-view+json": {
       "model_id": "",
       "version_major": 2,
       "version_minor": 0
      },
      "text/plain": [
       "VBox(children=(Label(value='1472.676 MB of 1472.676 MB uploaded (0.070 MB deduped)\\r'), FloatProgress(value=1.…"
      ]
     },
     "metadata": {},
     "output_type": "display_data"
    },
    {
     "data": {
      "text/html": [
       "<style>\n",
       "    table.wandb td:nth-child(1) { padding: 0 10px; text-align: left ; width: auto;} td:nth-child(2) {text-align: left ; width: 100%}\n",
       "    .wandb-row { display: flex; flex-direction: row; flex-wrap: wrap; justify-content: flex-start; width: 100% }\n",
       "    .wandb-col { display: flex; flex-direction: column; flex-basis: 100%; flex: 1; padding: 10px; }\n",
       "    </style>\n",
       "<div class=\"wandb-row\"><div class=\"wandb-col\"><h3>Run history:</h3><br/><table class=\"wandb\"><tr><td>Test Accuracy</td><td>▁</td></tr><tr><td>Test Loss</td><td>▁</td></tr><tr><td>accuracy</td><td>▁▅▇▇▇██</td></tr><tr><td>epoch</td><td>▁▂▃▅▆▇█</td></tr><tr><td>loss</td><td>█▃▂▂▂▁▁</td></tr><tr><td>val_accuracy</td><td>▄▇█▇▄▁▁</td></tr><tr><td>val_loss</td><td>█▂▂▁▄▂▅</td></tr></table><br/></div><div class=\"wandb-col\"><h3>Run summary:</h3><br/><table class=\"wandb\"><tr><td>Test Accuracy</td><td>0.525</td></tr><tr><td>Test Loss</td><td>1.20623</td></tr><tr><td>accuracy</td><td>0.51</td></tr><tr><td>best_epoch</td><td>3</td></tr><tr><td>best_val_loss</td><td>1.29332</td></tr><tr><td>epoch</td><td>6</td></tr><tr><td>loss</td><td>1.2065</td></tr><tr><td>val_accuracy</td><td>0.35897</td></tr><tr><td>val_loss</td><td>1.44673</td></tr></table><br/></div></div>"
      ],
      "text/plain": [
       "<IPython.core.display.HTML object>"
      ]
     },
     "metadata": {},
     "output_type": "display_data"
    },
    {
     "data": {
      "text/html": [
       " View run <strong style=\"color:#cdcd00\">drawn-sweep-4</strong> at: <a href='https://wandb.ai/3like4/Jellyfish_project/runs/v5fm4uio' target=\"_blank\">https://wandb.ai/3like4/Jellyfish_project/runs/v5fm4uio</a><br/>Synced 5 W&B file(s), 1 media file(s), 16 artifact file(s) and 1 other file(s)"
      ],
      "text/plain": [
       "<IPython.core.display.HTML object>"
      ]
     },
     "metadata": {},
     "output_type": "display_data"
    },
    {
     "data": {
      "text/html": [
       "Find logs at: <code>./wandb/run-20240110_153732-v5fm4uio/logs</code>"
      ],
      "text/plain": [
       "<IPython.core.display.HTML object>"
      ]
     },
     "metadata": {},
     "output_type": "display_data"
    },
    {
     "name": "stderr",
     "output_type": "stream",
     "text": [
      "\u001b[34m\u001b[1mwandb\u001b[0m: Agent Starting Run: wee2dc7p with config:\n",
      "\u001b[34m\u001b[1mwandb\u001b[0m: \tepoch: 10\n",
      "\u001b[34m\u001b[1mwandb\u001b[0m: \tlearning_rate: 0.061583828076957094\n"
     ]
    },
    {
     "data": {
      "text/html": [
       "wandb version 0.16.2 is available!  To upgrade, please run:\n",
       " $ pip install wandb --upgrade"
      ],
      "text/plain": [
       "<IPython.core.display.HTML object>"
      ]
     },
     "metadata": {},
     "output_type": "display_data"
    },
    {
     "data": {
      "text/html": [
       "Tracking run with wandb version 0.16.0"
      ],
      "text/plain": [
       "<IPython.core.display.HTML object>"
      ]
     },
     "metadata": {},
     "output_type": "display_data"
    },
    {
     "data": {
      "text/html": [
       "Run data is saved locally in <code>/aiffel/aiffel/jellyfish/wandb/run-20240110_153949-wee2dc7p</code>"
      ],
      "text/plain": [
       "<IPython.core.display.HTML object>"
      ]
     },
     "metadata": {},
     "output_type": "display_data"
    },
    {
     "data": {
      "text/html": [
       "Syncing run <strong><a href='https://wandb.ai/3like4/Jellyfish_project/runs/wee2dc7p' target=\"_blank\">comfy-sweep-5</a></strong> to <a href='https://wandb.ai/3like4/Jellyfish_project' target=\"_blank\">Weights & Biases</a> (<a href='https://wandb.me/run' target=\"_blank\">docs</a>)<br/>Sweep page: <a href='https://wandb.ai/3like4/Jellyfish_project/sweeps/tx6sb7dx' target=\"_blank\">https://wandb.ai/3like4/Jellyfish_project/sweeps/tx6sb7dx</a>"
      ],
      "text/plain": [
       "<IPython.core.display.HTML object>"
      ]
     },
     "metadata": {},
     "output_type": "display_data"
    },
    {
     "data": {
      "text/html": [
       " View project at <a href='https://wandb.ai/3like4/Jellyfish_project' target=\"_blank\">https://wandb.ai/3like4/Jellyfish_project</a>"
      ],
      "text/plain": [
       "<IPython.core.display.HTML object>"
      ]
     },
     "metadata": {},
     "output_type": "display_data"
    },
    {
     "data": {
      "text/html": [
       " View sweep at <a href='https://wandb.ai/3like4/Jellyfish_project/sweeps/tx6sb7dx' target=\"_blank\">https://wandb.ai/3like4/Jellyfish_project/sweeps/tx6sb7dx</a>"
      ],
      "text/plain": [
       "<IPython.core.display.HTML object>"
      ]
     },
     "metadata": {},
     "output_type": "display_data"
    },
    {
     "data": {
      "text/html": [
       " View run at <a href='https://wandb.ai/3like4/Jellyfish_project/runs/wee2dc7p' target=\"_blank\">https://wandb.ai/3like4/Jellyfish_project/runs/wee2dc7p</a>"
      ],
      "text/plain": [
       "<IPython.core.display.HTML object>"
      ]
     },
     "metadata": {},
     "output_type": "display_data"
    },
    {
     "name": "stdout",
     "output_type": "stream",
     "text": [
      "Epoch 1/10\n",
      "45/45 [==============================] - 10s 200ms/step - loss: 2.2843 - accuracy: 0.2178 - val_loss: 1.5734 - val_accuracy: 0.3846\n",
      "INFO:tensorflow:Assets written to: /aiffel/aiffel/jellyfish/wandb/run-20240110_153949-wee2dc7p/files/model-best/assets\n"
     ]
    },
    {
     "name": "stderr",
     "output_type": "stream",
     "text": [
      "\u001b[34m\u001b[1mwandb\u001b[0m: Adding directory to artifact (/aiffel/aiffel/jellyfish/wandb/run-20240110_153949-wee2dc7p/files/model-best)... Done. 6.7s\n"
     ]
    },
    {
     "name": "stdout",
     "output_type": "stream",
     "text": [
      "Epoch 2/10\n",
      "45/45 [==============================] - 9s 204ms/step - loss: 1.5553 - accuracy: 0.3767 - val_loss: 1.4420 - val_accuracy: 0.4359\n",
      "INFO:tensorflow:Assets written to: /aiffel/aiffel/jellyfish/wandb/run-20240110_153949-wee2dc7p/files/model-best/assets\n"
     ]
    },
    {
     "name": "stderr",
     "output_type": "stream",
     "text": [
      "\u001b[34m\u001b[1mwandb\u001b[0m: Adding directory to artifact (/aiffel/aiffel/jellyfish/wandb/run-20240110_153949-wee2dc7p/files/model-best)... Done. 5.1s\n"
     ]
    },
    {
     "name": "stdout",
     "output_type": "stream",
     "text": [
      "Epoch 3/10\n",
      "45/45 [==============================] - 9s 204ms/step - loss: 1.3945 - accuracy: 0.4422 - val_loss: 1.3487 - val_accuracy: 0.4872\n",
      "INFO:tensorflow:Assets written to: /aiffel/aiffel/jellyfish/wandb/run-20240110_153949-wee2dc7p/files/model-best/assets\n"
     ]
    },
    {
     "name": "stderr",
     "output_type": "stream",
     "text": [
      "\u001b[34m\u001b[1mwandb\u001b[0m: Adding directory to artifact (/aiffel/aiffel/jellyfish/wandb/run-20240110_153949-wee2dc7p/files/model-best)... Done. 8.5s\n"
     ]
    },
    {
     "name": "stdout",
     "output_type": "stream",
     "text": [
      "Epoch 4/10\n",
      "45/45 [==============================] - 9s 202ms/step - loss: 1.3418 - accuracy: 0.4589 - val_loss: 1.3214 - val_accuracy: 0.5128\n",
      "INFO:tensorflow:Assets written to: /aiffel/aiffel/jellyfish/wandb/run-20240110_153949-wee2dc7p/files/model-best/assets\n"
     ]
    },
    {
     "name": "stderr",
     "output_type": "stream",
     "text": [
      "\u001b[34m\u001b[1mwandb\u001b[0m: Adding directory to artifact (/aiffel/aiffel/jellyfish/wandb/run-20240110_153949-wee2dc7p/files/model-best)... Done. 8.0s\n"
     ]
    },
    {
     "name": "stdout",
     "output_type": "stream",
     "text": [
      "Epoch 5/10\n",
      "45/45 [==============================] - 9s 205ms/step - loss: 1.2308 - accuracy: 0.4956 - val_loss: 1.3276 - val_accuracy: 0.5128\n",
      "Epoch 6/10\n",
      "45/45 [==============================] - 9s 199ms/step - loss: 1.1171 - accuracy: 0.5556 - val_loss: 1.3860 - val_accuracy: 0.4615\n",
      "Epoch 7/10\n",
      "45/45 [==============================] - 9s 193ms/step - loss: 1.1366 - accuracy: 0.5533 - val_loss: 1.2324 - val_accuracy: 0.5641\n",
      "INFO:tensorflow:Assets written to: /aiffel/aiffel/jellyfish/wandb/run-20240110_153949-wee2dc7p/files/model-best/assets\n"
     ]
    },
    {
     "name": "stderr",
     "output_type": "stream",
     "text": [
      "\u001b[34m\u001b[1mwandb\u001b[0m: Adding directory to artifact (/aiffel/aiffel/jellyfish/wandb/run-20240110_153949-wee2dc7p/files/model-best)... Done. 4.4s\n"
     ]
    },
    {
     "name": "stdout",
     "output_type": "stream",
     "text": [
      "Epoch 8/10\n",
      "45/45 [==============================] - 9s 207ms/step - loss: 1.0599 - accuracy: 0.5878 - val_loss: 1.1959 - val_accuracy: 0.6410\n",
      "INFO:tensorflow:Assets written to: /aiffel/aiffel/jellyfish/wandb/run-20240110_153949-wee2dc7p/files/model-best/assets\n"
     ]
    },
    {
     "name": "stderr",
     "output_type": "stream",
     "text": [
      "\u001b[34m\u001b[1mwandb\u001b[0m: Adding directory to artifact (/aiffel/aiffel/jellyfish/wandb/run-20240110_153949-wee2dc7p/files/model-best)... Done. 5.4s\n"
     ]
    },
    {
     "name": "stdout",
     "output_type": "stream",
     "text": [
      "Epoch 9/10\n",
      "45/45 [==============================] - 9s 203ms/step - loss: 1.0047 - accuracy: 0.6033 - val_loss: 1.2852 - val_accuracy: 0.4615\n",
      "Epoch 10/10\n",
      "45/45 [==============================] - 9s 194ms/step - loss: 1.0055 - accuracy: 0.6156 - val_loss: 1.3802 - val_accuracy: 0.5128\n",
      "2/2 - 0s - loss: 1.1989 - accuracy: 0.4750\n"
     ]
    },
    {
     "data": {
      "application/vnd.jupyter.widget-view+json": {
       "model_id": "",
       "version_major": 2,
       "version_minor": 0
      },
      "text/plain": [
       "VBox(children=(Label(value='1767.547 MB of 1767.547 MB uploaded (0.116 MB deduped)\\r'), FloatProgress(value=1.…"
      ]
     },
     "metadata": {},
     "output_type": "display_data"
    },
    {
     "data": {
      "text/html": [
       "<style>\n",
       "    table.wandb td:nth-child(1) { padding: 0 10px; text-align: left ; width: auto;} td:nth-child(2) {text-align: left ; width: 100%}\n",
       "    .wandb-row { display: flex; flex-direction: row; flex-wrap: wrap; justify-content: flex-start; width: 100% }\n",
       "    .wandb-col { display: flex; flex-direction: column; flex-basis: 100%; flex: 1; padding: 10px; }\n",
       "    </style>\n",
       "<div class=\"wandb-row\"><div class=\"wandb-col\"><h3>Run history:</h3><br/><table class=\"wandb\"><tr><td>Test Accuracy</td><td>▁</td></tr><tr><td>Test Loss</td><td>▁</td></tr><tr><td>accuracy</td><td>▁▄▅▅▆▇▇███</td></tr><tr><td>epoch</td><td>▁▂▃▃▄▅▆▆▇█</td></tr><tr><td>loss</td><td>█▄▃▃▂▂▂▁▁▁</td></tr><tr><td>val_accuracy</td><td>▁▂▄▅▅▃▆█▃▅</td></tr><tr><td>val_loss</td><td>█▆▄▃▃▅▂▁▃▄</td></tr></table><br/></div><div class=\"wandb-col\"><h3>Run summary:</h3><br/><table class=\"wandb\"><tr><td>Test Accuracy</td><td>0.475</td></tr><tr><td>Test Loss</td><td>1.1989</td></tr><tr><td>accuracy</td><td>0.61556</td></tr><tr><td>best_epoch</td><td>7</td></tr><tr><td>best_val_loss</td><td>1.19586</td></tr><tr><td>epoch</td><td>9</td></tr><tr><td>loss</td><td>1.00547</td></tr><tr><td>val_accuracy</td><td>0.51282</td></tr><tr><td>val_loss</td><td>1.38017</td></tr></table><br/></div></div>"
      ],
      "text/plain": [
       "<IPython.core.display.HTML object>"
      ]
     },
     "metadata": {},
     "output_type": "display_data"
    },
    {
     "data": {
      "text/html": [
       " View run <strong style=\"color:#cdcd00\">comfy-sweep-5</strong> at: <a href='https://wandb.ai/3like4/Jellyfish_project/runs/wee2dc7p' target=\"_blank\">https://wandb.ai/3like4/Jellyfish_project/runs/wee2dc7p</a><br/>Synced 5 W&B file(s), 1 media file(s), 24 artifact file(s) and 1 other file(s)"
      ],
      "text/plain": [
       "<IPython.core.display.HTML object>"
      ]
     },
     "metadata": {},
     "output_type": "display_data"
    },
    {
     "data": {
      "text/html": [
       "Find logs at: <code>./wandb/run-20240110_153949-wee2dc7p/logs</code>"
      ],
      "text/plain": [
       "<IPython.core.display.HTML object>"
      ]
     },
     "metadata": {},
     "output_type": "display_data"
    },
    {
     "name": "stderr",
     "output_type": "stream",
     "text": [
      "\u001b[34m\u001b[1mwandb\u001b[0m: Agent Starting Run: o3ijydei with config:\n",
      "\u001b[34m\u001b[1mwandb\u001b[0m: \tepoch: 6\n",
      "\u001b[34m\u001b[1mwandb\u001b[0m: \tlearning_rate: 0.019141569731611345\n"
     ]
    },
    {
     "data": {
      "text/html": [
       "wandb version 0.16.2 is available!  To upgrade, please run:\n",
       " $ pip install wandb --upgrade"
      ],
      "text/plain": [
       "<IPython.core.display.HTML object>"
      ]
     },
     "metadata": {},
     "output_type": "display_data"
    },
    {
     "data": {
      "text/html": [
       "Tracking run with wandb version 0.16.0"
      ],
      "text/plain": [
       "<IPython.core.display.HTML object>"
      ]
     },
     "metadata": {},
     "output_type": "display_data"
    },
    {
     "data": {
      "text/html": [
       "Run data is saved locally in <code>/aiffel/aiffel/jellyfish/wandb/run-20240110_154253-o3ijydei</code>"
      ],
      "text/plain": [
       "<IPython.core.display.HTML object>"
      ]
     },
     "metadata": {},
     "output_type": "display_data"
    },
    {
     "data": {
      "text/html": [
       "Syncing run <strong><a href='https://wandb.ai/3like4/Jellyfish_project/runs/o3ijydei' target=\"_blank\">feasible-sweep-6</a></strong> to <a href='https://wandb.ai/3like4/Jellyfish_project' target=\"_blank\">Weights & Biases</a> (<a href='https://wandb.me/run' target=\"_blank\">docs</a>)<br/>Sweep page: <a href='https://wandb.ai/3like4/Jellyfish_project/sweeps/tx6sb7dx' target=\"_blank\">https://wandb.ai/3like4/Jellyfish_project/sweeps/tx6sb7dx</a>"
      ],
      "text/plain": [
       "<IPython.core.display.HTML object>"
      ]
     },
     "metadata": {},
     "output_type": "display_data"
    },
    {
     "data": {
      "text/html": [
       " View project at <a href='https://wandb.ai/3like4/Jellyfish_project' target=\"_blank\">https://wandb.ai/3like4/Jellyfish_project</a>"
      ],
      "text/plain": [
       "<IPython.core.display.HTML object>"
      ]
     },
     "metadata": {},
     "output_type": "display_data"
    },
    {
     "data": {
      "text/html": [
       " View sweep at <a href='https://wandb.ai/3like4/Jellyfish_project/sweeps/tx6sb7dx' target=\"_blank\">https://wandb.ai/3like4/Jellyfish_project/sweeps/tx6sb7dx</a>"
      ],
      "text/plain": [
       "<IPython.core.display.HTML object>"
      ]
     },
     "metadata": {},
     "output_type": "display_data"
    },
    {
     "data": {
      "text/html": [
       " View run at <a href='https://wandb.ai/3like4/Jellyfish_project/runs/o3ijydei' target=\"_blank\">https://wandb.ai/3like4/Jellyfish_project/runs/o3ijydei</a>"
      ],
      "text/plain": [
       "<IPython.core.display.HTML object>"
      ]
     },
     "metadata": {},
     "output_type": "display_data"
    },
    {
     "name": "stdout",
     "output_type": "stream",
     "text": [
      "Epoch 1/6\n",
      "45/45 [==============================] - 10s 202ms/step - loss: 2.0847 - accuracy: 0.1922 - val_loss: 1.6988 - val_accuracy: 0.2308\n",
      "INFO:tensorflow:Assets written to: /aiffel/aiffel/jellyfish/wandb/run-20240110_154253-o3ijydei/files/model-best/assets\n"
     ]
    },
    {
     "name": "stderr",
     "output_type": "stream",
     "text": [
      "\u001b[34m\u001b[1mwandb\u001b[0m: Adding directory to artifact (/aiffel/aiffel/jellyfish/wandb/run-20240110_154253-o3ijydei/files/model-best)... Done. 6.8s\n"
     ]
    },
    {
     "name": "stdout",
     "output_type": "stream",
     "text": [
      "Epoch 2/6\n",
      "45/45 [==============================] - 9s 205ms/step - loss: 1.5916 - accuracy: 0.3422 - val_loss: 1.4789 - val_accuracy: 0.4103\n",
      "INFO:tensorflow:Assets written to: /aiffel/aiffel/jellyfish/wandb/run-20240110_154253-o3ijydei/files/model-best/assets\n"
     ]
    },
    {
     "name": "stderr",
     "output_type": "stream",
     "text": [
      "\u001b[34m\u001b[1mwandb\u001b[0m: Adding directory to artifact (/aiffel/aiffel/jellyfish/wandb/run-20240110_154253-o3ijydei/files/model-best)... Done. 7.4s\n"
     ]
    },
    {
     "name": "stdout",
     "output_type": "stream",
     "text": [
      "Epoch 3/6\n",
      "45/45 [==============================] - 9s 202ms/step - loss: 1.4074 - accuracy: 0.4367 - val_loss: 1.3507 - val_accuracy: 0.4615\n",
      "INFO:tensorflow:Assets written to: /aiffel/aiffel/jellyfish/wandb/run-20240110_154253-o3ijydei/files/model-best/assets\n"
     ]
    },
    {
     "name": "stderr",
     "output_type": "stream",
     "text": [
      "\u001b[34m\u001b[1mwandb\u001b[0m: Adding directory to artifact (/aiffel/aiffel/jellyfish/wandb/run-20240110_154253-o3ijydei/files/model-best)... Done. 4.8s\n"
     ]
    },
    {
     "name": "stdout",
     "output_type": "stream",
     "text": [
      "Epoch 4/6\n",
      "45/45 [==============================] - 9s 204ms/step - loss: 1.2880 - accuracy: 0.4756 - val_loss: 1.3477 - val_accuracy: 0.5385\n",
      "INFO:tensorflow:Assets written to: /aiffel/aiffel/jellyfish/wandb/run-20240110_154253-o3ijydei/files/model-best/assets\n"
     ]
    },
    {
     "name": "stderr",
     "output_type": "stream",
     "text": [
      "\u001b[34m\u001b[1mwandb\u001b[0m: Adding directory to artifact (/aiffel/aiffel/jellyfish/wandb/run-20240110_154253-o3ijydei/files/model-best)... Done. 8.1s\n"
     ]
    },
    {
     "name": "stdout",
     "output_type": "stream",
     "text": [
      "Epoch 5/6\n",
      "45/45 [==============================] - 9s 204ms/step - loss: 1.2461 - accuracy: 0.4922 - val_loss: 1.2819 - val_accuracy: 0.4359\n",
      "INFO:tensorflow:Assets written to: /aiffel/aiffel/jellyfish/wandb/run-20240110_154253-o3ijydei/files/model-best/assets\n"
     ]
    },
    {
     "name": "stderr",
     "output_type": "stream",
     "text": [
      "\u001b[34m\u001b[1mwandb\u001b[0m: Adding directory to artifact (/aiffel/aiffel/jellyfish/wandb/run-20240110_154253-o3ijydei/files/model-best)... Done. 4.8s\n"
     ]
    },
    {
     "name": "stdout",
     "output_type": "stream",
     "text": [
      "Epoch 6/6\n",
      "45/45 [==============================] - 9s 205ms/step - loss: 1.1977 - accuracy: 0.5189 - val_loss: 1.3330 - val_accuracy: 0.4615\n",
      "2/2 - 0s - loss: 1.1146 - accuracy: 0.5500\n"
     ]
    },
    {
     "data": {
      "application/vnd.jupyter.widget-view+json": {
       "model_id": "",
       "version_major": 2,
       "version_minor": 0
      },
      "text/plain": [
       "VBox(children=(Label(value='1767.247 MB of 1767.247 MB uploaded (0.093 MB deduped)\\r'), FloatProgress(value=1.…"
      ]
     },
     "metadata": {},
     "output_type": "display_data"
    },
    {
     "data": {
      "text/html": [
       "<style>\n",
       "    table.wandb td:nth-child(1) { padding: 0 10px; text-align: left ; width: auto;} td:nth-child(2) {text-align: left ; width: 100%}\n",
       "    .wandb-row { display: flex; flex-direction: row; flex-wrap: wrap; justify-content: flex-start; width: 100% }\n",
       "    .wandb-col { display: flex; flex-direction: column; flex-basis: 100%; flex: 1; padding: 10px; }\n",
       "    </style>\n",
       "<div class=\"wandb-row\"><div class=\"wandb-col\"><h3>Run history:</h3><br/><table class=\"wandb\"><tr><td>Test Accuracy</td><td>▁</td></tr><tr><td>Test Loss</td><td>▁</td></tr><tr><td>accuracy</td><td>▁▄▆▇▇█</td></tr><tr><td>epoch</td><td>▁▂▄▅▇█</td></tr><tr><td>loss</td><td>█▄▃▂▁▁</td></tr><tr><td>val_accuracy</td><td>▁▅▆█▆▆</td></tr><tr><td>val_loss</td><td>█▄▂▂▁▂</td></tr></table><br/></div><div class=\"wandb-col\"><h3>Run summary:</h3><br/><table class=\"wandb\"><tr><td>Test Accuracy</td><td>0.55</td></tr><tr><td>Test Loss</td><td>1.11458</td></tr><tr><td>accuracy</td><td>0.51889</td></tr><tr><td>best_epoch</td><td>4</td></tr><tr><td>best_val_loss</td><td>1.28192</td></tr><tr><td>epoch</td><td>5</td></tr><tr><td>loss</td><td>1.19772</td></tr><tr><td>val_accuracy</td><td>0.46154</td></tr><tr><td>val_loss</td><td>1.33303</td></tr></table><br/></div></div>"
      ],
      "text/plain": [
       "<IPython.core.display.HTML object>"
      ]
     },
     "metadata": {},
     "output_type": "display_data"
    },
    {
     "data": {
      "text/html": [
       " View run <strong style=\"color:#cdcd00\">feasible-sweep-6</strong> at: <a href='https://wandb.ai/3like4/Jellyfish_project/runs/o3ijydei' target=\"_blank\">https://wandb.ai/3like4/Jellyfish_project/runs/o3ijydei</a><br/>Synced 5 W&B file(s), 1 media file(s), 20 artifact file(s) and 1 other file(s)"
      ],
      "text/plain": [
       "<IPython.core.display.HTML object>"
      ]
     },
     "metadata": {},
     "output_type": "display_data"
    },
    {
     "data": {
      "text/html": [
       "Find logs at: <code>./wandb/run-20240110_154253-o3ijydei/logs</code>"
      ],
      "text/plain": [
       "<IPython.core.display.HTML object>"
      ]
     },
     "metadata": {},
     "output_type": "display_data"
    },
    {
     "name": "stderr",
     "output_type": "stream",
     "text": [
      "\u001b[34m\u001b[1mwandb\u001b[0m: Agent Starting Run: k4g5deq2 with config:\n",
      "\u001b[34m\u001b[1mwandb\u001b[0m: \tepoch: 6\n",
      "\u001b[34m\u001b[1mwandb\u001b[0m: \tlearning_rate: 0.044519554313313905\n"
     ]
    },
    {
     "data": {
      "text/html": [
       "wandb version 0.16.2 is available!  To upgrade, please run:\n",
       " $ pip install wandb --upgrade"
      ],
      "text/plain": [
       "<IPython.core.display.HTML object>"
      ]
     },
     "metadata": {},
     "output_type": "display_data"
    },
    {
     "data": {
      "text/html": [
       "Tracking run with wandb version 0.16.0"
      ],
      "text/plain": [
       "<IPython.core.display.HTML object>"
      ]
     },
     "metadata": {},
     "output_type": "display_data"
    },
    {
     "data": {
      "text/html": [
       "Run data is saved locally in <code>/aiffel/aiffel/jellyfish/wandb/run-20240110_154511-k4g5deq2</code>"
      ],
      "text/plain": [
       "<IPython.core.display.HTML object>"
      ]
     },
     "metadata": {},
     "output_type": "display_data"
    },
    {
     "data": {
      "text/html": [
       "Syncing run <strong><a href='https://wandb.ai/3like4/Jellyfish_project/runs/k4g5deq2' target=\"_blank\">chocolate-sweep-7</a></strong> to <a href='https://wandb.ai/3like4/Jellyfish_project' target=\"_blank\">Weights & Biases</a> (<a href='https://wandb.me/run' target=\"_blank\">docs</a>)<br/>Sweep page: <a href='https://wandb.ai/3like4/Jellyfish_project/sweeps/tx6sb7dx' target=\"_blank\">https://wandb.ai/3like4/Jellyfish_project/sweeps/tx6sb7dx</a>"
      ],
      "text/plain": [
       "<IPython.core.display.HTML object>"
      ]
     },
     "metadata": {},
     "output_type": "display_data"
    },
    {
     "data": {
      "text/html": [
       " View project at <a href='https://wandb.ai/3like4/Jellyfish_project' target=\"_blank\">https://wandb.ai/3like4/Jellyfish_project</a>"
      ],
      "text/plain": [
       "<IPython.core.display.HTML object>"
      ]
     },
     "metadata": {},
     "output_type": "display_data"
    },
    {
     "data": {
      "text/html": [
       " View sweep at <a href='https://wandb.ai/3like4/Jellyfish_project/sweeps/tx6sb7dx' target=\"_blank\">https://wandb.ai/3like4/Jellyfish_project/sweeps/tx6sb7dx</a>"
      ],
      "text/plain": [
       "<IPython.core.display.HTML object>"
      ]
     },
     "metadata": {},
     "output_type": "display_data"
    },
    {
     "data": {
      "text/html": [
       " View run at <a href='https://wandb.ai/3like4/Jellyfish_project/runs/k4g5deq2' target=\"_blank\">https://wandb.ai/3like4/Jellyfish_project/runs/k4g5deq2</a>"
      ],
      "text/plain": [
       "<IPython.core.display.HTML object>"
      ]
     },
     "metadata": {},
     "output_type": "display_data"
    },
    {
     "name": "stdout",
     "output_type": "stream",
     "text": [
      "Epoch 1/6\n",
      "45/45 [==============================] - 9s 198ms/step - loss: 2.6899 - accuracy: 0.2711 - val_loss: 1.7161 - val_accuracy: 0.2564\n",
      "INFO:tensorflow:Assets written to: /aiffel/aiffel/jellyfish/wandb/run-20240110_154511-k4g5deq2/files/model-best/assets\n"
     ]
    },
    {
     "name": "stderr",
     "output_type": "stream",
     "text": [
      "\u001b[34m\u001b[1mwandb\u001b[0m: Adding directory to artifact (/aiffel/aiffel/jellyfish/wandb/run-20240110_154511-k4g5deq2/files/model-best)... Done. 7.2s\n"
     ]
    },
    {
     "name": "stdout",
     "output_type": "stream",
     "text": [
      "Epoch 2/6\n",
      "45/45 [==============================] - 9s 204ms/step - loss: 1.5480 - accuracy: 0.3689 - val_loss: 1.3948 - val_accuracy: 0.4872\n",
      "INFO:tensorflow:Assets written to: /aiffel/aiffel/jellyfish/wandb/run-20240110_154511-k4g5deq2/files/model-best/assets\n"
     ]
    },
    {
     "name": "stderr",
     "output_type": "stream",
     "text": [
      "\u001b[34m\u001b[1mwandb\u001b[0m: Adding directory to artifact (/aiffel/aiffel/jellyfish/wandb/run-20240110_154511-k4g5deq2/files/model-best)... Done. 4.9s\n"
     ]
    },
    {
     "name": "stdout",
     "output_type": "stream",
     "text": [
      "Epoch 3/6\n",
      "45/45 [==============================] - 9s 204ms/step - loss: 1.4465 - accuracy: 0.4178 - val_loss: 1.3219 - val_accuracy: 0.4359\n",
      "INFO:tensorflow:Assets written to: /aiffel/aiffel/jellyfish/wandb/run-20240110_154511-k4g5deq2/files/model-best/assets\n"
     ]
    },
    {
     "name": "stderr",
     "output_type": "stream",
     "text": [
      "\u001b[34m\u001b[1mwandb\u001b[0m: Adding directory to artifact (/aiffel/aiffel/jellyfish/wandb/run-20240110_154511-k4g5deq2/files/model-best)... Done. 8.3s\n"
     ]
    },
    {
     "name": "stdout",
     "output_type": "stream",
     "text": [
      "Epoch 4/6\n",
      "45/45 [==============================] - 9s 201ms/step - loss: 1.2986 - accuracy: 0.4622 - val_loss: 1.3475 - val_accuracy: 0.4872\n",
      "Epoch 5/6\n",
      "45/45 [==============================] - 9s 197ms/step - loss: 1.2778 - accuracy: 0.4844 - val_loss: 1.2501 - val_accuracy: 0.5385\n",
      "INFO:tensorflow:Assets written to: /aiffel/aiffel/jellyfish/wandb/run-20240110_154511-k4g5deq2/files/model-best/assets\n"
     ]
    },
    {
     "name": "stderr",
     "output_type": "stream",
     "text": [
      "\u001b[34m\u001b[1mwandb\u001b[0m: Adding directory to artifact (/aiffel/aiffel/jellyfish/wandb/run-20240110_154511-k4g5deq2/files/model-best)... Done. 3.7s\n"
     ]
    },
    {
     "name": "stdout",
     "output_type": "stream",
     "text": [
      "Epoch 6/6\n",
      "45/45 [==============================] - 9s 204ms/step - loss: 1.2481 - accuracy: 0.5022 - val_loss: 1.2172 - val_accuracy: 0.5385\n",
      "INFO:tensorflow:Assets written to: /aiffel/aiffel/jellyfish/wandb/run-20240110_154511-k4g5deq2/files/model-best/assets\n"
     ]
    },
    {
     "name": "stderr",
     "output_type": "stream",
     "text": [
      "\u001b[34m\u001b[1mwandb\u001b[0m: Adding directory to artifact (/aiffel/aiffel/jellyfish/wandb/run-20240110_154511-k4g5deq2/files/model-best)... Done. 8.3s\n"
     ]
    },
    {
     "name": "stdout",
     "output_type": "stream",
     "text": [
      "2/2 - 0s - loss: 1.2031 - accuracy: 0.5750\n"
     ]
    },
    {
     "data": {
      "application/vnd.jupyter.widget-view+json": {
       "model_id": "",
       "version_major": 2,
       "version_minor": 0
      },
      "text/plain": [
       "VBox(children=(Label(value='1472.975 MB of 1472.975 MB uploaded (0.093 MB deduped)\\r'), FloatProgress(value=1.…"
      ]
     },
     "metadata": {},
     "output_type": "display_data"
    },
    {
     "data": {
      "text/html": [
       "<style>\n",
       "    table.wandb td:nth-child(1) { padding: 0 10px; text-align: left ; width: auto;} td:nth-child(2) {text-align: left ; width: 100%}\n",
       "    .wandb-row { display: flex; flex-direction: row; flex-wrap: wrap; justify-content: flex-start; width: 100% }\n",
       "    .wandb-col { display: flex; flex-direction: column; flex-basis: 100%; flex: 1; padding: 10px; }\n",
       "    </style>\n",
       "<div class=\"wandb-row\"><div class=\"wandb-col\"><h3>Run history:</h3><br/><table class=\"wandb\"><tr><td>Test Accuracy</td><td>▁</td></tr><tr><td>Test Loss</td><td>▁</td></tr><tr><td>accuracy</td><td>▁▄▅▇▇█</td></tr><tr><td>epoch</td><td>▁▂▄▅▇█</td></tr><tr><td>loss</td><td>█▂▂▁▁▁</td></tr><tr><td>val_accuracy</td><td>▁▇▅▇██</td></tr><tr><td>val_loss</td><td>█▃▂▃▁▁</td></tr></table><br/></div><div class=\"wandb-col\"><h3>Run summary:</h3><br/><table class=\"wandb\"><tr><td>Test Accuracy</td><td>0.575</td></tr><tr><td>Test Loss</td><td>1.20313</td></tr><tr><td>accuracy</td><td>0.50222</td></tr><tr><td>best_epoch</td><td>5</td></tr><tr><td>best_val_loss</td><td>1.2172</td></tr><tr><td>epoch</td><td>5</td></tr><tr><td>loss</td><td>1.24805</td></tr><tr><td>val_accuracy</td><td>0.53846</td></tr><tr><td>val_loss</td><td>1.2172</td></tr></table><br/></div></div>"
      ],
      "text/plain": [
       "<IPython.core.display.HTML object>"
      ]
     },
     "metadata": {},
     "output_type": "display_data"
    },
    {
     "data": {
      "text/html": [
       " View run <strong style=\"color:#cdcd00\">chocolate-sweep-7</strong> at: <a href='https://wandb.ai/3like4/Jellyfish_project/runs/k4g5deq2' target=\"_blank\">https://wandb.ai/3like4/Jellyfish_project/runs/k4g5deq2</a><br/>Synced 5 W&B file(s), 1 media file(s), 20 artifact file(s) and 1 other file(s)"
      ],
      "text/plain": [
       "<IPython.core.display.HTML object>"
      ]
     },
     "metadata": {},
     "output_type": "display_data"
    },
    {
     "data": {
      "text/html": [
       "Find logs at: <code>./wandb/run-20240110_154511-k4g5deq2/logs</code>"
      ],
      "text/plain": [
       "<IPython.core.display.HTML object>"
      ]
     },
     "metadata": {},
     "output_type": "display_data"
    },
    {
     "name": "stderr",
     "output_type": "stream",
     "text": [
      "\u001b[34m\u001b[1mwandb\u001b[0m: Agent Starting Run: 53tdteee with config:\n",
      "\u001b[34m\u001b[1mwandb\u001b[0m: \tepoch: 10\n",
      "\u001b[34m\u001b[1mwandb\u001b[0m: \tlearning_rate: 0.06090643880940356\n"
     ]
    },
    {
     "data": {
      "text/html": [
       "wandb version 0.16.2 is available!  To upgrade, please run:\n",
       " $ pip install wandb --upgrade"
      ],
      "text/plain": [
       "<IPython.core.display.HTML object>"
      ]
     },
     "metadata": {},
     "output_type": "display_data"
    },
    {
     "data": {
      "text/html": [
       "Tracking run with wandb version 0.16.0"
      ],
      "text/plain": [
       "<IPython.core.display.HTML object>"
      ]
     },
     "metadata": {},
     "output_type": "display_data"
    },
    {
     "data": {
      "text/html": [
       "Run data is saved locally in <code>/aiffel/aiffel/jellyfish/wandb/run-20240110_154727-53tdteee</code>"
      ],
      "text/plain": [
       "<IPython.core.display.HTML object>"
      ]
     },
     "metadata": {},
     "output_type": "display_data"
    },
    {
     "data": {
      "text/html": [
       "Syncing run <strong><a href='https://wandb.ai/3like4/Jellyfish_project/runs/53tdteee' target=\"_blank\">fancy-sweep-8</a></strong> to <a href='https://wandb.ai/3like4/Jellyfish_project' target=\"_blank\">Weights & Biases</a> (<a href='https://wandb.me/run' target=\"_blank\">docs</a>)<br/>Sweep page: <a href='https://wandb.ai/3like4/Jellyfish_project/sweeps/tx6sb7dx' target=\"_blank\">https://wandb.ai/3like4/Jellyfish_project/sweeps/tx6sb7dx</a>"
      ],
      "text/plain": [
       "<IPython.core.display.HTML object>"
      ]
     },
     "metadata": {},
     "output_type": "display_data"
    },
    {
     "data": {
      "text/html": [
       " View project at <a href='https://wandb.ai/3like4/Jellyfish_project' target=\"_blank\">https://wandb.ai/3like4/Jellyfish_project</a>"
      ],
      "text/plain": [
       "<IPython.core.display.HTML object>"
      ]
     },
     "metadata": {},
     "output_type": "display_data"
    },
    {
     "data": {
      "text/html": [
       " View sweep at <a href='https://wandb.ai/3like4/Jellyfish_project/sweeps/tx6sb7dx' target=\"_blank\">https://wandb.ai/3like4/Jellyfish_project/sweeps/tx6sb7dx</a>"
      ],
      "text/plain": [
       "<IPython.core.display.HTML object>"
      ]
     },
     "metadata": {},
     "output_type": "display_data"
    },
    {
     "data": {
      "text/html": [
       " View run at <a href='https://wandb.ai/3like4/Jellyfish_project/runs/53tdteee' target=\"_blank\">https://wandb.ai/3like4/Jellyfish_project/runs/53tdteee</a>"
      ],
      "text/plain": [
       "<IPython.core.display.HTML object>"
      ]
     },
     "metadata": {},
     "output_type": "display_data"
    },
    {
     "name": "stdout",
     "output_type": "stream",
     "text": [
      "Epoch 1/10\n",
      "45/45 [==============================] - 10s 200ms/step - loss: 2.8010 - accuracy: 0.2389 - val_loss: 1.7575 - val_accuracy: 0.2564\n",
      "INFO:tensorflow:Assets written to: /aiffel/aiffel/jellyfish/wandb/run-20240110_154727-53tdteee/files/model-best/assets\n"
     ]
    },
    {
     "name": "stderr",
     "output_type": "stream",
     "text": [
      "\u001b[34m\u001b[1mwandb\u001b[0m: Adding directory to artifact (/aiffel/aiffel/jellyfish/wandb/run-20240110_154727-53tdteee/files/model-best)... Done. 9.3s\n"
     ]
    },
    {
     "name": "stdout",
     "output_type": "stream",
     "text": [
      "Epoch 2/10\n",
      "45/45 [==============================] - 9s 203ms/step - loss: 1.6629 - accuracy: 0.3022 - val_loss: 1.6117 - val_accuracy: 0.3333\n",
      "INFO:tensorflow:Assets written to: /aiffel/aiffel/jellyfish/wandb/run-20240110_154727-53tdteee/files/model-best/assets\n"
     ]
    },
    {
     "name": "stderr",
     "output_type": "stream",
     "text": [
      "\u001b[34m\u001b[1mwandb\u001b[0m: Adding directory to artifact (/aiffel/aiffel/jellyfish/wandb/run-20240110_154727-53tdteee/files/model-best)... Done. 7.9s\n"
     ]
    },
    {
     "name": "stdout",
     "output_type": "stream",
     "text": [
      "Epoch 3/10\n",
      "45/45 [==============================] - 9s 202ms/step - loss: 1.5508 - accuracy: 0.3456 - val_loss: 1.5704 - val_accuracy: 0.2564\n",
      "INFO:tensorflow:Assets written to: /aiffel/aiffel/jellyfish/wandb/run-20240110_154727-53tdteee/files/model-best/assets\n"
     ]
    },
    {
     "name": "stderr",
     "output_type": "stream",
     "text": [
      "\u001b[34m\u001b[1mwandb\u001b[0m: Adding directory to artifact (/aiffel/aiffel/jellyfish/wandb/run-20240110_154727-53tdteee/files/model-best)... Done. 6.7s\n"
     ]
    },
    {
     "name": "stdout",
     "output_type": "stream",
     "text": [
      "Epoch 4/10\n",
      "45/45 [==============================] - 9s 203ms/step - loss: 1.4799 - accuracy: 0.3811 - val_loss: 1.4476 - val_accuracy: 0.3846\n",
      "INFO:tensorflow:Assets written to: /aiffel/aiffel/jellyfish/wandb/run-20240110_154727-53tdteee/files/model-best/assets\n"
     ]
    },
    {
     "name": "stderr",
     "output_type": "stream",
     "text": [
      "\u001b[34m\u001b[1mwandb\u001b[0m: Adding directory to artifact (/aiffel/aiffel/jellyfish/wandb/run-20240110_154727-53tdteee/files/model-best)... Done. 8.1s\n"
     ]
    },
    {
     "name": "stdout",
     "output_type": "stream",
     "text": [
      "Epoch 5/10\n",
      "45/45 [==============================] - 9s 205ms/step - loss: 1.4079 - accuracy: 0.4422 - val_loss: 1.4003 - val_accuracy: 0.4359\n",
      "INFO:tensorflow:Assets written to: /aiffel/aiffel/jellyfish/wandb/run-20240110_154727-53tdteee/files/model-best/assets\n"
     ]
    },
    {
     "name": "stderr",
     "output_type": "stream",
     "text": [
      "\u001b[34m\u001b[1mwandb\u001b[0m: Adding directory to artifact (/aiffel/aiffel/jellyfish/wandb/run-20240110_154727-53tdteee/files/model-best)... Done. 8.1s\n"
     ]
    },
    {
     "name": "stdout",
     "output_type": "stream",
     "text": [
      "Epoch 6/10\n",
      "45/45 [==============================] - 9s 196ms/step - loss: 1.3975 - accuracy: 0.4444 - val_loss: 1.4595 - val_accuracy: 0.3846\n",
      "Epoch 7/10\n",
      "45/45 [==============================] - 9s 197ms/step - loss: 1.3177 - accuracy: 0.4600 - val_loss: 1.4222 - val_accuracy: 0.4615\n",
      "Epoch 8/10\n",
      "45/45 [==============================] - 9s 197ms/step - loss: 1.2773 - accuracy: 0.4722 - val_loss: 1.3123 - val_accuracy: 0.4872\n",
      "INFO:tensorflow:Assets written to: /aiffel/aiffel/jellyfish/wandb/run-20240110_154727-53tdteee/files/model-best/assets\n"
     ]
    },
    {
     "name": "stderr",
     "output_type": "stream",
     "text": [
      "\u001b[34m\u001b[1mwandb\u001b[0m: Adding directory to artifact (/aiffel/aiffel/jellyfish/wandb/run-20240110_154727-53tdteee/files/model-best)... Done. 3.6s\n"
     ]
    },
    {
     "name": "stdout",
     "output_type": "stream",
     "text": [
      "Epoch 9/10\n",
      "45/45 [==============================] - 9s 203ms/step - loss: 1.2976 - accuracy: 0.4800 - val_loss: 1.3687 - val_accuracy: 0.4103\n",
      "Epoch 10/10\n",
      "45/45 [==============================] - 9s 196ms/step - loss: 1.1893 - accuracy: 0.5267 - val_loss: 1.2256 - val_accuracy: 0.4615\n",
      "INFO:tensorflow:Assets written to: /aiffel/aiffel/jellyfish/wandb/run-20240110_154727-53tdteee/files/model-best/assets\n"
     ]
    },
    {
     "name": "stderr",
     "output_type": "stream",
     "text": [
      "\u001b[34m\u001b[1mwandb\u001b[0m: Adding directory to artifact (/aiffel/aiffel/jellyfish/wandb/run-20240110_154727-53tdteee/files/model-best)... Done. 8.3s\n"
     ]
    },
    {
     "name": "stdout",
     "output_type": "stream",
     "text": [
      "2/2 - 1s - loss: 1.1761 - accuracy: 0.4750\n"
     ]
    },
    {
     "data": {
      "application/vnd.jupyter.widget-view+json": {
       "model_id": "",
       "version_major": 2,
       "version_minor": 0
      },
      "text/plain": [
       "VBox(children=(Label(value='2062.007 MB of 2062.007 MB uploaded (0.140 MB deduped)\\r'), FloatProgress(value=1.…"
      ]
     },
     "metadata": {},
     "output_type": "display_data"
    },
    {
     "data": {
      "text/html": [
       "<style>\n",
       "    table.wandb td:nth-child(1) { padding: 0 10px; text-align: left ; width: auto;} td:nth-child(2) {text-align: left ; width: 100%}\n",
       "    .wandb-row { display: flex; flex-direction: row; flex-wrap: wrap; justify-content: flex-start; width: 100% }\n",
       "    .wandb-col { display: flex; flex-direction: column; flex-basis: 100%; flex: 1; padding: 10px; }\n",
       "    </style>\n",
       "<div class=\"wandb-row\"><div class=\"wandb-col\"><h3>Run history:</h3><br/><table class=\"wandb\"><tr><td>Test Accuracy</td><td>▁</td></tr><tr><td>Test Loss</td><td>▁</td></tr><tr><td>accuracy</td><td>▁▃▄▄▆▆▆▇▇█</td></tr><tr><td>epoch</td><td>▁▂▃▃▄▅▆▆▇█</td></tr><tr><td>loss</td><td>█▃▃▂▂▂▂▁▁▁</td></tr><tr><td>val_accuracy</td><td>▁▃▁▅▆▅▇█▆▇</td></tr><tr><td>val_loss</td><td>█▆▆▄▃▄▄▂▃▁</td></tr></table><br/></div><div class=\"wandb-col\"><h3>Run summary:</h3><br/><table class=\"wandb\"><tr><td>Test Accuracy</td><td>0.475</td></tr><tr><td>Test Loss</td><td>1.17608</td></tr><tr><td>accuracy</td><td>0.52667</td></tr><tr><td>best_epoch</td><td>9</td></tr><tr><td>best_val_loss</td><td>1.22561</td></tr><tr><td>epoch</td><td>9</td></tr><tr><td>loss</td><td>1.18931</td></tr><tr><td>val_accuracy</td><td>0.46154</td></tr><tr><td>val_loss</td><td>1.22561</td></tr></table><br/></div></div>"
      ],
      "text/plain": [
       "<IPython.core.display.HTML object>"
      ]
     },
     "metadata": {},
     "output_type": "display_data"
    },
    {
     "data": {
      "text/html": [
       " View run <strong style=\"color:#cdcd00\">fancy-sweep-8</strong> at: <a href='https://wandb.ai/3like4/Jellyfish_project/runs/53tdteee' target=\"_blank\">https://wandb.ai/3like4/Jellyfish_project/runs/53tdteee</a><br/>Synced 5 W&B file(s), 1 media file(s), 28 artifact file(s) and 1 other file(s)"
      ],
      "text/plain": [
       "<IPython.core.display.HTML object>"
      ]
     },
     "metadata": {},
     "output_type": "display_data"
    },
    {
     "data": {
      "text/html": [
       "Find logs at: <code>./wandb/run-20240110_154727-53tdteee/logs</code>"
      ],
      "text/plain": [
       "<IPython.core.display.HTML object>"
      ]
     },
     "metadata": {},
     "output_type": "display_data"
    },
    {
     "name": "stderr",
     "output_type": "stream",
     "text": [
      "\u001b[34m\u001b[1mwandb\u001b[0m: Agent Starting Run: svt0f36l with config:\n",
      "\u001b[34m\u001b[1mwandb\u001b[0m: \tepoch: 10\n",
      "\u001b[34m\u001b[1mwandb\u001b[0m: \tlearning_rate: 0.018746545439432247\n"
     ]
    },
    {
     "data": {
      "text/html": [
       "wandb version 0.16.2 is available!  To upgrade, please run:\n",
       " $ pip install wandb --upgrade"
      ],
      "text/plain": [
       "<IPython.core.display.HTML object>"
      ]
     },
     "metadata": {},
     "output_type": "display_data"
    },
    {
     "data": {
      "text/html": [
       "Tracking run with wandb version 0.16.0"
      ],
      "text/plain": [
       "<IPython.core.display.HTML object>"
      ]
     },
     "metadata": {},
     "output_type": "display_data"
    },
    {
     "data": {
      "text/html": [
       "Run data is saved locally in <code>/aiffel/aiffel/jellyfish/wandb/run-20240110_155121-svt0f36l</code>"
      ],
      "text/plain": [
       "<IPython.core.display.HTML object>"
      ]
     },
     "metadata": {},
     "output_type": "display_data"
    },
    {
     "data": {
      "text/html": [
       "Syncing run <strong><a href='https://wandb.ai/3like4/Jellyfish_project/runs/svt0f36l' target=\"_blank\">curious-sweep-9</a></strong> to <a href='https://wandb.ai/3like4/Jellyfish_project' target=\"_blank\">Weights & Biases</a> (<a href='https://wandb.me/run' target=\"_blank\">docs</a>)<br/>Sweep page: <a href='https://wandb.ai/3like4/Jellyfish_project/sweeps/tx6sb7dx' target=\"_blank\">https://wandb.ai/3like4/Jellyfish_project/sweeps/tx6sb7dx</a>"
      ],
      "text/plain": [
       "<IPython.core.display.HTML object>"
      ]
     },
     "metadata": {},
     "output_type": "display_data"
    },
    {
     "data": {
      "text/html": [
       " View project at <a href='https://wandb.ai/3like4/Jellyfish_project' target=\"_blank\">https://wandb.ai/3like4/Jellyfish_project</a>"
      ],
      "text/plain": [
       "<IPython.core.display.HTML object>"
      ]
     },
     "metadata": {},
     "output_type": "display_data"
    },
    {
     "data": {
      "text/html": [
       " View sweep at <a href='https://wandb.ai/3like4/Jellyfish_project/sweeps/tx6sb7dx' target=\"_blank\">https://wandb.ai/3like4/Jellyfish_project/sweeps/tx6sb7dx</a>"
      ],
      "text/plain": [
       "<IPython.core.display.HTML object>"
      ]
     },
     "metadata": {},
     "output_type": "display_data"
    },
    {
     "data": {
      "text/html": [
       " View run at <a href='https://wandb.ai/3like4/Jellyfish_project/runs/svt0f36l' target=\"_blank\">https://wandb.ai/3like4/Jellyfish_project/runs/svt0f36l</a>"
      ],
      "text/plain": [
       "<IPython.core.display.HTML object>"
      ]
     },
     "metadata": {},
     "output_type": "display_data"
    },
    {
     "name": "stdout",
     "output_type": "stream",
     "text": [
      "Epoch 1/10\n",
      "45/45 [==============================] - 10s 198ms/step - loss: 2.4423 - accuracy: 0.2289 - val_loss: 1.7121 - val_accuracy: 0.2821\n",
      "INFO:tensorflow:Assets written to: /aiffel/aiffel/jellyfish/wandb/run-20240110_155121-svt0f36l/files/model-best/assets\n"
     ]
    },
    {
     "name": "stderr",
     "output_type": "stream",
     "text": [
      "\u001b[34m\u001b[1mwandb\u001b[0m: Adding directory to artifact (/aiffel/aiffel/jellyfish/wandb/run-20240110_155121-svt0f36l/files/model-best)... Done. 8.5s\n"
     ]
    },
    {
     "name": "stdout",
     "output_type": "stream",
     "text": [
      "Epoch 2/10\n",
      "45/45 [==============================] - 9s 200ms/step - loss: 1.6525 - accuracy: 0.2911 - val_loss: 1.4586 - val_accuracy: 0.3590\n",
      "INFO:tensorflow:Assets written to: /aiffel/aiffel/jellyfish/wandb/run-20240110_155121-svt0f36l/files/model-best/assets\n"
     ]
    },
    {
     "name": "stderr",
     "output_type": "stream",
     "text": [
      "\u001b[34m\u001b[1mwandb\u001b[0m: Adding directory to artifact (/aiffel/aiffel/jellyfish/wandb/run-20240110_155121-svt0f36l/files/model-best)... Done. 8.1s\n"
     ]
    },
    {
     "name": "stdout",
     "output_type": "stream",
     "text": [
      "Epoch 3/10\n",
      "45/45 [==============================] - 9s 201ms/step - loss: 1.5218 - accuracy: 0.3733 - val_loss: 1.4859 - val_accuracy: 0.3846\n",
      "Epoch 4/10\n",
      "45/45 [==============================] - 9s 199ms/step - loss: 1.3745 - accuracy: 0.4567 - val_loss: 1.5655 - val_accuracy: 0.3333\n",
      "Epoch 5/10\n",
      "45/45 [==============================] - 9s 196ms/step - loss: 1.2668 - accuracy: 0.4856 - val_loss: 1.2865 - val_accuracy: 0.5128\n",
      "INFO:tensorflow:Assets written to: /aiffel/aiffel/jellyfish/wandb/run-20240110_155121-svt0f36l/files/model-best/assets\n"
     ]
    },
    {
     "name": "stderr",
     "output_type": "stream",
     "text": [
      "\u001b[34m\u001b[1mwandb\u001b[0m: Adding directory to artifact (/aiffel/aiffel/jellyfish/wandb/run-20240110_155121-svt0f36l/files/model-best)... Done. 4.9s\n"
     ]
    },
    {
     "name": "stdout",
     "output_type": "stream",
     "text": [
      "Epoch 6/10\n",
      "45/45 [==============================] - 9s 203ms/step - loss: 1.2429 - accuracy: 0.5089 - val_loss: 1.3345 - val_accuracy: 0.4359\n",
      "Epoch 7/10\n",
      "45/45 [==============================] - 9s 201ms/step - loss: 1.2099 - accuracy: 0.5233 - val_loss: 1.3308 - val_accuracy: 0.4615\n",
      "Epoch 8/10\n",
      "45/45 [==============================] - 9s 195ms/step - loss: 1.2051 - accuracy: 0.5200 - val_loss: 1.1946 - val_accuracy: 0.6154\n",
      "INFO:tensorflow:Assets written to: /aiffel/aiffel/jellyfish/wandb/run-20240110_155121-svt0f36l/files/model-best/assets\n"
     ]
    },
    {
     "name": "stderr",
     "output_type": "stream",
     "text": [
      "\u001b[34m\u001b[1mwandb\u001b[0m: Adding directory to artifact (/aiffel/aiffel/jellyfish/wandb/run-20240110_155121-svt0f36l/files/model-best)... Done. 4.7s\n"
     ]
    },
    {
     "name": "stdout",
     "output_type": "stream",
     "text": [
      "Epoch 9/10\n",
      "45/45 [==============================] - 9s 204ms/step - loss: 1.1032 - accuracy: 0.5633 - val_loss: 1.3504 - val_accuracy: 0.4872\n",
      "Epoch 10/10\n",
      "45/45 [==============================] - 9s 201ms/step - loss: 1.0919 - accuracy: 0.5689 - val_loss: 1.3078 - val_accuracy: 0.4359\n",
      "2/2 - 1s - loss: 1.1243 - accuracy: 0.5250\n"
     ]
    },
    {
     "data": {
      "application/vnd.jupyter.widget-view+json": {
       "model_id": "",
       "version_major": 2,
       "version_minor": 0
      },
      "text/plain": [
       "VBox(children=(Label(value='1472.676 MB of 1472.676 MB uploaded (0.070 MB deduped)\\r'), FloatProgress(value=1.…"
      ]
     },
     "metadata": {},
     "output_type": "display_data"
    },
    {
     "data": {
      "text/html": [
       "<style>\n",
       "    table.wandb td:nth-child(1) { padding: 0 10px; text-align: left ; width: auto;} td:nth-child(2) {text-align: left ; width: 100%}\n",
       "    .wandb-row { display: flex; flex-direction: row; flex-wrap: wrap; justify-content: flex-start; width: 100% }\n",
       "    .wandb-col { display: flex; flex-direction: column; flex-basis: 100%; flex: 1; padding: 10px; }\n",
       "    </style>\n",
       "<div class=\"wandb-row\"><div class=\"wandb-col\"><h3>Run history:</h3><br/><table class=\"wandb\"><tr><td>Test Accuracy</td><td>▁</td></tr><tr><td>Test Loss</td><td>▁</td></tr><tr><td>accuracy</td><td>▁▂▄▆▆▇▇▇██</td></tr><tr><td>epoch</td><td>▁▂▃▃▄▅▆▆▇█</td></tr><tr><td>loss</td><td>█▄▃▂▂▂▂▂▁▁</td></tr><tr><td>val_accuracy</td><td>▁▃▃▂▆▄▅█▅▄</td></tr><tr><td>val_loss</td><td>█▅▅▆▂▃▃▁▃▃</td></tr></table><br/></div><div class=\"wandb-col\"><h3>Run summary:</h3><br/><table class=\"wandb\"><tr><td>Test Accuracy</td><td>0.525</td></tr><tr><td>Test Loss</td><td>1.12432</td></tr><tr><td>accuracy</td><td>0.56889</td></tr><tr><td>best_epoch</td><td>7</td></tr><tr><td>best_val_loss</td><td>1.19461</td></tr><tr><td>epoch</td><td>9</td></tr><tr><td>loss</td><td>1.09192</td></tr><tr><td>val_accuracy</td><td>0.4359</td></tr><tr><td>val_loss</td><td>1.30783</td></tr></table><br/></div></div>"
      ],
      "text/plain": [
       "<IPython.core.display.HTML object>"
      ]
     },
     "metadata": {},
     "output_type": "display_data"
    },
    {
     "data": {
      "text/html": [
       " View run <strong style=\"color:#cdcd00\">curious-sweep-9</strong> at: <a href='https://wandb.ai/3like4/Jellyfish_project/runs/svt0f36l' target=\"_blank\">https://wandb.ai/3like4/Jellyfish_project/runs/svt0f36l</a><br/>Synced 5 W&B file(s), 1 media file(s), 16 artifact file(s) and 1 other file(s)"
      ],
      "text/plain": [
       "<IPython.core.display.HTML object>"
      ]
     },
     "metadata": {},
     "output_type": "display_data"
    },
    {
     "data": {
      "text/html": [
       "Find logs at: <code>./wandb/run-20240110_155121-svt0f36l/logs</code>"
      ],
      "text/plain": [
       "<IPython.core.display.HTML object>"
      ]
     },
     "metadata": {},
     "output_type": "display_data"
    },
    {
     "name": "stderr",
     "output_type": "stream",
     "text": [
      "\u001b[34m\u001b[1mwandb\u001b[0m: Agent Starting Run: x8dgv6jf with config:\n",
      "\u001b[34m\u001b[1mwandb\u001b[0m: \tepoch: 6\n",
      "\u001b[34m\u001b[1mwandb\u001b[0m: \tlearning_rate: 0.004648103220862501\n"
     ]
    },
    {
     "data": {
      "text/html": [
       "wandb version 0.16.2 is available!  To upgrade, please run:\n",
       " $ pip install wandb --upgrade"
      ],
      "text/plain": [
       "<IPython.core.display.HTML object>"
      ]
     },
     "metadata": {},
     "output_type": "display_data"
    },
    {
     "data": {
      "text/html": [
       "Tracking run with wandb version 0.16.0"
      ],
      "text/plain": [
       "<IPython.core.display.HTML object>"
      ]
     },
     "metadata": {},
     "output_type": "display_data"
    },
    {
     "data": {
      "text/html": [
       "Run data is saved locally in <code>/aiffel/aiffel/jellyfish/wandb/run-20240110_155405-x8dgv6jf</code>"
      ],
      "text/plain": [
       "<IPython.core.display.HTML object>"
      ]
     },
     "metadata": {},
     "output_type": "display_data"
    },
    {
     "data": {
      "text/html": [
       "Syncing run <strong><a href='https://wandb.ai/3like4/Jellyfish_project/runs/x8dgv6jf' target=\"_blank\">sleek-sweep-10</a></strong> to <a href='https://wandb.ai/3like4/Jellyfish_project' target=\"_blank\">Weights & Biases</a> (<a href='https://wandb.me/run' target=\"_blank\">docs</a>)<br/>Sweep page: <a href='https://wandb.ai/3like4/Jellyfish_project/sweeps/tx6sb7dx' target=\"_blank\">https://wandb.ai/3like4/Jellyfish_project/sweeps/tx6sb7dx</a>"
      ],
      "text/plain": [
       "<IPython.core.display.HTML object>"
      ]
     },
     "metadata": {},
     "output_type": "display_data"
    },
    {
     "data": {
      "text/html": [
       " View project at <a href='https://wandb.ai/3like4/Jellyfish_project' target=\"_blank\">https://wandb.ai/3like4/Jellyfish_project</a>"
      ],
      "text/plain": [
       "<IPython.core.display.HTML object>"
      ]
     },
     "metadata": {},
     "output_type": "display_data"
    },
    {
     "data": {
      "text/html": [
       " View sweep at <a href='https://wandb.ai/3like4/Jellyfish_project/sweeps/tx6sb7dx' target=\"_blank\">https://wandb.ai/3like4/Jellyfish_project/sweeps/tx6sb7dx</a>"
      ],
      "text/plain": [
       "<IPython.core.display.HTML object>"
      ]
     },
     "metadata": {},
     "output_type": "display_data"
    },
    {
     "data": {
      "text/html": [
       " View run at <a href='https://wandb.ai/3like4/Jellyfish_project/runs/x8dgv6jf' target=\"_blank\">https://wandb.ai/3like4/Jellyfish_project/runs/x8dgv6jf</a>"
      ],
      "text/plain": [
       "<IPython.core.display.HTML object>"
      ]
     },
     "metadata": {},
     "output_type": "display_data"
    },
    {
     "name": "stdout",
     "output_type": "stream",
     "text": [
      "Epoch 1/6\n",
      "45/45 [==============================] - 10s 201ms/step - loss: 2.2056 - accuracy: 0.2400 - val_loss: 1.6290 - val_accuracy: 0.3590\n",
      "INFO:tensorflow:Assets written to: /aiffel/aiffel/jellyfish/wandb/run-20240110_155405-x8dgv6jf/files/model-best/assets\n"
     ]
    },
    {
     "name": "stderr",
     "output_type": "stream",
     "text": [
      "\u001b[34m\u001b[1mwandb\u001b[0m: Adding directory to artifact (/aiffel/aiffel/jellyfish/wandb/run-20240110_155405-x8dgv6jf/files/model-best)... Done. 9.0s\n"
     ]
    },
    {
     "name": "stdout",
     "output_type": "stream",
     "text": [
      "Epoch 2/6\n",
      "45/45 [==============================] - 9s 203ms/step - loss: 1.5644 - accuracy: 0.3533 - val_loss: 1.5002 - val_accuracy: 0.4103\n",
      "INFO:tensorflow:Assets written to: /aiffel/aiffel/jellyfish/wandb/run-20240110_155405-x8dgv6jf/files/model-best/assets\n"
     ]
    },
    {
     "name": "stderr",
     "output_type": "stream",
     "text": [
      "\u001b[34m\u001b[1mwandb\u001b[0m: Adding directory to artifact (/aiffel/aiffel/jellyfish/wandb/run-20240110_155405-x8dgv6jf/files/model-best)... Done. 8.2s\n"
     ]
    },
    {
     "name": "stdout",
     "output_type": "stream",
     "text": [
      "Epoch 3/6\n",
      "45/45 [==============================] - 9s 205ms/step - loss: 1.4795 - accuracy: 0.4167 - val_loss: 1.3676 - val_accuracy: 0.4359\n",
      "INFO:tensorflow:Assets written to: /aiffel/aiffel/jellyfish/wandb/run-20240110_155405-x8dgv6jf/files/model-best/assets\n"
     ]
    },
    {
     "name": "stderr",
     "output_type": "stream",
     "text": [
      "\u001b[34m\u001b[1mwandb\u001b[0m: Adding directory to artifact (/aiffel/aiffel/jellyfish/wandb/run-20240110_155405-x8dgv6jf/files/model-best)... Done. 5.6s\n"
     ]
    },
    {
     "name": "stdout",
     "output_type": "stream",
     "text": [
      "Epoch 4/6\n",
      "45/45 [==============================] - 9s 200ms/step - loss: 1.4624 - accuracy: 0.4244 - val_loss: 1.3638 - val_accuracy: 0.3846\n",
      "INFO:tensorflow:Assets written to: /aiffel/aiffel/jellyfish/wandb/run-20240110_155405-x8dgv6jf/files/model-best/assets\n"
     ]
    },
    {
     "name": "stderr",
     "output_type": "stream",
     "text": [
      "\u001b[34m\u001b[1mwandb\u001b[0m: Adding directory to artifact (/aiffel/aiffel/jellyfish/wandb/run-20240110_155405-x8dgv6jf/files/model-best)... Done. 7.3s\n"
     ]
    },
    {
     "name": "stdout",
     "output_type": "stream",
     "text": [
      "Epoch 5/6\n",
      "45/45 [==============================] - 9s 202ms/step - loss: 1.4099 - accuracy: 0.4133 - val_loss: 1.3435 - val_accuracy: 0.3846\n",
      "INFO:tensorflow:Assets written to: /aiffel/aiffel/jellyfish/wandb/run-20240110_155405-x8dgv6jf/files/model-best/assets\n"
     ]
    },
    {
     "name": "stderr",
     "output_type": "stream",
     "text": [
      "\u001b[34m\u001b[1mwandb\u001b[0m: Adding directory to artifact (/aiffel/aiffel/jellyfish/wandb/run-20240110_155405-x8dgv6jf/files/model-best)... Done. 4.6s\n"
     ]
    },
    {
     "name": "stdout",
     "output_type": "stream",
     "text": [
      "Epoch 6/6\n",
      "45/45 [==============================] - 9s 204ms/step - loss: 1.3510 - accuracy: 0.4456 - val_loss: 1.1870 - val_accuracy: 0.5128\n",
      "INFO:tensorflow:Assets written to: /aiffel/aiffel/jellyfish/wandb/run-20240110_155405-x8dgv6jf/files/model-best/assets\n"
     ]
    },
    {
     "name": "stderr",
     "output_type": "stream",
     "text": [
      "\u001b[34m\u001b[1mwandb\u001b[0m: Adding directory to artifact (/aiffel/aiffel/jellyfish/wandb/run-20240110_155405-x8dgv6jf/files/model-best)... Done. 8.5s\n"
     ]
    },
    {
     "name": "stdout",
     "output_type": "stream",
     "text": [
      "2/2 - 0s - loss: 1.1842 - accuracy: 0.5250\n"
     ]
    },
    {
     "data": {
      "application/vnd.jupyter.widget-view+json": {
       "model_id": "",
       "version_major": 2,
       "version_minor": 0
      },
      "text/plain": [
       "VBox(children=(Label(value='2061.821 MB of 2061.821 MB uploaded (0.116 MB deduped)\\r'), FloatProgress(value=1.…"
      ]
     },
     "metadata": {},
     "output_type": "display_data"
    },
    {
     "data": {
      "text/html": [
       "<style>\n",
       "    table.wandb td:nth-child(1) { padding: 0 10px; text-align: left ; width: auto;} td:nth-child(2) {text-align: left ; width: 100%}\n",
       "    .wandb-row { display: flex; flex-direction: row; flex-wrap: wrap; justify-content: flex-start; width: 100% }\n",
       "    .wandb-col { display: flex; flex-direction: column; flex-basis: 100%; flex: 1; padding: 10px; }\n",
       "    </style>\n",
       "<div class=\"wandb-row\"><div class=\"wandb-col\"><h3>Run history:</h3><br/><table class=\"wandb\"><tr><td>Test Accuracy</td><td>▁</td></tr><tr><td>Test Loss</td><td>▁</td></tr><tr><td>accuracy</td><td>▁▅▇▇▇█</td></tr><tr><td>epoch</td><td>▁▂▄▅▇█</td></tr><tr><td>loss</td><td>█▃▂▂▁▁</td></tr><tr><td>val_accuracy</td><td>▁▃▄▂▂█</td></tr><tr><td>val_loss</td><td>█▆▄▄▃▁</td></tr></table><br/></div><div class=\"wandb-col\"><h3>Run summary:</h3><br/><table class=\"wandb\"><tr><td>Test Accuracy</td><td>0.525</td></tr><tr><td>Test Loss</td><td>1.18419</td></tr><tr><td>accuracy</td><td>0.44556</td></tr><tr><td>best_epoch</td><td>5</td></tr><tr><td>best_val_loss</td><td>1.18696</td></tr><tr><td>epoch</td><td>5</td></tr><tr><td>loss</td><td>1.35097</td></tr><tr><td>val_accuracy</td><td>0.51282</td></tr><tr><td>val_loss</td><td>1.18696</td></tr></table><br/></div></div>"
      ],
      "text/plain": [
       "<IPython.core.display.HTML object>"
      ]
     },
     "metadata": {},
     "output_type": "display_data"
    },
    {
     "data": {
      "text/html": [
       " View run <strong style=\"color:#cdcd00\">sleek-sweep-10</strong> at: <a href='https://wandb.ai/3like4/Jellyfish_project/runs/x8dgv6jf' target=\"_blank\">https://wandb.ai/3like4/Jellyfish_project/runs/x8dgv6jf</a><br/>Synced 5 W&B file(s), 1 media file(s), 24 artifact file(s) and 1 other file(s)"
      ],
      "text/plain": [
       "<IPython.core.display.HTML object>"
      ]
     },
     "metadata": {},
     "output_type": "display_data"
    },
    {
     "data": {
      "text/html": [
       "Find logs at: <code>./wandb/run-20240110_155405-x8dgv6jf/logs</code>"
      ],
      "text/plain": [
       "<IPython.core.display.HTML object>"
      ]
     },
     "metadata": {},
     "output_type": "display_data"
    }
   ],
   "source": [
    "import wandb\n",
    "from wandb.keras import WandbCallback\n",
    "\n",
    "sweep_config = {\n",
    "    \"name\": \"CNN_V1-adam-20-0.001-gabe\",\n",
    "    \"metric\": {\"name\": \"val_loss\", \"goal\": \"minimize\"},\n",
    "    \"method\": \"random\",\n",
    "    \"parameters\": {\n",
    "        \"learning_rate\" : {\n",
    "            \"min\" : 0.001,\n",
    "            \"max\" : 0.1\n",
    "            },\n",
    "        \"epoch\" : {\n",
    "            \"distribution\" : \"int_uniform\",\n",
    "            \"min\" : 5,\n",
    "            \"max\" : 10\n",
    "            }\n",
    "                    \n",
    "        }\n",
    "    }\n",
    "\n",
    "def train():\n",
    "    default_config = {\n",
    "        \"input\" : (224, 224, 3),\n",
    "        \"num_classes\" : 6,\n",
    "        \"learning_rate\" : 0.005,\n",
    "        \"optimizer\" : \"adam\",\n",
    "        \"loss\" : \"sparse_categorical_crossentropy\",\n",
    "        \"metrics\" : [\"accuracy\"],\n",
    "        \"epoch\" : 5,\n",
    "        \"batch_size\" : 32\n",
    "    }\n",
    "\n",
    "    wandb.init(config=default_config)\n",
    "    config = wandb.config\n",
    "\n",
    "\n",
    "    # 모델 생성 및 컴파일\n",
    "    model = CNN_V1()\n",
    "    model.compile(optimizer=config.optimizer,\n",
    "                  loss=config.loss,\n",
    "                  metrics=config.metrics)\n",
    "\n",
    "    # 모델 학습\n",
    "    model.fit(train_datagen, \n",
    "              epochs=config.epoch,\n",
    "              validation_data=val_datagen,\n",
    "              callbacks=[WandbCallback()])\n",
    "\n",
    "    # 모델 평가\n",
    "    test_loss, test_accuracy = model.evaluate(test_images, test_labels, verbose=2)\n",
    "\n",
    "    # 결과 로깅\n",
    "    wandb.log({\"Test Accuracy\": test_accuracy, \"Test Loss\": test_loss})\n",
    "\n",
    "    \n",
    "# entity와 project에 본인의 아이디와 프로젝트명을 입력하세요\n",
    "\n",
    "sweep_id = wandb.sweep(sweep_config,\n",
    "                       entity = \"3like4\",\n",
    "                       project = \"Jellyfish_project\")\n",
    "\n",
    "# run the sweep\n",
    "wandb.agent(sweep_id,\n",
    "            function=train,\n",
    "            count=10)"
   ]
  },
  {
   "cell_type": "markdown",
   "id": "0e0a9781",
   "metadata": {},
   "source": [
    "## CNN_V2 (모델간소화)"
   ]
  },
  {
   "cell_type": "code",
   "execution_count": 23,
   "id": "01e43969",
   "metadata": {},
   "outputs": [
    {
     "data": {
      "text/html": [
       "Changes to your `wandb` environment variables will be ignored because your `wandb` session has already started. For more information on how to modify your settings with `wandb.init()` arguments, please refer to <a href='https://wandb.me/wandb-init' target=\"_blank\">the W&B docs</a>."
      ],
      "text/plain": [
       "<IPython.core.display.HTML object>"
      ]
     },
     "metadata": {},
     "output_type": "display_data"
    },
    {
     "name": "stderr",
     "output_type": "stream",
     "text": [
      "\u001b[34m\u001b[1mwandb\u001b[0m: \u001b[33mWARNING\u001b[0m Ignored wandb.init() arg project when running a sweep.\n",
      "\u001b[34m\u001b[1mwandb\u001b[0m: \u001b[33mWARNING\u001b[0m Ignored wandb.init() arg entity when running a sweep.\n"
     ]
    },
    {
     "data": {
      "text/html": [
       "Finishing last run (ID:x8dgv6jf) before initializing another..."
      ],
      "text/plain": [
       "<IPython.core.display.HTML object>"
      ]
     },
     "metadata": {},
     "output_type": "display_data"
    },
    {
     "data": {
      "application/vnd.jupyter.widget-view+json": {
       "model_id": "",
       "version_major": 2,
       "version_minor": 0
      },
      "text/plain": [
       "VBox(children=(Label(value='0.001 MB of 0.001 MB uploaded\\r'), FloatProgress(value=1.0, max=1.0)))"
      ]
     },
     "metadata": {},
     "output_type": "display_data"
    },
    {
     "data": {
      "text/html": [
       " View run <strong style=\"color:#cdcd00\">CNN_V2-adam-20-0.001-gabe</strong> at: <a href='https://wandb.ai/3like4/Jellyfish_project/runs/x8dgv6jf' target=\"_blank\">https://wandb.ai/3like4/Jellyfish_project/runs/x8dgv6jf</a><br/>Synced 5 W&B file(s), 0 media file(s), 0 artifact file(s) and 0 other file(s)"
      ],
      "text/plain": [
       "<IPython.core.display.HTML object>"
      ]
     },
     "metadata": {},
     "output_type": "display_data"
    },
    {
     "data": {
      "text/html": [
       "Find logs at: <code>./wandb/run-20240110_155919-x8dgv6jf/logs</code>"
      ],
      "text/plain": [
       "<IPython.core.display.HTML object>"
      ]
     },
     "metadata": {},
     "output_type": "display_data"
    },
    {
     "data": {
      "text/html": [
       "Successfully finished last run (ID:x8dgv6jf). Initializing new run:<br/>"
      ],
      "text/plain": [
       "<IPython.core.display.HTML object>"
      ]
     },
     "metadata": {},
     "output_type": "display_data"
    },
    {
     "data": {
      "application/vnd.jupyter.widget-view+json": {
       "model_id": "b20abd39c9c74d3e89e1aec971197c7f",
       "version_major": 2,
       "version_minor": 0
      },
      "text/plain": [
       "VBox(children=(Label(value='Waiting for wandb.init()...\\r'), FloatProgress(value=0.011112856977787387, max=1.0…"
      ]
     },
     "metadata": {},
     "output_type": "display_data"
    },
    {
     "data": {
      "text/html": [
       "wandb version 0.16.2 is available!  To upgrade, please run:\n",
       " $ pip install wandb --upgrade"
      ],
      "text/plain": [
       "<IPython.core.display.HTML object>"
      ]
     },
     "metadata": {},
     "output_type": "display_data"
    },
    {
     "data": {
      "text/html": [
       "Tracking run with wandb version 0.16.0"
      ],
      "text/plain": [
       "<IPython.core.display.HTML object>"
      ]
     },
     "metadata": {},
     "output_type": "display_data"
    },
    {
     "data": {
      "text/html": [
       "Run data is saved locally in <code>/aiffel/aiffel/jellyfish/wandb/run-20240110_160012-x8dgv6jf</code>"
      ],
      "text/plain": [
       "<IPython.core.display.HTML object>"
      ]
     },
     "metadata": {},
     "output_type": "display_data"
    },
    {
     "data": {
      "text/html": [
       "Syncing run <strong><a href='https://wandb.ai/3like4/Jellyfish_project/runs/x8dgv6jf' target=\"_blank\">CNN_V2-adam-20-0.001-gabe</a></strong> to <a href='https://wandb.ai/3like4/Jellyfish_project' target=\"_blank\">Weights & Biases</a> (<a href='https://wandb.me/run' target=\"_blank\">docs</a>)<br/>Sweep page: <a href='https://wandb.ai/3like4/Jellyfish_project/sweeps/tx6sb7dx' target=\"_blank\">https://wandb.ai/3like4/Jellyfish_project/sweeps/tx6sb7dx</a>"
      ],
      "text/plain": [
       "<IPython.core.display.HTML object>"
      ]
     },
     "metadata": {},
     "output_type": "display_data"
    },
    {
     "data": {
      "text/html": [
       " View project at <a href='https://wandb.ai/3like4/Jellyfish_project' target=\"_blank\">https://wandb.ai/3like4/Jellyfish_project</a>"
      ],
      "text/plain": [
       "<IPython.core.display.HTML object>"
      ]
     },
     "metadata": {},
     "output_type": "display_data"
    },
    {
     "data": {
      "text/html": [
       " View sweep at <a href='https://wandb.ai/3like4/Jellyfish_project/sweeps/tx6sb7dx' target=\"_blank\">https://wandb.ai/3like4/Jellyfish_project/sweeps/tx6sb7dx</a>"
      ],
      "text/plain": [
       "<IPython.core.display.HTML object>"
      ]
     },
     "metadata": {},
     "output_type": "display_data"
    },
    {
     "data": {
      "text/html": [
       " View run at <a href='https://wandb.ai/3like4/Jellyfish_project/runs/x8dgv6jf' target=\"_blank\">https://wandb.ai/3like4/Jellyfish_project/runs/x8dgv6jf</a>"
      ],
      "text/plain": [
       "<IPython.core.display.HTML object>"
      ]
     },
     "metadata": {},
     "output_type": "display_data"
    },
    {
     "name": "stdout",
     "output_type": "stream",
     "text": [
      "Model: \"sequential_4\"\n",
      "_________________________________________________________________\n",
      "Layer (type)                 Output Shape              Param #   \n",
      "=================================================================\n",
      "conv2d_12 (Conv2D)           (None, 224, 224, 32)      896       \n",
      "_________________________________________________________________\n",
      "layer_normalization_9 (Layer (None, 224, 224, 32)      64        \n",
      "_________________________________________________________________\n",
      "max_pooling2d_11 (MaxPooling (None, 56, 56, 32)        0         \n",
      "_________________________________________________________________\n",
      "conv2d_13 (Conv2D)           (None, 56, 56, 32)        9248      \n",
      "_________________________________________________________________\n",
      "layer_normalization_10 (Laye (None, 56, 56, 32)        64        \n",
      "_________________________________________________________________\n",
      "max_pooling2d_12 (MaxPooling (None, 14, 14, 32)        0         \n",
      "_________________________________________________________________\n",
      "conv2d_14 (Conv2D)           (None, 14, 14, 32)        9248      \n",
      "_________________________________________________________________\n",
      "layer_normalization_11 (Laye (None, 14, 14, 32)        64        \n",
      "_________________________________________________________________\n",
      "max_pooling2d_13 (MaxPooling (None, 4, 4, 32)          0         \n",
      "_________________________________________________________________\n",
      "flatten_4 (Flatten)          (None, 512)               0         \n",
      "_________________________________________________________________\n",
      "dense_9 (Dense)              (None, 128)               65664     \n",
      "_________________________________________________________________\n",
      "dense_10 (Dense)             (None, 6)                 774       \n",
      "=================================================================\n",
      "Total params: 86,022\n",
      "Trainable params: 86,022\n",
      "Non-trainable params: 0\n",
      "_________________________________________________________________\n"
     ]
    }
   ],
   "source": [
    "# 실험 정보 설정\n",
    "model_name = \"CNN_V2\"\n",
    "optimizer_name = \"adam\"\n",
    "batch_size = 20\n",
    "learning_rate = 0.001\n",
    "experiment_name = model_name + \"-\" + optimizer_name + \"-\" + str(batch_size) + \"-\" + str(learning_rate) + \"-gabe\"\n",
    "\n",
    "# 팀명 설정\n",
    "team_name = \"3like4\"\n",
    "\n",
    "# WandB 실행 초기화 및 실험 이름 설정\n",
    "wandb.init(\n",
    "    project=\"Jellyfish_project\",\n",
    "    entity=team_name,\n",
    "    name=experiment_name,\n",
    ")\n",
    "\n",
    "def CNN_V2():\n",
    "    # Sequential 모델 정의\n",
    "    model = tf.keras.models.Sequential([\n",
    "        # 첫 번째 합성곱 레이어: 32개의 필터, 3x3 크기의 커널, 활성화 함수 ReLU\n",
    "        tf.keras.layers.Conv2D(32, (3, 3), activation='relu', input_shape=(224, 224, 3), padding='same'),\n",
    "\n",
    "        # 레이어 정규화 추가\n",
    "        tf.keras.layers.LayerNormalization(),\n",
    "\n",
    "        # 맥스 풀링 레이어: 4x4 크기의 풀링\n",
    "        tf.keras.layers.MaxPooling2D((4, 4), padding='same'),\n",
    "\n",
    "        # 두 번째 합성곱 레이어: 32개의 필터, 3x3 크기의 커널, 활성화 함수 ReLU\n",
    "        tf.keras.layers.Conv2D(32, (3, 3), activation='relu', padding='same'),\n",
    "\n",
    "        # 레이어 정규화 추가\n",
    "        tf.keras.layers.LayerNormalization(),\n",
    "\n",
    "        # 두 번째 맥스 풀링 레이어: 4x4 크기의 풀링\n",
    "        tf.keras.layers.MaxPooling2D((4, 4), padding='same'),\n",
    "\n",
    "        # 세 번째 합성곱 레이어: 32개의 필터, 3x3 크기의 커널, 활성화 함수 ReLU\n",
    "        tf.keras.layers.Conv2D(32, (3, 3), activation='relu', padding='same'),\n",
    "\n",
    "        # 레이어 정규화 추가\n",
    "        tf.keras.layers.LayerNormalization(),\n",
    "\n",
    "        # 세 번째 맥스 풀링 레이어: 4x4 크기의 풀링\n",
    "        tf.keras.layers.MaxPooling2D((4, 4), padding='same'),\n",
    "\n",
    "        # 데이터를 1차원으로 펼치는 레이어\n",
    "        tf.keras.layers.Flatten(),\n",
    "\n",
    "        # 첫 번째 밀집 레이어: 128개의 뉴런, 활성화 함수 ReLU\n",
    "        tf.keras.layers.Dense(128, activation='relu'),\n",
    "\n",
    "        # 출력 레이어: 클래스 수에 맞춰 6개의 뉴런, 활성화 함수 Softmax\n",
    "        tf.keras.layers.Dense(6, activation='softmax')  \n",
    "        ])\n",
    "    \n",
    "    return model\n",
    "\n",
    "# 모델 선언\n",
    "CNN_V2_model = CNN_V2()\n",
    "    \n",
    "# 모델 요약\n",
    "CNN_V2_model.summary()\n",
    "\n",
    "\n",
    "# 모델 컴파일\n",
    "CNN_V2_model.compile(optimizer='adam', loss='sparse_categorical_crossentropy', metrics=['accuracy'])"
   ]
  },
  {
   "cell_type": "markdown",
   "id": "f85f117b",
   "metadata": {},
   "source": [
    "### 모델 학습"
   ]
  },
  {
   "cell_type": "code",
   "execution_count": 24,
   "id": "17274e23",
   "metadata": {
    "scrolled": true
   },
   "outputs": [
    {
     "name": "stdout",
     "output_type": "stream",
     "text": [
      "Epoch 1/150\n",
      "45/45 [==============================] - 12s 207ms/step - loss: 1.8170 - accuracy: 0.2722 - val_loss: 1.4813 - val_accuracy: 0.3590\n",
      "Epoch 2/150\n",
      "45/45 [==============================] - 9s 204ms/step - loss: 1.5420 - accuracy: 0.3589 - val_loss: 1.3168 - val_accuracy: 0.4359\n",
      "Epoch 3/150\n",
      "45/45 [==============================] - 9s 203ms/step - loss: 1.3888 - accuracy: 0.4500 - val_loss: 1.2132 - val_accuracy: 0.4872\n",
      "Epoch 4/150\n",
      "45/45 [==============================] - 9s 202ms/step - loss: 1.3498 - accuracy: 0.4333 - val_loss: 1.1618 - val_accuracy: 0.5897\n",
      "Epoch 5/150\n",
      "45/45 [==============================] - 9s 206ms/step - loss: 1.2264 - accuracy: 0.5111 - val_loss: 1.1647 - val_accuracy: 0.4615\n",
      "Epoch 6/150\n",
      "45/45 [==============================] - 9s 200ms/step - loss: 1.1611 - accuracy: 0.5411 - val_loss: 1.3595 - val_accuracy: 0.4615\n",
      "Epoch 7/150\n",
      "45/45 [==============================] - 9s 203ms/step - loss: 1.1271 - accuracy: 0.5611 - val_loss: 1.2064 - val_accuracy: 0.4359\n",
      "Epoch 8/150\n",
      "45/45 [==============================] - 9s 204ms/step - loss: 1.0447 - accuracy: 0.5944 - val_loss: 1.1527 - val_accuracy: 0.5128\n",
      "Epoch 9/150\n",
      "45/45 [==============================] - 9s 202ms/step - loss: 0.9231 - accuracy: 0.6633 - val_loss: 1.1400 - val_accuracy: 0.6154\n",
      "Epoch 10/150\n",
      "45/45 [==============================] - 9s 201ms/step - loss: 0.9109 - accuracy: 0.6533 - val_loss: 1.1810 - val_accuracy: 0.5641\n",
      "Epoch 11/150\n",
      "45/45 [==============================] - 9s 204ms/step - loss: 0.8722 - accuracy: 0.6667 - val_loss: 1.1247 - val_accuracy: 0.6154\n",
      "Epoch 12/150\n",
      "45/45 [==============================] - 9s 203ms/step - loss: 0.8895 - accuracy: 0.6544 - val_loss: 1.2943 - val_accuracy: 0.6410\n",
      "Epoch 13/150\n",
      "45/45 [==============================] - 9s 201ms/step - loss: 0.7842 - accuracy: 0.7100 - val_loss: 1.3682 - val_accuracy: 0.5385\n",
      "Epoch 14/150\n",
      "45/45 [==============================] - 9s 203ms/step - loss: 0.7685 - accuracy: 0.7067 - val_loss: 1.2335 - val_accuracy: 0.6154\n",
      "Epoch 15/150\n",
      "45/45 [==============================] - 9s 203ms/step - loss: 0.7197 - accuracy: 0.7233 - val_loss: 1.3378 - val_accuracy: 0.4872\n",
      "Epoch 16/150\n",
      "45/45 [==============================] - 9s 202ms/step - loss: 0.6328 - accuracy: 0.7622 - val_loss: 1.3719 - val_accuracy: 0.5385\n",
      "Epoch 17/150\n",
      "45/45 [==============================] - 9s 204ms/step - loss: 0.6735 - accuracy: 0.7456 - val_loss: 1.5144 - val_accuracy: 0.5128\n",
      "Epoch 18/150\n",
      "45/45 [==============================] - 9s 207ms/step - loss: 0.6317 - accuracy: 0.7578 - val_loss: 1.3173 - val_accuracy: 0.6410\n",
      "Epoch 19/150\n",
      "45/45 [==============================] - 9s 200ms/step - loss: 0.6060 - accuracy: 0.7644 - val_loss: 1.3242 - val_accuracy: 0.6410\n",
      "Epoch 20/150\n",
      "45/45 [==============================] - 9s 202ms/step - loss: 0.5294 - accuracy: 0.8000 - val_loss: 1.4597 - val_accuracy: 0.6154\n",
      "Epoch 21/150\n",
      "45/45 [==============================] - 9s 202ms/step - loss: 0.4762 - accuracy: 0.8244 - val_loss: 1.5558 - val_accuracy: 0.6410\n"
     ]
    },
    {
     "data": {
      "application/vnd.jupyter.widget-view+json": {
       "model_id": "",
       "version_major": 2,
       "version_minor": 0
      },
      "text/plain": [
       "VBox(children=(Label(value='0.001 MB of 0.001 MB uploaded\\r'), FloatProgress(value=1.0, max=1.0)))"
      ]
     },
     "metadata": {},
     "output_type": "display_data"
    },
    {
     "data": {
      "text/html": [
       " View run <strong style=\"color:#cdcd00\">CNN_V2-adam-20-0.001-gabe</strong> at: <a href='https://wandb.ai/3like4/Jellyfish_project/runs/x8dgv6jf' target=\"_blank\">https://wandb.ai/3like4/Jellyfish_project/runs/x8dgv6jf</a><br/>Synced 5 W&B file(s), 0 media file(s), 0 artifact file(s) and 0 other file(s)"
      ],
      "text/plain": [
       "<IPython.core.display.HTML object>"
      ]
     },
     "metadata": {},
     "output_type": "display_data"
    },
    {
     "data": {
      "text/html": [
       "Find logs at: <code>./wandb/run-20240110_160012-x8dgv6jf/logs</code>"
      ],
      "text/plain": [
       "<IPython.core.display.HTML object>"
      ]
     },
     "metadata": {},
     "output_type": "display_data"
    }
   ],
   "source": [
    "from tensorflow.keras.callbacks import EarlyStopping, ModelCheckpoint\n",
    "\n",
    "# 조기 종료 콜백 정의\n",
    "early_stopping_callback = EarlyStopping(monitor='val_loss', patience=10, restore_best_weights=True)\n",
    "\n",
    "# 모델 저장 콜백 정의\n",
    "model_checkpoint_callback = ModelCheckpoint(filepath='CNN_V2.h5', save_best_only=True, monitor='val_loss')\n",
    "\n",
    "# 모델 학습\n",
    "history = CNN_V2_model.fit(train_datagen, epochs=150, validation_data=val_datagen, callbacks=[early_stopping_callback, model_checkpoint_callback])\n",
    "\n",
    "# WandB에 로깅 정보 전송\n",
    "wandb.log({\"train_loss\": history.history['loss'], \"val_loss\": history.history['val_loss'],\n",
    "           \"train_accuracy\": history.history['accuracy'], \"val_accuracy\": history.history['val_accuracy']})\n",
    "\n",
    "# WandB 실행을 마무리합니다.\n",
    "wandb.finish()"
   ]
  },
  {
   "cell_type": "code",
   "execution_count": 25,
   "id": "d2c2e5fd",
   "metadata": {},
   "outputs": [
    {
     "name": "stdout",
     "output_type": "stream",
     "text": [
      "Best Accuracy: 0.6544 at Epoch 12\n",
      "Best Validation Accuracy: 0.6410 at Epoch 12\n"
     ]
    }
   ],
   "source": [
    "accuracy = history.history['accuracy']\n",
    "val_accuracy = history.history['val_accuracy']\n",
    "\n",
    "# Find the epoch with the highest validation accuracy\n",
    "best_epoch = val_accuracy.index(max(val_accuracy)) + 1  # Add 1 because epochs are 1-indexed\n",
    "\n",
    "print(f\"Best Accuracy: {accuracy[best_epoch-1]:.4f} at Epoch {best_epoch}\")\n",
    "print(f\"Best Validation Accuracy: {val_accuracy[best_epoch-1]:.4f} at Epoch {best_epoch}\")"
   ]
  },
  {
   "cell_type": "code",
   "execution_count": 26,
   "id": "754b4404",
   "metadata": {},
   "outputs": [
    {
     "data": {
      "image/png": "[encoded data removed]",
      "text/plain": [
       "<Figure size 864x432 with 2 Axes>"
      ]
     },
     "metadata": {},
     "output_type": "display_data"
    }
   ],
   "source": [
    "# 학습 결과를 시각화\n",
    "plot_accuracy_and_loss(history)"
   ]
  },
  {
   "cell_type": "markdown",
   "id": "a51fdc16",
   "metadata": {},
   "source": [
    "### 모델 평가 및 개선 방안 수립"
   ]
  },
  {
   "cell_type": "markdown",
   "id": "47ec1a7f",
   "metadata": {},
   "source": [
    "- 학습/검증 정확도는 이전모델보다 성능이 향상되었습니다. 다만 초기 epoch에 최고성능에 도달한 뒤, 지속적으로 성능이 악화되고 있습니다.\n",
    "- 이전 모델보다는 일반화 성능이 좋아진 모델임은 맞지만, 아직까지도 과적합이 발생하는 것으로 보여집니다.\n",
    "- 모델 구조적 측면의 개선을 위해 아래의 방법들을 시도해 보겠습니다.\n",
    "    - 드롭아웃 추가 : 각 convolution layer 후에 드롭아웃을 추가해 과적합을 억제 시킵니다.\n",
    "    - 필터 수 조정 : 모델 복잡성을 감소 시킵니다.\n",
    "    - 맥스 풀링 크기 축소 : 2 x 2 로 크기를 조절해서, 특성 맵의 크기를 너무 빠르게 줄이지 않도록 수정합니다.\n",
    "    - Global Average Pooling 적용 : Flatten 대신 사용하여 파라미터수를 줄이고 과적합을 방지할 수 있습니다."
   ]
  },
  {
   "cell_type": "code",
   "execution_count": 27,
   "id": "8cdb2eb1",
   "metadata": {},
   "outputs": [
    {
     "name": "stdout",
     "output_type": "stream",
     "text": [
      "Create sweep with ID: haqkrcc0\n",
      "Sweep URL: https://wandb.ai/3like4/Jellyfish_project/sweeps/haqkrcc0\n"
     ]
    },
    {
     "name": "stderr",
     "output_type": "stream",
     "text": [
      "\u001b[34m\u001b[1mwandb\u001b[0m: Agent Starting Run: 8uxg6o0v with config:\n",
      "\u001b[34m\u001b[1mwandb\u001b[0m: \tepoch: 7\n",
      "\u001b[34m\u001b[1mwandb\u001b[0m: \tlearning_rate: 0.0778235231103807\n"
     ]
    },
    {
     "data": {
      "text/html": [
       "wandb version 0.16.2 is available!  To upgrade, please run:\n",
       " $ pip install wandb --upgrade"
      ],
      "text/plain": [
       "<IPython.core.display.HTML object>"
      ]
     },
     "metadata": {},
     "output_type": "display_data"
    },
    {
     "data": {
      "text/html": [
       "Tracking run with wandb version 0.16.0"
      ],
      "text/plain": [
       "<IPython.core.display.HTML object>"
      ]
     },
     "metadata": {},
     "output_type": "display_data"
    },
    {
     "data": {
      "text/html": [
       "Run data is saved locally in <code>/aiffel/aiffel/jellyfish/wandb/run-20240110_160352-8uxg6o0v</code>"
      ],
      "text/plain": [
       "<IPython.core.display.HTML object>"
      ]
     },
     "metadata": {},
     "output_type": "display_data"
    },
    {
     "data": {
      "text/html": [
       "Syncing run <strong><a href='https://wandb.ai/3like4/Jellyfish_project/runs/8uxg6o0v' target=\"_blank\">crisp-sweep-1</a></strong> to <a href='https://wandb.ai/3like4/Jellyfish_project' target=\"_blank\">Weights & Biases</a> (<a href='https://wandb.me/run' target=\"_blank\">docs</a>)<br/>Sweep page: <a href='https://wandb.ai/3like4/Jellyfish_project/sweeps/haqkrcc0' target=\"_blank\">https://wandb.ai/3like4/Jellyfish_project/sweeps/haqkrcc0</a>"
      ],
      "text/plain": [
       "<IPython.core.display.HTML object>"
      ]
     },
     "metadata": {},
     "output_type": "display_data"
    },
    {
     "data": {
      "text/html": [
       " View project at <a href='https://wandb.ai/3like4/Jellyfish_project' target=\"_blank\">https://wandb.ai/3like4/Jellyfish_project</a>"
      ],
      "text/plain": [
       "<IPython.core.display.HTML object>"
      ]
     },
     "metadata": {},
     "output_type": "display_data"
    },
    {
     "data": {
      "text/html": [
       " View sweep at <a href='https://wandb.ai/3like4/Jellyfish_project/sweeps/haqkrcc0' target=\"_blank\">https://wandb.ai/3like4/Jellyfish_project/sweeps/haqkrcc0</a>"
      ],
      "text/plain": [
       "<IPython.core.display.HTML object>"
      ]
     },
     "metadata": {},
     "output_type": "display_data"
    },
    {
     "data": {
      "text/html": [
       " View run at <a href='https://wandb.ai/3like4/Jellyfish_project/runs/8uxg6o0v' target=\"_blank\">https://wandb.ai/3like4/Jellyfish_project/runs/8uxg6o0v</a>"
      ],
      "text/plain": [
       "<IPython.core.display.HTML object>"
      ]
     },
     "metadata": {},
     "output_type": "display_data"
    },
    {
     "name": "stdout",
     "output_type": "stream",
     "text": [
      "Epoch 1/7\n",
      "45/45 [==============================] - 9s 200ms/step - loss: 1.0341 - accuracy: 0.5867 - val_loss: 1.1784 - val_accuracy: 0.4872\n",
      "INFO:tensorflow:Assets written to: /aiffel/aiffel/jellyfish/wandb/run-20240110_160352-8uxg6o0v/files/model-best/assets\n"
     ]
    },
    {
     "name": "stderr",
     "output_type": "stream",
     "text": [
      "\u001b[34m\u001b[1mwandb\u001b[0m: Adding directory to artifact (/aiffel/aiffel/jellyfish/wandb/run-20240110_160352-8uxg6o0v/files/model-best)... Done. 9.9s\n"
     ]
    },
    {
     "name": "stdout",
     "output_type": "stream",
     "text": [
      "Epoch 2/7\n",
      "45/45 [==============================] - 9s 205ms/step - loss: 0.8934 - accuracy: 0.6489 - val_loss: 1.3883 - val_accuracy: 0.4359\n",
      "Epoch 3/7\n",
      "45/45 [==============================] - 9s 200ms/step - loss: 0.9250 - accuracy: 0.6433 - val_loss: 1.3385 - val_accuracy: 0.4872 - los\n",
      "Epoch 4/7\n",
      "45/45 [==============================] - 9s 197ms/step - loss: 0.8995 - accuracy: 0.6444 - val_loss: 1.2843 - val_accuracy: 0.4872\n",
      "Epoch 5/7\n",
      "45/45 [==============================] - 9s 196ms/step - loss: 0.8414 - accuracy: 0.6811 - val_loss: 1.1909 - val_accuracy: 0.5128\n",
      "Epoch 6/7\n",
      "45/45 [==============================] - 9s 196ms/step - loss: 0.8400 - accuracy: 0.6856 - val_loss: 1.4144 - val_accuracy: 0.4872\n",
      "Epoch 7/7\n",
      "45/45 [==============================] - 9s 198ms/step - loss: 0.8388 - accuracy: 0.6867 - val_loss: 1.4479 - val_accuracy: 0.5385.8467 - accu\n",
      "2/2 - 0s - loss: 1.2588 - accuracy: 0.5500\n"
     ]
    },
    {
     "data": {
      "application/vnd.jupyter.widget-view+json": {
       "model_id": "",
       "version_major": 2,
       "version_minor": 0
      },
      "text/plain": [
       "VBox(children=(Label(value='392.712 MB of 392.712 MB uploaded\\r'), FloatProgress(value=1.0, max=1.0)))"
      ]
     },
     "metadata": {},
     "output_type": "display_data"
    },
    {
     "data": {
      "text/html": [
       "<style>\n",
       "    table.wandb td:nth-child(1) { padding: 0 10px; text-align: left ; width: auto;} td:nth-child(2) {text-align: left ; width: 100%}\n",
       "    .wandb-row { display: flex; flex-direction: row; flex-wrap: wrap; justify-content: flex-start; width: 100% }\n",
       "    .wandb-col { display: flex; flex-direction: column; flex-basis: 100%; flex: 1; padding: 10px; }\n",
       "    </style>\n",
       "<div class=\"wandb-row\"><div class=\"wandb-col\"><h3>Run history:</h3><br/><table class=\"wandb\"><tr><td>Test Accuracy</td><td>▁</td></tr><tr><td>Test Loss</td><td>▁</td></tr><tr><td>accuracy</td><td>▁▅▅▅███</td></tr><tr><td>epoch</td><td>▁▂▃▅▆▇█</td></tr><tr><td>loss</td><td>█▃▄▃▁▁▁</td></tr><tr><td>val_accuracy</td><td>▄▁▄▄▆▄█</td></tr><tr><td>val_loss</td><td>▁▆▅▄▁▇█</td></tr></table><br/></div><div class=\"wandb-col\"><h3>Run summary:</h3><br/><table class=\"wandb\"><tr><td>Test Accuracy</td><td>0.55</td></tr><tr><td>Test Loss</td><td>1.25877</td></tr><tr><td>accuracy</td><td>0.68667</td></tr><tr><td>best_epoch</td><td>0</td></tr><tr><td>best_val_loss</td><td>1.17845</td></tr><tr><td>epoch</td><td>6</td></tr><tr><td>loss</td><td>0.83878</td></tr><tr><td>val_accuracy</td><td>0.53846</td></tr><tr><td>val_loss</td><td>1.44785</td></tr></table><br/></div></div>"
      ],
      "text/plain": [
       "<IPython.core.display.HTML object>"
      ]
     },
     "metadata": {},
     "output_type": "display_data"
    },
    {
     "data": {
      "text/html": [
       " View run <strong style=\"color:#cdcd00\">crisp-sweep-1</strong> at: <a href='https://wandb.ai/3like4/Jellyfish_project/runs/8uxg6o0v' target=\"_blank\">https://wandb.ai/3like4/Jellyfish_project/runs/8uxg6o0v</a><br/>Synced 5 W&B file(s), 1 media file(s), 4 artifact file(s) and 1 other file(s)"
      ],
      "text/plain": [
       "<IPython.core.display.HTML object>"
      ]
     },
     "metadata": {},
     "output_type": "display_data"
    },
    {
     "data": {
      "text/html": [
       "Find logs at: <code>./wandb/run-20240110_160352-8uxg6o0v/logs</code>"
      ],
      "text/plain": [
       "<IPython.core.display.HTML object>"
      ]
     },
     "metadata": {},
     "output_type": "display_data"
    },
    {
     "name": "stderr",
     "output_type": "stream",
     "text": [
      "\u001b[34m\u001b[1mwandb\u001b[0m: Agent Starting Run: s6iivrfl with config:\n",
      "\u001b[34m\u001b[1mwandb\u001b[0m: \tepoch: 7\n",
      "\u001b[34m\u001b[1mwandb\u001b[0m: \tlearning_rate: 0.0237417271453808\n"
     ]
    },
    {
     "data": {
      "text/html": [
       "wandb version 0.16.2 is available!  To upgrade, please run:\n",
       " $ pip install wandb --upgrade"
      ],
      "text/plain": [
       "<IPython.core.display.HTML object>"
      ]
     },
     "metadata": {},
     "output_type": "display_data"
    },
    {
     "data": {
      "text/html": [
       "Tracking run with wandb version 0.16.0"
      ],
      "text/plain": [
       "<IPython.core.display.HTML object>"
      ]
     },
     "metadata": {},
     "output_type": "display_data"
    },
    {
     "data": {
      "text/html": [
       "Run data is saved locally in <code>/aiffel/aiffel/jellyfish/wandb/run-20240110_160524-s6iivrfl</code>"
      ],
      "text/plain": [
       "<IPython.core.display.HTML object>"
      ]
     },
     "metadata": {},
     "output_type": "display_data"
    },
    {
     "data": {
      "text/html": [
       "Syncing run <strong><a href='https://wandb.ai/3like4/Jellyfish_project/runs/s6iivrfl' target=\"_blank\">peachy-sweep-2</a></strong> to <a href='https://wandb.ai/3like4/Jellyfish_project' target=\"_blank\">Weights & Biases</a> (<a href='https://wandb.me/run' target=\"_blank\">docs</a>)<br/>Sweep page: <a href='https://wandb.ai/3like4/Jellyfish_project/sweeps/haqkrcc0' target=\"_blank\">https://wandb.ai/3like4/Jellyfish_project/sweeps/haqkrcc0</a>"
      ],
      "text/plain": [
       "<IPython.core.display.HTML object>"
      ]
     },
     "metadata": {},
     "output_type": "display_data"
    },
    {
     "data": {
      "text/html": [
       " View project at <a href='https://wandb.ai/3like4/Jellyfish_project' target=\"_blank\">https://wandb.ai/3like4/Jellyfish_project</a>"
      ],
      "text/plain": [
       "<IPython.core.display.HTML object>"
      ]
     },
     "metadata": {},
     "output_type": "display_data"
    },
    {
     "data": {
      "text/html": [
       " View sweep at <a href='https://wandb.ai/3like4/Jellyfish_project/sweeps/haqkrcc0' target=\"_blank\">https://wandb.ai/3like4/Jellyfish_project/sweeps/haqkrcc0</a>"
      ],
      "text/plain": [
       "<IPython.core.display.HTML object>"
      ]
     },
     "metadata": {},
     "output_type": "display_data"
    },
    {
     "data": {
      "text/html": [
       " View run at <a href='https://wandb.ai/3like4/Jellyfish_project/runs/s6iivrfl' target=\"_blank\">https://wandb.ai/3like4/Jellyfish_project/runs/s6iivrfl</a>"
      ],
      "text/plain": [
       "<IPython.core.display.HTML object>"
      ]
     },
     "metadata": {},
     "output_type": "display_data"
    },
    {
     "name": "stdout",
     "output_type": "stream",
     "text": [
      "Epoch 1/7\n",
      "45/45 [==============================] - 9s 196ms/step - loss: 0.8080 - accuracy: 0.6900 - val_loss: 1.1973 - val_accuracy: 0.5128\n",
      "INFO:tensorflow:Assets written to: /aiffel/aiffel/jellyfish/wandb/run-20240110_160524-s6iivrfl/files/model-best/assets\n"
     ]
    },
    {
     "name": "stderr",
     "output_type": "stream",
     "text": [
      "\u001b[34m\u001b[1mwandb\u001b[0m: Adding directory to artifact (/aiffel/aiffel/jellyfish/wandb/run-20240110_160524-s6iivrfl/files/model-best)... Done. 8.7s\n"
     ]
    },
    {
     "name": "stdout",
     "output_type": "stream",
     "text": [
      "Epoch 2/7\n",
      "45/45 [==============================] - 9s 199ms/step - loss: 0.6939 - accuracy: 0.7411 - val_loss: 1.1737 - val_accuracy: 0.6154\n",
      "INFO:tensorflow:Assets written to: /aiffel/aiffel/jellyfish/wandb/run-20240110_160524-s6iivrfl/files/model-best/assets\n"
     ]
    },
    {
     "name": "stderr",
     "output_type": "stream",
     "text": [
      "\u001b[34m\u001b[1mwandb\u001b[0m: Adding directory to artifact (/aiffel/aiffel/jellyfish/wandb/run-20240110_160524-s6iivrfl/files/model-best)... Done. 8.1s\n"
     ]
    },
    {
     "name": "stdout",
     "output_type": "stream",
     "text": [
      "Epoch 3/7\n",
      "45/45 [==============================] - 9s 202ms/step - loss: 0.6524 - accuracy: 0.7656 - val_loss: 1.3505 - val_accuracy: 0.5128\n",
      "Epoch 4/7\n",
      "45/45 [==============================] - 9s 201ms/step - loss: 0.7373 - accuracy: 0.7200 - val_loss: 1.3500 - val_accuracy: 0.5128\n",
      "Epoch 5/7\n",
      "45/45 [==============================] - 9s 196ms/step - loss: 0.7058 - accuracy: 0.7467 - val_loss: 1.3900 - val_accuracy: 0.5128\n",
      "Epoch 6/7\n",
      "45/45 [==============================] - 9s 196ms/step - loss: 0.6759 - accuracy: 0.7456 - val_loss: 1.3787 - val_accuracy: 0.5641\n",
      "Epoch 7/7\n",
      "45/45 [==============================] - 9s 196ms/step - loss: 0.6712 - accuracy: 0.7611 - val_loss: 1.4738 - val_accuracy: 0.4872\n",
      "2/2 - 0s - loss: 1.2768 - accuracy: 0.5750\n"
     ]
    },
    {
     "data": {
      "application/vnd.jupyter.widget-view+json": {
       "model_id": "",
       "version_major": 2,
       "version_minor": 0
      },
      "text/plain": [
       "VBox(children=(Label(value='883.533 MB of 883.533 MB uploaded (0.023 MB deduped)\\r'), FloatProgress(value=1.0,…"
      ]
     },
     "metadata": {},
     "output_type": "display_data"
    },
    {
     "data": {
      "text/html": [
       "<style>\n",
       "    table.wandb td:nth-child(1) { padding: 0 10px; text-align: left ; width: auto;} td:nth-child(2) {text-align: left ; width: 100%}\n",
       "    .wandb-row { display: flex; flex-direction: row; flex-wrap: wrap; justify-content: flex-start; width: 100% }\n",
       "    .wandb-col { display: flex; flex-direction: column; flex-basis: 100%; flex: 1; padding: 10px; }\n",
       "    </style>\n",
       "<div class=\"wandb-row\"><div class=\"wandb-col\"><h3>Run history:</h3><br/><table class=\"wandb\"><tr><td>Test Accuracy</td><td>▁</td></tr><tr><td>Test Loss</td><td>▁</td></tr><tr><td>accuracy</td><td>▁▆█▄▆▆█</td></tr><tr><td>epoch</td><td>▁▂▃▅▆▇█</td></tr><tr><td>loss</td><td>█▃▁▅▃▂▂</td></tr><tr><td>val_accuracy</td><td>▂█▂▂▂▅▁</td></tr><tr><td>val_loss</td><td>▂▁▅▅▆▆█</td></tr></table><br/></div><div class=\"wandb-col\"><h3>Run summary:</h3><br/><table class=\"wandb\"><tr><td>Test Accuracy</td><td>0.575</td></tr><tr><td>Test Loss</td><td>1.27678</td></tr><tr><td>accuracy</td><td>0.76111</td></tr><tr><td>best_epoch</td><td>1</td></tr><tr><td>best_val_loss</td><td>1.17368</td></tr><tr><td>epoch</td><td>6</td></tr><tr><td>loss</td><td>0.6712</td></tr><tr><td>val_accuracy</td><td>0.48718</td></tr><tr><td>val_loss</td><td>1.47383</td></tr></table><br/></div></div>"
      ],
      "text/plain": [
       "<IPython.core.display.HTML object>"
      ]
     },
     "metadata": {},
     "output_type": "display_data"
    },
    {
     "data": {
      "text/html": [
       " View run <strong style=\"color:#cdcd00\">peachy-sweep-2</strong> at: <a href='https://wandb.ai/3like4/Jellyfish_project/runs/s6iivrfl' target=\"_blank\">https://wandb.ai/3like4/Jellyfish_project/runs/s6iivrfl</a><br/>Synced 5 W&B file(s), 1 media file(s), 8 artifact file(s) and 1 other file(s)"
      ],
      "text/plain": [
       "<IPython.core.display.HTML object>"
      ]
     },
     "metadata": {},
     "output_type": "display_data"
    },
    {
     "data": {
      "text/html": [
       "Find logs at: <code>./wandb/run-20240110_160524-s6iivrfl/logs</code>"
      ],
      "text/plain": [
       "<IPython.core.display.HTML object>"
      ]
     },
     "metadata": {},
     "output_type": "display_data"
    },
    {
     "name": "stderr",
     "output_type": "stream",
     "text": [
      "\u001b[34m\u001b[1mwandb\u001b[0m: Agent Starting Run: udlri2oe with config:\n",
      "\u001b[34m\u001b[1mwandb\u001b[0m: \tepoch: 7\n",
      "\u001b[34m\u001b[1mwandb\u001b[0m: \tlearning_rate: 0.04189937369666489\n"
     ]
    },
    {
     "data": {
      "text/html": [
       "wandb version 0.16.2 is available!  To upgrade, please run:\n",
       " $ pip install wandb --upgrade"
      ],
      "text/plain": [
       "<IPython.core.display.HTML object>"
      ]
     },
     "metadata": {},
     "output_type": "display_data"
    },
    {
     "data": {
      "text/html": [
       "Tracking run with wandb version 0.16.0"
      ],
      "text/plain": [
       "<IPython.core.display.HTML object>"
      ]
     },
     "metadata": {},
     "output_type": "display_data"
    },
    {
     "data": {
      "text/html": [
       "Run data is saved locally in <code>/aiffel/aiffel/jellyfish/wandb/run-20240110_160718-udlri2oe</code>"
      ],
      "text/plain": [
       "<IPython.core.display.HTML object>"
      ]
     },
     "metadata": {},
     "output_type": "display_data"
    },
    {
     "data": {
      "text/html": [
       "Syncing run <strong><a href='https://wandb.ai/3like4/Jellyfish_project/runs/udlri2oe' target=\"_blank\">ancient-sweep-3</a></strong> to <a href='https://wandb.ai/3like4/Jellyfish_project' target=\"_blank\">Weights & Biases</a> (<a href='https://wandb.me/run' target=\"_blank\">docs</a>)<br/>Sweep page: <a href='https://wandb.ai/3like4/Jellyfish_project/sweeps/haqkrcc0' target=\"_blank\">https://wandb.ai/3like4/Jellyfish_project/sweeps/haqkrcc0</a>"
      ],
      "text/plain": [
       "<IPython.core.display.HTML object>"
      ]
     },
     "metadata": {},
     "output_type": "display_data"
    },
    {
     "data": {
      "text/html": [
       " View project at <a href='https://wandb.ai/3like4/Jellyfish_project' target=\"_blank\">https://wandb.ai/3like4/Jellyfish_project</a>"
      ],
      "text/plain": [
       "<IPython.core.display.HTML object>"
      ]
     },
     "metadata": {},
     "output_type": "display_data"
    },
    {
     "data": {
      "text/html": [
       " View sweep at <a href='https://wandb.ai/3like4/Jellyfish_project/sweeps/haqkrcc0' target=\"_blank\">https://wandb.ai/3like4/Jellyfish_project/sweeps/haqkrcc0</a>"
      ],
      "text/plain": [
       "<IPython.core.display.HTML object>"
      ]
     },
     "metadata": {},
     "output_type": "display_data"
    },
    {
     "data": {
      "text/html": [
       " View run at <a href='https://wandb.ai/3like4/Jellyfish_project/runs/udlri2oe' target=\"_blank\">https://wandb.ai/3like4/Jellyfish_project/runs/udlri2oe</a>"
      ],
      "text/plain": [
       "<IPython.core.display.HTML object>"
      ]
     },
     "metadata": {},
     "output_type": "display_data"
    },
    {
     "name": "stdout",
     "output_type": "stream",
     "text": [
      "Epoch 1/7\n",
      "45/45 [==============================] - 9s 199ms/step - loss: 0.5844 - accuracy: 0.7867 - val_loss: 1.3455 - val_accuracy: 0.4872\n",
      "INFO:tensorflow:Assets written to: /aiffel/aiffel/jellyfish/wandb/run-20240110_160718-udlri2oe/files/model-best/assets\n"
     ]
    },
    {
     "name": "stderr",
     "output_type": "stream",
     "text": [
      "\u001b[34m\u001b[1mwandb\u001b[0m: Adding directory to artifact (/aiffel/aiffel/jellyfish/wandb/run-20240110_160718-udlri2oe/files/model-best)... Done. 6.9s\n"
     ]
    },
    {
     "name": "stdout",
     "output_type": "stream",
     "text": [
      "Epoch 2/7\n",
      "45/45 [==============================] - 9s 202ms/step - loss: 0.5744 - accuracy: 0.7789 - val_loss: 1.2393 - val_accuracy: 0.5385\n",
      "INFO:tensorflow:Assets written to: /aiffel/aiffel/jellyfish/wandb/run-20240110_160718-udlri2oe/files/model-best/assets\n"
     ]
    },
    {
     "name": "stderr",
     "output_type": "stream",
     "text": [
      "\u001b[34m\u001b[1mwandb\u001b[0m: Adding directory to artifact (/aiffel/aiffel/jellyfish/wandb/run-20240110_160718-udlri2oe/files/model-best)... Done. 8.1s\n"
     ]
    },
    {
     "name": "stdout",
     "output_type": "stream",
     "text": [
      "Epoch 3/7\n",
      "45/45 [==============================] - 9s 205ms/step - loss: 0.5511 - accuracy: 0.8189 - val_loss: 1.4188 - val_accuracy: 0.4872\n",
      "Epoch 4/7\n",
      "45/45 [==============================] - 9s 198ms/step - loss: 0.5963 - accuracy: 0.7822 - val_loss: 1.2552 - val_accuracy: 0.5897\n",
      "Epoch 5/7\n",
      "45/45 [==============================] - 9s 197ms/step - loss: 0.5270 - accuracy: 0.8267 - val_loss: 1.3748 - val_accuracy: 0.5128\n",
      "Epoch 6/7\n",
      "45/45 [==============================] - 9s 195ms/step - loss: 0.4645 - accuracy: 0.8300 - val_loss: 1.4009 - val_accuracy: 0.5385\n",
      "Epoch 7/7\n",
      "45/45 [==============================] - 9s 197ms/step - loss: 0.4722 - accuracy: 0.8156 - val_loss: 1.3926 - val_accuracy: 0.6154\n",
      "2/2 - 0s - loss: 1.3744 - accuracy: 0.6500\n"
     ]
    },
    {
     "data": {
      "application/vnd.jupyter.widget-view+json": {
       "model_id": "",
       "version_major": 2,
       "version_minor": 0
      },
      "text/plain": [
       "VBox(children=(Label(value='883.533 MB of 883.533 MB uploaded (0.023 MB deduped)\\r'), FloatProgress(value=1.0,…"
      ]
     },
     "metadata": {},
     "output_type": "display_data"
    },
    {
     "data": {
      "text/html": [
       "<style>\n",
       "    table.wandb td:nth-child(1) { padding: 0 10px; text-align: left ; width: auto;} td:nth-child(2) {text-align: left ; width: 100%}\n",
       "    .wandb-row { display: flex; flex-direction: row; flex-wrap: wrap; justify-content: flex-start; width: 100% }\n",
       "    .wandb-col { display: flex; flex-direction: column; flex-basis: 100%; flex: 1; padding: 10px; }\n",
       "    </style>\n",
       "<div class=\"wandb-row\"><div class=\"wandb-col\"><h3>Run history:</h3><br/><table class=\"wandb\"><tr><td>Test Accuracy</td><td>▁</td></tr><tr><td>Test Loss</td><td>▁</td></tr><tr><td>accuracy</td><td>▂▁▆▁██▆</td></tr><tr><td>epoch</td><td>▁▂▃▅▆▇█</td></tr><tr><td>loss</td><td>▇▇▆█▄▁▁</td></tr><tr><td>val_accuracy</td><td>▁▄▁▇▂▄█</td></tr><tr><td>val_loss</td><td>▅▁█▂▆▇▇</td></tr></table><br/></div><div class=\"wandb-col\"><h3>Run summary:</h3><br/><table class=\"wandb\"><tr><td>Test Accuracy</td><td>0.65</td></tr><tr><td>Test Loss</td><td>1.37436</td></tr><tr><td>accuracy</td><td>0.81556</td></tr><tr><td>best_epoch</td><td>1</td></tr><tr><td>best_val_loss</td><td>1.2393</td></tr><tr><td>epoch</td><td>6</td></tr><tr><td>loss</td><td>0.47221</td></tr><tr><td>val_accuracy</td><td>0.61538</td></tr><tr><td>val_loss</td><td>1.3926</td></tr></table><br/></div></div>"
      ],
      "text/plain": [
       "<IPython.core.display.HTML object>"
      ]
     },
     "metadata": {},
     "output_type": "display_data"
    },
    {
     "data": {
      "text/html": [
       " View run <strong style=\"color:#cdcd00\">ancient-sweep-3</strong> at: <a href='https://wandb.ai/3like4/Jellyfish_project/runs/udlri2oe' target=\"_blank\">https://wandb.ai/3like4/Jellyfish_project/runs/udlri2oe</a><br/>Synced 5 W&B file(s), 1 media file(s), 8 artifact file(s) and 1 other file(s)"
      ],
      "text/plain": [
       "<IPython.core.display.HTML object>"
      ]
     },
     "metadata": {},
     "output_type": "display_data"
    },
    {
     "data": {
      "text/html": [
       "Find logs at: <code>./wandb/run-20240110_160718-udlri2oe/logs</code>"
      ],
      "text/plain": [
       "<IPython.core.display.HTML object>"
      ]
     },
     "metadata": {},
     "output_type": "display_data"
    },
    {
     "name": "stderr",
     "output_type": "stream",
     "text": [
      "\u001b[34m\u001b[1mwandb\u001b[0m: Agent Starting Run: gr9sd88d with config:\n",
      "\u001b[34m\u001b[1mwandb\u001b[0m: \tepoch: 9\n",
      "\u001b[34m\u001b[1mwandb\u001b[0m: \tlearning_rate: 0.0752619419639608\n"
     ]
    },
    {
     "data": {
      "text/html": [
       "wandb version 0.16.2 is available!  To upgrade, please run:\n",
       " $ pip install wandb --upgrade"
      ],
      "text/plain": [
       "<IPython.core.display.HTML object>"
      ]
     },
     "metadata": {},
     "output_type": "display_data"
    },
    {
     "data": {
      "text/html": [
       "Tracking run with wandb version 0.16.0"
      ],
      "text/plain": [
       "<IPython.core.display.HTML object>"
      ]
     },
     "metadata": {},
     "output_type": "display_data"
    },
    {
     "data": {
      "text/html": [
       "Run data is saved locally in <code>/aiffel/aiffel/jellyfish/wandb/run-20240110_160912-gr9sd88d</code>"
      ],
      "text/plain": [
       "<IPython.core.display.HTML object>"
      ]
     },
     "metadata": {},
     "output_type": "display_data"
    },
    {
     "data": {
      "text/html": [
       "Syncing run <strong><a href='https://wandb.ai/3like4/Jellyfish_project/runs/gr9sd88d' target=\"_blank\">classic-sweep-4</a></strong> to <a href='https://wandb.ai/3like4/Jellyfish_project' target=\"_blank\">Weights & Biases</a> (<a href='https://wandb.me/run' target=\"_blank\">docs</a>)<br/>Sweep page: <a href='https://wandb.ai/3like4/Jellyfish_project/sweeps/haqkrcc0' target=\"_blank\">https://wandb.ai/3like4/Jellyfish_project/sweeps/haqkrcc0</a>"
      ],
      "text/plain": [
       "<IPython.core.display.HTML object>"
      ]
     },
     "metadata": {},
     "output_type": "display_data"
    },
    {
     "data": {
      "text/html": [
       " View project at <a href='https://wandb.ai/3like4/Jellyfish_project' target=\"_blank\">https://wandb.ai/3like4/Jellyfish_project</a>"
      ],
      "text/plain": [
       "<IPython.core.display.HTML object>"
      ]
     },
     "metadata": {},
     "output_type": "display_data"
    },
    {
     "data": {
      "text/html": [
       " View sweep at <a href='https://wandb.ai/3like4/Jellyfish_project/sweeps/haqkrcc0' target=\"_blank\">https://wandb.ai/3like4/Jellyfish_project/sweeps/haqkrcc0</a>"
      ],
      "text/plain": [
       "<IPython.core.display.HTML object>"
      ]
     },
     "metadata": {},
     "output_type": "display_data"
    },
    {
     "data": {
      "text/html": [
       " View run at <a href='https://wandb.ai/3like4/Jellyfish_project/runs/gr9sd88d' target=\"_blank\">https://wandb.ai/3like4/Jellyfish_project/runs/gr9sd88d</a>"
      ],
      "text/plain": [
       "<IPython.core.display.HTML object>"
      ]
     },
     "metadata": {},
     "output_type": "display_data"
    },
    {
     "name": "stdout",
     "output_type": "stream",
     "text": [
      "Epoch 1/9\n",
      "45/45 [==============================] - 9s 196ms/step - loss: 0.4589 - accuracy: 0.8256 - val_loss: 1.4459 - val_accuracy: 0.53850.\n",
      "INFO:tensorflow:Assets written to: /aiffel/aiffel/jellyfish/wandb/run-20240110_160912-gr9sd88d/files/model-best/assets\n"
     ]
    },
    {
     "name": "stderr",
     "output_type": "stream",
     "text": [
      "\u001b[34m\u001b[1mwandb\u001b[0m: Adding directory to artifact (/aiffel/aiffel/jellyfish/wandb/run-20240110_160912-gr9sd88d/files/model-best)... Done. 6.5s\n"
     ]
    },
    {
     "name": "stdout",
     "output_type": "stream",
     "text": [
      "Epoch 2/9\n",
      "45/45 [==============================] - 9s 208ms/step - loss: 0.5753 - accuracy: 0.7789 - val_loss: 1.5637 - val_accuracy: 0.4872\n",
      "Epoch 3/9\n",
      "45/45 [==============================] - 9s 198ms/step - loss: 0.4377 - accuracy: 0.8356 - val_loss: 1.7361 - val_accuracy: 0.4872\n",
      "Epoch 4/9\n",
      "45/45 [==============================] - 9s 196ms/step - loss: 0.5347 - accuracy: 0.8100 - val_loss: 1.4063 - val_accuracy: 0.6154\n",
      "INFO:tensorflow:Assets written to: /aiffel/aiffel/jellyfish/wandb/run-20240110_160912-gr9sd88d/files/model-best/assets\n"
     ]
    },
    {
     "name": "stderr",
     "output_type": "stream",
     "text": [
      "\u001b[34m\u001b[1mwandb\u001b[0m: Adding directory to artifact (/aiffel/aiffel/jellyfish/wandb/run-20240110_160912-gr9sd88d/files/model-best)... Done. 3.7s\n"
     ]
    },
    {
     "name": "stdout",
     "output_type": "stream",
     "text": [
      "Epoch 5/9\n",
      "45/45 [==============================] - 9s 202ms/step - loss: 0.4098 - accuracy: 0.8667 - val_loss: 1.7039 - val_accuracy: 0.4359\n",
      "Epoch 6/9\n",
      "45/45 [==============================] - 9s 200ms/step - loss: 0.3964 - accuracy: 0.8622 - val_loss: 1.7059 - val_accuracy: 0.4872\n",
      "Epoch 7/9\n",
      "45/45 [==============================] - 9s 196ms/step - loss: 0.3762 - accuracy: 0.8689 - val_loss: 1.9405 - val_accuracy: 0.5641\n",
      "Epoch 8/9\n",
      "45/45 [==============================] - 9s 193ms/step - loss: 0.3357 - accuracy: 0.8744 - val_loss: 1.5647 - val_accuracy: 0.5385\n",
      "Epoch 9/9\n",
      "45/45 [==============================] - 9s 195ms/step - loss: 0.3406 - accuracy: 0.8800 - val_loss: 1.6281 - val_accuracy: 0.5897\n",
      "2/2 - 0s - loss: 1.4938 - accuracy: 0.5750\n"
     ]
    },
    {
     "data": {
      "application/vnd.jupyter.widget-view+json": {
       "model_id": "",
       "version_major": 2,
       "version_minor": 0
      },
      "text/plain": [
       "VBox(children=(Label(value='687.284 MB of 687.291 MB uploaded (0.023 MB deduped)\\r'), FloatProgress(value=0.99…"
      ]
     },
     "metadata": {},
     "output_type": "display_data"
    },
    {
     "data": {
      "text/html": [
       "<style>\n",
       "    table.wandb td:nth-child(1) { padding: 0 10px; text-align: left ; width: auto;} td:nth-child(2) {text-align: left ; width: 100%}\n",
       "    .wandb-row { display: flex; flex-direction: row; flex-wrap: wrap; justify-content: flex-start; width: 100% }\n",
       "    .wandb-col { display: flex; flex-direction: column; flex-basis: 100%; flex: 1; padding: 10px; }\n",
       "    </style>\n",
       "<div class=\"wandb-row\"><div class=\"wandb-col\"><h3>Run history:</h3><br/><table class=\"wandb\"><tr><td>Test Accuracy</td><td>▁</td></tr><tr><td>Test Loss</td><td>▁</td></tr><tr><td>accuracy</td><td>▄▁▅▃▇▇▇██</td></tr><tr><td>epoch</td><td>▁▂▃▄▅▅▆▇█</td></tr><tr><td>loss</td><td>▅█▄▇▃▃▂▁▁</td></tr><tr><td>val_accuracy</td><td>▅▃▃█▁▃▆▅▇</td></tr><tr><td>val_loss</td><td>▂▃▅▁▅▅█▃▄</td></tr></table><br/></div><div class=\"wandb-col\"><h3>Run summary:</h3><br/><table class=\"wandb\"><tr><td>Test Accuracy</td><td>0.575</td></tr><tr><td>Test Loss</td><td>1.49378</td></tr><tr><td>accuracy</td><td>0.88</td></tr><tr><td>best_epoch</td><td>3</td></tr><tr><td>best_val_loss</td><td>1.40627</td></tr><tr><td>epoch</td><td>8</td></tr><tr><td>loss</td><td>0.34064</td></tr><tr><td>val_accuracy</td><td>0.58974</td></tr><tr><td>val_loss</td><td>1.62806</td></tr></table><br/></div></div>"
      ],
      "text/plain": [
       "<IPython.core.display.HTML object>"
      ]
     },
     "metadata": {},
     "output_type": "display_data"
    },
    {
     "data": {
      "text/html": [
       " View run <strong style=\"color:#cdcd00\">classic-sweep-4</strong> at: <a href='https://wandb.ai/3like4/Jellyfish_project/runs/gr9sd88d' target=\"_blank\">https://wandb.ai/3like4/Jellyfish_project/runs/gr9sd88d</a><br/>Synced 5 W&B file(s), 1 media file(s), 8 artifact file(s) and 1 other file(s)"
      ],
      "text/plain": [
       "<IPython.core.display.HTML object>"
      ]
     },
     "metadata": {},
     "output_type": "display_data"
    },
    {
     "data": {
      "text/html": [
       "Find logs at: <code>./wandb/run-20240110_160912-gr9sd88d/logs</code>"
      ],
      "text/plain": [
       "<IPython.core.display.HTML object>"
      ]
     },
     "metadata": {},
     "output_type": "display_data"
    },
    {
     "name": "stderr",
     "output_type": "stream",
     "text": [
      "\u001b[34m\u001b[1mwandb\u001b[0m: Agent Starting Run: 9dnse90c with config:\n",
      "\u001b[34m\u001b[1mwandb\u001b[0m: \tepoch: 6\n",
      "\u001b[34m\u001b[1mwandb\u001b[0m: \tlearning_rate: 0.039766095836363854\n"
     ]
    },
    {
     "data": {
      "text/html": [
       "wandb version 0.16.2 is available!  To upgrade, please run:\n",
       " $ pip install wandb --upgrade"
      ],
      "text/plain": [
       "<IPython.core.display.HTML object>"
      ]
     },
     "metadata": {},
     "output_type": "display_data"
    },
    {
     "data": {
      "text/html": [
       "Tracking run with wandb version 0.16.0"
      ],
      "text/plain": [
       "<IPython.core.display.HTML object>"
      ]
     },
     "metadata": {},
     "output_type": "display_data"
    },
    {
     "data": {
      "text/html": [
       "Run data is saved locally in <code>/aiffel/aiffel/jellyfish/wandb/run-20240110_161108-9dnse90c</code>"
      ],
      "text/plain": [
       "<IPython.core.display.HTML object>"
      ]
     },
     "metadata": {},
     "output_type": "display_data"
    },
    {
     "data": {
      "text/html": [
       "Syncing run <strong><a href='https://wandb.ai/3like4/Jellyfish_project/runs/9dnse90c' target=\"_blank\">fiery-sweep-5</a></strong> to <a href='https://wandb.ai/3like4/Jellyfish_project' target=\"_blank\">Weights & Biases</a> (<a href='https://wandb.me/run' target=\"_blank\">docs</a>)<br/>Sweep page: <a href='https://wandb.ai/3like4/Jellyfish_project/sweeps/haqkrcc0' target=\"_blank\">https://wandb.ai/3like4/Jellyfish_project/sweeps/haqkrcc0</a>"
      ],
      "text/plain": [
       "<IPython.core.display.HTML object>"
      ]
     },
     "metadata": {},
     "output_type": "display_data"
    },
    {
     "data": {
      "text/html": [
       " View project at <a href='https://wandb.ai/3like4/Jellyfish_project' target=\"_blank\">https://wandb.ai/3like4/Jellyfish_project</a>"
      ],
      "text/plain": [
       "<IPython.core.display.HTML object>"
      ]
     },
     "metadata": {},
     "output_type": "display_data"
    },
    {
     "data": {
      "text/html": [
       " View sweep at <a href='https://wandb.ai/3like4/Jellyfish_project/sweeps/haqkrcc0' target=\"_blank\">https://wandb.ai/3like4/Jellyfish_project/sweeps/haqkrcc0</a>"
      ],
      "text/plain": [
       "<IPython.core.display.HTML object>"
      ]
     },
     "metadata": {},
     "output_type": "display_data"
    },
    {
     "data": {
      "text/html": [
       " View run at <a href='https://wandb.ai/3like4/Jellyfish_project/runs/9dnse90c' target=\"_blank\">https://wandb.ai/3like4/Jellyfish_project/runs/9dnse90c</a>"
      ],
      "text/plain": [
       "<IPython.core.display.HTML object>"
      ]
     },
     "metadata": {},
     "output_type": "display_data"
    },
    {
     "name": "stdout",
     "output_type": "stream",
     "text": [
      "Epoch 1/6\n",
      "45/45 [==============================] - 9s 197ms/step - loss: 0.4401 - accuracy: 0.8311 - val_loss: 1.5652 - val_accuracy: 0.5128\n",
      "INFO:tensorflow:Assets written to: /aiffel/aiffel/jellyfish/wandb/run-20240110_161108-9dnse90c/files/model-best/assets\n"
     ]
    },
    {
     "name": "stderr",
     "output_type": "stream",
     "text": [
      "\u001b[34m\u001b[1mwandb\u001b[0m: Adding directory to artifact (/aiffel/aiffel/jellyfish/wandb/run-20240110_161108-9dnse90c/files/model-best)... Done. 6.9s\n"
     ]
    },
    {
     "name": "stdout",
     "output_type": "stream",
     "text": [
      "Epoch 2/6\n",
      "45/45 [==============================] - 9s 202ms/step - loss: 0.3363 - accuracy: 0.8733 - val_loss: 1.9427 - val_accuracy: 0.5385\n",
      "Epoch 3/6\n",
      "45/45 [==============================] - 9s 197ms/step - loss: 0.3421 - accuracy: 0.8833 - val_loss: 1.9109 - val_accuracy: 0.5385\n",
      "Epoch 4/6\n",
      "45/45 [==============================] - 9s 196ms/step - loss: 0.4395 - accuracy: 0.8422 - val_loss: 1.6186 - val_accuracy: 0.5641\n",
      "Epoch 5/6\n",
      "45/45 [==============================] - 9s 197ms/step - loss: 0.3168 - accuracy: 0.8911 - val_loss: 1.8219 - val_accuracy: 0.5128\n",
      "Epoch 6/6\n",
      "45/45 [==============================] - 9s 196ms/step - loss: 0.3686 - accuracy: 0.8656 - val_loss: 1.7697 - val_accuracy: 0.5897\n",
      "2/2 - 0s - loss: 1.5439 - accuracy: 0.6000\n"
     ]
    },
    {
     "data": {
      "application/vnd.jupyter.widget-view+json": {
       "model_id": "",
       "version_major": 2,
       "version_minor": 0
      },
      "text/plain": [
       "VBox(children=(Label(value='392.712 MB of 392.712 MB uploaded\\r'), FloatProgress(value=1.0, max=1.0)))"
      ]
     },
     "metadata": {},
     "output_type": "display_data"
    },
    {
     "data": {
      "text/html": [
       "<style>\n",
       "    table.wandb td:nth-child(1) { padding: 0 10px; text-align: left ; width: auto;} td:nth-child(2) {text-align: left ; width: 100%}\n",
       "    .wandb-row { display: flex; flex-direction: row; flex-wrap: wrap; justify-content: flex-start; width: 100% }\n",
       "    .wandb-col { display: flex; flex-direction: column; flex-basis: 100%; flex: 1; padding: 10px; }\n",
       "    </style>\n",
       "<div class=\"wandb-row\"><div class=\"wandb-col\"><h3>Run history:</h3><br/><table class=\"wandb\"><tr><td>Test Accuracy</td><td>▁</td></tr><tr><td>Test Loss</td><td>▁</td></tr><tr><td>accuracy</td><td>▁▆▇▂█▅</td></tr><tr><td>epoch</td><td>▁▂▄▅▇█</td></tr><tr><td>loss</td><td>█▂▂█▁▄</td></tr><tr><td>val_accuracy</td><td>▁▃▃▆▁█</td></tr><tr><td>val_loss</td><td>▁█▇▂▆▅</td></tr></table><br/></div><div class=\"wandb-col\"><h3>Run summary:</h3><br/><table class=\"wandb\"><tr><td>Test Accuracy</td><td>0.6</td></tr><tr><td>Test Loss</td><td>1.54392</td></tr><tr><td>accuracy</td><td>0.86556</td></tr><tr><td>best_epoch</td><td>0</td></tr><tr><td>best_val_loss</td><td>1.56521</td></tr><tr><td>epoch</td><td>5</td></tr><tr><td>loss</td><td>0.36856</td></tr><tr><td>val_accuracy</td><td>0.58974</td></tr><tr><td>val_loss</td><td>1.76971</td></tr></table><br/></div></div>"
      ],
      "text/plain": [
       "<IPython.core.display.HTML object>"
      ]
     },
     "metadata": {},
     "output_type": "display_data"
    },
    {
     "data": {
      "text/html": [
       " View run <strong style=\"color:#cdcd00\">fiery-sweep-5</strong> at: <a href='https://wandb.ai/3like4/Jellyfish_project/runs/9dnse90c' target=\"_blank\">https://wandb.ai/3like4/Jellyfish_project/runs/9dnse90c</a><br/>Synced 5 W&B file(s), 1 media file(s), 4 artifact file(s) and 1 other file(s)"
      ],
      "text/plain": [
       "<IPython.core.display.HTML object>"
      ]
     },
     "metadata": {},
     "output_type": "display_data"
    },
    {
     "data": {
      "text/html": [
       "Find logs at: <code>./wandb/run-20240110_161108-9dnse90c/logs</code>"
      ],
      "text/plain": [
       "<IPython.core.display.HTML object>"
      ]
     },
     "metadata": {},
     "output_type": "display_data"
    },
    {
     "name": "stderr",
     "output_type": "stream",
     "text": [
      "\u001b[34m\u001b[1mwandb\u001b[0m: Agent Starting Run: c01chgc7 with config:\n",
      "\u001b[34m\u001b[1mwandb\u001b[0m: \tepoch: 9\n",
      "\u001b[34m\u001b[1mwandb\u001b[0m: \tlearning_rate: 0.07149971334858299\n"
     ]
    },
    {
     "data": {
      "text/html": [
       "wandb version 0.16.2 is available!  To upgrade, please run:\n",
       " $ pip install wandb --upgrade"
      ],
      "text/plain": [
       "<IPython.core.display.HTML object>"
      ]
     },
     "metadata": {},
     "output_type": "display_data"
    },
    {
     "data": {
      "text/html": [
       "Tracking run with wandb version 0.16.0"
      ],
      "text/plain": [
       "<IPython.core.display.HTML object>"
      ]
     },
     "metadata": {},
     "output_type": "display_data"
    },
    {
     "data": {
      "text/html": [
       "Run data is saved locally in <code>/aiffel/aiffel/jellyfish/wandb/run-20240110_161227-c01chgc7</code>"
      ],
      "text/plain": [
       "<IPython.core.display.HTML object>"
      ]
     },
     "metadata": {},
     "output_type": "display_data"
    },
    {
     "data": {
      "text/html": [
       "Syncing run <strong><a href='https://wandb.ai/3like4/Jellyfish_project/runs/c01chgc7' target=\"_blank\">silvery-sweep-6</a></strong> to <a href='https://wandb.ai/3like4/Jellyfish_project' target=\"_blank\">Weights & Biases</a> (<a href='https://wandb.me/run' target=\"_blank\">docs</a>)<br/>Sweep page: <a href='https://wandb.ai/3like4/Jellyfish_project/sweeps/haqkrcc0' target=\"_blank\">https://wandb.ai/3like4/Jellyfish_project/sweeps/haqkrcc0</a>"
      ],
      "text/plain": [
       "<IPython.core.display.HTML object>"
      ]
     },
     "metadata": {},
     "output_type": "display_data"
    },
    {
     "data": {
      "text/html": [
       " View project at <a href='https://wandb.ai/3like4/Jellyfish_project' target=\"_blank\">https://wandb.ai/3like4/Jellyfish_project</a>"
      ],
      "text/plain": [
       "<IPython.core.display.HTML object>"
      ]
     },
     "metadata": {},
     "output_type": "display_data"
    },
    {
     "data": {
      "text/html": [
       " View sweep at <a href='https://wandb.ai/3like4/Jellyfish_project/sweeps/haqkrcc0' target=\"_blank\">https://wandb.ai/3like4/Jellyfish_project/sweeps/haqkrcc0</a>"
      ],
      "text/plain": [
       "<IPython.core.display.HTML object>"
      ]
     },
     "metadata": {},
     "output_type": "display_data"
    },
    {
     "data": {
      "text/html": [
       " View run at <a href='https://wandb.ai/3like4/Jellyfish_project/runs/c01chgc7' target=\"_blank\">https://wandb.ai/3like4/Jellyfish_project/runs/c01chgc7</a>"
      ],
      "text/plain": [
       "<IPython.core.display.HTML object>"
      ]
     },
     "metadata": {},
     "output_type": "display_data"
    },
    {
     "name": "stdout",
     "output_type": "stream",
     "text": [
      "Epoch 1/9\n",
      "45/45 [==============================] - 9s 199ms/step - loss: 0.2895 - accuracy: 0.9044 - val_loss: 1.9555 - val_accuracy: 0.5385\n",
      "INFO:tensorflow:Assets written to: /aiffel/aiffel/jellyfish/wandb/run-20240110_161227-c01chgc7/files/model-best/assets\n"
     ]
    },
    {
     "name": "stderr",
     "output_type": "stream",
     "text": [
      "\u001b[34m\u001b[1mwandb\u001b[0m: Adding directory to artifact (/aiffel/aiffel/jellyfish/wandb/run-20240110_161227-c01chgc7/files/model-best)... Done. 7.7s\n"
     ]
    },
    {
     "name": "stdout",
     "output_type": "stream",
     "text": [
      "Epoch 2/9\n",
      "45/45 [==============================] - 9s 201ms/step - loss: 0.2856 - accuracy: 0.8922 - val_loss: 2.3173 - val_accuracy: 0.4359\n",
      "Epoch 3/9\n",
      "45/45 [==============================] - 9s 202ms/step - loss: 0.4251 - accuracy: 0.8433 - val_loss: 1.8481 - val_accuracy: 0.6154\n",
      "INFO:tensorflow:Assets written to: /aiffel/aiffel/jellyfish/wandb/run-20240110_161227-c01chgc7/files/model-best/assets\n"
     ]
    },
    {
     "name": "stderr",
     "output_type": "stream",
     "text": [
      "\u001b[34m\u001b[1mwandb\u001b[0m: Adding directory to artifact (/aiffel/aiffel/jellyfish/wandb/run-20240110_161227-c01chgc7/files/model-best)... Done. 8.2s\n"
     ]
    },
    {
     "name": "stdout",
     "output_type": "stream",
     "text": [
      "Epoch 4/9\n",
      "45/45 [==============================] - 9s 203ms/step - loss: 0.3560 - accuracy: 0.8822 - val_loss: 1.6414 - val_accuracy: 0.5385\n",
      "INFO:tensorflow:Assets written to: /aiffel/aiffel/jellyfish/wandb/run-20240110_161227-c01chgc7/files/model-best/assets\n"
     ]
    },
    {
     "name": "stderr",
     "output_type": "stream",
     "text": [
      "\u001b[34m\u001b[1mwandb\u001b[0m: Adding directory to artifact (/aiffel/aiffel/jellyfish/wandb/run-20240110_161227-c01chgc7/files/model-best)... Done. 3.5s\n"
     ]
    },
    {
     "name": "stdout",
     "output_type": "stream",
     "text": [
      "Epoch 5/9\n",
      "45/45 [==============================] - 9s 200ms/step - loss: 0.3762 - accuracy: 0.8689 - val_loss: 1.8650 - val_accuracy: 0.5385\n",
      "Epoch 6/9\n",
      "45/45 [==============================] - 9s 197ms/step - loss: 0.2595 - accuracy: 0.9100 - val_loss: 1.7967 - val_accuracy: 0.5897\n",
      "Epoch 7/9\n",
      "45/45 [==============================] - 9s 196ms/step - loss: 0.2646 - accuracy: 0.9167 - val_loss: 1.9503 - val_accuracy: 0.5641\n",
      "Epoch 8/9\n",
      "45/45 [==============================] - 9s 197ms/step - loss: 0.2889 - accuracy: 0.8956 - val_loss: 1.8877 - val_accuracy: 0.5897\n",
      "Epoch 9/9\n",
      "45/45 [==============================] - 9s 198ms/step - loss: 0.3450 - accuracy: 0.8744 - val_loss: 1.7434 - val_accuracy: 0.6154\n",
      "2/2 - 0s - loss: 1.2988 - accuracy: 0.6750\n"
     ]
    },
    {
     "data": {
      "application/vnd.jupyter.widget-view+json": {
       "model_id": "",
       "version_major": 2,
       "version_minor": 0
      },
      "text/plain": [
       "VBox(children=(Label(value='1178.105 MB of 1178.105 MB uploaded (0.047 MB deduped)\\r'), FloatProgress(value=1.…"
      ]
     },
     "metadata": {},
     "output_type": "display_data"
    },
    {
     "data": {
      "text/html": [
       "<style>\n",
       "    table.wandb td:nth-child(1) { padding: 0 10px; text-align: left ; width: auto;} td:nth-child(2) {text-align: left ; width: 100%}\n",
       "    .wandb-row { display: flex; flex-direction: row; flex-wrap: wrap; justify-content: flex-start; width: 100% }\n",
       "    .wandb-col { display: flex; flex-direction: column; flex-basis: 100%; flex: 1; padding: 10px; }\n",
       "    </style>\n",
       "<div class=\"wandb-row\"><div class=\"wandb-col\"><h3>Run history:</h3><br/><table class=\"wandb\"><tr><td>Test Accuracy</td><td>▁</td></tr><tr><td>Test Loss</td><td>▁</td></tr><tr><td>accuracy</td><td>▇▆▁▅▃▇█▆▄</td></tr><tr><td>epoch</td><td>▁▂▃▄▅▅▆▇█</td></tr><tr><td>loss</td><td>▂▂█▅▆▁▁▂▅</td></tr><tr><td>val_accuracy</td><td>▅▁█▅▅▇▆▇█</td></tr><tr><td>val_loss</td><td>▄█▃▁▃▃▄▄▂</td></tr></table><br/></div><div class=\"wandb-col\"><h3>Run summary:</h3><br/><table class=\"wandb\"><tr><td>Test Accuracy</td><td>0.675</td></tr><tr><td>Test Loss</td><td>1.29879</td></tr><tr><td>accuracy</td><td>0.87444</td></tr><tr><td>best_epoch</td><td>3</td></tr><tr><td>best_val_loss</td><td>1.64137</td></tr><tr><td>epoch</td><td>8</td></tr><tr><td>loss</td><td>0.34501</td></tr><tr><td>val_accuracy</td><td>0.61538</td></tr><tr><td>val_loss</td><td>1.74338</td></tr></table><br/></div></div>"
      ],
      "text/plain": [
       "<IPython.core.display.HTML object>"
      ]
     },
     "metadata": {},
     "output_type": "display_data"
    },
    {
     "data": {
      "text/html": [
       " View run <strong style=\"color:#cdcd00\">silvery-sweep-6</strong> at: <a href='https://wandb.ai/3like4/Jellyfish_project/runs/c01chgc7' target=\"_blank\">https://wandb.ai/3like4/Jellyfish_project/runs/c01chgc7</a><br/>Synced 5 W&B file(s), 1 media file(s), 12 artifact file(s) and 1 other file(s)"
      ],
      "text/plain": [
       "<IPython.core.display.HTML object>"
      ]
     },
     "metadata": {},
     "output_type": "display_data"
    },
    {
     "data": {
      "text/html": [
       "Find logs at: <code>./wandb/run-20240110_161227-c01chgc7/logs</code>"
      ],
      "text/plain": [
       "<IPython.core.display.HTML object>"
      ]
     },
     "metadata": {},
     "output_type": "display_data"
    },
    {
     "name": "stderr",
     "output_type": "stream",
     "text": [
      "\u001b[34m\u001b[1mwandb\u001b[0m: Agent Starting Run: a6zxav2k with config:\n",
      "\u001b[34m\u001b[1mwandb\u001b[0m: \tepoch: 7\n",
      "\u001b[34m\u001b[1mwandb\u001b[0m: \tlearning_rate: 0.002840839665493036\n"
     ]
    },
    {
     "data": {
      "text/html": [
       "wandb version 0.16.2 is available!  To upgrade, please run:\n",
       " $ pip install wandb --upgrade"
      ],
      "text/plain": [
       "<IPython.core.display.HTML object>"
      ]
     },
     "metadata": {},
     "output_type": "display_data"
    },
    {
     "data": {
      "text/html": [
       "Tracking run with wandb version 0.16.0"
      ],
      "text/plain": [
       "<IPython.core.display.HTML object>"
      ]
     },
     "metadata": {},
     "output_type": "display_data"
    },
    {
     "data": {
      "text/html": [
       "Run data is saved locally in <code>/aiffel/aiffel/jellyfish/wandb/run-20240110_161449-a6zxav2k</code>"
      ],
      "text/plain": [
       "<IPython.core.display.HTML object>"
      ]
     },
     "metadata": {},
     "output_type": "display_data"
    },
    {
     "data": {
      "text/html": [
       "Syncing run <strong><a href='https://wandb.ai/3like4/Jellyfish_project/runs/a6zxav2k' target=\"_blank\">devout-sweep-7</a></strong> to <a href='https://wandb.ai/3like4/Jellyfish_project' target=\"_blank\">Weights & Biases</a> (<a href='https://wandb.me/run' target=\"_blank\">docs</a>)<br/>Sweep page: <a href='https://wandb.ai/3like4/Jellyfish_project/sweeps/haqkrcc0' target=\"_blank\">https://wandb.ai/3like4/Jellyfish_project/sweeps/haqkrcc0</a>"
      ],
      "text/plain": [
       "<IPython.core.display.HTML object>"
      ]
     },
     "metadata": {},
     "output_type": "display_data"
    },
    {
     "data": {
      "text/html": [
       " View project at <a href='https://wandb.ai/3like4/Jellyfish_project' target=\"_blank\">https://wandb.ai/3like4/Jellyfish_project</a>"
      ],
      "text/plain": [
       "<IPython.core.display.HTML object>"
      ]
     },
     "metadata": {},
     "output_type": "display_data"
    },
    {
     "data": {
      "text/html": [
       " View sweep at <a href='https://wandb.ai/3like4/Jellyfish_project/sweeps/haqkrcc0' target=\"_blank\">https://wandb.ai/3like4/Jellyfish_project/sweeps/haqkrcc0</a>"
      ],
      "text/plain": [
       "<IPython.core.display.HTML object>"
      ]
     },
     "metadata": {},
     "output_type": "display_data"
    },
    {
     "data": {
      "text/html": [
       " View run at <a href='https://wandb.ai/3like4/Jellyfish_project/runs/a6zxav2k' target=\"_blank\">https://wandb.ai/3like4/Jellyfish_project/runs/a6zxav2k</a>"
      ],
      "text/plain": [
       "<IPython.core.display.HTML object>"
      ]
     },
     "metadata": {},
     "output_type": "display_data"
    },
    {
     "name": "stdout",
     "output_type": "stream",
     "text": [
      "Epoch 1/7\n",
      "45/45 [==============================] - 9s 201ms/step - loss: 0.3057 - accuracy: 0.8878 - val_loss: 1.8249 - val_accuracy: 0.6154\n",
      "INFO:tensorflow:Assets written to: /aiffel/aiffel/jellyfish/wandb/run-20240110_161449-a6zxav2k/files/model-best/assets\n"
     ]
    },
    {
     "name": "stderr",
     "output_type": "stream",
     "text": [
      "\u001b[34m\u001b[1mwandb\u001b[0m: Adding directory to artifact (/aiffel/aiffel/jellyfish/wandb/run-20240110_161449-a6zxav2k/files/model-best)... Done. 8.4s\n"
     ]
    },
    {
     "name": "stdout",
     "output_type": "stream",
     "text": [
      "Epoch 2/7\n",
      "45/45 [==============================] - 10s 201ms/step - loss: 0.3298 - accuracy: 0.8900 - val_loss: 1.8919 - val_accuracy: 0.5385\n",
      "Epoch 3/7\n",
      "45/45 [==============================] - 9s 197ms/step - loss: 0.2563 - accuracy: 0.9044 - val_loss: 1.8665 - val_accuracy: 0.5897\n",
      "Epoch 4/7\n",
      "45/45 [==============================] - 9s 197ms/step - loss: 0.2488 - accuracy: 0.9078 - val_loss: 1.8907 - val_accuracy: 0.5385\n",
      "Epoch 5/7\n",
      "45/45 [==============================] - 9s 194ms/step - loss: 0.3030 - accuracy: 0.9011 - val_loss: 2.1638 - val_accuracy: 0.5641\n",
      "Epoch 6/7\n",
      "45/45 [==============================] - 9s 196ms/step - loss: 0.2936 - accuracy: 0.8933 - val_loss: 2.1339 - val_accuracy: 0.5897\n",
      "Epoch 7/7\n",
      "45/45 [==============================] - 9s 196ms/step - loss: 0.3360 - accuracy: 0.8789 - val_loss: 1.9390 - val_accuracy: 0.4872\n",
      "2/2 - 0s - loss: 1.5456 - accuracy: 0.6250\n"
     ]
    },
    {
     "data": {
      "application/vnd.jupyter.widget-view+json": {
       "model_id": "",
       "version_major": 2,
       "version_minor": 0
      },
      "text/plain": [
       "VBox(children=(Label(value='392.712 MB of 392.719 MB uploaded\\r'), FloatProgress(value=0.9999827972778698, max…"
      ]
     },
     "metadata": {},
     "output_type": "display_data"
    },
    {
     "data": {
      "text/html": [
       "<style>\n",
       "    table.wandb td:nth-child(1) { padding: 0 10px; text-align: left ; width: auto;} td:nth-child(2) {text-align: left ; width: 100%}\n",
       "    .wandb-row { display: flex; flex-direction: row; flex-wrap: wrap; justify-content: flex-start; width: 100% }\n",
       "    .wandb-col { display: flex; flex-direction: column; flex-basis: 100%; flex: 1; padding: 10px; }\n",
       "    </style>\n",
       "<div class=\"wandb-row\"><div class=\"wandb-col\"><h3>Run history:</h3><br/><table class=\"wandb\"><tr><td>Test Accuracy</td><td>▁</td></tr><tr><td>Test Loss</td><td>▁</td></tr><tr><td>accuracy</td><td>▃▄▇█▆▄▁</td></tr><tr><td>epoch</td><td>▁▂▃▅▆▇█</td></tr><tr><td>loss</td><td>▆█▂▁▅▅█</td></tr><tr><td>val_accuracy</td><td>█▄▇▄▅▇▁</td></tr><tr><td>val_loss</td><td>▁▂▂▂█▇▃</td></tr></table><br/></div><div class=\"wandb-col\"><h3>Run summary:</h3><br/><table class=\"wandb\"><tr><td>Test Accuracy</td><td>0.625</td></tr><tr><td>Test Loss</td><td>1.54555</td></tr><tr><td>accuracy</td><td>0.87889</td></tr><tr><td>best_epoch</td><td>0</td></tr><tr><td>best_val_loss</td><td>1.82488</td></tr><tr><td>epoch</td><td>6</td></tr><tr><td>loss</td><td>0.33595</td></tr><tr><td>val_accuracy</td><td>0.48718</td></tr><tr><td>val_loss</td><td>1.93896</td></tr></table><br/></div></div>"
      ],
      "text/plain": [
       "<IPython.core.display.HTML object>"
      ]
     },
     "metadata": {},
     "output_type": "display_data"
    },
    {
     "data": {
      "text/html": [
       " View run <strong style=\"color:#cdcd00\">devout-sweep-7</strong> at: <a href='https://wandb.ai/3like4/Jellyfish_project/runs/a6zxav2k' target=\"_blank\">https://wandb.ai/3like4/Jellyfish_project/runs/a6zxav2k</a><br/>Synced 5 W&B file(s), 1 media file(s), 4 artifact file(s) and 1 other file(s)"
      ],
      "text/plain": [
       "<IPython.core.display.HTML object>"
      ]
     },
     "metadata": {},
     "output_type": "display_data"
    },
    {
     "data": {
      "text/html": [
       "Find logs at: <code>./wandb/run-20240110_161449-a6zxav2k/logs</code>"
      ],
      "text/plain": [
       "<IPython.core.display.HTML object>"
      ]
     },
     "metadata": {},
     "output_type": "display_data"
    },
    {
     "name": "stderr",
     "output_type": "stream",
     "text": [
      "\u001b[34m\u001b[1mwandb\u001b[0m: Agent Starting Run: efdcizmw with config:\n",
      "\u001b[34m\u001b[1mwandb\u001b[0m: \tepoch: 8\n",
      "\u001b[34m\u001b[1mwandb\u001b[0m: \tlearning_rate: 0.017507016932537044\n"
     ]
    },
    {
     "data": {
      "text/html": [
       "wandb version 0.16.2 is available!  To upgrade, please run:\n",
       " $ pip install wandb --upgrade"
      ],
      "text/plain": [
       "<IPython.core.display.HTML object>"
      ]
     },
     "metadata": {},
     "output_type": "display_data"
    },
    {
     "data": {
      "text/html": [
       "Tracking run with wandb version 0.16.0"
      ],
      "text/plain": [
       "<IPython.core.display.HTML object>"
      ]
     },
     "metadata": {},
     "output_type": "display_data"
    },
    {
     "data": {
      "text/html": [
       "Run data is saved locally in <code>/aiffel/aiffel/jellyfish/wandb/run-20240110_161624-efdcizmw</code>"
      ],
      "text/plain": [
       "<IPython.core.display.HTML object>"
      ]
     },
     "metadata": {},
     "output_type": "display_data"
    },
    {
     "data": {
      "text/html": [
       "Syncing run <strong><a href='https://wandb.ai/3like4/Jellyfish_project/runs/efdcizmw' target=\"_blank\">comic-sweep-8</a></strong> to <a href='https://wandb.ai/3like4/Jellyfish_project' target=\"_blank\">Weights & Biases</a> (<a href='https://wandb.me/run' target=\"_blank\">docs</a>)<br/>Sweep page: <a href='https://wandb.ai/3like4/Jellyfish_project/sweeps/haqkrcc0' target=\"_blank\">https://wandb.ai/3like4/Jellyfish_project/sweeps/haqkrcc0</a>"
      ],
      "text/plain": [
       "<IPython.core.display.HTML object>"
      ]
     },
     "metadata": {},
     "output_type": "display_data"
    },
    {
     "data": {
      "text/html": [
       " View project at <a href='https://wandb.ai/3like4/Jellyfish_project' target=\"_blank\">https://wandb.ai/3like4/Jellyfish_project</a>"
      ],
      "text/plain": [
       "<IPython.core.display.HTML object>"
      ]
     },
     "metadata": {},
     "output_type": "display_data"
    },
    {
     "data": {
      "text/html": [
       " View sweep at <a href='https://wandb.ai/3like4/Jellyfish_project/sweeps/haqkrcc0' target=\"_blank\">https://wandb.ai/3like4/Jellyfish_project/sweeps/haqkrcc0</a>"
      ],
      "text/plain": [
       "<IPython.core.display.HTML object>"
      ]
     },
     "metadata": {},
     "output_type": "display_data"
    },
    {
     "data": {
      "text/html": [
       " View run at <a href='https://wandb.ai/3like4/Jellyfish_project/runs/efdcizmw' target=\"_blank\">https://wandb.ai/3like4/Jellyfish_project/runs/efdcizmw</a>"
      ],
      "text/plain": [
       "<IPython.core.display.HTML object>"
      ]
     },
     "metadata": {},
     "output_type": "display_data"
    },
    {
     "name": "stdout",
     "output_type": "stream",
     "text": [
      "Epoch 1/8\n",
      "45/45 [==============================] - 9s 198ms/step - loss: 0.3775 - accuracy: 0.8733 - val_loss: 1.5899 - val_accuracy: 0.6410\n",
      "INFO:tensorflow:Assets written to: /aiffel/aiffel/jellyfish/wandb/run-20240110_161624-efdcizmw/files/model-best/assets\n"
     ]
    },
    {
     "name": "stderr",
     "output_type": "stream",
     "text": [
      "\u001b[34m\u001b[1mwandb\u001b[0m: Adding directory to artifact (/aiffel/aiffel/jellyfish/wandb/run-20240110_161624-efdcizmw/files/model-best)... Done. 5.6s\n"
     ]
    },
    {
     "name": "stdout",
     "output_type": "stream",
     "text": [
      "Epoch 2/8\n",
      "45/45 [==============================] - 9s 202ms/step - loss: 0.2553 - accuracy: 0.9089 - val_loss: 1.8920 - val_accuracy: 0.5641\n",
      "Epoch 3/8\n",
      "45/45 [==============================] - 9s 195ms/step - loss: 0.2350 - accuracy: 0.9211 - val_loss: 1.7559 - val_accuracy: 0.5897\n",
      "Epoch 4/8\n",
      "45/45 [==============================] - 9s 198ms/step - loss: 0.2079 - accuracy: 0.9267 - val_loss: 1.9542 - val_accuracy: 0.6410\n",
      "Epoch 5/8\n",
      "45/45 [==============================] - 9s 197ms/step - loss: 0.2239 - accuracy: 0.9189 - val_loss: 1.9872 - val_accuracy: 0.5385\n",
      "Epoch 6/8\n",
      "45/45 [==============================] - 9s 195ms/step - loss: 0.1988 - accuracy: 0.9322 - val_loss: 1.9608 - val_accuracy: 0.5641\n",
      "Epoch 7/8\n",
      "45/45 [==============================] - 9s 195ms/step - loss: 0.2132 - accuracy: 0.9333 - val_loss: 1.8801 - val_accuracy: 0.5128\n",
      "Epoch 8/8\n",
      "45/45 [==============================] - 9s 195ms/step - loss: 0.2448 - accuracy: 0.9122 - val_loss: 2.5997 - val_accuracy: 0.5385\n",
      "2/2 - 0s - loss: 1.7116 - accuracy: 0.6500\n"
     ]
    },
    {
     "data": {
      "application/vnd.jupyter.widget-view+json": {
       "model_id": "",
       "version_major": 2,
       "version_minor": 0
      },
      "text/plain": [
       "VBox(children=(Label(value='588.960 MB of 588.960 MB uploaded\\r'), FloatProgress(value=1.0, max=1.0)))"
      ]
     },
     "metadata": {},
     "output_type": "display_data"
    },
    {
     "data": {
      "text/html": [
       "<style>\n",
       "    table.wandb td:nth-child(1) { padding: 0 10px; text-align: left ; width: auto;} td:nth-child(2) {text-align: left ; width: 100%}\n",
       "    .wandb-row { display: flex; flex-direction: row; flex-wrap: wrap; justify-content: flex-start; width: 100% }\n",
       "    .wandb-col { display: flex; flex-direction: column; flex-basis: 100%; flex: 1; padding: 10px; }\n",
       "    </style>\n",
       "<div class=\"wandb-row\"><div class=\"wandb-col\"><h3>Run history:</h3><br/><table class=\"wandb\"><tr><td>Test Accuracy</td><td>▁</td></tr><tr><td>Test Loss</td><td>▁</td></tr><tr><td>accuracy</td><td>▁▅▇▇▆██▆</td></tr><tr><td>epoch</td><td>▁▂▃▄▅▆▇█</td></tr><tr><td>loss</td><td>█▃▂▁▂▁▂▃</td></tr><tr><td>val_accuracy</td><td>█▄▅█▂▄▁▂</td></tr><tr><td>val_loss</td><td>▁▃▂▄▄▄▃█</td></tr></table><br/></div><div class=\"wandb-col\"><h3>Run summary:</h3><br/><table class=\"wandb\"><tr><td>Test Accuracy</td><td>0.65</td></tr><tr><td>Test Loss</td><td>1.71156</td></tr><tr><td>accuracy</td><td>0.91222</td></tr><tr><td>best_epoch</td><td>0</td></tr><tr><td>best_val_loss</td><td>1.58993</td></tr><tr><td>epoch</td><td>7</td></tr><tr><td>loss</td><td>0.24477</td></tr><tr><td>val_accuracy</td><td>0.53846</td></tr><tr><td>val_loss</td><td>2.59968</td></tr></table><br/></div></div>"
      ],
      "text/plain": [
       "<IPython.core.display.HTML object>"
      ]
     },
     "metadata": {},
     "output_type": "display_data"
    },
    {
     "data": {
      "text/html": [
       " View run <strong style=\"color:#cdcd00\">comic-sweep-8</strong> at: <a href='https://wandb.ai/3like4/Jellyfish_project/runs/efdcizmw' target=\"_blank\">https://wandb.ai/3like4/Jellyfish_project/runs/efdcizmw</a><br/>Synced 5 W&B file(s), 1 media file(s), 4 artifact file(s) and 1 other file(s)"
      ],
      "text/plain": [
       "<IPython.core.display.HTML object>"
      ]
     },
     "metadata": {},
     "output_type": "display_data"
    },
    {
     "data": {
      "text/html": [
       "Find logs at: <code>./wandb/run-20240110_161624-efdcizmw/logs</code>"
      ],
      "text/plain": [
       "<IPython.core.display.HTML object>"
      ]
     },
     "metadata": {},
     "output_type": "display_data"
    },
    {
     "name": "stderr",
     "output_type": "stream",
     "text": [
      "\u001b[34m\u001b[1mwandb\u001b[0m: Agent Starting Run: vr8c1830 with config:\n",
      "\u001b[34m\u001b[1mwandb\u001b[0m: \tepoch: 6\n",
      "\u001b[34m\u001b[1mwandb\u001b[0m: \tlearning_rate: 0.0015397664270872945\n"
     ]
    },
    {
     "data": {
      "text/html": [
       "wandb version 0.16.2 is available!  To upgrade, please run:\n",
       " $ pip install wandb --upgrade"
      ],
      "text/plain": [
       "<IPython.core.display.HTML object>"
      ]
     },
     "metadata": {},
     "output_type": "display_data"
    },
    {
     "data": {
      "text/html": [
       "Tracking run with wandb version 0.16.0"
      ],
      "text/plain": [
       "<IPython.core.display.HTML object>"
      ]
     },
     "metadata": {},
     "output_type": "display_data"
    },
    {
     "data": {
      "text/html": [
       "Run data is saved locally in <code>/aiffel/aiffel/jellyfish/wandb/run-20240110_161758-vr8c1830</code>"
      ],
      "text/plain": [
       "<IPython.core.display.HTML object>"
      ]
     },
     "metadata": {},
     "output_type": "display_data"
    },
    {
     "data": {
      "text/html": [
       "Syncing run <strong><a href='https://wandb.ai/3like4/Jellyfish_project/runs/vr8c1830' target=\"_blank\">effortless-sweep-9</a></strong> to <a href='https://wandb.ai/3like4/Jellyfish_project' target=\"_blank\">Weights & Biases</a> (<a href='https://wandb.me/run' target=\"_blank\">docs</a>)<br/>Sweep page: <a href='https://wandb.ai/3like4/Jellyfish_project/sweeps/haqkrcc0' target=\"_blank\">https://wandb.ai/3like4/Jellyfish_project/sweeps/haqkrcc0</a>"
      ],
      "text/plain": [
       "<IPython.core.display.HTML object>"
      ]
     },
     "metadata": {},
     "output_type": "display_data"
    },
    {
     "data": {
      "text/html": [
       " View project at <a href='https://wandb.ai/3like4/Jellyfish_project' target=\"_blank\">https://wandb.ai/3like4/Jellyfish_project</a>"
      ],
      "text/plain": [
       "<IPython.core.display.HTML object>"
      ]
     },
     "metadata": {},
     "output_type": "display_data"
    },
    {
     "data": {
      "text/html": [
       " View sweep at <a href='https://wandb.ai/3like4/Jellyfish_project/sweeps/haqkrcc0' target=\"_blank\">https://wandb.ai/3like4/Jellyfish_project/sweeps/haqkrcc0</a>"
      ],
      "text/plain": [
       "<IPython.core.display.HTML object>"
      ]
     },
     "metadata": {},
     "output_type": "display_data"
    },
    {
     "data": {
      "text/html": [
       " View run at <a href='https://wandb.ai/3like4/Jellyfish_project/runs/vr8c1830' target=\"_blank\">https://wandb.ai/3like4/Jellyfish_project/runs/vr8c1830</a>"
      ],
      "text/plain": [
       "<IPython.core.display.HTML object>"
      ]
     },
     "metadata": {},
     "output_type": "display_data"
    },
    {
     "name": "stdout",
     "output_type": "stream",
     "text": [
      "Epoch 1/6\n",
      "45/45 [==============================] - 9s 196ms/step - loss: 0.2529 - accuracy: 0.9067 - val_loss: 1.8725 - val_accuracy: 0.6154\n",
      "INFO:tensorflow:Assets written to: /aiffel/aiffel/jellyfish/wandb/run-20240110_161758-vr8c1830/files/model-best/assets\n"
     ]
    },
    {
     "name": "stderr",
     "output_type": "stream",
     "text": [
      "\u001b[34m\u001b[1mwandb\u001b[0m: Adding directory to artifact (/aiffel/aiffel/jellyfish/wandb/run-20240110_161758-vr8c1830/files/model-best)... Done. 8.9s\n"
     ]
    },
    {
     "name": "stdout",
     "output_type": "stream",
     "text": [
      "Epoch 2/6\n",
      "45/45 [==============================] - 9s 205ms/step - loss: 0.2594 - accuracy: 0.9144 - val_loss: 2.2138 - val_accuracy: 0.5641\n",
      "Epoch 3/6\n",
      "45/45 [==============================] - 9s 198ms/step - loss: 0.2177 - accuracy: 0.9211 - val_loss: 2.1577 - val_accuracy: 0.5897\n",
      "Epoch 4/6\n",
      "45/45 [==============================] - 9s 195ms/step - loss: 0.1731 - accuracy: 0.9311 - val_loss: 2.2712 - val_accuracy: 0.5641\n",
      "Epoch 5/6\n",
      "45/45 [==============================] - 9s 196ms/step - loss: 0.2323 - accuracy: 0.9144 - val_loss: 2.1572 - val_accuracy: 0.5897\n",
      "Epoch 6/6\n",
      "45/45 [==============================] - 9s 201ms/step - loss: 0.2230 - accuracy: 0.9289 - val_loss: 2.1616 - val_accuracy: 0.6154\n",
      "2/2 - 0s - loss: 1.4850 - accuracy: 0.6750\n"
     ]
    },
    {
     "data": {
      "application/vnd.jupyter.widget-view+json": {
       "model_id": "",
       "version_major": 2,
       "version_minor": 0
      },
      "text/plain": [
       "VBox(children=(Label(value='588.968 MB of 588.968 MB uploaded\\r'), FloatProgress(value=1.0, max=1.0)))"
      ]
     },
     "metadata": {},
     "output_type": "display_data"
    },
    {
     "data": {
      "text/html": [
       "<style>\n",
       "    table.wandb td:nth-child(1) { padding: 0 10px; text-align: left ; width: auto;} td:nth-child(2) {text-align: left ; width: 100%}\n",
       "    .wandb-row { display: flex; flex-direction: row; flex-wrap: wrap; justify-content: flex-start; width: 100% }\n",
       "    .wandb-col { display: flex; flex-direction: column; flex-basis: 100%; flex: 1; padding: 10px; }\n",
       "    </style>\n",
       "<div class=\"wandb-row\"><div class=\"wandb-col\"><h3>Run history:</h3><br/><table class=\"wandb\"><tr><td>Test Accuracy</td><td>▁</td></tr><tr><td>Test Loss</td><td>▁</td></tr><tr><td>accuracy</td><td>▁▃▅█▃▇</td></tr><tr><td>epoch</td><td>▁▂▄▅▇█</td></tr><tr><td>loss</td><td>▇█▅▁▆▅</td></tr><tr><td>val_accuracy</td><td>█▁▅▁▅█</td></tr><tr><td>val_loss</td><td>▁▇▆█▆▆</td></tr></table><br/></div><div class=\"wandb-col\"><h3>Run summary:</h3><br/><table class=\"wandb\"><tr><td>Test Accuracy</td><td>0.675</td></tr><tr><td>Test Loss</td><td>1.485</td></tr><tr><td>accuracy</td><td>0.92889</td></tr><tr><td>best_epoch</td><td>0</td></tr><tr><td>best_val_loss</td><td>1.87251</td></tr><tr><td>epoch</td><td>5</td></tr><tr><td>loss</td><td>0.22295</td></tr><tr><td>val_accuracy</td><td>0.61538</td></tr><tr><td>val_loss</td><td>2.16158</td></tr></table><br/></div></div>"
      ],
      "text/plain": [
       "<IPython.core.display.HTML object>"
      ]
     },
     "metadata": {},
     "output_type": "display_data"
    },
    {
     "data": {
      "text/html": [
       " View run <strong style=\"color:#cdcd00\">effortless-sweep-9</strong> at: <a href='https://wandb.ai/3like4/Jellyfish_project/runs/vr8c1830' target=\"_blank\">https://wandb.ai/3like4/Jellyfish_project/runs/vr8c1830</a><br/>Synced 5 W&B file(s), 1 media file(s), 4 artifact file(s) and 1 other file(s)"
      ],
      "text/plain": [
       "<IPython.core.display.HTML object>"
      ]
     },
     "metadata": {},
     "output_type": "display_data"
    },
    {
     "data": {
      "text/html": [
       "Find logs at: <code>./wandb/run-20240110_161758-vr8c1830/logs</code>"
      ],
      "text/plain": [
       "<IPython.core.display.HTML object>"
      ]
     },
     "metadata": {},
     "output_type": "display_data"
    },
    {
     "name": "stderr",
     "output_type": "stream",
     "text": [
      "\u001b[34m\u001b[1mwandb\u001b[0m: Agent Starting Run: l8grde1c with config:\n",
      "\u001b[34m\u001b[1mwandb\u001b[0m: \tepoch: 9\n",
      "\u001b[34m\u001b[1mwandb\u001b[0m: \tlearning_rate: 0.07622304786791086\n"
     ]
    },
    {
     "data": {
      "text/html": [
       "wandb version 0.16.2 is available!  To upgrade, please run:\n",
       " $ pip install wandb --upgrade"
      ],
      "text/plain": [
       "<IPython.core.display.HTML object>"
      ]
     },
     "metadata": {},
     "output_type": "display_data"
    },
    {
     "data": {
      "text/html": [
       "Tracking run with wandb version 0.16.0"
      ],
      "text/plain": [
       "<IPython.core.display.HTML object>"
      ]
     },
     "metadata": {},
     "output_type": "display_data"
    },
    {
     "data": {
      "text/html": [
       "Run data is saved locally in <code>/aiffel/aiffel/jellyfish/wandb/run-20240110_161921-l8grde1c</code>"
      ],
      "text/plain": [
       "<IPython.core.display.HTML object>"
      ]
     },
     "metadata": {},
     "output_type": "display_data"
    },
    {
     "data": {
      "text/html": [
       "Syncing run <strong><a href='https://wandb.ai/3like4/Jellyfish_project/runs/l8grde1c' target=\"_blank\">sunny-sweep-10</a></strong> to <a href='https://wandb.ai/3like4/Jellyfish_project' target=\"_blank\">Weights & Biases</a> (<a href='https://wandb.me/run' target=\"_blank\">docs</a>)<br/>Sweep page: <a href='https://wandb.ai/3like4/Jellyfish_project/sweeps/haqkrcc0' target=\"_blank\">https://wandb.ai/3like4/Jellyfish_project/sweeps/haqkrcc0</a>"
      ],
      "text/plain": [
       "<IPython.core.display.HTML object>"
      ]
     },
     "metadata": {},
     "output_type": "display_data"
    },
    {
     "data": {
      "text/html": [
       " View project at <a href='https://wandb.ai/3like4/Jellyfish_project' target=\"_blank\">https://wandb.ai/3like4/Jellyfish_project</a>"
      ],
      "text/plain": [
       "<IPython.core.display.HTML object>"
      ]
     },
     "metadata": {},
     "output_type": "display_data"
    },
    {
     "data": {
      "text/html": [
       " View sweep at <a href='https://wandb.ai/3like4/Jellyfish_project/sweeps/haqkrcc0' target=\"_blank\">https://wandb.ai/3like4/Jellyfish_project/sweeps/haqkrcc0</a>"
      ],
      "text/plain": [
       "<IPython.core.display.HTML object>"
      ]
     },
     "metadata": {},
     "output_type": "display_data"
    },
    {
     "data": {
      "text/html": [
       " View run at <a href='https://wandb.ai/3like4/Jellyfish_project/runs/l8grde1c' target=\"_blank\">https://wandb.ai/3like4/Jellyfish_project/runs/l8grde1c</a>"
      ],
      "text/plain": [
       "<IPython.core.display.HTML object>"
      ]
     },
     "metadata": {},
     "output_type": "display_data"
    },
    {
     "name": "stdout",
     "output_type": "stream",
     "text": [
      "Epoch 1/9\n",
      "45/45 [==============================] - 9s 198ms/step - loss: 0.2753 - accuracy: 0.9044 - val_loss: 2.3415 - val_accuracy: 0.5385\n",
      "INFO:tensorflow:Assets written to: /aiffel/aiffel/jellyfish/wandb/run-20240110_161921-l8grde1c/files/model-best/assets\n"
     ]
    },
    {
     "name": "stderr",
     "output_type": "stream",
     "text": [
      "\u001b[34m\u001b[1mwandb\u001b[0m: Adding directory to artifact (/aiffel/aiffel/jellyfish/wandb/run-20240110_161921-l8grde1c/files/model-best)... Done. 11.0s\n"
     ]
    },
    {
     "name": "stdout",
     "output_type": "stream",
     "text": [
      "Epoch 2/9\n",
      "45/45 [==============================] - 9s 208ms/step - loss: 0.3191 - accuracy: 0.8844 - val_loss: 2.2065 - val_accuracy: 0.4872\n",
      "INFO:tensorflow:Assets written to: /aiffel/aiffel/jellyfish/wandb/run-20240110_161921-l8grde1c/files/model-best/assets\n"
     ]
    },
    {
     "name": "stderr",
     "output_type": "stream",
     "text": [
      "\u001b[34m\u001b[1mwandb\u001b[0m: Adding directory to artifact (/aiffel/aiffel/jellyfish/wandb/run-20240110_161921-l8grde1c/files/model-best)... Done. 4.3s\n"
     ]
    },
    {
     "name": "stdout",
     "output_type": "stream",
     "text": [
      "Epoch 3/9\n",
      "45/45 [==============================] - 9s 201ms/step - loss: 0.1976 - accuracy: 0.9378 - val_loss: 2.0418 - val_accuracy: 0.5641\n",
      "INFO:tensorflow:Assets written to: /aiffel/aiffel/jellyfish/wandb/run-20240110_161921-l8grde1c/files/model-best/assets\n"
     ]
    },
    {
     "name": "stderr",
     "output_type": "stream",
     "text": [
      "\u001b[34m\u001b[1mwandb\u001b[0m: Adding directory to artifact (/aiffel/aiffel/jellyfish/wandb/run-20240110_161921-l8grde1c/files/model-best)... Done. 8.4s\n"
     ]
    },
    {
     "name": "stdout",
     "output_type": "stream",
     "text": [
      "Epoch 4/9\n",
      "45/45 [==============================] - 9s 203ms/step - loss: 0.1735 - accuracy: 0.9478 - val_loss: 2.5618 - val_accuracy: 0.5897\n",
      "Epoch 5/9\n",
      "45/45 [==============================] - 9s 195ms/step - loss: 0.1539 - accuracy: 0.9556 - val_loss: 2.2763 - val_accuracy: 0.5385\n",
      "Epoch 6/9\n",
      "45/45 [==============================] - 9s 197ms/step - loss: 0.1782 - accuracy: 0.9422 - val_loss: 2.2815 - val_accuracy: 0.5641\n",
      "Epoch 7/9\n",
      "45/45 [==============================] - 9s 196ms/step - loss: 0.1415 - accuracy: 0.9522 - val_loss: 2.0543 - val_accuracy: 0.6410\n",
      "Epoch 8/9\n",
      "45/45 [==============================] - 9s 199ms/step - loss: 0.1537 - accuracy: 0.9511 - val_loss: 2.4602 - val_accuracy: 0.5641\n",
      "Epoch 9/9\n",
      "45/45 [==============================] - 9s 196ms/step - loss: 0.1774 - accuracy: 0.9344 - val_loss: 2.0882 - val_accuracy: 0.6410\n",
      "2/2 - 0s - loss: 1.2756 - accuracy: 0.6750\n"
     ]
    },
    {
     "data": {
      "application/vnd.jupyter.widget-view+json": {
       "model_id": "",
       "version_major": 2,
       "version_minor": 0
      },
      "text/plain": [
       "VBox(children=(Label(value='1178.105 MB of 1178.105 MB uploaded (0.047 MB deduped)\\r'), FloatProgress(value=1.…"
      ]
     },
     "metadata": {},
     "output_type": "display_data"
    },
    {
     "data": {
      "text/html": [
       "<style>\n",
       "    table.wandb td:nth-child(1) { padding: 0 10px; text-align: left ; width: auto;} td:nth-child(2) {text-align: left ; width: 100%}\n",
       "    .wandb-row { display: flex; flex-direction: row; flex-wrap: wrap; justify-content: flex-start; width: 100% }\n",
       "    .wandb-col { display: flex; flex-direction: column; flex-basis: 100%; flex: 1; padding: 10px; }\n",
       "    </style>\n",
       "<div class=\"wandb-row\"><div class=\"wandb-col\"><h3>Run history:</h3><br/><table class=\"wandb\"><tr><td>Test Accuracy</td><td>▁</td></tr><tr><td>Test Loss</td><td>▁</td></tr><tr><td>accuracy</td><td>▃▁▆▇█▇██▆</td></tr><tr><td>epoch</td><td>▁▂▃▄▅▅▆▇█</td></tr><tr><td>loss</td><td>▆█▃▂▁▂▁▁▂</td></tr><tr><td>val_accuracy</td><td>▃▁▅▆▃▅█▅█</td></tr><tr><td>val_loss</td><td>▅▃▁█▄▄▁▇▂</td></tr></table><br/></div><div class=\"wandb-col\"><h3>Run summary:</h3><br/><table class=\"wandb\"><tr><td>Test Accuracy</td><td>0.675</td></tr><tr><td>Test Loss</td><td>1.27562</td></tr><tr><td>accuracy</td><td>0.93444</td></tr><tr><td>best_epoch</td><td>2</td></tr><tr><td>best_val_loss</td><td>2.04178</td></tr><tr><td>epoch</td><td>8</td></tr><tr><td>loss</td><td>0.17736</td></tr><tr><td>val_accuracy</td><td>0.64103</td></tr><tr><td>val_loss</td><td>2.08819</td></tr></table><br/></div></div>"
      ],
      "text/plain": [
       "<IPython.core.display.HTML object>"
      ]
     },
     "metadata": {},
     "output_type": "display_data"
    },
    {
     "data": {
      "text/html": [
       " View run <strong style=\"color:#cdcd00\">sunny-sweep-10</strong> at: <a href='https://wandb.ai/3like4/Jellyfish_project/runs/l8grde1c' target=\"_blank\">https://wandb.ai/3like4/Jellyfish_project/runs/l8grde1c</a><br/>Synced 5 W&B file(s), 1 media file(s), 12 artifact file(s) and 1 other file(s)"
      ],
      "text/plain": [
       "<IPython.core.display.HTML object>"
      ]
     },
     "metadata": {},
     "output_type": "display_data"
    },
    {
     "data": {
      "text/html": [
       "Find logs at: <code>./wandb/run-20240110_161921-l8grde1c/logs</code>"
      ],
      "text/plain": [
       "<IPython.core.display.HTML object>"
      ]
     },
     "metadata": {},
     "output_type": "display_data"
    }
   ],
   "source": [
    "import wandb\n",
    "from wandb.keras import WandbCallback\n",
    "\n",
    "\n",
    "sweep_config = {\n",
    "    \"name\": experiment_name,\n",
    "    \"metric\": {\"name\": \"val_loss\", \"goal\": \"minimize\"},\n",
    "    \"method\": \"random\",\n",
    "    \"parameters\": {\n",
    "        \"learning_rate\" : {\n",
    "            \"min\" : 0.001,\n",
    "            \"max\" : 0.1\n",
    "            },\n",
    "        \"epoch\" : {\n",
    "            \"distribution\" : \"int_uniform\",\n",
    "            \"min\" : 5,\n",
    "            \"max\" : 10\n",
    "            }\n",
    "                    \n",
    "        }\n",
    "    }\n",
    "\n",
    "def train():\n",
    "    default_config = {\n",
    "        \"input\" : (224, 224, 3),\n",
    "        \"num_classes\" : 6,\n",
    "        \"learning_rate\" : 0.005,\n",
    "        \"optimizer\" : \"adam\",\n",
    "        \"loss\" : \"sparse_categorical_crossentropy\",\n",
    "        \"metrics\" : [\"accuracy\"],\n",
    "        \"epoch\" : 5,\n",
    "        \"batch_size\" : 32\n",
    "    }\n",
    "\n",
    "    wandb.init(config=default_config)\n",
    "    config = wandb.config\n",
    "\n",
    "\n",
    "    # 모델 생성 및 컴파일\n",
    "    CNN_V2_model = CNN_V2()\n",
    "    CNN_V2_model.compile(optimizer=config.optimizer,\n",
    "                  loss=config.loss,\n",
    "                  metrics=config.metrics)\n",
    "\n",
    "    # 모델 학습\n",
    "    model.fit(train_datagen, \n",
    "              epochs=config.epoch,\n",
    "              validation_data=val_datagen,\n",
    "              callbacks=[WandbCallback()])\n",
    "\n",
    "    # 모델 평가\n",
    "    test_loss, test_accuracy = model.evaluate(test_images, test_labels, verbose=2)\n",
    "\n",
    "    # 결과 로깅\n",
    "    wandb.log({\"Test Accuracy\": test_accuracy, \"Test Loss\": test_loss})\n",
    "\n",
    "    \n",
    "# entity와 project에 본인의 아이디와 프로젝트명을 입력하세요\n",
    "\n",
    "sweep_id = wandb.sweep(sweep_config,\n",
    "                       entity = \"3like4\",\n",
    "                       project = \"Jellyfish_project\")\n",
    "\n",
    "# run the sweep\n",
    "wandb.agent(sweep_id,\n",
    "            function=train,\n",
    "            count=10)"
   ]
  },
  {
   "cell_type": "markdown",
   "id": "429f2789",
   "metadata": {},
   "source": [
    "## CNN_V3"
   ]
  },
  {
   "cell_type": "code",
   "execution_count": 29,
   "id": "54319a80",
   "metadata": {},
   "outputs": [
    {
     "data": {
      "text/html": [
       "Changes to your `wandb` environment variables will be ignored because your `wandb` session has already started. For more information on how to modify your settings with `wandb.init()` arguments, please refer to <a href='https://wandb.me/wandb-init' target=\"_blank\">the W&B docs</a>."
      ],
      "text/plain": [
       "<IPython.core.display.HTML object>"
      ]
     },
     "metadata": {},
     "output_type": "display_data"
    },
    {
     "name": "stderr",
     "output_type": "stream",
     "text": [
      "\u001b[34m\u001b[1mwandb\u001b[0m: \u001b[33mWARNING\u001b[0m Ignored wandb.init() arg project when running a sweep.\n",
      "\u001b[34m\u001b[1mwandb\u001b[0m: \u001b[33mWARNING\u001b[0m Ignored wandb.init() arg entity when running a sweep.\n"
     ]
    },
    {
     "data": {
      "text/html": [
       "Finishing last run (ID:l8grde1c) before initializing another..."
      ],
      "text/plain": [
       "<IPython.core.display.HTML object>"
      ]
     },
     "metadata": {},
     "output_type": "display_data"
    },
    {
     "data": {
      "application/vnd.jupyter.widget-view+json": {
       "model_id": "",
       "version_major": 2,
       "version_minor": 0
      },
      "text/plain": [
       "VBox(children=(Label(value='0.001 MB of 0.001 MB uploaded\\r'), FloatProgress(value=1.0, max=1.0)))"
      ]
     },
     "metadata": {},
     "output_type": "display_data"
    },
    {
     "data": {
      "text/html": [
       " View run <strong style=\"color:#cdcd00\">CNN_V3-adam-20-0.001-gabe</strong> at: <a href='https://wandb.ai/3like4/Jellyfish_project/runs/l8grde1c' target=\"_blank\">https://wandb.ai/3like4/Jellyfish_project/runs/l8grde1c</a><br/>Synced 5 W&B file(s), 0 media file(s), 0 artifact file(s) and 0 other file(s)"
      ],
      "text/plain": [
       "<IPython.core.display.HTML object>"
      ]
     },
     "metadata": {},
     "output_type": "display_data"
    },
    {
     "data": {
      "text/html": [
       "Find logs at: <code>./wandb/run-20240110_163710-l8grde1c/logs</code>"
      ],
      "text/plain": [
       "<IPython.core.display.HTML object>"
      ]
     },
     "metadata": {},
     "output_type": "display_data"
    },
    {
     "data": {
      "text/html": [
       "Successfully finished last run (ID:l8grde1c). Initializing new run:<br/>"
      ],
      "text/plain": [
       "<IPython.core.display.HTML object>"
      ]
     },
     "metadata": {},
     "output_type": "display_data"
    },
    {
     "data": {
      "application/vnd.jupyter.widget-view+json": {
       "model_id": "4386fcb5a0064c38942e1d62321bfa17",
       "version_major": 2,
       "version_minor": 0
      },
      "text/plain": [
       "VBox(children=(Label(value='Waiting for wandb.init()...\\r'), FloatProgress(value=0.011113675077730376, max=1.0…"
      ]
     },
     "metadata": {},
     "output_type": "display_data"
    },
    {
     "data": {
      "text/html": [
       "wandb version 0.16.2 is available!  To upgrade, please run:\n",
       " $ pip install wandb --upgrade"
      ],
      "text/plain": [
       "<IPython.core.display.HTML object>"
      ]
     },
     "metadata": {},
     "output_type": "display_data"
    },
    {
     "data": {
      "text/html": [
       "Tracking run with wandb version 0.16.0"
      ],
      "text/plain": [
       "<IPython.core.display.HTML object>"
      ]
     },
     "metadata": {},
     "output_type": "display_data"
    },
    {
     "data": {
      "text/html": [
       "Run data is saved locally in <code>/aiffel/aiffel/jellyfish/wandb/run-20240110_164630-l8grde1c</code>"
      ],
      "text/plain": [
       "<IPython.core.display.HTML object>"
      ]
     },
     "metadata": {},
     "output_type": "display_data"
    },
    {
     "data": {
      "text/html": [
       "Syncing run <strong><a href='https://wandb.ai/3like4/Jellyfish_project/runs/l8grde1c' target=\"_blank\">CNN_V3-adam-20-0.001-gabe</a></strong> to <a href='https://wandb.ai/3like4/Jellyfish_project' target=\"_blank\">Weights & Biases</a> (<a href='https://wandb.me/run' target=\"_blank\">docs</a>)<br/>Sweep page: <a href='https://wandb.ai/3like4/Jellyfish_project/sweeps/haqkrcc0' target=\"_blank\">https://wandb.ai/3like4/Jellyfish_project/sweeps/haqkrcc0</a>"
      ],
      "text/plain": [
       "<IPython.core.display.HTML object>"
      ]
     },
     "metadata": {},
     "output_type": "display_data"
    },
    {
     "data": {
      "text/html": [
       " View project at <a href='https://wandb.ai/3like4/Jellyfish_project' target=\"_blank\">https://wandb.ai/3like4/Jellyfish_project</a>"
      ],
      "text/plain": [
       "<IPython.core.display.HTML object>"
      ]
     },
     "metadata": {},
     "output_type": "display_data"
    },
    {
     "data": {
      "text/html": [
       " View sweep at <a href='https://wandb.ai/3like4/Jellyfish_project/sweeps/haqkrcc0' target=\"_blank\">https://wandb.ai/3like4/Jellyfish_project/sweeps/haqkrcc0</a>"
      ],
      "text/plain": [
       "<IPython.core.display.HTML object>"
      ]
     },
     "metadata": {},
     "output_type": "display_data"
    },
    {
     "data": {
      "text/html": [
       " View run at <a href='https://wandb.ai/3like4/Jellyfish_project/runs/l8grde1c' target=\"_blank\">https://wandb.ai/3like4/Jellyfish_project/runs/l8grde1c</a>"
      ],
      "text/plain": [
       "<IPython.core.display.HTML object>"
      ]
     },
     "metadata": {},
     "output_type": "display_data"
    },
    {
     "name": "stdout",
     "output_type": "stream",
     "text": [
      "Model: \"sequential_5\"\n",
      "_________________________________________________________________\n",
      "Layer (type)                 Output Shape              Param #   \n",
      "=================================================================\n",
      "conv2d_15 (Conv2D)           (None, 224, 224, 32)      896       \n",
      "_________________________________________________________________\n",
      "layer_normalization_12 (Laye (None, 224, 224, 32)      64        \n",
      "_________________________________________________________________\n",
      "max_pooling2d_14 (MaxPooling (None, 56, 56, 32)        0         \n",
      "_________________________________________________________________\n",
      "dropout_2 (Dropout)          (None, 56, 56, 32)        0         \n",
      "_________________________________________________________________\n",
      "conv2d_16 (Conv2D)           (None, 56, 56, 32)        9248      \n",
      "_________________________________________________________________\n",
      "layer_normalization_13 (Laye (None, 56, 56, 32)        64        \n",
      "_________________________________________________________________\n",
      "max_pooling2d_15 (MaxPooling (None, 14, 14, 32)        0         \n",
      "_________________________________________________________________\n",
      "dropout_3 (Dropout)          (None, 14, 14, 32)        0         \n",
      "_________________________________________________________________\n",
      "conv2d_17 (Conv2D)           (None, 14, 14, 32)        9248      \n",
      "_________________________________________________________________\n",
      "layer_normalization_14 (Laye (None, 14, 14, 32)        64        \n",
      "_________________________________________________________________\n",
      "max_pooling2d_16 (MaxPooling (None, 4, 4, 32)          0         \n",
      "_________________________________________________________________\n",
      "global_average_pooling2d (Gl (None, 32)                0         \n",
      "_________________________________________________________________\n",
      "dense_11 (Dense)             (None, 128)               4224      \n",
      "_________________________________________________________________\n",
      "dropout_4 (Dropout)          (None, 128)               0         \n",
      "_________________________________________________________________\n",
      "dense_12 (Dense)             (None, 6)                 774       \n",
      "=================================================================\n",
      "Total params: 24,582\n",
      "Trainable params: 24,582\n",
      "Non-trainable params: 0\n",
      "_________________________________________________________________\n"
     ]
    }
   ],
   "source": [
    "# 실험 정보 설정\n",
    "model_name = \"CNN_V3\"\n",
    "optimizer_name = \"adam\"\n",
    "batch_size = 20\n",
    "learning_rate = 0.001\n",
    "experiment_name = model_name + \"-\" + optimizer_name + \"-\" + str(batch_size) + \"-\" + str(learning_rate) + \"-gabe\"\n",
    "\n",
    "# 팀명 설정\n",
    "team_name = \"3like4\"\n",
    "\n",
    "# WandB 실행 초기화 및 실험 이름 설정\n",
    "wandb.init(\n",
    "    project=\"Jellyfish_project\",\n",
    "    entity=team_name,\n",
    "    name=experiment_name,\n",
    ")\n",
    "\n",
    "def CNN_V3():\n",
    "    # Sequential 모델 정의\n",
    "    model = tf.keras.models.Sequential([\n",
    "        # 첫 번째 합성곱 레이어 (올바른 이름인 Conv2D로 수정)\n",
    "        tf.keras.layers.Conv2D(32, (3, 3), activation='relu', input_shape=(224, 224, 3), padding='same'),\n",
    "        tf.keras.layers.LayerNormalization(),\n",
    "        tf.keras.layers.MaxPooling2D((4, 4), padding='same'),\n",
    "\n",
    "        # 드롭아웃 추가 (예를 들어, 드롭아웃 비율을 0.2로 설정)\n",
    "        tf.keras.layers.Dropout(0.2),\n",
    "\n",
    "        # 두 번째 합성곱 레이어\n",
    "        tf.keras.layers.Conv2D(32, (3, 3), activation='relu', padding='same'),\n",
    "        tf.keras.layers.LayerNormalization(),\n",
    "        tf.keras.layers.MaxPooling2D((4, 4), padding='same'),\n",
    "\n",
    "        # 드롭아웃 추가\n",
    "        tf.keras.layers.Dropout(0.2),\n",
    "\n",
    "        # 세 번째 합성곱 레이어\n",
    "        tf.keras.layers.Conv2D(32, (3, 3), activation='relu', padding='same'),\n",
    "        tf.keras.layers.LayerNormalization(),\n",
    "        tf.keras.layers.MaxPooling2D((4, 4), padding='same'),\n",
    "\n",
    "        # Global Average Pooling 사용\n",
    "        tf.keras.layers.GlobalAveragePooling2D(),\n",
    "\n",
    "        # 첫 번째 밀집 레이어\n",
    "        tf.keras.layers.Dense(128, activation='relu'),\n",
    "\n",
    "        # 드롭아웃 추가\n",
    "        tf.keras.layers.Dropout(0.2),\n",
    "\n",
    "        # 출력 레이어\n",
    "        tf.keras.layers.Dense(6, activation='softmax')  \n",
    "        ])\n",
    "    return model\n",
    "\n",
    "# 모델 선언\n",
    "CNN_V3_model = CNN_V3()\n",
    "    \n",
    "# 모델 요약\n",
    "CNN_V3_model.summary()\n",
    "\n",
    "# 모델 컴파일\n",
    "CNN_V3_model.compile(optimizer='adam', loss='sparse_categorical_crossentropy', metrics=['accuracy'])\n"
   ]
  },
  {
   "cell_type": "code",
   "execution_count": 30,
   "id": "c3220abe",
   "metadata": {},
   "outputs": [
    {
     "name": "stdout",
     "output_type": "stream",
     "text": [
      "Epoch 1/150\n",
      "45/45 [==============================] - 11s 208ms/step - loss: 1.8215 - accuracy: 0.2133 - val_loss: 1.6829 - val_accuracy: 0.2564\n",
      "Epoch 2/150\n",
      "45/45 [==============================] - 9s 206ms/step - loss: 1.6838 - accuracy: 0.2778 - val_loss: 1.6487 - val_accuracy: 0.2564\n",
      "Epoch 3/150\n",
      "45/45 [==============================] - 9s 203ms/step - loss: 1.6076 - accuracy: 0.3100 - val_loss: 1.5262 - val_accuracy: 0.3846\n",
      "Epoch 4/150\n",
      "45/45 [==============================] - 9s 202ms/step - loss: 1.5143 - accuracy: 0.3456 - val_loss: 1.3837 - val_accuracy: 0.3590\n",
      "Epoch 5/150\n",
      "45/45 [==============================] - 9s 201ms/step - loss: 1.4795 - accuracy: 0.3722 - val_loss: 1.4496 - val_accuracy: 0.3846\n",
      "Epoch 6/150\n",
      "45/45 [==============================] - 9s 205ms/step - loss: 1.4249 - accuracy: 0.4156 - val_loss: 1.3459 - val_accuracy: 0.4615\n",
      "Epoch 7/150\n",
      "45/45 [==============================] - 9s 204ms/step - loss: 1.4030 - accuracy: 0.4422 - val_loss: 1.3429 - val_accuracy: 0.3846\n",
      "Epoch 8/150\n",
      "45/45 [==============================] - 9s 206ms/step - loss: 1.3155 - accuracy: 0.4889 - val_loss: 1.2775 - val_accuracy: 0.3590\n",
      "Epoch 9/150\n",
      "45/45 [==============================] - 9s 205ms/step - loss: 1.2928 - accuracy: 0.4667 - val_loss: 1.3045 - val_accuracy: 0.4103\n",
      "Epoch 10/150\n",
      "45/45 [==============================] - 9s 201ms/step - loss: 1.2699 - accuracy: 0.4878 - val_loss: 1.2729 - val_accuracy: 0.4359\n",
      "Epoch 11/150\n",
      "45/45 [==============================] - 9s 200ms/step - loss: 1.2408 - accuracy: 0.4900 - val_loss: 1.1815 - val_accuracy: 0.4359\n",
      "Epoch 12/150\n",
      "45/45 [==============================] - 9s 204ms/step - loss: 1.1914 - accuracy: 0.4989 - val_loss: 1.4061 - val_accuracy: 0.4615\n",
      "Epoch 13/150\n",
      "45/45 [==============================] - 9s 202ms/step - loss: 1.2195 - accuracy: 0.4956 - val_loss: 1.1989 - val_accuracy: 0.4872\n",
      "Epoch 14/150\n",
      "45/45 [==============================] - 9s 203ms/step - loss: 1.1196 - accuracy: 0.5467 - val_loss: 1.3299 - val_accuracy: 0.3590oss: 1.1639 - accu\n",
      "Epoch 15/150\n",
      "45/45 [==============================] - 9s 204ms/step - loss: 1.0930 - accuracy: 0.5633 - val_loss: 1.3411 - val_accuracy: 0.4103\n",
      "Epoch 16/150\n",
      "45/45 [==============================] - 9s 204ms/step - loss: 1.0656 - accuracy: 0.5667 - val_loss: 1.2913 - val_accuracy: 0.3846\n",
      "Epoch 17/150\n",
      "45/45 [==============================] - 9s 203ms/step - loss: 1.0428 - accuracy: 0.5833 - val_loss: 1.1747 - val_accuracy: 0.4615\n",
      "Epoch 18/150\n",
      "45/45 [==============================] - 9s 202ms/step - loss: 1.0653 - accuracy: 0.5589 - val_loss: 1.3274 - val_accuracy: 0.4103\n",
      "Epoch 19/150\n",
      "45/45 [==============================] - 10s 209ms/step - loss: 1.0109 - accuracy: 0.5944 - val_loss: 1.2430 - val_accuracy: 0.4103\n",
      "Epoch 20/150\n",
      "45/45 [==============================] - 9s 203ms/step - loss: 0.9852 - accuracy: 0.5944 - val_loss: 1.3080 - val_accuracy: 0.4872\n",
      "Epoch 21/150\n",
      "45/45 [==============================] - 9s 205ms/step - loss: 0.9695 - accuracy: 0.6233 - val_loss: 1.2237 - val_accuracy: 0.5385\n",
      "Epoch 22/150\n",
      "45/45 [==============================] - 9s 206ms/step - loss: 0.9749 - accuracy: 0.6267 - val_loss: 1.1608 - val_accuracy: 0.5385\n",
      "Epoch 23/150\n",
      "45/45 [==============================] - 9s 204ms/step - loss: 0.9077 - accuracy: 0.6589 - val_loss: 1.1867 - val_accuracy: 0.5385\n",
      "Epoch 24/150\n",
      "45/45 [==============================] - 9s 205ms/step - loss: 0.9131 - accuracy: 0.6389 - val_loss: 1.3414 - val_accuracy: 0.4615\n",
      "Epoch 25/150\n",
      "45/45 [==============================] - 9s 202ms/step - loss: 0.8635 - accuracy: 0.6678 - val_loss: 1.2572 - val_accuracy: 0.5128\n",
      "Epoch 26/150\n",
      "45/45 [==============================] - 9s 201ms/step - loss: 0.8778 - accuracy: 0.6367 - val_loss: 1.2917 - val_accuracy: 0.5128\n",
      "Epoch 27/150\n",
      "45/45 [==============================] - 9s 202ms/step - loss: 0.8508 - accuracy: 0.6722 - val_loss: 1.2693 - val_accuracy: 0.5897 - loss: 0.8\n",
      "Epoch 28/150\n",
      "45/45 [==============================] - 9s 203ms/step - loss: 0.8724 - accuracy: 0.6644 - val_loss: 1.2186 - val_accuracy: 0.5897\n",
      "Epoch 29/150\n",
      "45/45 [==============================] - 9s 203ms/step - loss: 0.7696 - accuracy: 0.7322 - val_loss: 1.2341 - val_accuracy: 0.5385\n",
      "Epoch 30/150\n",
      "45/45 [==============================] - 9s 203ms/step - loss: 0.7714 - accuracy: 0.7133 - val_loss: 1.1926 - val_accuracy: 0.5641\n",
      "Epoch 31/150\n",
      "45/45 [==============================] - 9s 202ms/step - loss: 0.7617 - accuracy: 0.7167 - val_loss: 1.2781 - val_accuracy: 0.6154\n",
      "Epoch 32/150\n",
      "45/45 [==============================] - 9s 203ms/step - loss: 0.7448 - accuracy: 0.7367 - val_loss: 1.3778 - val_accuracy: 0.5385\n"
     ]
    },
    {
     "data": {
      "application/vnd.jupyter.widget-view+json": {
       "model_id": "",
       "version_major": 2,
       "version_minor": 0
      },
      "text/plain": [
       "VBox(children=(Label(value='0.001 MB of 0.001 MB uploaded\\r'), FloatProgress(value=1.0, max=1.0)))"
      ]
     },
     "metadata": {},
     "output_type": "display_data"
    },
    {
     "data": {
      "text/html": [
       " View run <strong style=\"color:#cdcd00\">CNN_V3-adam-20-0.001-gabe</strong> at: <a href='https://wandb.ai/3like4/Jellyfish_project/runs/l8grde1c' target=\"_blank\">https://wandb.ai/3like4/Jellyfish_project/runs/l8grde1c</a><br/>Synced 5 W&B file(s), 0 media file(s), 0 artifact file(s) and 0 other file(s)"
      ],
      "text/plain": [
       "<IPython.core.display.HTML object>"
      ]
     },
     "metadata": {},
     "output_type": "display_data"
    },
    {
     "data": {
      "text/html": [
       "Find logs at: <code>./wandb/run-20240110_164630-l8grde1c/logs</code>"
      ],
      "text/plain": [
       "<IPython.core.display.HTML object>"
      ]
     },
     "metadata": {},
     "output_type": "display_data"
    }
   ],
   "source": [
    "# 조기 종료 콜백 정의\n",
    "early_stopping_callback = EarlyStopping(monitor='val_loss', patience=10, restore_best_weights=True)\n",
    "\n",
    "# 모델 저장 콜백 정의\n",
    "model_checkpoint_callback = ModelCheckpoint(filepath='CNN_V3.h5', save_best_only=True, monitor='val_loss')\n",
    "\n",
    "# 모델 학습\n",
    "history = CNN_V3_model.fit(train_datagen, epochs=150, validation_data=val_datagen, callbacks=[early_stopping_callback, model_checkpoint_callback])\n",
    "\n",
    "# WandB에 로깅 정보 전송\n",
    "wandb.log({\"train_loss\": history.history['loss'], \"val_loss\": history.history['val_loss'],\n",
    "           \"train_accuracy\": history.history['accuracy'], \"val_accuracy\": history.history['val_accuracy']})\n",
    "\n",
    "# WandB 실행을 마무리합니다.\n",
    "wandb.finish()"
   ]
  },
  {
   "cell_type": "code",
   "execution_count": 31,
   "id": "eb866b09",
   "metadata": {},
   "outputs": [
    {
     "data": {
      "image/png": "[encoded data removed]",
      "text/plain": [
       "<Figure size 864x432 with 2 Axes>"
      ]
     },
     "metadata": {},
     "output_type": "display_data"
    }
   ],
   "source": [
    "# 학습 결과를 시각화\n",
    "plot_accuracy_and_loss(history)"
   ]
  },
  {
   "cell_type": "code",
   "execution_count": 32,
   "id": "b98f5fbc",
   "metadata": {},
   "outputs": [
    {
     "name": "stdout",
     "output_type": "stream",
     "text": [
      "Best Accuracy: 0.7167 at Epoch 31\n",
      "Best Validation Accuracy: 0.6154 at Epoch 31\n"
     ]
    }
   ],
   "source": [
    "accuracy = history.history['accuracy']\n",
    "val_accuracy = history.history['val_accuracy']\n",
    "\n",
    "# Find the epoch with the highest validation accuracy\n",
    "best_epoch = val_accuracy.index(max(val_accuracy)) + 1  # Add 1 because epochs are 1-indexed\n",
    "\n",
    "print(f\"Best Accuracy: {accuracy[best_epoch-1]:.4f} at Epoch {best_epoch}\")\n",
    "print(f\"Best Validation Accuracy: {val_accuracy[best_epoch-1]:.4f} at Epoch {best_epoch}\")"
   ]
  },
  {
   "cell_type": "markdown",
   "id": "4a170d94",
   "metadata": {},
   "source": [
    "## W&B Sweeper"
   ]
  },
  {
   "cell_type": "code",
   "execution_count": 33,
   "id": "d359cc46",
   "metadata": {},
   "outputs": [
    {
     "name": "stdout",
     "output_type": "stream",
     "text": [
      "Create sweep with ID: xgoo5qos\n",
      "Sweep URL: https://wandb.ai/3like4/Jellyfish_project/sweeps/xgoo5qos\n"
     ]
    },
    {
     "name": "stderr",
     "output_type": "stream",
     "text": [
      "\u001b[34m\u001b[1mwandb\u001b[0m: Agent Starting Run: xaqa0agx with config:\n",
      "\u001b[34m\u001b[1mwandb\u001b[0m: \tepoch: 10\n",
      "\u001b[34m\u001b[1mwandb\u001b[0m: \tlearning_rate: 0.032313900175439406\n"
     ]
    },
    {
     "data": {
      "text/html": [
       "wandb version 0.16.2 is available!  To upgrade, please run:\n",
       " $ pip install wandb --upgrade"
      ],
      "text/plain": [
       "<IPython.core.display.HTML object>"
      ]
     },
     "metadata": {},
     "output_type": "display_data"
    },
    {
     "data": {
      "text/html": [
       "Tracking run with wandb version 0.16.0"
      ],
      "text/plain": [
       "<IPython.core.display.HTML object>"
      ]
     },
     "metadata": {},
     "output_type": "display_data"
    },
    {
     "data": {
      "text/html": [
       "Run data is saved locally in <code>/aiffel/aiffel/jellyfish/wandb/run-20240110_165527-xaqa0agx</code>"
      ],
      "text/plain": [
       "<IPython.core.display.HTML object>"
      ]
     },
     "metadata": {},
     "output_type": "display_data"
    },
    {
     "data": {
      "text/html": [
       "Syncing run <strong><a href='https://wandb.ai/3like4/Jellyfish_project/runs/xaqa0agx' target=\"_blank\">icy-sweep-1</a></strong> to <a href='https://wandb.ai/3like4/Jellyfish_project' target=\"_blank\">Weights & Biases</a> (<a href='https://wandb.me/run' target=\"_blank\">docs</a>)<br/>Sweep page: <a href='https://wandb.ai/3like4/Jellyfish_project/sweeps/xgoo5qos' target=\"_blank\">https://wandb.ai/3like4/Jellyfish_project/sweeps/xgoo5qos</a>"
      ],
      "text/plain": [
       "<IPython.core.display.HTML object>"
      ]
     },
     "metadata": {},
     "output_type": "display_data"
    },
    {
     "data": {
      "text/html": [
       " View project at <a href='https://wandb.ai/3like4/Jellyfish_project' target=\"_blank\">https://wandb.ai/3like4/Jellyfish_project</a>"
      ],
      "text/plain": [
       "<IPython.core.display.HTML object>"
      ]
     },
     "metadata": {},
     "output_type": "display_data"
    },
    {
     "data": {
      "text/html": [
       " View sweep at <a href='https://wandb.ai/3like4/Jellyfish_project/sweeps/xgoo5qos' target=\"_blank\">https://wandb.ai/3like4/Jellyfish_project/sweeps/xgoo5qos</a>"
      ],
      "text/plain": [
       "<IPython.core.display.HTML object>"
      ]
     },
     "metadata": {},
     "output_type": "display_data"
    },
    {
     "data": {
      "text/html": [
       " View run at <a href='https://wandb.ai/3like4/Jellyfish_project/runs/xaqa0agx' target=\"_blank\">https://wandb.ai/3like4/Jellyfish_project/runs/xaqa0agx</a>"
      ],
      "text/plain": [
       "<IPython.core.display.HTML object>"
      ]
     },
     "metadata": {},
     "output_type": "display_data"
    },
    {
     "name": "stdout",
     "output_type": "stream",
     "text": [
      "Epoch 1/10\n",
      "45/45 [==============================] - 9s 196ms/step - loss: 0.2206 - accuracy: 0.9200 - val_loss: 2.2093 - val_accuracy: 0.5897\n",
      "INFO:tensorflow:Assets written to: /aiffel/aiffel/jellyfish/wandb/run-20240110_165527-xaqa0agx/files/model-best/assets\n"
     ]
    },
    {
     "name": "stderr",
     "output_type": "stream",
     "text": [
      "\u001b[34m\u001b[1mwandb\u001b[0m: Adding directory to artifact (/aiffel/aiffel/jellyfish/wandb/run-20240110_165527-xaqa0agx/files/model-best)... Done. 4.1s\n"
     ]
    },
    {
     "name": "stdout",
     "output_type": "stream",
     "text": [
      "Epoch 2/10\n",
      "45/45 [==============================] - 9s 195ms/step - loss: 0.1604 - accuracy: 0.9533 - val_loss: 2.4647 - val_accuracy: 0.5897\n",
      "Epoch 3/10\n",
      "45/45 [==============================] - 9s 196ms/step - loss: 0.1379 - accuracy: 0.9567 - val_loss: 2.6051 - val_accuracy: 0.5385\n",
      "Epoch 4/10\n",
      "45/45 [==============================] - 9s 194ms/step - loss: 0.2132 - accuracy: 0.9356 - val_loss: 2.4516 - val_accuracy: 0.6410\n",
      "Epoch 5/10\n",
      "45/45 [==============================] - 9s 194ms/step - loss: 0.2309 - accuracy: 0.9289 - val_loss: 2.3159 - val_accuracy: 0.5641\n",
      "Epoch 6/10\n",
      "45/45 [==============================] - 9s 197ms/step - loss: 0.1081 - accuracy: 0.9633 - val_loss: 2.4885 - val_accuracy: 0.5897\n",
      "Epoch 7/10\n",
      "45/45 [==============================] - 9s 196ms/step - loss: 0.1645 - accuracy: 0.9500 - val_loss: 2.1669 - val_accuracy: 0.4872\n",
      "INFO:tensorflow:Assets written to: /aiffel/aiffel/jellyfish/wandb/run-20240110_165527-xaqa0agx/files/model-best/assets\n"
     ]
    },
    {
     "name": "stderr",
     "output_type": "stream",
     "text": [
      "\u001b[34m\u001b[1mwandb\u001b[0m: Adding directory to artifact (/aiffel/aiffel/jellyfish/wandb/run-20240110_165527-xaqa0agx/files/model-best)... Done. 4.7s\n"
     ]
    },
    {
     "name": "stdout",
     "output_type": "stream",
     "text": [
      "Epoch 8/10\n",
      "45/45 [==============================] - 9s 205ms/step - loss: 0.2405 - accuracy: 0.9244 - val_loss: 2.1311 - val_accuracy: 0.5897\n",
      "INFO:tensorflow:Assets written to: /aiffel/aiffel/jellyfish/wandb/run-20240110_165527-xaqa0agx/files/model-best/assets\n"
     ]
    },
    {
     "name": "stderr",
     "output_type": "stream",
     "text": [
      "\u001b[34m\u001b[1mwandb\u001b[0m: Adding directory to artifact (/aiffel/aiffel/jellyfish/wandb/run-20240110_165527-xaqa0agx/files/model-best)... Done. 7.2s\n"
     ]
    },
    {
     "name": "stdout",
     "output_type": "stream",
     "text": [
      "Epoch 9/10\n",
      "45/45 [==============================] - 9s 201ms/step - loss: 0.2143 - accuracy: 0.9300 - val_loss: 2.0991 - val_accuracy: 0.5385\n",
      "INFO:tensorflow:Assets written to: /aiffel/aiffel/jellyfish/wandb/run-20240110_165527-xaqa0agx/files/model-best/assets\n"
     ]
    },
    {
     "name": "stderr",
     "output_type": "stream",
     "text": [
      "\u001b[34m\u001b[1mwandb\u001b[0m: Adding directory to artifact (/aiffel/aiffel/jellyfish/wandb/run-20240110_165527-xaqa0agx/files/model-best)... Done. 4.9s\n"
     ]
    },
    {
     "name": "stdout",
     "output_type": "stream",
     "text": [
      "Epoch 10/10\n",
      "45/45 [==============================] - 9s 203ms/step - loss: 0.2860 - accuracy: 0.9011 - val_loss: 2.6438 - val_accuracy: 0.5128\n",
      "2/2 - 0s - loss: 1.7217 - accuracy: 0.5750\n"
     ]
    },
    {
     "data": {
      "application/vnd.jupyter.widget-view+json": {
       "model_id": "",
       "version_major": 2,
       "version_minor": 0
      },
      "text/plain": [
       "VBox(children=(Label(value='1472.677 MB of 1472.677 MB uploaded (0.070 MB deduped)\\r'), FloatProgress(value=1.…"
      ]
     },
     "metadata": {},
     "output_type": "display_data"
    },
    {
     "data": {
      "text/html": [
       "<style>\n",
       "    table.wandb td:nth-child(1) { padding: 0 10px; text-align: left ; width: auto;} td:nth-child(2) {text-align: left ; width: 100%}\n",
       "    .wandb-row { display: flex; flex-direction: row; flex-wrap: wrap; justify-content: flex-start; width: 100% }\n",
       "    .wandb-col { display: flex; flex-direction: column; flex-basis: 100%; flex: 1; padding: 10px; }\n",
       "    </style>\n",
       "<div class=\"wandb-row\"><div class=\"wandb-col\"><h3>Run history:</h3><br/><table class=\"wandb\"><tr><td>Test Accuracy</td><td>▁</td></tr><tr><td>Test Loss</td><td>▁</td></tr><tr><td>accuracy</td><td>▃▇▇▅▄█▇▄▄▁</td></tr><tr><td>epoch</td><td>▁▂▃▃▄▅▆▆▇█</td></tr><tr><td>loss</td><td>▅▃▂▅▆▁▃▆▅█</td></tr><tr><td>val_accuracy</td><td>▆▆▃█▅▆▁▆▃▂</td></tr><tr><td>val_loss</td><td>▂▆█▆▄▆▂▁▁█</td></tr></table><br/></div><div class=\"wandb-col\"><h3>Run summary:</h3><br/><table class=\"wandb\"><tr><td>Test Accuracy</td><td>0.575</td></tr><tr><td>Test Loss</td><td>1.72174</td></tr><tr><td>accuracy</td><td>0.90111</td></tr><tr><td>best_epoch</td><td>8</td></tr><tr><td>best_val_loss</td><td>2.09912</td></tr><tr><td>epoch</td><td>9</td></tr><tr><td>loss</td><td>0.28603</td></tr><tr><td>val_accuracy</td><td>0.51282</td></tr><tr><td>val_loss</td><td>2.64384</td></tr></table><br/></div></div>"
      ],
      "text/plain": [
       "<IPython.core.display.HTML object>"
      ]
     },
     "metadata": {},
     "output_type": "display_data"
    },
    {
     "data": {
      "text/html": [
       " View run <strong style=\"color:#cdcd00\">icy-sweep-1</strong> at: <a href='https://wandb.ai/3like4/Jellyfish_project/runs/xaqa0agx' target=\"_blank\">https://wandb.ai/3like4/Jellyfish_project/runs/xaqa0agx</a><br/>Synced 5 W&B file(s), 1 media file(s), 16 artifact file(s) and 1 other file(s)"
      ],
      "text/plain": [
       "<IPython.core.display.HTML object>"
      ]
     },
     "metadata": {},
     "output_type": "display_data"
    },
    {
     "data": {
      "text/html": [
       "Find logs at: <code>./wandb/run-20240110_165527-xaqa0agx/logs</code>"
      ],
      "text/plain": [
       "<IPython.core.display.HTML object>"
      ]
     },
     "metadata": {},
     "output_type": "display_data"
    },
    {
     "name": "stderr",
     "output_type": "stream",
     "text": [
      "\u001b[34m\u001b[1mwandb\u001b[0m: Agent Starting Run: y70nhzq8 with config:\n",
      "\u001b[34m\u001b[1mwandb\u001b[0m: \tepoch: 5\n",
      "\u001b[34m\u001b[1mwandb\u001b[0m: \tlearning_rate: 0.03822551482532165\n"
     ]
    },
    {
     "data": {
      "text/html": [
       "wandb version 0.16.2 is available!  To upgrade, please run:\n",
       " $ pip install wandb --upgrade"
      ],
      "text/plain": [
       "<IPython.core.display.HTML object>"
      ]
     },
     "metadata": {},
     "output_type": "display_data"
    },
    {
     "data": {
      "text/html": [
       "Tracking run with wandb version 0.16.0"
      ],
      "text/plain": [
       "<IPython.core.display.HTML object>"
      ]
     },
     "metadata": {},
     "output_type": "display_data"
    },
    {
     "data": {
      "text/html": [
       "Run data is saved locally in <code>/aiffel/aiffel/jellyfish/wandb/run-20240110_165810-y70nhzq8</code>"
      ],
      "text/plain": [
       "<IPython.core.display.HTML object>"
      ]
     },
     "metadata": {},
     "output_type": "display_data"
    },
    {
     "data": {
      "text/html": [
       "Syncing run <strong><a href='https://wandb.ai/3like4/Jellyfish_project/runs/y70nhzq8' target=\"_blank\">ruby-sweep-2</a></strong> to <a href='https://wandb.ai/3like4/Jellyfish_project' target=\"_blank\">Weights & Biases</a> (<a href='https://wandb.me/run' target=\"_blank\">docs</a>)<br/>Sweep page: <a href='https://wandb.ai/3like4/Jellyfish_project/sweeps/xgoo5qos' target=\"_blank\">https://wandb.ai/3like4/Jellyfish_project/sweeps/xgoo5qos</a>"
      ],
      "text/plain": [
       "<IPython.core.display.HTML object>"
      ]
     },
     "metadata": {},
     "output_type": "display_data"
    },
    {
     "data": {
      "text/html": [
       " View project at <a href='https://wandb.ai/3like4/Jellyfish_project' target=\"_blank\">https://wandb.ai/3like4/Jellyfish_project</a>"
      ],
      "text/plain": [
       "<IPython.core.display.HTML object>"
      ]
     },
     "metadata": {},
     "output_type": "display_data"
    },
    {
     "data": {
      "text/html": [
       " View sweep at <a href='https://wandb.ai/3like4/Jellyfish_project/sweeps/xgoo5qos' target=\"_blank\">https://wandb.ai/3like4/Jellyfish_project/sweeps/xgoo5qos</a>"
      ],
      "text/plain": [
       "<IPython.core.display.HTML object>"
      ]
     },
     "metadata": {},
     "output_type": "display_data"
    },
    {
     "data": {
      "text/html": [
       " View run at <a href='https://wandb.ai/3like4/Jellyfish_project/runs/y70nhzq8' target=\"_blank\">https://wandb.ai/3like4/Jellyfish_project/runs/y70nhzq8</a>"
      ],
      "text/plain": [
       "<IPython.core.display.HTML object>"
      ]
     },
     "metadata": {},
     "output_type": "display_data"
    },
    {
     "name": "stdout",
     "output_type": "stream",
     "text": [
      "Epoch 1/5\n",
      "45/45 [==============================] - 9s 197ms/step - loss: 0.2028 - accuracy: 0.9367 - val_loss: 2.2762 - val_accuracy: 0.6154\n",
      "INFO:tensorflow:Assets written to: /aiffel/aiffel/jellyfish/wandb/run-20240110_165810-y70nhzq8/files/model-best/assets\n"
     ]
    },
    {
     "name": "stderr",
     "output_type": "stream",
     "text": [
      "\u001b[34m\u001b[1mwandb\u001b[0m: Adding directory to artifact (/aiffel/aiffel/jellyfish/wandb/run-20240110_165810-y70nhzq8/files/model-best)... Done. 8.3s\n"
     ]
    },
    {
     "name": "stdout",
     "output_type": "stream",
     "text": [
      "Epoch 2/5\n",
      "45/45 [==============================] - 9s 201ms/step - loss: 0.1716 - accuracy: 0.9478 - val_loss: 2.3858 - val_accuracy: 0.5385\n",
      "Epoch 3/5\n",
      "45/45 [==============================] - 9s 196ms/step - loss: 0.1257 - accuracy: 0.9667 - val_loss: 2.4986 - val_accuracy: 0.6410\n",
      "Epoch 4/5\n",
      "45/45 [==============================] - 9s 197ms/step - loss: 0.1725 - accuracy: 0.9444 - val_loss: 2.5809 - val_accuracy: 0.5897\n",
      "Epoch 5/5\n",
      "45/45 [==============================] - 9s 198ms/step - loss: 0.1980 - accuracy: 0.9322 - val_loss: 2.2647 - val_accuracy: 0.6154\n",
      "INFO:tensorflow:Assets written to: /aiffel/aiffel/jellyfish/wandb/run-20240110_165810-y70nhzq8/files/model-best/assets\n"
     ]
    },
    {
     "name": "stderr",
     "output_type": "stream",
     "text": [
      "\u001b[34m\u001b[1mwandb\u001b[0m: Adding directory to artifact (/aiffel/aiffel/jellyfish/wandb/run-20240110_165810-y70nhzq8/files/model-best)... Done. 3.7s\n"
     ]
    },
    {
     "name": "stdout",
     "output_type": "stream",
     "text": [
      "2/2 - 0s - loss: 1.4619 - accuracy: 0.6500\n"
     ]
    },
    {
     "data": {
      "application/vnd.jupyter.widget-view+json": {
       "model_id": "",
       "version_major": 2,
       "version_minor": 0
      },
      "text/plain": [
       "VBox(children=(Label(value='687.284 MB of 687.284 MB uploaded (0.023 MB deduped)\\r'), FloatProgress(value=1.0,…"
      ]
     },
     "metadata": {},
     "output_type": "display_data"
    },
    {
     "data": {
      "text/html": [
       "<style>\n",
       "    table.wandb td:nth-child(1) { padding: 0 10px; text-align: left ; width: auto;} td:nth-child(2) {text-align: left ; width: 100%}\n",
       "    .wandb-row { display: flex; flex-direction: row; flex-wrap: wrap; justify-content: flex-start; width: 100% }\n",
       "    .wandb-col { display: flex; flex-direction: column; flex-basis: 100%; flex: 1; padding: 10px; }\n",
       "    </style>\n",
       "<div class=\"wandb-row\"><div class=\"wandb-col\"><h3>Run history:</h3><br/><table class=\"wandb\"><tr><td>Test Accuracy</td><td>▁</td></tr><tr><td>Test Loss</td><td>▁</td></tr><tr><td>accuracy</td><td>▂▄█▃▁</td></tr><tr><td>epoch</td><td>▁▃▅▆█</td></tr><tr><td>loss</td><td>█▅▁▅█</td></tr><tr><td>val_accuracy</td><td>▆▁█▅▆</td></tr><tr><td>val_loss</td><td>▁▄▆█▁</td></tr></table><br/></div><div class=\"wandb-col\"><h3>Run summary:</h3><br/><table class=\"wandb\"><tr><td>Test Accuracy</td><td>0.65</td></tr><tr><td>Test Loss</td><td>1.46194</td></tr><tr><td>accuracy</td><td>0.93222</td></tr><tr><td>best_epoch</td><td>4</td></tr><tr><td>best_val_loss</td><td>2.26472</td></tr><tr><td>epoch</td><td>4</td></tr><tr><td>loss</td><td>0.19801</td></tr><tr><td>val_accuracy</td><td>0.61538</td></tr><tr><td>val_loss</td><td>2.26472</td></tr></table><br/></div></div>"
      ],
      "text/plain": [
       "<IPython.core.display.HTML object>"
      ]
     },
     "metadata": {},
     "output_type": "display_data"
    },
    {
     "data": {
      "text/html": [
       " View run <strong style=\"color:#cdcd00\">ruby-sweep-2</strong> at: <a href='https://wandb.ai/3like4/Jellyfish_project/runs/y70nhzq8' target=\"_blank\">https://wandb.ai/3like4/Jellyfish_project/runs/y70nhzq8</a><br/>Synced 5 W&B file(s), 1 media file(s), 8 artifact file(s) and 1 other file(s)"
      ],
      "text/plain": [
       "<IPython.core.display.HTML object>"
      ]
     },
     "metadata": {},
     "output_type": "display_data"
    },
    {
     "data": {
      "text/html": [
       "Find logs at: <code>./wandb/run-20240110_165810-y70nhzq8/logs</code>"
      ],
      "text/plain": [
       "<IPython.core.display.HTML object>"
      ]
     },
     "metadata": {},
     "output_type": "display_data"
    },
    {
     "name": "stderr",
     "output_type": "stream",
     "text": [
      "\u001b[34m\u001b[1mwandb\u001b[0m: Agent Starting Run: rks64q29 with config:\n",
      "\u001b[34m\u001b[1mwandb\u001b[0m: \tepoch: 8\n",
      "\u001b[34m\u001b[1mwandb\u001b[0m: \tlearning_rate: 0.09788149311789236\n"
     ]
    },
    {
     "data": {
      "text/html": [
       "wandb version 0.16.2 is available!  To upgrade, please run:\n",
       " $ pip install wandb --upgrade"
      ],
      "text/plain": [
       "<IPython.core.display.HTML object>"
      ]
     },
     "metadata": {},
     "output_type": "display_data"
    },
    {
     "data": {
      "text/html": [
       "Tracking run with wandb version 0.16.0"
      ],
      "text/plain": [
       "<IPython.core.display.HTML object>"
      ]
     },
     "metadata": {},
     "output_type": "display_data"
    },
    {
     "data": {
      "text/html": [
       "Run data is saved locally in <code>/aiffel/aiffel/jellyfish/wandb/run-20240110_165943-rks64q29</code>"
      ],
      "text/plain": [
       "<IPython.core.display.HTML object>"
      ]
     },
     "metadata": {},
     "output_type": "display_data"
    },
    {
     "data": {
      "text/html": [
       "Syncing run <strong><a href='https://wandb.ai/3like4/Jellyfish_project/runs/rks64q29' target=\"_blank\">wandering-sweep-3</a></strong> to <a href='https://wandb.ai/3like4/Jellyfish_project' target=\"_blank\">Weights & Biases</a> (<a href='https://wandb.me/run' target=\"_blank\">docs</a>)<br/>Sweep page: <a href='https://wandb.ai/3like4/Jellyfish_project/sweeps/xgoo5qos' target=\"_blank\">https://wandb.ai/3like4/Jellyfish_project/sweeps/xgoo5qos</a>"
      ],
      "text/plain": [
       "<IPython.core.display.HTML object>"
      ]
     },
     "metadata": {},
     "output_type": "display_data"
    },
    {
     "data": {
      "text/html": [
       " View project at <a href='https://wandb.ai/3like4/Jellyfish_project' target=\"_blank\">https://wandb.ai/3like4/Jellyfish_project</a>"
      ],
      "text/plain": [
       "<IPython.core.display.HTML object>"
      ]
     },
     "metadata": {},
     "output_type": "display_data"
    },
    {
     "data": {
      "text/html": [
       " View sweep at <a href='https://wandb.ai/3like4/Jellyfish_project/sweeps/xgoo5qos' target=\"_blank\">https://wandb.ai/3like4/Jellyfish_project/sweeps/xgoo5qos</a>"
      ],
      "text/plain": [
       "<IPython.core.display.HTML object>"
      ]
     },
     "metadata": {},
     "output_type": "display_data"
    },
    {
     "data": {
      "text/html": [
       " View run at <a href='https://wandb.ai/3like4/Jellyfish_project/runs/rks64q29' target=\"_blank\">https://wandb.ai/3like4/Jellyfish_project/runs/rks64q29</a>"
      ],
      "text/plain": [
       "<IPython.core.display.HTML object>"
      ]
     },
     "metadata": {},
     "output_type": "display_data"
    },
    {
     "name": "stdout",
     "output_type": "stream",
     "text": [
      "Epoch 1/8\n",
      "45/45 [==============================] - 9s 196ms/step - loss: 0.1369 - accuracy: 0.9656 - val_loss: 2.5651 - val_accuracy: 0.6667\n",
      "INFO:tensorflow:Assets written to: /aiffel/aiffel/jellyfish/wandb/run-20240110_165943-rks64q29/files/model-best/assets\n"
     ]
    },
    {
     "name": "stderr",
     "output_type": "stream",
     "text": [
      "\u001b[34m\u001b[1mwandb\u001b[0m: Adding directory to artifact (/aiffel/aiffel/jellyfish/wandb/run-20240110_165943-rks64q29/files/model-best)... Done. 9.3s\n"
     ]
    },
    {
     "name": "stdout",
     "output_type": "stream",
     "text": [
      "Epoch 2/8\n",
      "45/45 [==============================] - 9s 200ms/step - loss: 0.1239 - accuracy: 0.9578 - val_loss: 2.3449 - val_accuracy: 0.6410\n",
      "INFO:tensorflow:Assets written to: /aiffel/aiffel/jellyfish/wandb/run-20240110_165943-rks64q29/files/model-best/assets\n"
     ]
    },
    {
     "name": "stderr",
     "output_type": "stream",
     "text": [
      "\u001b[34m\u001b[1mwandb\u001b[0m: Adding directory to artifact (/aiffel/aiffel/jellyfish/wandb/run-20240110_165943-rks64q29/files/model-best)... Done. 8.6s\n"
     ]
    },
    {
     "name": "stdout",
     "output_type": "stream",
     "text": [
      "Epoch 3/8\n",
      "45/45 [==============================] - 9s 204ms/step - loss: 0.1520 - accuracy: 0.9467 - val_loss: 2.1719 - val_accuracy: 0.6667\n",
      "INFO:tensorflow:Assets written to: /aiffel/aiffel/jellyfish/wandb/run-20240110_165943-rks64q29/files/model-best/assets\n"
     ]
    },
    {
     "name": "stderr",
     "output_type": "stream",
     "text": [
      "\u001b[34m\u001b[1mwandb\u001b[0m: Adding directory to artifact (/aiffel/aiffel/jellyfish/wandb/run-20240110_165943-rks64q29/files/model-best)... Done. 6.4s\n"
     ]
    },
    {
     "name": "stdout",
     "output_type": "stream",
     "text": [
      "Epoch 4/8\n",
      "45/45 [==============================] - 9s 207ms/step - loss: 0.1161 - accuracy: 0.9589 - val_loss: 2.0809 - val_accuracy: 0.6923\n",
      "INFO:tensorflow:Assets written to: /aiffel/aiffel/jellyfish/wandb/run-20240110_165943-rks64q29/files/model-best/assets\n"
     ]
    },
    {
     "name": "stderr",
     "output_type": "stream",
     "text": [
      "\u001b[34m\u001b[1mwandb\u001b[0m: Adding directory to artifact (/aiffel/aiffel/jellyfish/wandb/run-20240110_165943-rks64q29/files/model-best)... Done. 5.5s\n"
     ]
    },
    {
     "name": "stdout",
     "output_type": "stream",
     "text": [
      "Epoch 5/8\n",
      "45/45 [==============================] - 9s 202ms/step - loss: 0.0866 - accuracy: 0.9744 - val_loss: 2.3438 - val_accuracy: 0.6667\n",
      "Epoch 6/8\n",
      "45/45 [==============================] - 9s 199ms/step - loss: 0.1537 - accuracy: 0.9567 - val_loss: 2.4280 - val_accuracy: 0.6667\n",
      "Epoch 7/8\n",
      "45/45 [==============================] - 9s 195ms/step - loss: 0.1414 - accuracy: 0.9567 - val_loss: 2.3906 - val_accuracy: 0.5897s: 0.1\n",
      "Epoch 8/8\n",
      "45/45 [==============================] - 9s 195ms/step - loss: 0.1298 - accuracy: 0.9567 - val_loss: 2.5407 - val_accuracy: 0.5641\n",
      "2/2 - 0s - loss: 1.9427 - accuracy: 0.6000\n"
     ]
    },
    {
     "data": {
      "application/vnd.jupyter.widget-view+json": {
       "model_id": "",
       "version_major": 2,
       "version_minor": 0
      },
      "text/plain": [
       "VBox(children=(Label(value='1472.677 MB of 1472.677 MB uploaded (0.070 MB deduped)\\r'), FloatProgress(value=1.…"
      ]
     },
     "metadata": {},
     "output_type": "display_data"
    },
    {
     "data": {
      "text/html": [
       "<style>\n",
       "    table.wandb td:nth-child(1) { padding: 0 10px; text-align: left ; width: auto;} td:nth-child(2) {text-align: left ; width: 100%}\n",
       "    .wandb-row { display: flex; flex-direction: row; flex-wrap: wrap; justify-content: flex-start; width: 100% }\n",
       "    .wandb-col { display: flex; flex-direction: column; flex-basis: 100%; flex: 1; padding: 10px; }\n",
       "    </style>\n",
       "<div class=\"wandb-row\"><div class=\"wandb-col\"><h3>Run history:</h3><br/><table class=\"wandb\"><tr><td>Test Accuracy</td><td>▁</td></tr><tr><td>Test Loss</td><td>▁</td></tr><tr><td>accuracy</td><td>▆▄▁▄█▄▄▄</td></tr><tr><td>epoch</td><td>▁▂▃▄▅▆▇█</td></tr><tr><td>loss</td><td>▆▅█▄▁█▇▆</td></tr><tr><td>val_accuracy</td><td>▇▅▇█▇▇▂▁</td></tr><tr><td>val_loss</td><td>█▅▂▁▅▆▅█</td></tr></table><br/></div><div class=\"wandb-col\"><h3>Run summary:</h3><br/><table class=\"wandb\"><tr><td>Test Accuracy</td><td>0.6</td></tr><tr><td>Test Loss</td><td>1.94266</td></tr><tr><td>accuracy</td><td>0.95667</td></tr><tr><td>best_epoch</td><td>3</td></tr><tr><td>best_val_loss</td><td>2.08087</td></tr><tr><td>epoch</td><td>7</td></tr><tr><td>loss</td><td>0.12983</td></tr><tr><td>val_accuracy</td><td>0.5641</td></tr><tr><td>val_loss</td><td>2.54073</td></tr></table><br/></div></div>"
      ],
      "text/plain": [
       "<IPython.core.display.HTML object>"
      ]
     },
     "metadata": {},
     "output_type": "display_data"
    },
    {
     "data": {
      "text/html": [
       " View run <strong style=\"color:#cdcd00\">wandering-sweep-3</strong> at: <a href='https://wandb.ai/3like4/Jellyfish_project/runs/rks64q29' target=\"_blank\">https://wandb.ai/3like4/Jellyfish_project/runs/rks64q29</a><br/>Synced 5 W&B file(s), 1 media file(s), 16 artifact file(s) and 1 other file(s)"
      ],
      "text/plain": [
       "<IPython.core.display.HTML object>"
      ]
     },
     "metadata": {},
     "output_type": "display_data"
    },
    {
     "data": {
      "text/html": [
       "Find logs at: <code>./wandb/run-20240110_165943-rks64q29/logs</code>"
      ],
      "text/plain": [
       "<IPython.core.display.HTML object>"
      ]
     },
     "metadata": {},
     "output_type": "display_data"
    },
    {
     "name": "stderr",
     "output_type": "stream",
     "text": [
      "\u001b[34m\u001b[1mwandb\u001b[0m: Agent Starting Run: ajuoov0b with config:\n",
      "\u001b[34m\u001b[1mwandb\u001b[0m: \tepoch: 9\n",
      "\u001b[34m\u001b[1mwandb\u001b[0m: \tlearning_rate: 0.03569970783145227\n"
     ]
    },
    {
     "data": {
      "text/html": [
       "wandb version 0.16.2 is available!  To upgrade, please run:\n",
       " $ pip install wandb --upgrade"
      ],
      "text/plain": [
       "<IPython.core.display.HTML object>"
      ]
     },
     "metadata": {},
     "output_type": "display_data"
    },
    {
     "data": {
      "text/html": [
       "Tracking run with wandb version 0.16.0"
      ],
      "text/plain": [
       "<IPython.core.display.HTML object>"
      ]
     },
     "metadata": {},
     "output_type": "display_data"
    },
    {
     "data": {
      "text/html": [
       "Run data is saved locally in <code>/aiffel/aiffel/jellyfish/wandb/run-20240110_170216-ajuoov0b</code>"
      ],
      "text/plain": [
       "<IPython.core.display.HTML object>"
      ]
     },
     "metadata": {},
     "output_type": "display_data"
    },
    {
     "data": {
      "text/html": [
       "Syncing run <strong><a href='https://wandb.ai/3like4/Jellyfish_project/runs/ajuoov0b' target=\"_blank\">woven-sweep-4</a></strong> to <a href='https://wandb.ai/3like4/Jellyfish_project' target=\"_blank\">Weights & Biases</a> (<a href='https://wandb.me/run' target=\"_blank\">docs</a>)<br/>Sweep page: <a href='https://wandb.ai/3like4/Jellyfish_project/sweeps/xgoo5qos' target=\"_blank\">https://wandb.ai/3like4/Jellyfish_project/sweeps/xgoo5qos</a>"
      ],
      "text/plain": [
       "<IPython.core.display.HTML object>"
      ]
     },
     "metadata": {},
     "output_type": "display_data"
    },
    {
     "data": {
      "text/html": [
       " View project at <a href='https://wandb.ai/3like4/Jellyfish_project' target=\"_blank\">https://wandb.ai/3like4/Jellyfish_project</a>"
      ],
      "text/plain": [
       "<IPython.core.display.HTML object>"
      ]
     },
     "metadata": {},
     "output_type": "display_data"
    },
    {
     "data": {
      "text/html": [
       " View sweep at <a href='https://wandb.ai/3like4/Jellyfish_project/sweeps/xgoo5qos' target=\"_blank\">https://wandb.ai/3like4/Jellyfish_project/sweeps/xgoo5qos</a>"
      ],
      "text/plain": [
       "<IPython.core.display.HTML object>"
      ]
     },
     "metadata": {},
     "output_type": "display_data"
    },
    {
     "data": {
      "text/html": [
       " View run at <a href='https://wandb.ai/3like4/Jellyfish_project/runs/ajuoov0b' target=\"_blank\">https://wandb.ai/3like4/Jellyfish_project/runs/ajuoov0b</a>"
      ],
      "text/plain": [
       "<IPython.core.display.HTML object>"
      ]
     },
     "metadata": {},
     "output_type": "display_data"
    },
    {
     "name": "stdout",
     "output_type": "stream",
     "text": [
      "Epoch 1/9\n",
      "45/45 [==============================] - 9s 198ms/step - loss: 0.1355 - accuracy: 0.9544 - val_loss: 2.8700 - val_accuracy: 0.58978 - accuracy: \n",
      "INFO:tensorflow:Assets written to: /aiffel/aiffel/jellyfish/wandb/run-20240110_170216-ajuoov0b/files/model-best/assets\n"
     ]
    },
    {
     "name": "stderr",
     "output_type": "stream",
     "text": [
      "\u001b[34m\u001b[1mwandb\u001b[0m: Adding directory to artifact (/aiffel/aiffel/jellyfish/wandb/run-20240110_170216-ajuoov0b/files/model-best)... Done. 6.5s\n"
     ]
    },
    {
     "name": "stdout",
     "output_type": "stream",
     "text": [
      "Epoch 2/9\n",
      "45/45 [==============================] - 9s 205ms/step - loss: 0.1561 - accuracy: 0.9456 - val_loss: 2.7063 - val_accuracy: 0.6154\n",
      "INFO:tensorflow:Assets written to: /aiffel/aiffel/jellyfish/wandb/run-20240110_170216-ajuoov0b/files/model-best/assets\n"
     ]
    },
    {
     "name": "stderr",
     "output_type": "stream",
     "text": [
      "\u001b[34m\u001b[1mwandb\u001b[0m: Adding directory to artifact (/aiffel/aiffel/jellyfish/wandb/run-20240110_170216-ajuoov0b/files/model-best)... Done. 7.1s\n"
     ]
    },
    {
     "name": "stdout",
     "output_type": "stream",
     "text": [
      "Epoch 3/9\n",
      "45/45 [==============================] - 9s 207ms/step - loss: 0.1558 - accuracy: 0.9478 - val_loss: 2.8759 - val_accuracy: 0.5897\n",
      "Epoch 4/9\n",
      "45/45 [==============================] - 9s 198ms/step - loss: 0.2029 - accuracy: 0.9411 - val_loss: 2.4462 - val_accuracy: 0.6154\n",
      "INFO:tensorflow:Assets written to: /aiffel/aiffel/jellyfish/wandb/run-20240110_170216-ajuoov0b/files/model-best/assets\n"
     ]
    },
    {
     "name": "stderr",
     "output_type": "stream",
     "text": [
      "\u001b[34m\u001b[1mwandb\u001b[0m: Adding directory to artifact (/aiffel/aiffel/jellyfish/wandb/run-20240110_170216-ajuoov0b/files/model-best)... Done. 3.7s\n"
     ]
    },
    {
     "name": "stdout",
     "output_type": "stream",
     "text": [
      "Epoch 5/9\n",
      "45/45 [==============================] - 9s 207ms/step - loss: 0.2306 - accuracy: 0.9300 - val_loss: 2.0417 - val_accuracy: 0.6410\n",
      "INFO:tensorflow:Assets written to: /aiffel/aiffel/jellyfish/wandb/run-20240110_170216-ajuoov0b/files/model-best/assets\n"
     ]
    },
    {
     "name": "stderr",
     "output_type": "stream",
     "text": [
      "\u001b[34m\u001b[1mwandb\u001b[0m: Adding directory to artifact (/aiffel/aiffel/jellyfish/wandb/run-20240110_170216-ajuoov0b/files/model-best)... Done. 8.3s\n"
     ]
    },
    {
     "name": "stdout",
     "output_type": "stream",
     "text": [
      "Epoch 6/9\n",
      "45/45 [==============================] - 9s 201ms/step - loss: 0.1973 - accuracy: 0.9456 - val_loss: 2.0444 - val_accuracy: 0.5897\n",
      "Epoch 7/9\n",
      "45/45 [==============================] - 9s 196ms/step - loss: 0.1461 - accuracy: 0.9578 - val_loss: 2.6759 - val_accuracy: 0.6410\n",
      "Epoch 8/9\n",
      "45/45 [==============================] - 9s 196ms/step - loss: 0.2051 - accuracy: 0.9478 - val_loss: 2.3572 - val_accuracy: 0.5897\n",
      "Epoch 9/9\n",
      "45/45 [==============================] - 9s 196ms/step - loss: 0.2109 - accuracy: 0.9333 - val_loss: 2.5244 - val_accuracy: 0.6154\n",
      "2/2 - 0s - loss: 2.0033 - accuracy: 0.6500\n"
     ]
    },
    {
     "data": {
      "application/vnd.jupyter.widget-view+json": {
       "model_id": "",
       "version_major": 2,
       "version_minor": 0
      },
      "text/plain": [
       "VBox(children=(Label(value='1276.428 MB of 1276.428 MB uploaded (0.070 MB deduped)\\r'), FloatProgress(value=1.…"
      ]
     },
     "metadata": {},
     "output_type": "display_data"
    },
    {
     "data": {
      "text/html": [
       "<style>\n",
       "    table.wandb td:nth-child(1) { padding: 0 10px; text-align: left ; width: auto;} td:nth-child(2) {text-align: left ; width: 100%}\n",
       "    .wandb-row { display: flex; flex-direction: row; flex-wrap: wrap; justify-content: flex-start; width: 100% }\n",
       "    .wandb-col { display: flex; flex-direction: column; flex-basis: 100%; flex: 1; padding: 10px; }\n",
       "    </style>\n",
       "<div class=\"wandb-row\"><div class=\"wandb-col\"><h3>Run history:</h3><br/><table class=\"wandb\"><tr><td>Test Accuracy</td><td>▁</td></tr><tr><td>Test Loss</td><td>▁</td></tr><tr><td>accuracy</td><td>▇▅▅▄▁▅█▅▂</td></tr><tr><td>epoch</td><td>▁▂▃▄▅▅▆▇█</td></tr><tr><td>loss</td><td>▁▃▂▆█▆▂▆▇</td></tr><tr><td>val_accuracy</td><td>▁▅▁▅█▁█▁▅</td></tr><tr><td>val_loss</td><td>█▇█▄▁▁▆▄▅</td></tr></table><br/></div><div class=\"wandb-col\"><h3>Run summary:</h3><br/><table class=\"wandb\"><tr><td>Test Accuracy</td><td>0.65</td></tr><tr><td>Test Loss</td><td>2.00332</td></tr><tr><td>accuracy</td><td>0.93333</td></tr><tr><td>best_epoch</td><td>4</td></tr><tr><td>best_val_loss</td><td>2.04169</td></tr><tr><td>epoch</td><td>8</td></tr><tr><td>loss</td><td>0.21087</td></tr><tr><td>val_accuracy</td><td>0.61538</td></tr><tr><td>val_loss</td><td>2.52442</td></tr></table><br/></div></div>"
      ],
      "text/plain": [
       "<IPython.core.display.HTML object>"
      ]
     },
     "metadata": {},
     "output_type": "display_data"
    },
    {
     "data": {
      "text/html": [
       " View run <strong style=\"color:#cdcd00\">woven-sweep-4</strong> at: <a href='https://wandb.ai/3like4/Jellyfish_project/runs/ajuoov0b' target=\"_blank\">https://wandb.ai/3like4/Jellyfish_project/runs/ajuoov0b</a><br/>Synced 5 W&B file(s), 1 media file(s), 16 artifact file(s) and 1 other file(s)"
      ],
      "text/plain": [
       "<IPython.core.display.HTML object>"
      ]
     },
     "metadata": {},
     "output_type": "display_data"
    },
    {
     "data": {
      "text/html": [
       "Find logs at: <code>./wandb/run-20240110_170216-ajuoov0b/logs</code>"
      ],
      "text/plain": [
       "<IPython.core.display.HTML object>"
      ]
     },
     "metadata": {},
     "output_type": "display_data"
    },
    {
     "name": "stderr",
     "output_type": "stream",
     "text": [
      "\u001b[34m\u001b[1mwandb\u001b[0m: Agent Starting Run: vhqd7clh with config:\n",
      "\u001b[34m\u001b[1mwandb\u001b[0m: \tepoch: 8\n",
      "\u001b[34m\u001b[1mwandb\u001b[0m: \tlearning_rate: 0.028179231850997945\n"
     ]
    },
    {
     "data": {
      "text/html": [
       "wandb version 0.16.2 is available!  To upgrade, please run:\n",
       " $ pip install wandb --upgrade"
      ],
      "text/plain": [
       "<IPython.core.display.HTML object>"
      ]
     },
     "metadata": {},
     "output_type": "display_data"
    },
    {
     "data": {
      "text/html": [
       "Tracking run with wandb version 0.16.0"
      ],
      "text/plain": [
       "<IPython.core.display.HTML object>"
      ]
     },
     "metadata": {},
     "output_type": "display_data"
    },
    {
     "data": {
      "text/html": [
       "Run data is saved locally in <code>/aiffel/aiffel/jellyfish/wandb/run-20240110_170446-vhqd7clh</code>"
      ],
      "text/plain": [
       "<IPython.core.display.HTML object>"
      ]
     },
     "metadata": {},
     "output_type": "display_data"
    },
    {
     "data": {
      "text/html": [
       "Syncing run <strong><a href='https://wandb.ai/3like4/Jellyfish_project/runs/vhqd7clh' target=\"_blank\">still-sweep-5</a></strong> to <a href='https://wandb.ai/3like4/Jellyfish_project' target=\"_blank\">Weights & Biases</a> (<a href='https://wandb.me/run' target=\"_blank\">docs</a>)<br/>Sweep page: <a href='https://wandb.ai/3like4/Jellyfish_project/sweeps/xgoo5qos' target=\"_blank\">https://wandb.ai/3like4/Jellyfish_project/sweeps/xgoo5qos</a>"
      ],
      "text/plain": [
       "<IPython.core.display.HTML object>"
      ]
     },
     "metadata": {},
     "output_type": "display_data"
    },
    {
     "data": {
      "text/html": [
       " View project at <a href='https://wandb.ai/3like4/Jellyfish_project' target=\"_blank\">https://wandb.ai/3like4/Jellyfish_project</a>"
      ],
      "text/plain": [
       "<IPython.core.display.HTML object>"
      ]
     },
     "metadata": {},
     "output_type": "display_data"
    },
    {
     "data": {
      "text/html": [
       " View sweep at <a href='https://wandb.ai/3like4/Jellyfish_project/sweeps/xgoo5qos' target=\"_blank\">https://wandb.ai/3like4/Jellyfish_project/sweeps/xgoo5qos</a>"
      ],
      "text/plain": [
       "<IPython.core.display.HTML object>"
      ]
     },
     "metadata": {},
     "output_type": "display_data"
    },
    {
     "data": {
      "text/html": [
       " View run at <a href='https://wandb.ai/3like4/Jellyfish_project/runs/vhqd7clh' target=\"_blank\">https://wandb.ai/3like4/Jellyfish_project/runs/vhqd7clh</a>"
      ],
      "text/plain": [
       "<IPython.core.display.HTML object>"
      ]
     },
     "metadata": {},
     "output_type": "display_data"
    },
    {
     "name": "stdout",
     "output_type": "stream",
     "text": [
      "Epoch 1/8\n",
      "45/45 [==============================] - 9s 197ms/step - loss: 0.2246 - accuracy: 0.9344 - val_loss: 2.3549 - val_accuracy: 0.5897\n",
      "INFO:tensorflow:Assets written to: /aiffel/aiffel/jellyfish/wandb/run-20240110_170446-vhqd7clh/files/model-best/assets\n"
     ]
    },
    {
     "name": "stderr",
     "output_type": "stream",
     "text": [
      "\u001b[34m\u001b[1mwandb\u001b[0m: Adding directory to artifact (/aiffel/aiffel/jellyfish/wandb/run-20240110_170446-vhqd7clh/files/model-best)... Done. 8.2s\n"
     ]
    },
    {
     "name": "stdout",
     "output_type": "stream",
     "text": [
      "Epoch 2/8\n",
      "45/45 [==============================] - 9s 200ms/step - loss: 0.1928 - accuracy: 0.9389 - val_loss: 2.2543 - val_accuracy: 0.6154\n",
      "INFO:tensorflow:Assets written to: /aiffel/aiffel/jellyfish/wandb/run-20240110_170446-vhqd7clh/files/model-best/assets\n"
     ]
    },
    {
     "name": "stderr",
     "output_type": "stream",
     "text": [
      "\u001b[34m\u001b[1mwandb\u001b[0m: Adding directory to artifact (/aiffel/aiffel/jellyfish/wandb/run-20240110_170446-vhqd7clh/files/model-best)... Done. 3.7s\n"
     ]
    },
    {
     "name": "stdout",
     "output_type": "stream",
     "text": [
      "Epoch 3/8\n",
      "45/45 [==============================] - 9s 206ms/step - loss: 0.1576 - accuracy: 0.9478 - val_loss: 2.4322 - val_accuracy: 0.6410\n",
      "Epoch 4/8\n",
      "45/45 [==============================] - 9s 195ms/step - loss: 0.1328 - accuracy: 0.9544 - val_loss: 2.2177 - val_accuracy: 0.6667\n",
      "INFO:tensorflow:Assets written to: /aiffel/aiffel/jellyfish/wandb/run-20240110_170446-vhqd7clh/files/model-best/assets\n"
     ]
    },
    {
     "name": "stderr",
     "output_type": "stream",
     "text": [
      "\u001b[34m\u001b[1mwandb\u001b[0m: Adding directory to artifact (/aiffel/aiffel/jellyfish/wandb/run-20240110_170446-vhqd7clh/files/model-best)... Done. 4.1s\n"
     ]
    },
    {
     "name": "stdout",
     "output_type": "stream",
     "text": [
      "Epoch 5/8\n",
      "45/45 [==============================] - 9s 203ms/step - loss: 0.0973 - accuracy: 0.9722 - val_loss: 2.4890 - val_accuracy: 0.6667\n",
      "Epoch 6/8\n",
      "45/45 [==============================] - 9s 197ms/step - loss: 0.0704 - accuracy: 0.9733 - val_loss: 2.5587 - val_accuracy: 0.5897\n",
      "Epoch 7/8\n",
      "45/45 [==============================] - 9s 199ms/step - loss: 0.1137 - accuracy: 0.9556 - val_loss: 2.4540 - val_accuracy: 0.6154\n",
      "Epoch 8/8\n",
      "45/45 [==============================] - 9s 198ms/step - loss: 0.0906 - accuracy: 0.9722 - val_loss: 2.6458 - val_accuracy: 0.6154\n",
      "2/2 - 0s - loss: 2.2473 - accuracy: 0.6500\n"
     ]
    },
    {
     "data": {
      "application/vnd.jupyter.widget-view+json": {
       "model_id": "",
       "version_major": 2,
       "version_minor": 0
      },
      "text/plain": [
       "VBox(children=(Label(value='1178.105 MB of 1178.105 MB uploaded (0.047 MB deduped)\\r'), FloatProgress(value=1.…"
      ]
     },
     "metadata": {},
     "output_type": "display_data"
    },
    {
     "data": {
      "text/html": [
       "<style>\n",
       "    table.wandb td:nth-child(1) { padding: 0 10px; text-align: left ; width: auto;} td:nth-child(2) {text-align: left ; width: 100%}\n",
       "    .wandb-row { display: flex; flex-direction: row; flex-wrap: wrap; justify-content: flex-start; width: 100% }\n",
       "    .wandb-col { display: flex; flex-direction: column; flex-basis: 100%; flex: 1; padding: 10px; }\n",
       "    </style>\n",
       "<div class=\"wandb-row\"><div class=\"wandb-col\"><h3>Run history:</h3><br/><table class=\"wandb\"><tr><td>Test Accuracy</td><td>▁</td></tr><tr><td>Test Loss</td><td>▁</td></tr><tr><td>accuracy</td><td>▁▂▃▅██▅█</td></tr><tr><td>epoch</td><td>▁▂▃▄▅▆▇█</td></tr><tr><td>loss</td><td>█▇▅▄▂▁▃▂</td></tr><tr><td>val_accuracy</td><td>▁▃▆██▁▃▃</td></tr><tr><td>val_loss</td><td>▃▂▅▁▅▇▅█</td></tr></table><br/></div><div class=\"wandb-col\"><h3>Run summary:</h3><br/><table class=\"wandb\"><tr><td>Test Accuracy</td><td>0.65</td></tr><tr><td>Test Loss</td><td>2.24728</td></tr><tr><td>accuracy</td><td>0.97222</td></tr><tr><td>best_epoch</td><td>3</td></tr><tr><td>best_val_loss</td><td>2.21767</td></tr><tr><td>epoch</td><td>7</td></tr><tr><td>loss</td><td>0.09062</td></tr><tr><td>val_accuracy</td><td>0.61538</td></tr><tr><td>val_loss</td><td>2.64585</td></tr></table><br/></div></div>"
      ],
      "text/plain": [
       "<IPython.core.display.HTML object>"
      ]
     },
     "metadata": {},
     "output_type": "display_data"
    },
    {
     "data": {
      "text/html": [
       " View run <strong style=\"color:#cdcd00\">still-sweep-5</strong> at: <a href='https://wandb.ai/3like4/Jellyfish_project/runs/vhqd7clh' target=\"_blank\">https://wandb.ai/3like4/Jellyfish_project/runs/vhqd7clh</a><br/>Synced 5 W&B file(s), 1 media file(s), 12 artifact file(s) and 1 other file(s)"
      ],
      "text/plain": [
       "<IPython.core.display.HTML object>"
      ]
     },
     "metadata": {},
     "output_type": "display_data"
    },
    {
     "data": {
      "text/html": [
       "Find logs at: <code>./wandb/run-20240110_170446-vhqd7clh/logs</code>"
      ],
      "text/plain": [
       "<IPython.core.display.HTML object>"
      ]
     },
     "metadata": {},
     "output_type": "display_data"
    },
    {
     "name": "stderr",
     "output_type": "stream",
     "text": [
      "\u001b[34m\u001b[1mwandb\u001b[0m: Agent Starting Run: l63u36ol with config:\n",
      "\u001b[34m\u001b[1mwandb\u001b[0m: \tepoch: 7\n",
      "\u001b[34m\u001b[1mwandb\u001b[0m: \tlearning_rate: 0.012540105146412465\n"
     ]
    },
    {
     "data": {
      "text/html": [
       "wandb version 0.16.2 is available!  To upgrade, please run:\n",
       " $ pip install wandb --upgrade"
      ],
      "text/plain": [
       "<IPython.core.display.HTML object>"
      ]
     },
     "metadata": {},
     "output_type": "display_data"
    },
    {
     "data": {
      "text/html": [
       "Tracking run with wandb version 0.16.0"
      ],
      "text/plain": [
       "<IPython.core.display.HTML object>"
      ]
     },
     "metadata": {},
     "output_type": "display_data"
    },
    {
     "data": {
      "text/html": [
       "Run data is saved locally in <code>/aiffel/aiffel/jellyfish/wandb/run-20240110_170701-l63u36ol</code>"
      ],
      "text/plain": [
       "<IPython.core.display.HTML object>"
      ]
     },
     "metadata": {},
     "output_type": "display_data"
    },
    {
     "data": {
      "text/html": [
       "Syncing run <strong><a href='https://wandb.ai/3like4/Jellyfish_project/runs/l63u36ol' target=\"_blank\">earthy-sweep-6</a></strong> to <a href='https://wandb.ai/3like4/Jellyfish_project' target=\"_blank\">Weights & Biases</a> (<a href='https://wandb.me/run' target=\"_blank\">docs</a>)<br/>Sweep page: <a href='https://wandb.ai/3like4/Jellyfish_project/sweeps/xgoo5qos' target=\"_blank\">https://wandb.ai/3like4/Jellyfish_project/sweeps/xgoo5qos</a>"
      ],
      "text/plain": [
       "<IPython.core.display.HTML object>"
      ]
     },
     "metadata": {},
     "output_type": "display_data"
    },
    {
     "data": {
      "text/html": [
       " View project at <a href='https://wandb.ai/3like4/Jellyfish_project' target=\"_blank\">https://wandb.ai/3like4/Jellyfish_project</a>"
      ],
      "text/plain": [
       "<IPython.core.display.HTML object>"
      ]
     },
     "metadata": {},
     "output_type": "display_data"
    },
    {
     "data": {
      "text/html": [
       " View sweep at <a href='https://wandb.ai/3like4/Jellyfish_project/sweeps/xgoo5qos' target=\"_blank\">https://wandb.ai/3like4/Jellyfish_project/sweeps/xgoo5qos</a>"
      ],
      "text/plain": [
       "<IPython.core.display.HTML object>"
      ]
     },
     "metadata": {},
     "output_type": "display_data"
    },
    {
     "data": {
      "text/html": [
       " View run at <a href='https://wandb.ai/3like4/Jellyfish_project/runs/l63u36ol' target=\"_blank\">https://wandb.ai/3like4/Jellyfish_project/runs/l63u36ol</a>"
      ],
      "text/plain": [
       "<IPython.core.display.HTML object>"
      ]
     },
     "metadata": {},
     "output_type": "display_data"
    },
    {
     "name": "stdout",
     "output_type": "stream",
     "text": [
      "Epoch 1/7\n",
      "45/45 [==============================] - 9s 201ms/step - loss: 0.1257 - accuracy: 0.9522 - val_loss: 3.0367 - val_accuracy: 0.5897\n",
      "INFO:tensorflow:Assets written to: /aiffel/aiffel/jellyfish/wandb/run-20240110_170701-l63u36ol/files/model-best/assets\n"
     ]
    },
    {
     "name": "stderr",
     "output_type": "stream",
     "text": [
      "\u001b[34m\u001b[1mwandb\u001b[0m: Adding directory to artifact (/aiffel/aiffel/jellyfish/wandb/run-20240110_170701-l63u36ol/files/model-best)... Done. 7.3s\n"
     ]
    },
    {
     "name": "stdout",
     "output_type": "stream",
     "text": [
      "Epoch 2/7\n",
      "45/45 [==============================] - 9s 200ms/step - loss: 0.1186 - accuracy: 0.9667 - val_loss: 2.5155 - val_accuracy: 0.6410\n",
      "INFO:tensorflow:Assets written to: /aiffel/aiffel/jellyfish/wandb/run-20240110_170701-l63u36ol/files/model-best/assets\n"
     ]
    },
    {
     "name": "stderr",
     "output_type": "stream",
     "text": [
      "\u001b[34m\u001b[1mwandb\u001b[0m: Adding directory to artifact (/aiffel/aiffel/jellyfish/wandb/run-20240110_170701-l63u36ol/files/model-best)... Done. 5.2s\n"
     ]
    },
    {
     "name": "stdout",
     "output_type": "stream",
     "text": [
      "Epoch 3/7\n",
      "45/45 [==============================] - 9s 205ms/step - loss: 0.2415 - accuracy: 0.9367 - val_loss: 3.2469 - val_accuracy: 0.5897\n",
      "Epoch 4/7\n",
      "45/45 [==============================] - 9s 201ms/step - loss: 0.1560 - accuracy: 0.9500 - val_loss: 2.4325 - val_accuracy: 0.6667\n",
      "INFO:tensorflow:Assets written to: /aiffel/aiffel/jellyfish/wandb/run-20240110_170701-l63u36ol/files/model-best/assets\n"
     ]
    },
    {
     "name": "stderr",
     "output_type": "stream",
     "text": [
      "\u001b[34m\u001b[1mwandb\u001b[0m: Adding directory to artifact (/aiffel/aiffel/jellyfish/wandb/run-20240110_170701-l63u36ol/files/model-best)... Done. 3.8s\n"
     ]
    },
    {
     "name": "stdout",
     "output_type": "stream",
     "text": [
      "Epoch 5/7\n",
      "45/45 [==============================] - 9s 205ms/step - loss: 0.1308 - accuracy: 0.9611 - val_loss: 2.4342 - val_accuracy: 0.6410\n",
      "Epoch 6/7\n",
      "45/45 [==============================] - 9s 197ms/step - loss: 0.1527 - accuracy: 0.9478 - val_loss: 2.4890 - val_accuracy: 0.64101s - loss: 0.1270 \n",
      "Epoch 7/7\n",
      "45/45 [==============================] - 9s 198ms/step - loss: 0.0979 - accuracy: 0.9689 - val_loss: 2.6244 - val_accuracy: 0.6410\n",
      "2/2 - 0s - loss: 1.8718 - accuracy: 0.7000\n"
     ]
    },
    {
     "data": {
      "application/vnd.jupyter.widget-view+json": {
       "model_id": "",
       "version_major": 2,
       "version_minor": 0
      },
      "text/plain": [
       "VBox(children=(Label(value='981.856 MB of 981.856 MB uploaded (0.047 MB deduped)\\r'), FloatProgress(value=1.0,…"
      ]
     },
     "metadata": {},
     "output_type": "display_data"
    },
    {
     "data": {
      "text/html": [
       "<style>\n",
       "    table.wandb td:nth-child(1) { padding: 0 10px; text-align: left ; width: auto;} td:nth-child(2) {text-align: left ; width: 100%}\n",
       "    .wandb-row { display: flex; flex-direction: row; flex-wrap: wrap; justify-content: flex-start; width: 100% }\n",
       "    .wandb-col { display: flex; flex-direction: column; flex-basis: 100%; flex: 1; padding: 10px; }\n",
       "    </style>\n",
       "<div class=\"wandb-row\"><div class=\"wandb-col\"><h3>Run history:</h3><br/><table class=\"wandb\"><tr><td>Test Accuracy</td><td>▁</td></tr><tr><td>Test Loss</td><td>▁</td></tr><tr><td>accuracy</td><td>▄█▁▄▆▃█</td></tr><tr><td>epoch</td><td>▁▂▃▅▆▇█</td></tr><tr><td>loss</td><td>▂▂█▄▃▄▁</td></tr><tr><td>val_accuracy</td><td>▁▆▁█▆▆▆</td></tr><tr><td>val_loss</td><td>▆▂█▁▁▁▃</td></tr></table><br/></div><div class=\"wandb-col\"><h3>Run summary:</h3><br/><table class=\"wandb\"><tr><td>Test Accuracy</td><td>0.7</td></tr><tr><td>Test Loss</td><td>1.87179</td></tr><tr><td>accuracy</td><td>0.96889</td></tr><tr><td>best_epoch</td><td>3</td></tr><tr><td>best_val_loss</td><td>2.43253</td></tr><tr><td>epoch</td><td>6</td></tr><tr><td>loss</td><td>0.09788</td></tr><tr><td>val_accuracy</td><td>0.64103</td></tr><tr><td>val_loss</td><td>2.6244</td></tr></table><br/></div></div>"
      ],
      "text/plain": [
       "<IPython.core.display.HTML object>"
      ]
     },
     "metadata": {},
     "output_type": "display_data"
    },
    {
     "data": {
      "text/html": [
       " View run <strong style=\"color:#cdcd00\">earthy-sweep-6</strong> at: <a href='https://wandb.ai/3like4/Jellyfish_project/runs/l63u36ol' target=\"_blank\">https://wandb.ai/3like4/Jellyfish_project/runs/l63u36ol</a><br/>Synced 5 W&B file(s), 1 media file(s), 12 artifact file(s) and 1 other file(s)"
      ],
      "text/plain": [
       "<IPython.core.display.HTML object>"
      ]
     },
     "metadata": {},
     "output_type": "display_data"
    },
    {
     "data": {
      "text/html": [
       "Find logs at: <code>./wandb/run-20240110_170701-l63u36ol/logs</code>"
      ],
      "text/plain": [
       "<IPython.core.display.HTML object>"
      ]
     },
     "metadata": {},
     "output_type": "display_data"
    },
    {
     "name": "stderr",
     "output_type": "stream",
     "text": [
      "\u001b[34m\u001b[1mwandb\u001b[0m: Agent Starting Run: j9nts4el with config:\n",
      "\u001b[34m\u001b[1mwandb\u001b[0m: \tepoch: 5\n",
      "\u001b[34m\u001b[1mwandb\u001b[0m: \tlearning_rate: 0.05598625506405689\n"
     ]
    },
    {
     "data": {
      "text/html": [
       "wandb version 0.16.2 is available!  To upgrade, please run:\n",
       " $ pip install wandb --upgrade"
      ],
      "text/plain": [
       "<IPython.core.display.HTML object>"
      ]
     },
     "metadata": {},
     "output_type": "display_data"
    },
    {
     "data": {
      "text/html": [
       "Tracking run with wandb version 0.16.0"
      ],
      "text/plain": [
       "<IPython.core.display.HTML object>"
      ]
     },
     "metadata": {},
     "output_type": "display_data"
    },
    {
     "data": {
      "text/html": [
       "Run data is saved locally in <code>/aiffel/aiffel/jellyfish/wandb/run-20240110_170909-j9nts4el</code>"
      ],
      "text/plain": [
       "<IPython.core.display.HTML object>"
      ]
     },
     "metadata": {},
     "output_type": "display_data"
    },
    {
     "data": {
      "text/html": [
       "Syncing run <strong><a href='https://wandb.ai/3like4/Jellyfish_project/runs/j9nts4el' target=\"_blank\">laced-sweep-7</a></strong> to <a href='https://wandb.ai/3like4/Jellyfish_project' target=\"_blank\">Weights & Biases</a> (<a href='https://wandb.me/run' target=\"_blank\">docs</a>)<br/>Sweep page: <a href='https://wandb.ai/3like4/Jellyfish_project/sweeps/xgoo5qos' target=\"_blank\">https://wandb.ai/3like4/Jellyfish_project/sweeps/xgoo5qos</a>"
      ],
      "text/plain": [
       "<IPython.core.display.HTML object>"
      ]
     },
     "metadata": {},
     "output_type": "display_data"
    },
    {
     "data": {
      "text/html": [
       " View project at <a href='https://wandb.ai/3like4/Jellyfish_project' target=\"_blank\">https://wandb.ai/3like4/Jellyfish_project</a>"
      ],
      "text/plain": [
       "<IPython.core.display.HTML object>"
      ]
     },
     "metadata": {},
     "output_type": "display_data"
    },
    {
     "data": {
      "text/html": [
       " View sweep at <a href='https://wandb.ai/3like4/Jellyfish_project/sweeps/xgoo5qos' target=\"_blank\">https://wandb.ai/3like4/Jellyfish_project/sweeps/xgoo5qos</a>"
      ],
      "text/plain": [
       "<IPython.core.display.HTML object>"
      ]
     },
     "metadata": {},
     "output_type": "display_data"
    },
    {
     "data": {
      "text/html": [
       " View run at <a href='https://wandb.ai/3like4/Jellyfish_project/runs/j9nts4el' target=\"_blank\">https://wandb.ai/3like4/Jellyfish_project/runs/j9nts4el</a>"
      ],
      "text/plain": [
       "<IPython.core.display.HTML object>"
      ]
     },
     "metadata": {},
     "output_type": "display_data"
    },
    {
     "name": "stdout",
     "output_type": "stream",
     "text": [
      "Epoch 1/5\n",
      "45/45 [==============================] - 9s 199ms/step - loss: 0.0854 - accuracy: 0.9711 - val_loss: 2.8707 - val_accuracy: 0.6154\n",
      "INFO:tensorflow:Assets written to: /aiffel/aiffel/jellyfish/wandb/run-20240110_170909-j9nts4el/files/model-best/assets\n"
     ]
    },
    {
     "name": "stderr",
     "output_type": "stream",
     "text": [
      "\u001b[34m\u001b[1mwandb\u001b[0m: Adding directory to artifact (/aiffel/aiffel/jellyfish/wandb/run-20240110_170909-j9nts4el/files/model-best)... Done. 8.8s\n"
     ]
    },
    {
     "name": "stdout",
     "output_type": "stream",
     "text": [
      "Epoch 2/5\n",
      "45/45 [==============================] - 10s 205ms/step - loss: 0.1426 - accuracy: 0.9522 - val_loss: 3.0669 - val_accuracy: 0.6410\n",
      "Epoch 3/5\n",
      "45/45 [==============================] - 9s 198ms/step - loss: 0.0867 - accuracy: 0.9700 - val_loss: 2.9788 - val_accuracy: 0.6154\n",
      "Epoch 4/5\n",
      "45/45 [==============================] - 9s 200ms/step - loss: 0.0578 - accuracy: 0.9778 - val_loss: 2.9012 - val_accuracy: 0.5897\n",
      "Epoch 5/5\n",
      "45/45 [==============================] - 9s 197ms/step - loss: 0.1029 - accuracy: 0.9711 - val_loss: 2.8051 - val_accuracy: 0.6410\n",
      "INFO:tensorflow:Assets written to: /aiffel/aiffel/jellyfish/wandb/run-20240110_170909-j9nts4el/files/model-best/assets\n"
     ]
    },
    {
     "name": "stderr",
     "output_type": "stream",
     "text": [
      "\u001b[34m\u001b[1mwandb\u001b[0m: Adding directory to artifact (/aiffel/aiffel/jellyfish/wandb/run-20240110_170909-j9nts4el/files/model-best)... Done. 3.8s\n"
     ]
    },
    {
     "name": "stdout",
     "output_type": "stream",
     "text": [
      "2/2 - 0s - loss: 1.9349 - accuracy: 0.6000\n"
     ]
    },
    {
     "data": {
      "application/vnd.jupyter.widget-view+json": {
       "model_id": "",
       "version_major": 2,
       "version_minor": 0
      },
      "text/plain": [
       "VBox(children=(Label(value='687.284 MB of 687.284 MB uploaded (0.023 MB deduped)\\r'), FloatProgress(value=1.0,…"
      ]
     },
     "metadata": {},
     "output_type": "display_data"
    },
    {
     "data": {
      "text/html": [
       "<style>\n",
       "    table.wandb td:nth-child(1) { padding: 0 10px; text-align: left ; width: auto;} td:nth-child(2) {text-align: left ; width: 100%}\n",
       "    .wandb-row { display: flex; flex-direction: row; flex-wrap: wrap; justify-content: flex-start; width: 100% }\n",
       "    .wandb-col { display: flex; flex-direction: column; flex-basis: 100%; flex: 1; padding: 10px; }\n",
       "    </style>\n",
       "<div class=\"wandb-row\"><div class=\"wandb-col\"><h3>Run history:</h3><br/><table class=\"wandb\"><tr><td>Test Accuracy</td><td>▁</td></tr><tr><td>Test Loss</td><td>▁</td></tr><tr><td>accuracy</td><td>▆▁▆█▆</td></tr><tr><td>epoch</td><td>▁▃▅▆█</td></tr><tr><td>loss</td><td>▃█▃▁▅</td></tr><tr><td>val_accuracy</td><td>▅█▅▁█</td></tr><tr><td>val_loss</td><td>▃█▆▄▁</td></tr></table><br/></div><div class=\"wandb-col\"><h3>Run summary:</h3><br/><table class=\"wandb\"><tr><td>Test Accuracy</td><td>0.6</td></tr><tr><td>Test Loss</td><td>1.93495</td></tr><tr><td>accuracy</td><td>0.97111</td></tr><tr><td>best_epoch</td><td>4</td></tr><tr><td>best_val_loss</td><td>2.80515</td></tr><tr><td>epoch</td><td>4</td></tr><tr><td>loss</td><td>0.10287</td></tr><tr><td>val_accuracy</td><td>0.64103</td></tr><tr><td>val_loss</td><td>2.80515</td></tr></table><br/></div></div>"
      ],
      "text/plain": [
       "<IPython.core.display.HTML object>"
      ]
     },
     "metadata": {},
     "output_type": "display_data"
    },
    {
     "data": {
      "text/html": [
       " View run <strong style=\"color:#cdcd00\">laced-sweep-7</strong> at: <a href='https://wandb.ai/3like4/Jellyfish_project/runs/j9nts4el' target=\"_blank\">https://wandb.ai/3like4/Jellyfish_project/runs/j9nts4el</a><br/>Synced 5 W&B file(s), 1 media file(s), 8 artifact file(s) and 1 other file(s)"
      ],
      "text/plain": [
       "<IPython.core.display.HTML object>"
      ]
     },
     "metadata": {},
     "output_type": "display_data"
    },
    {
     "data": {
      "text/html": [
       "Find logs at: <code>./wandb/run-20240110_170909-j9nts4el/logs</code>"
      ],
      "text/plain": [
       "<IPython.core.display.HTML object>"
      ]
     },
     "metadata": {},
     "output_type": "display_data"
    },
    {
     "name": "stderr",
     "output_type": "stream",
     "text": [
      "\u001b[34m\u001b[1mwandb\u001b[0m: Agent Starting Run: m7ixbktu with config:\n",
      "\u001b[34m\u001b[1mwandb\u001b[0m: \tepoch: 10\n",
      "\u001b[34m\u001b[1mwandb\u001b[0m: \tlearning_rate: 0.04193015178460401\n"
     ]
    },
    {
     "data": {
      "text/html": [
       "wandb version 0.16.2 is available!  To upgrade, please run:\n",
       " $ pip install wandb --upgrade"
      ],
      "text/plain": [
       "<IPython.core.display.HTML object>"
      ]
     },
     "metadata": {},
     "output_type": "display_data"
    },
    {
     "data": {
      "text/html": [
       "Tracking run with wandb version 0.16.0"
      ],
      "text/plain": [
       "<IPython.core.display.HTML object>"
      ]
     },
     "metadata": {},
     "output_type": "display_data"
    },
    {
     "data": {
      "text/html": [
       "Run data is saved locally in <code>/aiffel/aiffel/jellyfish/wandb/run-20240110_171047-m7ixbktu</code>"
      ],
      "text/plain": [
       "<IPython.core.display.HTML object>"
      ]
     },
     "metadata": {},
     "output_type": "display_data"
    },
    {
     "data": {
      "text/html": [
       "Syncing run <strong><a href='https://wandb.ai/3like4/Jellyfish_project/runs/m7ixbktu' target=\"_blank\">dainty-sweep-8</a></strong> to <a href='https://wandb.ai/3like4/Jellyfish_project' target=\"_blank\">Weights & Biases</a> (<a href='https://wandb.me/run' target=\"_blank\">docs</a>)<br/>Sweep page: <a href='https://wandb.ai/3like4/Jellyfish_project/sweeps/xgoo5qos' target=\"_blank\">https://wandb.ai/3like4/Jellyfish_project/sweeps/xgoo5qos</a>"
      ],
      "text/plain": [
       "<IPython.core.display.HTML object>"
      ]
     },
     "metadata": {},
     "output_type": "display_data"
    },
    {
     "data": {
      "text/html": [
       " View project at <a href='https://wandb.ai/3like4/Jellyfish_project' target=\"_blank\">https://wandb.ai/3like4/Jellyfish_project</a>"
      ],
      "text/plain": [
       "<IPython.core.display.HTML object>"
      ]
     },
     "metadata": {},
     "output_type": "display_data"
    },
    {
     "data": {
      "text/html": [
       " View sweep at <a href='https://wandb.ai/3like4/Jellyfish_project/sweeps/xgoo5qos' target=\"_blank\">https://wandb.ai/3like4/Jellyfish_project/sweeps/xgoo5qos</a>"
      ],
      "text/plain": [
       "<IPython.core.display.HTML object>"
      ]
     },
     "metadata": {},
     "output_type": "display_data"
    },
    {
     "data": {
      "text/html": [
       " View run at <a href='https://wandb.ai/3like4/Jellyfish_project/runs/m7ixbktu' target=\"_blank\">https://wandb.ai/3like4/Jellyfish_project/runs/m7ixbktu</a>"
      ],
      "text/plain": [
       "<IPython.core.display.HTML object>"
      ]
     },
     "metadata": {},
     "output_type": "display_data"
    },
    {
     "name": "stdout",
     "output_type": "stream",
     "text": [
      "Epoch 1/10\n",
      "45/45 [==============================] - 9s 199ms/step - loss: 0.0965 - accuracy: 0.9644 - val_loss: 2.6971 - val_accuracy: 0.5897\n",
      "INFO:tensorflow:Assets written to: /aiffel/aiffel/jellyfish/wandb/run-20240110_171047-m7ixbktu/files/model-best/assets\n"
     ]
    },
    {
     "name": "stderr",
     "output_type": "stream",
     "text": [
      "\u001b[34m\u001b[1mwandb\u001b[0m: Adding directory to artifact (/aiffel/aiffel/jellyfish/wandb/run-20240110_171047-m7ixbktu/files/model-best)... Done. 5.6s\n"
     ]
    },
    {
     "name": "stdout",
     "output_type": "stream",
     "text": [
      "Epoch 2/10\n",
      "45/45 [==============================] - 9s 204ms/step - loss: 0.1072 - accuracy: 0.9633 - val_loss: 2.9108 - val_accuracy: 0.5897\n",
      "Epoch 3/10\n",
      "45/45 [==============================] - 9s 200ms/step - loss: 0.1509 - accuracy: 0.9500 - val_loss: 2.4375 - val_accuracy: 0.6154\n",
      "INFO:tensorflow:Assets written to: /aiffel/aiffel/jellyfish/wandb/run-20240110_171047-m7ixbktu/files/model-best/assets\n"
     ]
    },
    {
     "name": "stderr",
     "output_type": "stream",
     "text": [
      "\u001b[34m\u001b[1mwandb\u001b[0m: Adding directory to artifact (/aiffel/aiffel/jellyfish/wandb/run-20240110_171047-m7ixbktu/files/model-best)... Done. 6.4s\n"
     ]
    },
    {
     "name": "stdout",
     "output_type": "stream",
     "text": [
      "Epoch 4/10\n",
      "45/45 [==============================] - 9s 202ms/step - loss: 0.2492 - accuracy: 0.9344 - val_loss: 2.4590 - val_accuracy: 0.6410\n",
      "Epoch 5/10\n",
      "45/45 [==============================] - 9s 200ms/step - loss: 0.1990 - accuracy: 0.9367 - val_loss: 2.7641 - val_accuracy: 0.5385\n",
      "Epoch 6/10\n",
      "45/45 [==============================] - 9s 199ms/step - loss: 0.1642 - accuracy: 0.9500 - val_loss: 3.0962 - val_accuracy: 0.5641\n",
      "Epoch 7/10\n",
      "45/45 [==============================] - 9s 199ms/step - loss: 0.1550 - accuracy: 0.9467 - val_loss: 2.9249 - val_accuracy: 0.5897\n",
      "Epoch 8/10\n",
      "45/45 [==============================] - 9s 197ms/step - loss: 0.1464 - accuracy: 0.9511 - val_loss: 2.8035 - val_accuracy: 0.6410\n",
      "Epoch 9/10\n",
      "45/45 [==============================] - 9s 199ms/step - loss: 0.1675 - accuracy: 0.9467 - val_loss: 2.7175 - val_accuracy: 0.6410\n",
      "Epoch 10/10\n",
      "45/45 [==============================] - 9s 196ms/step - loss: 0.2195 - accuracy: 0.9311 - val_loss: 2.6064 - val_accuracy: 0.6154\n",
      "2/2 - 0s - loss: 1.6707 - accuracy: 0.6750\n"
     ]
    },
    {
     "data": {
      "application/vnd.jupyter.widget-view+json": {
       "model_id": "",
       "version_major": 2,
       "version_minor": 0
      },
      "text/plain": [
       "VBox(children=(Label(value='687.284 MB of 687.284 MB uploaded (0.023 MB deduped)\\r'), FloatProgress(value=1.0,…"
      ]
     },
     "metadata": {},
     "output_type": "display_data"
    },
    {
     "data": {
      "text/html": [
       "<style>\n",
       "    table.wandb td:nth-child(1) { padding: 0 10px; text-align: left ; width: auto;} td:nth-child(2) {text-align: left ; width: 100%}\n",
       "    .wandb-row { display: flex; flex-direction: row; flex-wrap: wrap; justify-content: flex-start; width: 100% }\n",
       "    .wandb-col { display: flex; flex-direction: column; flex-basis: 100%; flex: 1; padding: 10px; }\n",
       "    </style>\n",
       "<div class=\"wandb-row\"><div class=\"wandb-col\"><h3>Run history:</h3><br/><table class=\"wandb\"><tr><td>Test Accuracy</td><td>▁</td></tr><tr><td>Test Loss</td><td>▁</td></tr><tr><td>accuracy</td><td>██▅▂▂▅▄▅▄▁</td></tr><tr><td>epoch</td><td>▁▂▃▃▄▅▆▆▇█</td></tr><tr><td>loss</td><td>▁▁▃█▆▄▄▃▄▇</td></tr><tr><td>val_accuracy</td><td>▅▅▆█▁▃▅██▆</td></tr><tr><td>val_loss</td><td>▄▆▁▁▄█▆▅▄▃</td></tr></table><br/></div><div class=\"wandb-col\"><h3>Run summary:</h3><br/><table class=\"wandb\"><tr><td>Test Accuracy</td><td>0.675</td></tr><tr><td>Test Loss</td><td>1.6707</td></tr><tr><td>accuracy</td><td>0.93111</td></tr><tr><td>best_epoch</td><td>2</td></tr><tr><td>best_val_loss</td><td>2.43751</td></tr><tr><td>epoch</td><td>9</td></tr><tr><td>loss</td><td>0.21955</td></tr><tr><td>val_accuracy</td><td>0.61538</td></tr><tr><td>val_loss</td><td>2.60639</td></tr></table><br/></div></div>"
      ],
      "text/plain": [
       "<IPython.core.display.HTML object>"
      ]
     },
     "metadata": {},
     "output_type": "display_data"
    },
    {
     "data": {
      "text/html": [
       " View run <strong style=\"color:#cdcd00\">dainty-sweep-8</strong> at: <a href='https://wandb.ai/3like4/Jellyfish_project/runs/m7ixbktu' target=\"_blank\">https://wandb.ai/3like4/Jellyfish_project/runs/m7ixbktu</a><br/>Synced 5 W&B file(s), 1 media file(s), 8 artifact file(s) and 1 other file(s)"
      ],
      "text/plain": [
       "<IPython.core.display.HTML object>"
      ]
     },
     "metadata": {},
     "output_type": "display_data"
    },
    {
     "data": {
      "text/html": [
       "Find logs at: <code>./wandb/run-20240110_171047-m7ixbktu/logs</code>"
      ],
      "text/plain": [
       "<IPython.core.display.HTML object>"
      ]
     },
     "metadata": {},
     "output_type": "display_data"
    },
    {
     "name": "stderr",
     "output_type": "stream",
     "text": [
      "\u001b[34m\u001b[1mwandb\u001b[0m: Agent Starting Run: n2scccdp with config:\n",
      "\u001b[34m\u001b[1mwandb\u001b[0m: \tepoch: 5\n",
      "\u001b[34m\u001b[1mwandb\u001b[0m: \tlearning_rate: 0.029894913995007277\n"
     ]
    },
    {
     "data": {
      "text/html": [
       "wandb version 0.16.2 is available!  To upgrade, please run:\n",
       " $ pip install wandb --upgrade"
      ],
      "text/plain": [
       "<IPython.core.display.HTML object>"
      ]
     },
     "metadata": {},
     "output_type": "display_data"
    },
    {
     "data": {
      "text/html": [
       "Tracking run with wandb version 0.16.0"
      ],
      "text/plain": [
       "<IPython.core.display.HTML object>"
      ]
     },
     "metadata": {},
     "output_type": "display_data"
    },
    {
     "data": {
      "text/html": [
       "Run data is saved locally in <code>/aiffel/aiffel/jellyfish/wandb/run-20240110_171309-n2scccdp</code>"
      ],
      "text/plain": [
       "<IPython.core.display.HTML object>"
      ]
     },
     "metadata": {},
     "output_type": "display_data"
    },
    {
     "data": {
      "text/html": [
       "Syncing run <strong><a href='https://wandb.ai/3like4/Jellyfish_project/runs/n2scccdp' target=\"_blank\">helpful-sweep-9</a></strong> to <a href='https://wandb.ai/3like4/Jellyfish_project' target=\"_blank\">Weights & Biases</a> (<a href='https://wandb.me/run' target=\"_blank\">docs</a>)<br/>Sweep page: <a href='https://wandb.ai/3like4/Jellyfish_project/sweeps/xgoo5qos' target=\"_blank\">https://wandb.ai/3like4/Jellyfish_project/sweeps/xgoo5qos</a>"
      ],
      "text/plain": [
       "<IPython.core.display.HTML object>"
      ]
     },
     "metadata": {},
     "output_type": "display_data"
    },
    {
     "data": {
      "text/html": [
       " View project at <a href='https://wandb.ai/3like4/Jellyfish_project' target=\"_blank\">https://wandb.ai/3like4/Jellyfish_project</a>"
      ],
      "text/plain": [
       "<IPython.core.display.HTML object>"
      ]
     },
     "metadata": {},
     "output_type": "display_data"
    },
    {
     "data": {
      "text/html": [
       " View sweep at <a href='https://wandb.ai/3like4/Jellyfish_project/sweeps/xgoo5qos' target=\"_blank\">https://wandb.ai/3like4/Jellyfish_project/sweeps/xgoo5qos</a>"
      ],
      "text/plain": [
       "<IPython.core.display.HTML object>"
      ]
     },
     "metadata": {},
     "output_type": "display_data"
    },
    {
     "data": {
      "text/html": [
       " View run at <a href='https://wandb.ai/3like4/Jellyfish_project/runs/n2scccdp' target=\"_blank\">https://wandb.ai/3like4/Jellyfish_project/runs/n2scccdp</a>"
      ],
      "text/plain": [
       "<IPython.core.display.HTML object>"
      ]
     },
     "metadata": {},
     "output_type": "display_data"
    },
    {
     "name": "stdout",
     "output_type": "stream",
     "text": [
      "Epoch 1/5\n",
      "45/45 [==============================] - 9s 197ms/step - loss: 0.1981 - accuracy: 0.9344 - val_loss: 2.6984 - val_accuracy: 0.6154\n",
      "INFO:tensorflow:Assets written to: /aiffel/aiffel/jellyfish/wandb/run-20240110_171309-n2scccdp/files/model-best/assets\n"
     ]
    },
    {
     "name": "stderr",
     "output_type": "stream",
     "text": [
      "\u001b[34m\u001b[1mwandb\u001b[0m: Adding directory to artifact (/aiffel/aiffel/jellyfish/wandb/run-20240110_171309-n2scccdp/files/model-best)... Done. 6.6s\n"
     ]
    },
    {
     "name": "stdout",
     "output_type": "stream",
     "text": [
      "Epoch 2/5\n",
      "45/45 [==============================] - 9s 203ms/step - loss: 0.1257 - accuracy: 0.9600 - val_loss: 2.3089 - val_accuracy: 0.6410\n",
      "INFO:tensorflow:Assets written to: /aiffel/aiffel/jellyfish/wandb/run-20240110_171309-n2scccdp/files/model-best/assets\n"
     ]
    },
    {
     "name": "stderr",
     "output_type": "stream",
     "text": [
      "\u001b[34m\u001b[1mwandb\u001b[0m: Adding directory to artifact (/aiffel/aiffel/jellyfish/wandb/run-20240110_171309-n2scccdp/files/model-best)... Done. 5.9s\n"
     ]
    },
    {
     "name": "stdout",
     "output_type": "stream",
     "text": [
      "Epoch 3/5\n",
      "45/45 [==============================] - 9s 204ms/step - loss: 0.0967 - accuracy: 0.9644 - val_loss: 2.8943 - val_accuracy: 0.5897\n",
      "Epoch 4/5\n",
      "45/45 [==============================] - 9s 195ms/step - loss: 0.0940 - accuracy: 0.9689 - val_loss: 2.4473 - val_accuracy: 0.6154\n",
      "Epoch 5/5\n",
      "45/45 [==============================] - 9s 197ms/step - loss: 0.0712 - accuracy: 0.9733 - val_loss: 2.6109 - val_accuracy: 0.6410\n",
      "2/2 - 0s - loss: 2.1441 - accuracy: 0.5750\n"
     ]
    },
    {
     "data": {
      "application/vnd.jupyter.widget-view+json": {
       "model_id": "",
       "version_major": 2,
       "version_minor": 0
      },
      "text/plain": [
       "VBox(children=(Label(value='687.284 MB of 687.284 MB uploaded (0.023 MB deduped)\\r'), FloatProgress(value=1.0,…"
      ]
     },
     "metadata": {},
     "output_type": "display_data"
    },
    {
     "data": {
      "text/html": [
       "<style>\n",
       "    table.wandb td:nth-child(1) { padding: 0 10px; text-align: left ; width: auto;} td:nth-child(2) {text-align: left ; width: 100%}\n",
       "    .wandb-row { display: flex; flex-direction: row; flex-wrap: wrap; justify-content: flex-start; width: 100% }\n",
       "    .wandb-col { display: flex; flex-direction: column; flex-basis: 100%; flex: 1; padding: 10px; }\n",
       "    </style>\n",
       "<div class=\"wandb-row\"><div class=\"wandb-col\"><h3>Run history:</h3><br/><table class=\"wandb\"><tr><td>Test Accuracy</td><td>▁</td></tr><tr><td>Test Loss</td><td>▁</td></tr><tr><td>accuracy</td><td>▁▆▆▇█</td></tr><tr><td>epoch</td><td>▁▃▅▆█</td></tr><tr><td>loss</td><td>█▄▂▂▁</td></tr><tr><td>val_accuracy</td><td>▅█▁▅█</td></tr><tr><td>val_loss</td><td>▆▁█▃▅</td></tr></table><br/></div><div class=\"wandb-col\"><h3>Run summary:</h3><br/><table class=\"wandb\"><tr><td>Test Accuracy</td><td>0.575</td></tr><tr><td>Test Loss</td><td>2.14408</td></tr><tr><td>accuracy</td><td>0.97333</td></tr><tr><td>best_epoch</td><td>1</td></tr><tr><td>best_val_loss</td><td>2.30888</td></tr><tr><td>epoch</td><td>4</td></tr><tr><td>loss</td><td>0.07115</td></tr><tr><td>val_accuracy</td><td>0.64103</td></tr><tr><td>val_loss</td><td>2.61095</td></tr></table><br/></div></div>"
      ],
      "text/plain": [
       "<IPython.core.display.HTML object>"
      ]
     },
     "metadata": {},
     "output_type": "display_data"
    },
    {
     "data": {
      "text/html": [
       " View run <strong style=\"color:#cdcd00\">helpful-sweep-9</strong> at: <a href='https://wandb.ai/3like4/Jellyfish_project/runs/n2scccdp' target=\"_blank\">https://wandb.ai/3like4/Jellyfish_project/runs/n2scccdp</a><br/>Synced 5 W&B file(s), 1 media file(s), 8 artifact file(s) and 1 other file(s)"
      ],
      "text/plain": [
       "<IPython.core.display.HTML object>"
      ]
     },
     "metadata": {},
     "output_type": "display_data"
    },
    {
     "data": {
      "text/html": [
       "Find logs at: <code>./wandb/run-20240110_171309-n2scccdp/logs</code>"
      ],
      "text/plain": [
       "<IPython.core.display.HTML object>"
      ]
     },
     "metadata": {},
     "output_type": "display_data"
    },
    {
     "name": "stderr",
     "output_type": "stream",
     "text": [
      "\u001b[34m\u001b[1mwandb\u001b[0m: Agent Starting Run: l2mjsqfk with config:\n",
      "\u001b[34m\u001b[1mwandb\u001b[0m: \tepoch: 7\n",
      "\u001b[34m\u001b[1mwandb\u001b[0m: \tlearning_rate: 0.08870058047802618\n"
     ]
    },
    {
     "data": {
      "text/html": [
       "wandb version 0.16.2 is available!  To upgrade, please run:\n",
       " $ pip install wandb --upgrade"
      ],
      "text/plain": [
       "<IPython.core.display.HTML object>"
      ]
     },
     "metadata": {},
     "output_type": "display_data"
    },
    {
     "data": {
      "text/html": [
       "Tracking run with wandb version 0.16.0"
      ],
      "text/plain": [
       "<IPython.core.display.HTML object>"
      ]
     },
     "metadata": {},
     "output_type": "display_data"
    },
    {
     "data": {
      "text/html": [
       "Run data is saved locally in <code>/aiffel/aiffel/jellyfish/wandb/run-20240110_171451-l2mjsqfk</code>"
      ],
      "text/plain": [
       "<IPython.core.display.HTML object>"
      ]
     },
     "metadata": {},
     "output_type": "display_data"
    },
    {
     "data": {
      "text/html": [
       "Syncing run <strong><a href='https://wandb.ai/3like4/Jellyfish_project/runs/l2mjsqfk' target=\"_blank\">dashing-sweep-10</a></strong> to <a href='https://wandb.ai/3like4/Jellyfish_project' target=\"_blank\">Weights & Biases</a> (<a href='https://wandb.me/run' target=\"_blank\">docs</a>)<br/>Sweep page: <a href='https://wandb.ai/3like4/Jellyfish_project/sweeps/xgoo5qos' target=\"_blank\">https://wandb.ai/3like4/Jellyfish_project/sweeps/xgoo5qos</a>"
      ],
      "text/plain": [
       "<IPython.core.display.HTML object>"
      ]
     },
     "metadata": {},
     "output_type": "display_data"
    },
    {
     "data": {
      "text/html": [
       " View project at <a href='https://wandb.ai/3like4/Jellyfish_project' target=\"_blank\">https://wandb.ai/3like4/Jellyfish_project</a>"
      ],
      "text/plain": [
       "<IPython.core.display.HTML object>"
      ]
     },
     "metadata": {},
     "output_type": "display_data"
    },
    {
     "data": {
      "text/html": [
       " View sweep at <a href='https://wandb.ai/3like4/Jellyfish_project/sweeps/xgoo5qos' target=\"_blank\">https://wandb.ai/3like4/Jellyfish_project/sweeps/xgoo5qos</a>"
      ],
      "text/plain": [
       "<IPython.core.display.HTML object>"
      ]
     },
     "metadata": {},
     "output_type": "display_data"
    },
    {
     "data": {
      "text/html": [
       " View run at <a href='https://wandb.ai/3like4/Jellyfish_project/runs/l2mjsqfk' target=\"_blank\">https://wandb.ai/3like4/Jellyfish_project/runs/l2mjsqfk</a>"
      ],
      "text/plain": [
       "<IPython.core.display.HTML object>"
      ]
     },
     "metadata": {},
     "output_type": "display_data"
    },
    {
     "name": "stdout",
     "output_type": "stream",
     "text": [
      "Epoch 1/7\n",
      "45/45 [==============================] - 9s 199ms/step - loss: 0.0538 - accuracy: 0.9778 - val_loss: 2.9842 - val_accuracy: 0.6667\n",
      "INFO:tensorflow:Assets written to: /aiffel/aiffel/jellyfish/wandb/run-20240110_171451-l2mjsqfk/files/model-best/assets\n"
     ]
    },
    {
     "name": "stderr",
     "output_type": "stream",
     "text": [
      "\u001b[34m\u001b[1mwandb\u001b[0m: Adding directory to artifact (/aiffel/aiffel/jellyfish/wandb/run-20240110_171451-l2mjsqfk/files/model-best)... Done. 7.9s\n"
     ]
    },
    {
     "name": "stdout",
     "output_type": "stream",
     "text": [
      "Epoch 2/7\n",
      "45/45 [==============================] - 9s 200ms/step - loss: 0.0588 - accuracy: 0.9856 - val_loss: 3.1603 - val_accuracy: 0.6154\n",
      "Epoch 3/7\n",
      "45/45 [==============================] - 9s 197ms/step - loss: 0.0601 - accuracy: 0.9767 - val_loss: 3.7554 - val_accuracy: 0.5897\n",
      "Epoch 4/7\n",
      "45/45 [==============================] - 9s 197ms/step - loss: 0.1214 - accuracy: 0.9522 - val_loss: 3.2179 - val_accuracy: 0.5641\n",
      "Epoch 5/7\n",
      "45/45 [==============================] - 9s 196ms/step - loss: 0.0767 - accuracy: 0.9722 - val_loss: 3.1265 - val_accuracy: 0.5385\n",
      "Epoch 6/7\n",
      "45/45 [==============================] - 9s 201ms/step - loss: 0.0822 - accuracy: 0.9744 - val_loss: 3.1464 - val_accuracy: 0.6154\n",
      "Epoch 7/7\n",
      "45/45 [==============================] - 9s 197ms/step - loss: 0.1708 - accuracy: 0.9578 - val_loss: 2.7935 - val_accuracy: 0.5385\n",
      "INFO:tensorflow:Assets written to: /aiffel/aiffel/jellyfish/wandb/run-20240110_171451-l2mjsqfk/files/model-best/assets\n"
     ]
    },
    {
     "name": "stderr",
     "output_type": "stream",
     "text": [
      "\u001b[34m\u001b[1mwandb\u001b[0m: Adding directory to artifact (/aiffel/aiffel/jellyfish/wandb/run-20240110_171451-l2mjsqfk/files/model-best)... Done. 4.4s\n"
     ]
    },
    {
     "name": "stdout",
     "output_type": "stream",
     "text": [
      "2/2 - 0s - loss: 1.9960 - accuracy: 0.6250\n"
     ]
    },
    {
     "data": {
      "application/vnd.jupyter.widget-view+json": {
       "model_id": "",
       "version_major": 2,
       "version_minor": 0
      },
      "text/plain": [
       "VBox(children=(Label(value='589.148 MB of 589.148 MB uploaded (0.023 MB deduped)\\r'), FloatProgress(value=1.0,…"
      ]
     },
     "metadata": {},
     "output_type": "display_data"
    },
    {
     "data": {
      "text/html": [
       "<style>\n",
       "    table.wandb td:nth-child(1) { padding: 0 10px; text-align: left ; width: auto;} td:nth-child(2) {text-align: left ; width: 100%}\n",
       "    .wandb-row { display: flex; flex-direction: row; flex-wrap: wrap; justify-content: flex-start; width: 100% }\n",
       "    .wandb-col { display: flex; flex-direction: column; flex-basis: 100%; flex: 1; padding: 10px; }\n",
       "    </style>\n",
       "<div class=\"wandb-row\"><div class=\"wandb-col\"><h3>Run history:</h3><br/><table class=\"wandb\"><tr><td>Test Accuracy</td><td>▁</td></tr><tr><td>Test Loss</td><td>▁</td></tr><tr><td>accuracy</td><td>▆█▆▁▅▆▂</td></tr><tr><td>epoch</td><td>▁▂▃▅▆▇█</td></tr><tr><td>loss</td><td>▁▁▁▅▂▃█</td></tr><tr><td>val_accuracy</td><td>█▅▄▂▁▅▁</td></tr><tr><td>val_loss</td><td>▂▄█▄▃▄▁</td></tr></table><br/></div><div class=\"wandb-col\"><h3>Run summary:</h3><br/><table class=\"wandb\"><tr><td>Test Accuracy</td><td>0.625</td></tr><tr><td>Test Loss</td><td>1.99595</td></tr><tr><td>accuracy</td><td>0.95778</td></tr><tr><td>best_epoch</td><td>6</td></tr><tr><td>best_val_loss</td><td>2.79352</td></tr><tr><td>epoch</td><td>6</td></tr><tr><td>loss</td><td>0.17084</td></tr><tr><td>val_accuracy</td><td>0.53846</td></tr><tr><td>val_loss</td><td>2.79352</td></tr></table><br/></div></div>"
      ],
      "text/plain": [
       "<IPython.core.display.HTML object>"
      ]
     },
     "metadata": {},
     "output_type": "display_data"
    },
    {
     "data": {
      "text/html": [
       " View run <strong style=\"color:#cdcd00\">dashing-sweep-10</strong> at: <a href='https://wandb.ai/3like4/Jellyfish_project/runs/l2mjsqfk' target=\"_blank\">https://wandb.ai/3like4/Jellyfish_project/runs/l2mjsqfk</a><br/>Synced 5 W&B file(s), 1 media file(s), 8 artifact file(s) and 1 other file(s)"
      ],
      "text/plain": [
       "<IPython.core.display.HTML object>"
      ]
     },
     "metadata": {},
     "output_type": "display_data"
    },
    {
     "data": {
      "text/html": [
       "Find logs at: <code>./wandb/run-20240110_171451-l2mjsqfk/logs</code>"
      ],
      "text/plain": [
       "<IPython.core.display.HTML object>"
      ]
     },
     "metadata": {},
     "output_type": "display_data"
    }
   ],
   "source": [
    "import wandb\n",
    "from wandb.keras import WandbCallback\n",
    "\n",
    "\n",
    "sweep_config = {\n",
    "    \"name\": experiment_name,\n",
    "    \"metric\": {\"name\": \"val_loss\", \"goal\": \"minimize\"},\n",
    "    \"method\": \"random\",\n",
    "    \"parameters\": {\n",
    "        \"learning_rate\" : {\n",
    "            \"min\" : 0.001,\n",
    "            \"max\" : 0.1\n",
    "            },\n",
    "        \"epoch\" : {\n",
    "            \"distribution\" : \"int_uniform\",\n",
    "            \"min\" : 5,\n",
    "            \"max\" : 10\n",
    "            }\n",
    "                    \n",
    "        }\n",
    "    }\n",
    "\n",
    "def train():\n",
    "    default_config = {\n",
    "        \"input\" : (224, 224, 3),\n",
    "        \"num_classes\" : 6,\n",
    "        \"learning_rate\" : 0.005,\n",
    "        \"optimizer\" : \"adam\",\n",
    "        \"loss\" : \"sparse_categorical_crossentropy\",\n",
    "        \"metrics\" : [\"accuracy\"],\n",
    "        \"epoch\" : 5,\n",
    "        \"batch_size\" : 32\n",
    "    }\n",
    "\n",
    "    wandb.init(config=default_config)\n",
    "    config = wandb.config\n",
    "\n",
    "\n",
    "    # 모델 생성 및 컴파일\n",
    "    CNN_V3_model = CNN_V3()\n",
    "    CNN_V3_model.compile(optimizer=config.optimizer,\n",
    "                  loss=config.loss,\n",
    "                  metrics=config.metrics)\n",
    "\n",
    "    # 모델 학습\n",
    "    model.fit(train_datagen, \n",
    "              epochs=config.epoch,\n",
    "              validation_data=val_datagen,\n",
    "              callbacks=[WandbCallback()])\n",
    "\n",
    "    # 모델 평가\n",
    "    test_loss, test_accuracy = model.evaluate(test_images, test_labels, verbose=2)\n",
    "\n",
    "    # 결과 로깅\n",
    "    wandb.log({\"Test Accuracy\": test_accuracy, \"Test Loss\": test_loss})\n",
    "\n",
    "    \n",
    "# entity와 project에 본인의 아이디와 프로젝트명을 입력하세요\n",
    "\n",
    "sweep_id = wandb.sweep(sweep_config,\n",
    "                       entity = \"3like4\",\n",
    "                       project = \"Jellyfish_project\")\n",
    "\n",
    "# run the sweep\n",
    "wandb.agent(sweep_id,\n",
    "            function=train,\n",
    "            count=10)"
   ]
  }
 ],
 "metadata": {
  "kernelspec": {
   "display_name": "Python 3 (ipykernel)",
   "language": "python",
   "name": "python3"
  },
  "language_info": {
   "codemirror_mode": {
    "name": "ipython",
    "version": 3
   },
   "file_extension": ".py",
   "mimetype": "text/x-python",
   "name": "python",
   "nbconvert_exporter": "python",
   "pygments_lexer": "ipython3",
   "version": "3.9.7"
  }
 },
 "nbformat": 4,
 "nbformat_minor": 5
}
